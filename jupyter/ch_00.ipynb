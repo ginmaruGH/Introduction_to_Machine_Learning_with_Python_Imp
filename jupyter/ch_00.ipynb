{
 "cells": [
  {
   "cell_type": "markdown",
   "metadata": {},
   "source": [
    "# Chap.00 Python 基本文法の復習"
   ]
  },
  {
   "cell_type": "code",
   "execution_count": 2,
   "metadata": {},
   "outputs": [
    {
     "name": "stdout",
     "output_type": "stream",
     "text": [
      "あなたのBMIは、27.102040816326532 です。\n"
     ]
    }
   ],
   "source": [
    "# Training 1-1 式と変数\n",
    "\n",
    "height = int(input(\"身長（cm）を入力してください。>>\"))\n",
    "weight = int(input(\"体重（kg）を入力してください。>>\"))\n",
    "\n",
    "height = height / 100\n",
    "\n",
    "bmi = weight / height**2\n",
    "\n",
    "print(f\"あなたのBMIは、{bmi} です。\")"
   ]
  },
  {
   "cell_type": "code",
   "execution_count": 4,
   "metadata": {},
   "outputs": [
    {
     "name": "stdout",
     "output_type": "stream",
     "text": [
      "[90, 90, 90]\n",
      "合計得点: 270点\n"
     ]
    }
   ],
   "source": [
    "# Training 2-2 コレクション\n",
    "scores = []\n",
    "japanese = int(input(\"国語の試験得点？>>\"))\n",
    "scores.append(japanese)\n",
    "math = int(input(\"数学の試験得点？>>\"))\n",
    "scores.append(math)\n",
    "english = int(input(\"英語の試験得点？>>\"))\n",
    "scores.append(english)\n",
    "\n",
    "print(scores)\n",
    "total = sum(scores)\n",
    "print(f\"合計得点: {total}点\")"
   ]
  },
  {
   "cell_type": "code",
   "execution_count": 5,
   "metadata": {},
   "outputs": [
    {
     "name": "stdout",
     "output_type": "stream",
     "text": [
      "奇数\n"
     ]
    }
   ],
   "source": [
    "# Training 3-1 条件分岐\n",
    "number = int(input(\"整数を入力してください。>>\"))\n",
    "\n",
    "if number % 2 == 0:\n",
    "    print(\"偶数\")\n",
    "else:\n",
    "    print(\"奇数\")"
   ]
  },
  {
   "cell_type": "code",
   "execution_count": 8,
   "metadata": {},
   "outputs": [
    {
     "name": "stdout",
     "output_type": "stream",
     "text": [
      "10, 9, 8, 7, 6, 5, 4, 3, 2, 1, Lift Off!!\n"
     ]
    }
   ],
   "source": [
    "# Training 4-1 繰り返し\n",
    "for i in range(10):\n",
    "    print(f\"{10 - i},\", end=\" \")\n",
    "print(\"Lift Off!!\")"
   ]
  },
  {
   "cell_type": "code",
   "execution_count": 9,
   "metadata": {},
   "outputs": [
    {
     "name": "stdout",
     "output_type": "stream",
     "text": [
      "平均点は78.48点です。\n"
     ]
    }
   ],
   "source": [
    "# Training 4-2 \n",
    "scores = []\n",
    "\n",
    "for i in range(10):\n",
    "    score = int(input(f\"{i+1}人目の試験得点 >> \"))\n",
    "    scores.append(score)\n",
    "\n",
    "final_scores = []\n",
    "for score in scores:\n",
    "    tmp = score * 0.8 + 20\n",
    "    final_scores.append(tmp)\n",
    "\n",
    "avg = sum(final_scores) / len(final_scores)\n",
    "print(f\"平均点は{avg}点です。\")"
   ]
  },
  {
   "cell_type": "code",
   "execution_count": 10,
   "metadata": {},
   "outputs": [],
   "source": [
    "# Training 5-1 関数\n",
    "def leap_year(year):\n",
    "    result = None\n",
    "    if year % 400 == 0:\n",
    "        result = True\n",
    "    elif year % 100 == 0:\n",
    "        result = False\n",
    "    elif year % 4 == 0:\n",
    "        result = True\n",
    "    else:\n",
    "        result = False\n",
    "    \n",
    "    return result"
   ]
  },
  {
   "cell_type": "code",
   "execution_count": 11,
   "metadata": {},
   "outputs": [
    {
     "data": {
      "text/plain": [
       "True"
      ]
     },
     "execution_count": 11,
     "metadata": {},
     "output_type": "execute_result"
    }
   ],
   "source": [
    "leap_year(2000)"
   ]
  },
  {
   "cell_type": "code",
   "execution_count": 12,
   "metadata": {},
   "outputs": [
    {
     "data": {
      "text/plain": [
       "[1, 4, 9, 16, 25, 36, 49, 64, 81, 100]"
      ]
     },
     "execution_count": 12,
     "metadata": {},
     "output_type": "execute_result"
    }
   ],
   "source": [
    "array = []\n",
    "for i in range(1, 11):\n",
    "    array.append(i**2)\n",
    "array"
   ]
  },
  {
   "cell_type": "code",
   "execution_count": 13,
   "metadata": {},
   "outputs": [
    {
     "data": {
      "text/plain": [
       "[1, 4, 9, 16, 25, 36, 49, 64, 81, 100]"
      ]
     },
     "execution_count": 13,
     "metadata": {},
     "output_type": "execute_result"
    }
   ],
   "source": [
    "# 内包表記\n",
    "array = [i**2 for i in range(1, 11)]\n",
    "array"
   ]
  }
 ],
 "metadata": {
  "interpreter": {
   "hash": "59dafaf31f4c906cca062281d81c99e041861ac1b3181d0964a0a41f42326fb1"
  },
  "kernelspec": {
   "display_name": "Python 3.9.13 ('ml_env': venv)",
   "language": "python",
   "name": "python3"
  },
  "language_info": {
   "codemirror_mode": {
    "name": "ipython",
    "version": 3
   },
   "file_extension": ".py",
   "mimetype": "text/x-python",
   "name": "python",
   "nbconvert_exporter": "python",
   "pygments_lexer": "ipython3",
   "version": "3.9.13"
  },
  "orig_nbformat": 4
 },
 "nbformat": 4,
 "nbformat_minor": 2
}
