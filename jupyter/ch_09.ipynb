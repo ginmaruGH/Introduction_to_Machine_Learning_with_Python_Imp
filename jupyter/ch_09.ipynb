{
 "cells": [
  {
   "cell_type": "markdown",
   "metadata": {},
   "source": [
    "# Chap.09 教師信号あり総合演習"
   ]
  },
  {
   "cell_type": "markdown",
   "metadata": {},
   "source": [
    "## 9.2 練習問題：金融機関のキャンペーン分析"
   ]
  },
  {
   "cell_type": "markdown",
   "metadata": {},
   "source": [
    "データ分析の方針検討"
   ]
  },
  {
   "cell_type": "code",
   "execution_count": 89,
   "metadata": {},
   "outputs": [],
   "source": [
    "# EX.9-1\n",
    "# 教師あり学習の分類"
   ]
  },
  {
   "cell_type": "code",
   "execution_count": 90,
   "metadata": {},
   "outputs": [],
   "source": [
    "# EX.9-2\n",
    "### 解答例\n",
    "# ｙ列を予測する分類モデルを作ることにより、その顧客が購入してくれるかどうかが事前に分かる。\n",
    "# また、特徴量にこちらからのアプローチ法を入れる事により、「この顧客の場合、こういうアプローチをとったら購入してくれる」というような営業の最適化を行う事が出来る\n"
   ]
  },
  {
   "cell_type": "markdown",
   "metadata": {},
   "source": [
    "分析の実施"
   ]
  },
  {
   "cell_type": "code",
   "execution_count": 91,
   "metadata": {},
   "outputs": [],
   "source": [
    "# ライブラリの準備\n",
    "import pandas as pd\n",
    "from sklearn import tree\n",
    "from sklearn.model_selection import train_test_split\n",
    "from sklearn.preprocessing import StandardScaler\n",
    "\n",
    "%matplotlib inline"
   ]
  },
  {
   "cell_type": "code",
   "execution_count": 92,
   "metadata": {},
   "outputs": [
    {
     "name": "stdout",
     "output_type": "stream",
     "text": [
      "   id  age           job  marital  education default  amount housing loan  \\\n",
      "0   1   39   blue-collar  married  secondary      no  1756.0     yes   no   \n",
      "1   2   51  entrepreneur  married    primary      no  1443.0      no   no   \n",
      "2   3   36    management   single   tertiary      no   436.0      no   no   \n",
      "\n",
      "    contact  day month    duration  campaign  previous  y  \n",
      "0  cellular    3   apr  370.055237         1         0  1  \n",
      "1  cellular   18   feb  233.998933        10         0  1  \n",
      "2  cellular   13   apr         NaN         1         2  0  \n"
     ]
    },
    {
     "data": {
      "text/plain": [
       "(27128, 16)"
      ]
     },
     "execution_count": 92,
     "metadata": {},
     "output_type": "execute_result"
    }
   ],
   "source": [
    "# EX.9-3 データを取得する\n",
    "df = pd.read_csv('../support/datafiles/Bank.csv')\n",
    "print(df.head(3))\n",
    "df.shape"
   ]
  },
  {
   "cell_type": "code",
   "execution_count": 93,
   "metadata": {},
   "outputs": [
    {
     "data": {
      "text/html": [
       "<div>\n",
       "<style scoped>\n",
       "    .dataframe tbody tr th:only-of-type {\n",
       "        vertical-align: middle;\n",
       "    }\n",
       "\n",
       "    .dataframe tbody tr th {\n",
       "        vertical-align: top;\n",
       "    }\n",
       "\n",
       "    .dataframe thead th {\n",
       "        text-align: right;\n",
       "    }\n",
       "</style>\n",
       "<table border=\"1\" class=\"dataframe\">\n",
       "  <thead>\n",
       "    <tr style=\"text-align: right;\">\n",
       "      <th></th>\n",
       "      <th>job_blue-collar</th>\n",
       "      <th>job_entrepreneur</th>\n",
       "      <th>job_housemaid</th>\n",
       "      <th>job_management</th>\n",
       "      <th>job_retired</th>\n",
       "      <th>job_self-employed</th>\n",
       "      <th>job_services</th>\n",
       "      <th>job_student</th>\n",
       "      <th>job_technician</th>\n",
       "      <th>job_unemployed</th>\n",
       "      <th>...</th>\n",
       "      <th>month_dec</th>\n",
       "      <th>month_feb</th>\n",
       "      <th>month_jan</th>\n",
       "      <th>month_jul</th>\n",
       "      <th>month_jun</th>\n",
       "      <th>month_mar</th>\n",
       "      <th>month_may</th>\n",
       "      <th>month_nov</th>\n",
       "      <th>month_oct</th>\n",
       "      <th>month_sep</th>\n",
       "    </tr>\n",
       "  </thead>\n",
       "  <tbody>\n",
       "    <tr>\n",
       "      <th>0</th>\n",
       "      <td>1</td>\n",
       "      <td>0</td>\n",
       "      <td>0</td>\n",
       "      <td>0</td>\n",
       "      <td>0</td>\n",
       "      <td>0</td>\n",
       "      <td>0</td>\n",
       "      <td>0</td>\n",
       "      <td>0</td>\n",
       "      <td>0</td>\n",
       "      <td>...</td>\n",
       "      <td>0</td>\n",
       "      <td>0</td>\n",
       "      <td>0</td>\n",
       "      <td>0</td>\n",
       "      <td>0</td>\n",
       "      <td>0</td>\n",
       "      <td>0</td>\n",
       "      <td>0</td>\n",
       "      <td>0</td>\n",
       "      <td>0</td>\n",
       "    </tr>\n",
       "    <tr>\n",
       "      <th>1</th>\n",
       "      <td>0</td>\n",
       "      <td>1</td>\n",
       "      <td>0</td>\n",
       "      <td>0</td>\n",
       "      <td>0</td>\n",
       "      <td>0</td>\n",
       "      <td>0</td>\n",
       "      <td>0</td>\n",
       "      <td>0</td>\n",
       "      <td>0</td>\n",
       "      <td>...</td>\n",
       "      <td>0</td>\n",
       "      <td>1</td>\n",
       "      <td>0</td>\n",
       "      <td>0</td>\n",
       "      <td>0</td>\n",
       "      <td>0</td>\n",
       "      <td>0</td>\n",
       "      <td>0</td>\n",
       "      <td>0</td>\n",
       "      <td>0</td>\n",
       "    </tr>\n",
       "    <tr>\n",
       "      <th>2</th>\n",
       "      <td>0</td>\n",
       "      <td>0</td>\n",
       "      <td>0</td>\n",
       "      <td>1</td>\n",
       "      <td>0</td>\n",
       "      <td>0</td>\n",
       "      <td>0</td>\n",
       "      <td>0</td>\n",
       "      <td>0</td>\n",
       "      <td>0</td>\n",
       "      <td>...</td>\n",
       "      <td>0</td>\n",
       "      <td>0</td>\n",
       "      <td>0</td>\n",
       "      <td>0</td>\n",
       "      <td>0</td>\n",
       "      <td>0</td>\n",
       "      <td>0</td>\n",
       "      <td>0</td>\n",
       "      <td>0</td>\n",
       "      <td>0</td>\n",
       "    </tr>\n",
       "  </tbody>\n",
       "</table>\n",
       "<p>3 rows × 32 columns</p>\n",
       "</div>"
      ],
      "text/plain": [
       "   job_blue-collar  job_entrepreneur  job_housemaid  job_management  \\\n",
       "0                1                 0              0               0   \n",
       "1                0                 1              0               0   \n",
       "2                0                 0              0               1   \n",
       "\n",
       "   job_retired  job_self-employed  job_services  job_student  job_technician  \\\n",
       "0            0                  0             0            0               0   \n",
       "1            0                  0             0            0               0   \n",
       "2            0                  0             0            0               0   \n",
       "\n",
       "   job_unemployed  ...  month_dec  month_feb  month_jan  month_jul  month_jun  \\\n",
       "0               0  ...          0          0          0          0          0   \n",
       "1               0  ...          0          1          0          0          0   \n",
       "2               0  ...          0          0          0          0          0   \n",
       "\n",
       "   month_mar  month_may  month_nov  month_oct  month_sep  \n",
       "0          0          0          0          0          0  \n",
       "1          0          0          0          0          0  \n",
       "2          0          0          0          0          0  \n",
       "\n",
       "[3 rows x 32 columns]"
      ]
     },
     "execution_count": 93,
     "metadata": {},
     "output_type": "execute_result"
    }
   ],
   "source": [
    "# 文字列の列を抜き出す\n",
    "str_col_name = [\n",
    "    'job', 'default', 'marital', 'education', 'housing', 'loan', 'contact', 'month'\n",
    "]\n",
    "str_df = df[str_col_name]\n",
    "# 抜き出した複数の列をまとめてダミー変数化する\n",
    "str_df2 = pd.get_dummies(str_df, drop_first=True)\n",
    "str_df2.head(3)"
   ]
  },
  {
   "cell_type": "code",
   "execution_count": 94,
   "metadata": {},
   "outputs": [
    {
     "name": "stdout",
     "output_type": "stream",
     "text": [
      "   id  age  amount  day    duration  campaign  previous  y  job_blue-collar  \\\n",
      "0   1   39  1756.0    3  370.055237         1         0  1                1   \n",
      "1   2   51  1443.0   18  233.998933        10         0  1                0   \n",
      "2   3   36   436.0   13         NaN         1         2  0                0   \n",
      "\n",
      "   job_entrepreneur  ...  month_oct  month_sep           job  default  \\\n",
      "0                 0  ...          0          0   blue-collar       no   \n",
      "1                 1  ...          0          0  entrepreneur       no   \n",
      "2                 0  ...          0          0    management       no   \n",
      "\n",
      "   marital  education  housing  loan   contact  month  \n",
      "0  married  secondary      yes    no  cellular    apr  \n",
      "1  married    primary       no    no  cellular    feb  \n",
      "2   single   tertiary       no    no  cellular    apr  \n",
      "\n",
      "[3 rows x 48 columns]\n"
     ]
    },
    {
     "data": {
      "text/plain": [
       "(27128, 48)"
      ]
     },
     "execution_count": 94,
     "metadata": {},
     "output_type": "execute_result"
    }
   ],
   "source": [
    "# 数値列を抜き出す\n",
    "num_df = df.drop(str_col_name, axis=1)\n",
    "# 「数値」列と「文字列」列を結合する\n",
    "df2 = pd.concat([num_df, str_df2, str_df], axis=1)\n",
    "print(df2.head(3))\n",
    "df2.shape"
   ]
  },
  {
   "cell_type": "code",
   "execution_count": 95,
   "metadata": {},
   "outputs": [
    {
     "data": {
      "text/plain": [
       "Index(['id', 'age', 'amount', 'day', 'duration', 'campaign', 'previous', 'y',\n",
       "       'job_blue-collar', 'job_entrepreneur', 'job_housemaid',\n",
       "       'job_management', 'job_retired', 'job_self-employed', 'job_services',\n",
       "       'job_student', 'job_technician', 'job_unemployed', 'job_unknown',\n",
       "       'default_yes', 'marital_married', 'marital_single',\n",
       "       'education_secondary', 'education_tertiary', 'education_unknown',\n",
       "       'housing_yes', 'loan_yes', 'contact_sending _document',\n",
       "       'contact_telephone', 'month_aug', 'month_dec', 'month_feb', 'month_jan',\n",
       "       'month_jul', 'month_jun', 'month_mar', 'month_may', 'month_nov',\n",
       "       'month_oct', 'month_sep', 'job', 'default', 'marital', 'education',\n",
       "       'housing', 'loan', 'contact', 'month'],\n",
       "      dtype='object')"
      ]
     },
     "execution_count": 95,
     "metadata": {},
     "output_type": "execute_result"
    }
   ],
   "source": [
    "df2.columns"
   ]
  },
  {
   "cell_type": "code",
   "execution_count": 96,
   "metadata": {},
   "outputs": [
    {
     "data": {
      "text/html": [
       "<div>\n",
       "<style scoped>\n",
       "    .dataframe tbody tr th:only-of-type {\n",
       "        vertical-align: middle;\n",
       "    }\n",
       "\n",
       "    .dataframe tbody tr th {\n",
       "        vertical-align: top;\n",
       "    }\n",
       "\n",
       "    .dataframe thead th {\n",
       "        text-align: right;\n",
       "    }\n",
       "</style>\n",
       "<table border=\"1\" class=\"dataframe\">\n",
       "  <thead>\n",
       "    <tr style=\"text-align: right;\">\n",
       "      <th></th>\n",
       "      <th>id</th>\n",
       "      <th>age</th>\n",
       "      <th>amount</th>\n",
       "      <th>day</th>\n",
       "      <th>duration</th>\n",
       "      <th>campaign</th>\n",
       "      <th>previous</th>\n",
       "      <th>y</th>\n",
       "      <th>job_blue-collar</th>\n",
       "      <th>job_entrepreneur</th>\n",
       "      <th>...</th>\n",
       "      <th>month_oct</th>\n",
       "      <th>month_sep</th>\n",
       "      <th>job</th>\n",
       "      <th>default</th>\n",
       "      <th>marital</th>\n",
       "      <th>education</th>\n",
       "      <th>housing</th>\n",
       "      <th>loan</th>\n",
       "      <th>contact</th>\n",
       "      <th>month</th>\n",
       "    </tr>\n",
       "  </thead>\n",
       "  <tbody>\n",
       "    <tr>\n",
       "      <th>13378</th>\n",
       "      <td>13379</td>\n",
       "      <td>46</td>\n",
       "      <td>0.0</td>\n",
       "      <td>10</td>\n",
       "      <td>378.293875</td>\n",
       "      <td>1</td>\n",
       "      <td>0</td>\n",
       "      <td>1</td>\n",
       "      <td>0</td>\n",
       "      <td>0</td>\n",
       "      <td>...</td>\n",
       "      <td>0</td>\n",
       "      <td>0</td>\n",
       "      <td>unemployed</td>\n",
       "      <td>no</td>\n",
       "      <td>married</td>\n",
       "      <td>tertiary</td>\n",
       "      <td>yes</td>\n",
       "      <td>no</td>\n",
       "      <td>cellular</td>\n",
       "      <td>jul</td>\n",
       "    </tr>\n",
       "    <tr>\n",
       "      <th>3800</th>\n",
       "      <td>3801</td>\n",
       "      <td>41</td>\n",
       "      <td>-333.0</td>\n",
       "      <td>30</td>\n",
       "      <td>300.845752</td>\n",
       "      <td>3</td>\n",
       "      <td>2</td>\n",
       "      <td>0</td>\n",
       "      <td>1</td>\n",
       "      <td>0</td>\n",
       "      <td>...</td>\n",
       "      <td>0</td>\n",
       "      <td>0</td>\n",
       "      <td>blue-collar</td>\n",
       "      <td>no</td>\n",
       "      <td>divorced</td>\n",
       "      <td>secondary</td>\n",
       "      <td>yes</td>\n",
       "      <td>no</td>\n",
       "      <td>cellular</td>\n",
       "      <td>jan</td>\n",
       "    </tr>\n",
       "    <tr>\n",
       "      <th>10398</th>\n",
       "      <td>10399</td>\n",
       "      <td>30</td>\n",
       "      <td>5389.0</td>\n",
       "      <td>6</td>\n",
       "      <td>159.053623</td>\n",
       "      <td>3</td>\n",
       "      <td>0</td>\n",
       "      <td>1</td>\n",
       "      <td>0</td>\n",
       "      <td>0</td>\n",
       "      <td>...</td>\n",
       "      <td>0</td>\n",
       "      <td>0</td>\n",
       "      <td>management</td>\n",
       "      <td>no</td>\n",
       "      <td>single</td>\n",
       "      <td>tertiary</td>\n",
       "      <td>no</td>\n",
       "      <td>no</td>\n",
       "      <td>cellular</td>\n",
       "      <td>aug</td>\n",
       "    </tr>\n",
       "    <tr>\n",
       "      <th>23401</th>\n",
       "      <td>23402</td>\n",
       "      <td>39</td>\n",
       "      <td>255.0</td>\n",
       "      <td>5</td>\n",
       "      <td>334.802583</td>\n",
       "      <td>1</td>\n",
       "      <td>0</td>\n",
       "      <td>0</td>\n",
       "      <td>0</td>\n",
       "      <td>0</td>\n",
       "      <td>...</td>\n",
       "      <td>0</td>\n",
       "      <td>0</td>\n",
       "      <td>management</td>\n",
       "      <td>no</td>\n",
       "      <td>single</td>\n",
       "      <td>tertiary</td>\n",
       "      <td>yes</td>\n",
       "      <td>no</td>\n",
       "      <td>sending _document</td>\n",
       "      <td>may</td>\n",
       "    </tr>\n",
       "    <tr>\n",
       "      <th>26223</th>\n",
       "      <td>26224</td>\n",
       "      <td>47</td>\n",
       "      <td>33.0</td>\n",
       "      <td>5</td>\n",
       "      <td>NaN</td>\n",
       "      <td>1</td>\n",
       "      <td>0</td>\n",
       "      <td>1</td>\n",
       "      <td>0</td>\n",
       "      <td>0</td>\n",
       "      <td>...</td>\n",
       "      <td>0</td>\n",
       "      <td>0</td>\n",
       "      <td>services</td>\n",
       "      <td>no</td>\n",
       "      <td>single</td>\n",
       "      <td>secondary</td>\n",
       "      <td>yes</td>\n",
       "      <td>no</td>\n",
       "      <td>cellular</td>\n",
       "      <td>may</td>\n",
       "    </tr>\n",
       "  </tbody>\n",
       "</table>\n",
       "<p>5 rows × 48 columns</p>\n",
       "</div>"
      ],
      "text/plain": [
       "          id  age  amount  day    duration  campaign  previous  y  \\\n",
       "13378  13379   46     0.0   10  378.293875         1         0  1   \n",
       "3800    3801   41  -333.0   30  300.845752         3         2  0   \n",
       "10398  10399   30  5389.0    6  159.053623         3         0  1   \n",
       "23401  23402   39   255.0    5  334.802583         1         0  0   \n",
       "26223  26224   47    33.0    5         NaN         1         0  1   \n",
       "\n",
       "       job_blue-collar  job_entrepreneur  ...  month_oct  month_sep  \\\n",
       "13378                0                 0  ...          0          0   \n",
       "3800                 1                 0  ...          0          0   \n",
       "10398                0                 0  ...          0          0   \n",
       "23401                0                 0  ...          0          0   \n",
       "26223                0                 0  ...          0          0   \n",
       "\n",
       "               job  default   marital  education  housing  loan  \\\n",
       "13378   unemployed       no   married   tertiary      yes    no   \n",
       "3800   blue-collar       no  divorced  secondary      yes    no   \n",
       "10398   management       no    single   tertiary       no    no   \n",
       "23401   management       no    single   tertiary      yes    no   \n",
       "26223     services       no    single  secondary      yes    no   \n",
       "\n",
       "                 contact  month  \n",
       "13378           cellular    jul  \n",
       "3800            cellular    jan  \n",
       "10398           cellular    aug  \n",
       "23401  sending _document    may  \n",
       "26223           cellular    may  \n",
       "\n",
       "[5 rows x 48 columns]"
      ]
     },
     "execution_count": 96,
     "metadata": {},
     "output_type": "execute_result"
    }
   ],
   "source": [
    "# 「訓練データ&検証データ」と「テストデータ」に分割する\n",
    "train_val, test = train_test_split(df2, test_size=0.1, random_state=9)\n",
    "train_val.head()"
   ]
  },
  {
   "cell_type": "markdown",
   "metadata": {},
   "source": [
    "欠損値の確認"
   ]
  },
  {
   "cell_type": "code",
   "execution_count": 97,
   "metadata": {},
   "outputs": [
    {
     "data": {
      "text/plain": [
       "duration    6331\n",
       "dtype: int64"
      ]
     },
     "execution_count": 97,
     "metadata": {},
     "output_type": "execute_result"
    }
   ],
   "source": [
    "a = train_val.isnull().sum()\n",
    "a[a > 0]"
   ]
  },
  {
   "cell_type": "code",
   "execution_count": 98,
   "metadata": {},
   "outputs": [
    {
     "data": {
      "text/plain": [
       "(314.89135074820206, 318.08549081953703)"
      ]
     },
     "execution_count": 98,
     "metadata": {},
     "output_type": "execute_result"
    }
   ],
   "source": [
    "# 「duration列」の中央値を平均値の確認\n",
    "train_val['duration'].median(), train_val['duration'].mean()"
   ]
  },
  {
   "cell_type": "code",
   "execution_count": 99,
   "metadata": {},
   "outputs": [
    {
     "name": "stderr",
     "output_type": "stream",
     "text": [
      "/var/folders/cm/w7d5zwgj0h3gp9q0lvvq4yrr0000gn/T/ipykernel_27206/1584746183.py:2: FutureWarning: Dropping of nuisance columns in DataFrame reductions (with 'numeric_only=None') is deprecated; in a future version this will raise TypeError.  Select only valid columns before calling the reduction.\n",
      "  train_val2 = train_val.fillna(train_val.median())\n"
     ]
    }
   ],
   "source": [
    "# とりあえず、中央値で欠損値を補完する\n",
    "train_val2 = train_val.fillna(train_val.median())"
   ]
  },
  {
   "cell_type": "code",
   "execution_count": 100,
   "metadata": {},
   "outputs": [
    {
     "data": {
      "text/plain": [
       "0    16601\n",
       "1     7814\n",
       "Name: y, dtype: int64"
      ]
     },
     "execution_count": 100,
     "metadata": {},
     "output_type": "execute_result"
    }
   ],
   "source": [
    "# 不均衡なデータであるか確認する\n",
    "train_val2['y'].value_counts()"
   ]
  },
  {
   "cell_type": "markdown",
   "metadata": {},
   "source": [
    "- 今回は不均衡データの分類。\n",
    "  - モデル作成時にclass_weight=\"balanced\"と指定する事で、不均衡データに対応したモデルにする。\n",
    "  - class_weightを指定すると、通常より正解率は上がりにくい。"
   ]
  },
  {
   "cell_type": "code",
   "execution_count": 101,
   "metadata": {},
   "outputs": [
    {
     "data": {
      "text/plain": [
       "0.6493958631988531"
      ]
     },
     "execution_count": 101,
     "metadata": {},
     "output_type": "execute_result"
    }
   ],
   "source": [
    "# すべての特徴量を利用してモデルを作成する\n",
    "t = train_val2['y']\n",
    "x = train_val2.drop(str_col_name, axis=1)\n",
    "x = x.drop(['id', 'y', 'day'], axis=1)\n",
    "\n",
    "# 訓練データと検証データに分割する\n",
    "x_train, x_val, y_train, y_val = train_test_split(\n",
    "    x, t, test_size=0.2, random_state=13\n",
    ")\n",
    "\n",
    "#不均衡データに対応できるように、class_weight引数も設定\n",
    "model = tree.DecisionTreeClassifier(\n",
    "    max_depth=3, random_state=3, class_weight='balanced'\n",
    ")\n",
    "#class_weightを指定しないとちなみに正解率は0.7ぐらい\n",
    "#model = tree.DecisionTreeClassifier(random_state=3,max_depth=5)\n",
    "\n",
    "model.fit(x_train, y_train)\n",
    "model.score(x_val, y_val)"
   ]
  },
  {
   "cell_type": "code",
   "execution_count": 102,
   "metadata": {},
   "outputs": [],
   "source": [
    "# learn関数を定義する\n",
    "def learn(x, t, i):\n",
    "    x_train, x_val, y_train, y_val = train_test_split(\n",
    "        x, t, test_size=0.2, random_state=13\n",
    "    )\n",
    "    datum = [x_train, x_val, y_train, y_val]\n",
    "    #不均衡データに対応できるように、class_weight引数も設定\n",
    "    model = tree.DecisionTreeClassifier(\n",
    "        max_depth=i, random_state=i, class_weight='balanced'\n",
    "    )\n",
    "    model.fit(x_train, y_train)\n",
    "    train_score = model.score(x_train, y_train)\n",
    "    val_score = model.score(x_val, y_val)\n",
    "\n",
    "    return train_score, val_score, model, datum"
   ]
  },
  {
   "cell_type": "code",
   "execution_count": 103,
   "metadata": {},
   "outputs": [
    {
     "name": "stdout",
     "output_type": "stream",
     "text": [
      "1: 0.6995187384804423, 0.6993651443784559\n",
      "2: 0.6492422690968667, 0.6493958631988531\n",
      "3: 0.6492422690968667, 0.6493958631988531\n",
      "4: 0.7357669465492525, 0.7481056727421667\n",
      "5: 0.7767765717796437, 0.7773909481875896\n",
      "6: 0.80124923202949, 0.8023755887773909\n",
      "7: 0.8224452181036248, 0.8095433135367602\n",
      "8: 0.8448699569936514, 0.8238787630554987\n",
      "9: 0.858386237968462, 0.8230595945115707\n",
      "10: 0.8756399754249437, 0.829817734998976\n",
      "11: 0.8987814867909072, 0.8363710833503993\n",
      "12: 0.910147450337907, 0.8269506450952283\n",
      "13: 0.9284251484742986, 0.8236739709195167\n",
      "14: 0.943170182265001, 0.8124104034405079\n",
      "15: 0.9587343845996313, 0.820397296743805\n",
      "16: 0.9684620110587754, 0.8156870776162195\n",
      "17: 0.9776264591439688, 0.8177349989760393\n",
      "18: 0.9845893917673562, 0.8134343641204178\n",
      "19: 0.9900163833708786, 0.8152774933442556\n"
     ]
    }
   ],
   "source": [
    "# 決定木の深さで正解率を調べる\n",
    "for i in range(1, 20):\n",
    "    s1, s2, model, datum = learn(x, t, i)\n",
    "    print(f\"{i}: {s1}, {s2}\")"
   ]
  },
  {
   "cell_type": "code",
   "execution_count": 104,
   "metadata": {},
   "outputs": [
    {
     "name": "stderr",
     "output_type": "stream",
     "text": [
      "/var/folders/cm/w7d5zwgj0h3gp9q0lvvq4yrr0000gn/T/ipykernel_27206/3636510691.py:5: FutureWarning: Dropping of nuisance columns in DataFrame reductions (with 'numeric_only=None') is deprecated; in a future version this will raise TypeError.  Select only valid columns before calling the reduction.\n",
      "  test2 = test2.fillna(train_val.median())\n"
     ]
    },
    {
     "data": {
      "text/plain": [
       "0.8330261702911905"
      ]
     },
     "execution_count": 104,
     "metadata": {},
     "output_type": "execute_result"
    }
   ],
   "source": [
    "# 深さ11以降はvalが停滞するので過学習が発生ここでテストデータでチェック\n",
    "model = tree.DecisionTreeClassifier(max_depth=11, random_state=11)\n",
    "model.fit(x, t)\n",
    "test2 = test.copy()\n",
    "test2 = test2.fillna(train_val.median())\n",
    "\n",
    "test_y = test2['y']\n",
    "test_x = test2.drop(str_col_name, axis=1)\n",
    "test_x = test_x.drop(['id', 'y', 'day'], axis=1)\n",
    "model.score(test_x, test_y)"
   ]
  },
  {
   "cell_type": "code",
   "execution_count": 105,
   "metadata": {},
   "outputs": [
    {
     "data": {
      "text/plain": [
       "duration                     0.529793\n",
       "age                          0.143316\n",
       "campaign                     0.103042\n",
       "housing_yes                  0.064951\n",
       "loan_yes                     0.041739\n",
       "amount                       0.039681\n",
       "previous                     0.015744\n",
       "contact_sending _document    0.014536\n",
       "month_aug                    0.002839\n",
       "dtype: float64"
      ]
     },
     "execution_count": 105,
     "metadata": {},
     "output_type": "execute_result"
    }
   ],
   "source": [
    "# 特徴量重要度の確認\n",
    "# (連続量とダミー変数を比べると、連続量の方が重要度は高め出力されてしまう事に注意)\n",
    "a = pd.Series(\n",
    "    model.feature_importances_, index=x.columns\n",
    ").sort_values(ascending=False)\n",
    "# campaignやdurationが重要度が大きいと分かる\n",
    "a[0:9]"
   ]
  },
  {
   "cell_type": "markdown",
   "metadata": {},
   "source": [
    "durationの欠損値の処理"
   ]
  },
  {
   "cell_type": "code",
   "execution_count": 106,
   "metadata": {},
   "outputs": [
    {
     "name": "stdout",
     "output_type": "stream",
     "text": [
      "Index(['job', 'default', 'marital', 'education', 'housing', 'loan', 'contact',\n",
      "       'month'],\n",
      "      dtype='object')\n"
     ]
    }
   ],
   "source": [
    "# durationに関係がありそうなものを見つけるためには7章の様に集計処理で判断したい。\n",
    "# よって、集計処理の軸になるstr_dfの列名をいったん確認\n",
    "print(str_df.columns)"
   ]
  },
  {
   "cell_type": "code",
   "execution_count": 107,
   "metadata": {},
   "outputs": [
    {
     "name": "stdout",
     "output_type": "stream",
     "text": [
      "job\n",
      "admin.           0.304550\n",
      "blue-collar      0.352886\n",
      "entrepreneur     0.390453\n",
      "housemaid        0.290043\n",
      "management       0.307299\n",
      "retired          0.369268\n",
      "self-employed    0.301974\n",
      "services         0.337611\n",
      "student          0.166667\n",
      "technician       0.307423\n",
      "unemployed       0.241084\n",
      "unknown          0.294118\n",
      "Name: y, dtype: float64\n",
      "next=========\n",
      "default\n",
      "no     0.321336\n",
      "yes    0.249428\n",
      "Name: y, dtype: float64\n",
      "next=========\n",
      "marital\n",
      "divorced    0.334059\n",
      "married     0.341211\n",
      "single      0.269086\n",
      "Name: y, dtype: float64\n",
      "next=========\n",
      "education\n",
      "primary      0.351921\n",
      "secondary    0.318327\n",
      "tertiary     0.301592\n",
      "unknown      0.354354\n",
      "Name: y, dtype: float64\n",
      "next=========\n",
      "housing\n",
      "no     0.217959\n",
      "yes    0.400910\n",
      "Name: y, dtype: float64\n",
      "next=========\n",
      "loan\n",
      "no     0.300195\n",
      "yes    0.424328\n",
      "Name: y, dtype: float64\n",
      "next=========\n",
      "contact\n",
      "cellular             0.277883\n",
      "sending _document    0.416372\n",
      "telephone            0.311842\n",
      "Name: y, dtype: float64\n",
      "next=========\n",
      "month\n",
      "apr    0.312070\n",
      "aug    0.251950\n",
      "dec    0.327731\n",
      "feb    0.266805\n",
      "jan    0.202073\n",
      "jul    0.307506\n",
      "jun    0.356744\n",
      "mar    0.354244\n",
      "may    0.389833\n",
      "nov    0.234457\n",
      "oct    0.308483\n",
      "sep    0.327217\n",
      "Name: y, dtype: float64\n",
      "next=========\n"
     ]
    }
   ],
   "source": [
    "for name in str_df.columns:\n",
    "    print(train_val.groupby(name)['y'].mean())\n",
    "    print(\"next=========\")"
   ]
  },
  {
   "cell_type": "markdown",
   "metadata": {},
   "source": [
    "- housing ,loan, contactが関係してそう。\n",
    "- ただ、contactにおいて、sending_documentは資料送付しかしていないのに接触時間が長いとはどういうことか？？\n",
    "- 実際ならば、このデータはどう解釈すればいいのか実際の現場の人間に聞き取りをする必要があるが、今回は不可能なのでこのまま分析を進める。"
   ]
  },
  {
   "cell_type": "code",
   "execution_count": 108,
   "metadata": {},
   "outputs": [
    {
     "name": "stdout",
     "output_type": "stream",
     "text": [
      "loan             no         yes\n",
      "housing                        \n",
      "no       237.256887  301.180261\n",
      "yes      332.635840  439.472217 \n",
      "\n",
      "contact    cellular  sending _document   telephone\n",
      "housing                                           \n",
      "no       249.821962         249.179202  272.785529\n",
      "yes      348.532350         349.179816  368.638141 \n",
      "\n",
      "contact    cellular  sending _document   telephone\n",
      "loan                                              \n",
      "no       297.588613         314.969378  304.960446\n",
      "yes      375.465455         400.911698  379.000771\n"
     ]
    }
   ],
   "source": [
    "print(pd.pivot_table(\n",
    "    train_val, index=\"housing\", columns=\"loan\", values=\"duration\"\n",
    "), \"\\n\")\n",
    "\n",
    "print(pd.pivot_table(\n",
    "    train_val, index=\"housing\", columns=\"contact\", values=\"duration\"\n",
    "), \"\\n\")\n",
    "\n",
    "print(pd.pivot_table(\n",
    "    train_val,index=\"loan\", columns=\"contact\", values=\"duration\"\n",
    "))"
   ]
  },
  {
   "cell_type": "markdown",
   "metadata": {},
   "source": [
    "- どれも強く関係してそうに見える。今回は2×2で処理しやすい。loan×housingを採用する"
   ]
  },
  {
   "cell_type": "code",
   "execution_count": 109,
   "metadata": {},
   "outputs": [],
   "source": [
    "def nan_fill(train_val):\n",
    "    # train_valを変えたくないので、py基本文法のcopyメソッドでコピーを作って\n",
    "    # train_val2に代入\n",
    "    train_val2 = train_val.copy()\n",
    "\n",
    "    isnull = train_val['duration'].isnull()\n",
    "\n",
    "    #housing = yesの処理\n",
    "    train_val2.loc[\n",
    "        (isnull) & (train_val2['housing'] == 'yes') \n",
    "        & (train_val2['loan'] == 'yes'), 'duration' \n",
    "    ] = 439\n",
    "    train_val2.loc[\n",
    "        (isnull) & (train_val2['housing'] == 'yes') \n",
    "        & (train_val2['loan'] == 'no'),'duration' \n",
    "    ] = 332\n",
    "\n",
    "    #housing = noの処理\n",
    "    train_val2.loc[\n",
    "        (isnull) & (train_val2['housing'] == 'no') \n",
    "        & (train_val2['loan'] == 'yes'),'duration' \n",
    "    ] = 301\n",
    "    train_val2.loc[\n",
    "        (isnull) & (train_val2['housing'] == 'no') \n",
    "        & (train_val2['loan'] == 'no'),'duration' \n",
    "    ] = 237\n",
    "    \n",
    "    return train_val2\n",
    "\n",
    "train_val2 = nan_fill(train_val)"
   ]
  },
  {
   "cell_type": "code",
   "execution_count": 110,
   "metadata": {},
   "outputs": [
    {
     "data": {
      "text/plain": [
       "y\n",
       "0    263.575464\n",
       "1    346.960871\n",
       "Name: duration, dtype: float64"
      ]
     },
     "execution_count": 110,
     "metadata": {},
     "output_type": "execute_result"
    }
   ],
   "source": [
    "# 特徴量重要度が大きかった項目とyの関係\n",
    "train_val2.groupby('y')['duration'].median()"
   ]
  },
  {
   "cell_type": "code",
   "execution_count": 111,
   "metadata": {},
   "outputs": [
    {
     "data": {
      "text/plain": [
       "y\n",
       "0    449.0\n",
       "1    449.0\n",
       "Name: amount, dtype: float64"
      ]
     },
     "execution_count": 111,
     "metadata": {},
     "output_type": "execute_result"
    }
   ],
   "source": [
    "train_val2.groupby('y')['amount'].median()"
   ]
  },
  {
   "cell_type": "code",
   "execution_count": 112,
   "metadata": {},
   "outputs": [
    {
     "data": {
      "text/plain": [
       "y\n",
       "0    2.0\n",
       "1    3.0\n",
       "Name: campaign, dtype: float64"
      ]
     },
     "execution_count": 112,
     "metadata": {},
     "output_type": "execute_result"
    }
   ],
   "source": [
    "train_val2.groupby('y')['campaign'].median()"
   ]
  },
  {
   "cell_type": "code",
   "execution_count": 113,
   "metadata": {},
   "outputs": [
    {
     "data": {
      "text/plain": [
       "y\n",
       "0    38.0\n",
       "1    41.0\n",
       "Name: age, dtype: float64"
      ]
     },
     "execution_count": 113,
     "metadata": {},
     "output_type": "execute_result"
    }
   ],
   "source": [
    "train_val2.groupby('y')['age'].median()"
   ]
  },
  {
   "cell_type": "markdown",
   "metadata": {},
   "source": [
    "- durationは値が大きいほど、y=1になりやすい傾向がありそう"
   ]
  },
  {
   "cell_type": "code",
   "execution_count": 114,
   "metadata": {},
   "outputs": [
    {
     "name": "stdout",
     "output_type": "stream",
     "text": [
      "1 0.7462113454843334, 0.7511775547818964\n",
      "2 0.7462113454843334, 0.7511775547818964\n",
      "3 0.7507167724759369, 0.7554781896375179\n",
      "4 0.7481056727421667, 0.7569117345893918\n",
      "5 0.7746262543518329, 0.7751382346917879\n",
      "6 0.7780565226295311, 0.7712471841081302\n",
      "7 0.8182469793159942, 0.8117960270325619\n",
      "8 0.8275138234691788, 0.8077001843129223\n",
      "9 0.8483514233053451, 0.8273602293671923\n",
      "10 0.8692402211755068, 0.8335039934466516\n",
      "11 0.8782510751587139, 0.8251075158713905\n",
      "12 0.8999590415728036, 0.8261314765513005\n",
      "13 0.914294491091542, 0.8281793979111202\n",
      "14 0.9298074953921769, 0.8220356338316609\n",
      "15 0.9457812819987712, 0.8220356338316609\n",
      "16 0.9606287118574647, 0.820602088879787\n",
      "17 0.9706123284865861, 0.8171206225680934\n",
      "18 0.9785992217898832, 0.8187589596559492\n",
      "19 0.9862277288552119, 0.8199877124718411\n"
     ]
    }
   ],
   "source": [
    "#ここでいったん、learn関数で分析\n",
    "t = train_val2['y']\n",
    "x = train_val2.drop(str_col_name, axis=1)\n",
    "x =x.drop(['id', 'y', 'day'], axis=1)\n",
    "#x =train_val2[xcol]\n",
    "\n",
    "for i in range(1, 20):\n",
    "    s1, s2, model, datum = learn(x, t, i)\n",
    "    print(f\"{i} {s1}, {s2}\")"
   ]
  },
  {
   "cell_type": "code",
   "execution_count": 115,
   "metadata": {},
   "outputs": [
    {
     "data": {
      "text/html": [
       "<div>\n",
       "<style scoped>\n",
       "    .dataframe tbody tr th:only-of-type {\n",
       "        vertical-align: middle;\n",
       "    }\n",
       "\n",
       "    .dataframe tbody tr th {\n",
       "        vertical-align: top;\n",
       "    }\n",
       "\n",
       "    .dataframe thead th {\n",
       "        text-align: right;\n",
       "    }\n",
       "</style>\n",
       "<table border=\"1\" class=\"dataframe\">\n",
       "  <thead>\n",
       "    <tr style=\"text-align: right;\">\n",
       "      <th>pred</th>\n",
       "      <th>0</th>\n",
       "      <th>1</th>\n",
       "    </tr>\n",
       "    <tr>\n",
       "      <th>true</th>\n",
       "      <th></th>\n",
       "      <th></th>\n",
       "    </tr>\n",
       "  </thead>\n",
       "  <tbody>\n",
       "    <tr>\n",
       "      <th>0</th>\n",
       "      <td>2796</td>\n",
       "      <td>587</td>\n",
       "    </tr>\n",
       "    <tr>\n",
       "      <th>1</th>\n",
       "      <td>226</td>\n",
       "      <td>1274</td>\n",
       "    </tr>\n",
       "  </tbody>\n",
       "</table>\n",
       "</div>"
      ],
      "text/plain": [
       "pred     0     1\n",
       "true            \n",
       "0     2796   587\n",
       "1      226  1274"
      ]
     },
     "execution_count": 115,
     "metadata": {},
     "output_type": "execute_result"
    }
   ],
   "source": [
    "# どのような間違い方をしているのか確認\n",
    "s1, s2, model, datum = learn(x, t, 10)\n",
    "\n",
    "# 訓練データでの予測結果と実際の値の2軸で個数集計flagがFalseならば、検証データで集計\n",
    "def syuukei(model, datum, flag=False):\n",
    "    if flag:\n",
    "        pre = model.predict(datum[0])\n",
    "        y_val = datum[2]\n",
    "    else:\n",
    "        pre = model.predict(datum[1])\n",
    "        y_val = datum[3]\n",
    "    data = {\n",
    "        \"pred\": pre,\n",
    "        \"true\": y_val\n",
    "    }\n",
    "    tmp = pd.DataFrame(data)\n",
    "    return tmp, pd.pivot_table(tmp, index=\"true\", columns=\"pred\", values=\"true\", aggfunc=len)\n",
    "\n",
    "\n",
    "tmp, a = syuukei(model, datum, False)\n",
    "a"
   ]
  },
  {
   "cell_type": "code",
   "execution_count": 116,
   "metadata": {},
   "outputs": [
    {
     "name": "stderr",
     "output_type": "stream",
     "text": [
      "/var/folders/cm/w7d5zwgj0h3gp9q0lvvq4yrr0000gn/T/ipykernel_27206/360127745.py:10: FutureWarning: Dropping of nuisance columns in DataFrame reductions (with 'numeric_only=None') is deprecated; in a future version this will raise TypeError.  Select only valid columns before calling the reduction.\n",
      "  [true_df.mean()[\"age\":], false_df.mean()[\"age\":]], axis=1\n"
     ]
    },
    {
     "data": {
      "text/plain": [
       "Int64Index([ 8008,  5734,  1594,  2167, 10468, 26200,  7851,  4695, 24120,\n",
       "            18766,\n",
       "            ...\n",
       "            14655,  5003,  4196, 17968, 13960,  1548,   508,  7200,  9861,\n",
       "            20515],\n",
       "           dtype='int64', length=2796)"
      ]
     },
     "execution_count": 116,
     "metadata": {},
     "output_type": "execute_result"
    },
    {
     "data": {
      "image/png": "[encoded data removed]",
      "text/plain": [
       "<Figure size 432x288 with 1 Axes>"
      ]
     },
     "metadata": {
      "needs_background": "light"
     },
     "output_type": "display_data"
    }
   ],
   "source": [
    "# 本当はｙ＝0の中で、正確に予測された人と謝った予測をされた人でどういう傾向があるか分析\n",
    "\n",
    "false = tmp.loc[(tmp['pred'] == 1) & (tmp['true'] == 0)].index\n",
    "true = tmp.loc[(tmp['pred'] == 0) & (tmp['true'] == 0)].index\n",
    "\n",
    "true_df = train_val2.loc[true]\n",
    "false_df = train_val2.loc[false]\n",
    "\n",
    "pd.concat(\n",
    "    [true_df.mean()[\"age\":], false_df.mean()[\"age\":]], axis=1\n",
    ").plot(kind=\"bar\")\n",
    "true"
   ]
  },
  {
   "cell_type": "code",
   "execution_count": 117,
   "metadata": {},
   "outputs": [
    {
     "name": "stdout",
     "output_type": "stream",
     "text": [
      "             id       age    amount       day  duration  campaign  previous  \\\n",
      "8008  -0.707324 -0.276656 -0.428811  0.742736 -0.102910 -0.238912 -0.227081   \n",
      "5734  -0.997343  1.138307 -0.502345 -0.814295  0.602638 -0.557919 -0.227081   \n",
      "1594  -1.525346 -0.653980  0.232995  1.581138 -0.851713 -0.238912 -0.227081   \n",
      "2167  -1.452267 -0.370987 -0.213200  1.820681 -0.521325 -0.238912 -0.227081   \n",
      "10468 -0.393584 -0.276656 -0.429810 -0.934067 -0.853755 -0.557919  0.162997   \n",
      "...         ...       ...       ...       ...       ...       ...       ...   \n",
      "1548  -1.531213 -0.182325 -0.406518  1.700910  0.427760 -0.557919 -0.227081   \n",
      "508   -1.663851 -0.748311 -0.533290 -0.934067 -0.851713 -0.557919 -0.227081   \n",
      "7200  -0.810374 -1.031304  0.011727  0.622965 -0.177410 -0.238912 -0.227081   \n",
      "9861  -0.470999 -0.370987 -0.412508  0.143878 -1.088134  0.399101 -0.227081   \n",
      "20515  0.887779  0.666653  0.128184 -0.694524  0.783834 -0.557919  0.162997   \n",
      "\n",
      "              y  job_blue-collar  job_entrepreneur  ...  month_dec  month_feb  \\\n",
      "8008  -0.686072         1.898648         -0.186069  ...  -0.069985   -0.25063   \n",
      "5734  -0.686072        -0.526690         -0.186069  ...  -0.069985   -0.25063   \n",
      "1594  -0.686072        -0.526690         -0.186069  ...  -0.069985   -0.25063   \n",
      "2167  -0.686072         1.898648         -0.186069  ...  -0.069985   -0.25063   \n",
      "10468 -0.686072        -0.526690         -0.186069  ...  -0.069985   -0.25063   \n",
      "...         ...              ...               ...  ...        ...        ...   \n",
      "1548  -0.686072        -0.526690         -0.186069  ...  -0.069985   -0.25063   \n",
      "508   -0.686072        -0.526690         -0.186069  ...  -0.069985   -0.25063   \n",
      "7200  -0.686072        -0.526690         -0.186069  ...  -0.069985   -0.25063   \n",
      "9861  -0.686072        -0.526690         -0.186069  ...  -0.069985   -0.25063   \n",
      "20515 -0.686072         1.898648         -0.186069  ...  -0.069985   -0.25063   \n",
      "\n",
      "       month_jan  month_jul  month_jun  month_mar  month_may  month_nov  \\\n",
      "8008   -0.180700   2.359760  -0.364402  -0.105945  -0.664277  -0.307328   \n",
      "5734   -0.180700   2.359760  -0.364402  -0.105945  -0.664277  -0.307328   \n",
      "1594    5.534044  -0.423772  -0.364402  -0.105945  -0.664277  -0.307328   \n",
      "2167   -0.180700   2.359760  -0.364402  -0.105945  -0.664277  -0.307328   \n",
      "10468  -0.180700  -0.423772  -0.364402  -0.105945  -0.664277  -0.307328   \n",
      "...          ...        ...        ...        ...        ...        ...   \n",
      "1548   -0.180700  -0.423772  -0.364402  -0.105945   1.505397  -0.307328   \n",
      "508    -0.180700   2.359760  -0.364402  -0.105945  -0.664277  -0.307328   \n",
      "7200   -0.180700  -0.423772  -0.364402  -0.105945   1.505397  -0.307328   \n",
      "9861   -0.180700  -0.423772   2.744221  -0.105945  -0.664277  -0.307328   \n",
      "20515  -0.180700  -0.423772  -0.364402  -0.105945  -0.664277  -0.307328   \n",
      "\n",
      "       month_oct  month_sep  \n",
      "8008   -0.127243  -0.116513  \n",
      "5734   -0.127243  -0.116513  \n",
      "1594   -0.127243  -0.116513  \n",
      "2167   -0.127243  -0.116513  \n",
      "10468   7.858976  -0.116513  \n",
      "...          ...        ...  \n",
      "1548   -0.127243  -0.116513  \n",
      "508    -0.127243  -0.116513  \n",
      "7200   -0.127243  -0.116513  \n",
      "9861   -0.127243  -0.116513  \n",
      "20515  -0.127243  -0.116513  \n",
      "\n",
      "[2796 rows x 40 columns]\n"
     ]
    },
    {
     "data": {
      "text/plain": [
       "<AxesSubplot:>"
      ]
     },
     "execution_count": 117,
     "metadata": {},
     "output_type": "execute_result"
    },
    {
     "data": {
      "image/png": "[encoded data removed]",
      "text/plain": [
       "<Figure size 432x288 with 1 Axes>"
      ]
     },
     "metadata": {
      "needs_background": "light"
     },
     "output_type": "display_data"
    }
   ],
   "source": [
    "# 値にばらつきが大きいので、標準化してもう一度グラフ化\n",
    "sc = StandardScaler()\n",
    "tmp2 = train_val2.drop(str_col_name, axis=1)\n",
    "sc_data = sc.fit_transform(tmp2)\n",
    "sc_df = pd.DataFrame(sc_data, columns=tmp2.columns, index=tmp2.index)\n",
    "\n",
    "true_df = sc_df.loc[true]\n",
    "false_df = sc_df.loc[false]\n",
    "print(true_df)\n",
    "temp2 = pd.concat([false_df.mean()[\"age\":], true_df.mean()[\"age\":]], axis=1)\n",
    "temp2.plot(kind=\"bar\")\n"
   ]
  },
  {
   "cell_type": "markdown",
   "metadata": {},
   "source": [
    "- 青色の０は誤分類、オレンジ１は正解のデータ\n",
    "- durationと housing_yesが大きく異なる\n",
    "  - 実際はy=0の人で、 durationが大きい人は誤分類しやすい\n",
    "  - 実際はy=0の人で、 housingが大きい人は誤分類しやすい\n",
    "\n",
    "\n",
    "- 事前に、durationが大きい人はy=1になりやすいということは分かっているので、「こういう人はy=0になりやすい」という\n",
    "- 特徴量を見つけ出して、特徴量×durationという特徴量を作って、durationに重み付けをする列を作れば正解率があがるのではないか？ \n",
    "- \n",
    "- 続きは3部に譲ってここでテストデータ評価を行う"
   ]
  },
  {
   "cell_type": "code",
   "execution_count": 118,
   "metadata": {},
   "outputs": [
    {
     "data": {
      "text/plain": [
       "0.815333579063767"
      ]
     },
     "execution_count": 118,
     "metadata": {},
     "output_type": "execute_result"
    }
   ],
   "source": [
    "model_tree = tree.DecisionTreeClassifier(\n",
    "    max_depth=10, random_state=10, class_weight=\"balanced\"\n",
    ")\n",
    "model_tree.fit(x, t)\n",
    "\n",
    "test2 = nan_fill(test)\n",
    "t = test2['y']\n",
    "x = test2.drop(str_col_name, axis=1)\n",
    "x = x.drop(['id', 'y', 'day'], axis=1)\n",
    "model_tree.score(x, t)"
   ]
  }
 ],
 "metadata": {
  "interpreter": {
   "hash": "59dafaf31f4c906cca062281d81c99e041861ac1b3181d0964a0a41f42326fb1"
  },
  "kernelspec": {
   "display_name": "Python 3.9.13 ('ml_env': venv)",
   "language": "python",
   "name": "python3"
  },
  "language_info": {
   "codemirror_mode": {
    "name": "ipython",
    "version": 3
   },
   "file_extension": ".py",
   "mimetype": "text/x-python",
   "name": "python",
   "nbconvert_exporter": "python",
   "pygments_lexer": "ipython3",
   "version": "3.9.13"
  },
  "orig_nbformat": 4
 },
 "nbformat": 4,
 "nbformat_minor": 2
}
