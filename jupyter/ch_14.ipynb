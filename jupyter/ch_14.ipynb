{
 "cells": [
  {
   "cell_type": "markdown",
   "metadata": {},
   "source": [
    "# Chap.14 教師なし学習1：次元の削減"
   ]
  },
  {
   "cell_type": "markdown",
   "metadata": {},
   "source": [
    "## 14.1 次元の削減の概要"
   ]
  },
  {
   "cell_type": "markdown",
   "metadata": {},
   "source": [
    "## 14.2 データの前処理"
   ]
  },
  {
   "cell_type": "code",
   "execution_count": 2,
   "metadata": {},
   "outputs": [
    {
     "name": "stdout",
     "output_type": "stream",
     "text": [
      "(100, 14)\n",
      "      CRIME    ZN  INDUS  CHAS    NOX     RM   AGE     DIS   RAD  TAX  \\\n",
      "0      high   0.0  18.10     0  0.718  3.561  87.9  1.6132  24.0  666   \n",
      "1       low   0.0   8.14     0  0.538  5.950  82.0  3.9900   4.0  307   \n",
      "2  very_low  82.5   2.03     0  0.415  6.162  38.4  6.2700   2.0  348   \n",
      "3       low   0.0  21.89     0  0.624  6.151  97.9  1.6687   4.0  437   \n",
      "4      high   0.0  18.10     0  0.614  6.980  67.6  2.5329  24.0  666   \n",
      "\n",
      "   PTRATIO       B  LSTAT  PRICE  \n",
      "0     20.2  354.70   7.12   27.5  \n",
      "1     21.0  232.60  27.71   13.2  \n",
      "2     14.7  393.77   7.43   24.1  \n",
      "3     21.2  396.90  18.46   17.8  \n",
      "4     20.2  374.68  11.66   29.8  \n"
     ]
    }
   ],
   "source": [
    "# 14-1 Boston.csvを読み込む\n",
    "import pandas as pd\n",
    "\n",
    "df = pd.read_csv('../support/datafiles/Boston.csv')\n",
    "print(df.shape)\n",
    "print(df.head())"
   ]
  },
  {
   "cell_type": "markdown",
   "metadata": {},
   "source": [
    "### 14.2.2 欠損値の確認"
   ]
  },
  {
   "cell_type": "code",
   "execution_count": 4,
   "metadata": {},
   "outputs": [
    {
     "name": "stderr",
     "output_type": "stream",
     "text": [
      "/var/folders/cm/w7d5zwgj0h3gp9q0lvvq4yrr0000gn/T/ipykernel_21141/2445178510.py:2: FutureWarning: Dropping of nuisance columns in DataFrame reductions (with 'numeric_only=None') is deprecated; in a future version this will raise TypeError.  Select only valid columns before calling the reduction.\n",
      "  df2 = df.fillna(df.mean(numeric_only=None))\n"
     ]
    }
   ],
   "source": [
    "# 14-2 平均値で欠損値の穴埋めをする\n",
    "df2 = df.fillna(df.mean())\n"
   ]
  },
  {
   "cell_type": "markdown",
   "metadata": {},
   "source": [
    "### 14.2.3 ダミー変数化"
   ]
  },
  {
   "cell_type": "code",
   "execution_count": 5,
   "metadata": {},
   "outputs": [
    {
     "data": {
      "text/html": [
       "<div>\n",
       "<style scoped>\n",
       "    .dataframe tbody tr th:only-of-type {\n",
       "        vertical-align: middle;\n",
       "    }\n",
       "\n",
       "    .dataframe tbody tr th {\n",
       "        vertical-align: top;\n",
       "    }\n",
       "\n",
       "    .dataframe thead th {\n",
       "        text-align: right;\n",
       "    }\n",
       "</style>\n",
       "<table border=\"1\" class=\"dataframe\">\n",
       "  <thead>\n",
       "    <tr style=\"text-align: right;\">\n",
       "      <th></th>\n",
       "      <th>ZN</th>\n",
       "      <th>INDUS</th>\n",
       "      <th>CHAS</th>\n",
       "      <th>NOX</th>\n",
       "      <th>RM</th>\n",
       "      <th>AGE</th>\n",
       "      <th>DIS</th>\n",
       "      <th>RAD</th>\n",
       "      <th>TAX</th>\n",
       "      <th>PTRATIO</th>\n",
       "      <th>B</th>\n",
       "      <th>LSTAT</th>\n",
       "      <th>PRICE</th>\n",
       "      <th>low</th>\n",
       "      <th>very_low</th>\n",
       "    </tr>\n",
       "  </thead>\n",
       "  <tbody>\n",
       "    <tr>\n",
       "      <th>0</th>\n",
       "      <td>0.0</td>\n",
       "      <td>18.10</td>\n",
       "      <td>0</td>\n",
       "      <td>0.718</td>\n",
       "      <td>3.561</td>\n",
       "      <td>87.9</td>\n",
       "      <td>1.6132</td>\n",
       "      <td>24.0</td>\n",
       "      <td>666</td>\n",
       "      <td>20.2</td>\n",
       "      <td>354.70</td>\n",
       "      <td>7.12</td>\n",
       "      <td>27.5</td>\n",
       "      <td>0</td>\n",
       "      <td>0</td>\n",
       "    </tr>\n",
       "    <tr>\n",
       "      <th>1</th>\n",
       "      <td>0.0</td>\n",
       "      <td>8.14</td>\n",
       "      <td>0</td>\n",
       "      <td>0.538</td>\n",
       "      <td>5.950</td>\n",
       "      <td>82.0</td>\n",
       "      <td>3.9900</td>\n",
       "      <td>4.0</td>\n",
       "      <td>307</td>\n",
       "      <td>21.0</td>\n",
       "      <td>232.60</td>\n",
       "      <td>27.71</td>\n",
       "      <td>13.2</td>\n",
       "      <td>1</td>\n",
       "      <td>0</td>\n",
       "    </tr>\n",
       "    <tr>\n",
       "      <th>2</th>\n",
       "      <td>82.5</td>\n",
       "      <td>2.03</td>\n",
       "      <td>0</td>\n",
       "      <td>0.415</td>\n",
       "      <td>6.162</td>\n",
       "      <td>38.4</td>\n",
       "      <td>6.2700</td>\n",
       "      <td>2.0</td>\n",
       "      <td>348</td>\n",
       "      <td>14.7</td>\n",
       "      <td>393.77</td>\n",
       "      <td>7.43</td>\n",
       "      <td>24.1</td>\n",
       "      <td>0</td>\n",
       "      <td>1</td>\n",
       "    </tr>\n",
       "    <tr>\n",
       "      <th>3</th>\n",
       "      <td>0.0</td>\n",
       "      <td>21.89</td>\n",
       "      <td>0</td>\n",
       "      <td>0.624</td>\n",
       "      <td>6.151</td>\n",
       "      <td>97.9</td>\n",
       "      <td>1.6687</td>\n",
       "      <td>4.0</td>\n",
       "      <td>437</td>\n",
       "      <td>21.2</td>\n",
       "      <td>396.90</td>\n",
       "      <td>18.46</td>\n",
       "      <td>17.8</td>\n",
       "      <td>1</td>\n",
       "      <td>0</td>\n",
       "    </tr>\n",
       "    <tr>\n",
       "      <th>4</th>\n",
       "      <td>0.0</td>\n",
       "      <td>18.10</td>\n",
       "      <td>0</td>\n",
       "      <td>0.614</td>\n",
       "      <td>6.980</td>\n",
       "      <td>67.6</td>\n",
       "      <td>2.5329</td>\n",
       "      <td>24.0</td>\n",
       "      <td>666</td>\n",
       "      <td>20.2</td>\n",
       "      <td>374.68</td>\n",
       "      <td>11.66</td>\n",
       "      <td>29.8</td>\n",
       "      <td>0</td>\n",
       "      <td>0</td>\n",
       "    </tr>\n",
       "  </tbody>\n",
       "</table>\n",
       "</div>"
      ],
      "text/plain": [
       "     ZN  INDUS  CHAS    NOX     RM   AGE     DIS   RAD  TAX  PTRATIO       B  \\\n",
       "0   0.0  18.10     0  0.718  3.561  87.9  1.6132  24.0  666     20.2  354.70   \n",
       "1   0.0   8.14     0  0.538  5.950  82.0  3.9900   4.0  307     21.0  232.60   \n",
       "2  82.5   2.03     0  0.415  6.162  38.4  6.2700   2.0  348     14.7  393.77   \n",
       "3   0.0  21.89     0  0.624  6.151  97.9  1.6687   4.0  437     21.2  396.90   \n",
       "4   0.0  18.10     0  0.614  6.980  67.6  2.5329  24.0  666     20.2  374.68   \n",
       "\n",
       "   LSTAT  PRICE  low  very_low  \n",
       "0   7.12   27.5    0         0  \n",
       "1  27.71   13.2    1         0  \n",
       "2   7.43   24.1    0         1  \n",
       "3  18.46   17.8    1         0  \n",
       "4  11.66   29.8    0         0  "
      ]
     },
     "execution_count": 5,
     "metadata": {},
     "output_type": "execute_result"
    }
   ],
   "source": [
    "# 14-3 「CRIME列」のダミー変数化\n",
    "\n",
    "dummy = pd.get_dummies(df2['CRIME'], drop_first=True)\n",
    "\n",
    "# df2とdummyを列方向に結合\n",
    "df3 = df2.join(dummy)\n",
    "# 元のCRIMEを削除\n",
    "df3 = df3.drop(['CRIME'], axis=1)\n",
    "\n",
    "df3.head()"
   ]
  },
  {
   "cell_type": "markdown",
   "metadata": {},
   "source": [
    "### 14.2.4 データの標準化"
   ]
  },
  {
   "cell_type": "code",
   "execution_count": 6,
   "metadata": {},
   "outputs": [],
   "source": [
    "from sklearn.preprocessing import StandardScaler\n",
    "\n",
    "# 中身が整数だと、fit_transformで警告になるので、float型に変換（省略可能）\n",
    "df4 = df3.astype('float')\n",
    "# 標準化\n",
    "sc = StandardScaler()\n",
    "sc_df = sc.fit_transform(df4)"
   ]
  },
  {
   "cell_type": "markdown",
   "metadata": {},
   "source": [
    "## 14.3 主成分分析の実施"
   ]
  },
  {
   "cell_type": "markdown",
   "metadata": {},
   "source": [
    "### 14.3.1 モジュールのインポート"
   ]
  },
  {
   "cell_type": "code",
   "execution_count": 7,
   "metadata": {},
   "outputs": [],
   "source": [
    "# 14-5 モジュールのインポート\n",
    "from sklearn.decomposition import PCA"
   ]
  },
  {
   "cell_type": "markdown",
   "metadata": {},
   "source": [
    "### 14.3.2 モデルの作成"
   ]
  },
  {
   "cell_type": "code",
   "execution_count": 8,
   "metadata": {},
   "outputs": [],
   "source": [
    "# 14-6 モデルの作成\n",
    "model = PCA(n_components=2, whiten=True)"
   ]
  },
  {
   "cell_type": "code",
   "execution_count": 9,
   "metadata": {},
   "outputs": [
    {
     "data": {
      "text/html": [
       "<style>#sk-container-id-1 {color: black;background-color: white;}#sk-container-id-1 pre{padding: 0;}#sk-container-id-1 div.sk-toggleable {background-color: white;}#sk-container-id-1 label.sk-toggleable__label {cursor: pointer;display: block;width: 100%;margin-bottom: 0;padding: 0.3em;box-sizing: border-box;text-align: center;}#sk-container-id-1 label.sk-toggleable__label-arrow:before {content: \"▸\";float: left;margin-right: 0.25em;color: #696969;}#sk-container-id-1 label.sk-toggleable__label-arrow:hover:before {color: black;}#sk-container-id-1 div.sk-estimator:hover label.sk-toggleable__label-arrow:before {color: black;}#sk-container-id-1 div.sk-toggleable__content {max-height: 0;max-width: 0;overflow: hidden;text-align: left;background-color: #f0f8ff;}#sk-container-id-1 div.sk-toggleable__content pre {margin: 0.2em;color: black;border-radius: 0.25em;background-color: #f0f8ff;}#sk-container-id-1 input.sk-toggleable__control:checked~div.sk-toggleable__content {max-height: 200px;max-width: 100%;overflow: auto;}#sk-container-id-1 input.sk-toggleable__control:checked~label.sk-toggleable__label-arrow:before {content: \"▾\";}#sk-container-id-1 div.sk-estimator input.sk-toggleable__control:checked~label.sk-toggleable__label {background-color: #d4ebff;}#sk-container-id-1 div.sk-label input.sk-toggleable__control:checked~label.sk-toggleable__label {background-color: #d4ebff;}#sk-container-id-1 input.sk-hidden--visually {border: 0;clip: rect(1px 1px 1px 1px);clip: rect(1px, 1px, 1px, 1px);height: 1px;margin: -1px;overflow: hidden;padding: 0;position: absolute;width: 1px;}#sk-container-id-1 div.sk-estimator {font-family: monospace;background-color: #f0f8ff;border: 1px dotted black;border-radius: 0.25em;box-sizing: border-box;margin-bottom: 0.5em;}#sk-container-id-1 div.sk-estimator:hover {background-color: #d4ebff;}#sk-container-id-1 div.sk-parallel-item::after {content: \"\";width: 100%;border-bottom: 1px solid gray;flex-grow: 1;}#sk-container-id-1 div.sk-label:hover label.sk-toggleable__label {background-color: #d4ebff;}#sk-container-id-1 div.sk-serial::before {content: \"\";position: absolute;border-left: 1px solid gray;box-sizing: border-box;top: 0;bottom: 0;left: 50%;z-index: 0;}#sk-container-id-1 div.sk-serial {display: flex;flex-direction: column;align-items: center;background-color: white;padding-right: 0.2em;padding-left: 0.2em;position: relative;}#sk-container-id-1 div.sk-item {position: relative;z-index: 1;}#sk-container-id-1 div.sk-parallel {display: flex;align-items: stretch;justify-content: center;background-color: white;position: relative;}#sk-container-id-1 div.sk-item::before, #sk-container-id-1 div.sk-parallel-item::before {content: \"\";position: absolute;border-left: 1px solid gray;box-sizing: border-box;top: 0;bottom: 0;left: 50%;z-index: -1;}#sk-container-id-1 div.sk-parallel-item {display: flex;flex-direction: column;z-index: 1;position: relative;background-color: white;}#sk-container-id-1 div.sk-parallel-item:first-child::after {align-self: flex-end;width: 50%;}#sk-container-id-1 div.sk-parallel-item:last-child::after {align-self: flex-start;width: 50%;}#sk-container-id-1 div.sk-parallel-item:only-child::after {width: 0;}#sk-container-id-1 div.sk-dashed-wrapped {border: 1px dashed gray;margin: 0 0.4em 0.5em 0.4em;box-sizing: border-box;padding-bottom: 0.4em;background-color: white;}#sk-container-id-1 div.sk-label label {font-family: monospace;font-weight: bold;display: inline-block;line-height: 1.2em;}#sk-container-id-1 div.sk-label-container {text-align: center;}#sk-container-id-1 div.sk-container {/* jupyter's `normalize.less` sets `[hidden] { display: none; }` but bootstrap.min.css set `[hidden] { display: none !important; }` so we also need the `!important` here to be able to override the default hidden behavior on the sphinx rendered scikit-learn.org. See: https://github.com/scikit-learn/scikit-learn/issues/21755 */display: inline-block !important;position: relative;}#sk-container-id-1 div.sk-text-repr-fallback {display: none;}</style><div id=\"sk-container-id-1\" class=\"sk-top-container\"><div class=\"sk-text-repr-fallback\"><pre>PCA(n_components=2, whiten=True)</pre><b>In a Jupyter environment, please rerun this cell to show the HTML representation or trust the notebook. <br />On GitHub, the HTML representation is unable to render, please try loading this page with nbviewer.org.</b></div><div class=\"sk-container\" hidden><div class=\"sk-item\"><div class=\"sk-estimator sk-toggleable\"><input class=\"sk-toggleable__control sk-hidden--visually\" id=\"sk-estimator-id-1\" type=\"checkbox\" checked><label for=\"sk-estimator-id-1\" class=\"sk-toggleable__label sk-toggleable__label-arrow\">PCA</label><div class=\"sk-toggleable__content\"><pre>PCA(n_components=2, whiten=True)</pre></div></div></div></div></div>"
      ],
      "text/plain": [
       "PCA(n_components=2, whiten=True)"
      ]
     },
     "execution_count": 9,
     "metadata": {},
     "output_type": "execute_result"
    }
   ],
   "source": [
    "# 14-7 モデルに学習させる\n",
    "model.fit(sc_df)"
   ]
  },
  {
   "cell_type": "code",
   "execution_count": 10,
   "metadata": {},
   "outputs": [
    {
     "name": "stdout",
     "output_type": "stream",
     "text": [
      "[-0.2258543   0.35923465  0.04220985  0.3499321  -0.19485285  0.29792086\n",
      " -0.29980115  0.30726517  0.32822012  0.16246983 -0.18251937  0.27543839\n",
      " -0.2018449   0.03831172 -0.31492126] \n",
      "\n",
      "[-0.1533893   0.02835867  0.19795373  0.13817925  0.4047141   0.20058802\n",
      " -0.29340246 -0.1027543  -0.11546952 -0.34046929  0.05661836 -0.17845386\n",
      "  0.44390529  0.42253976 -0.27716437]\n"
     ]
    }
   ],
   "source": [
    "# 14-8 第1軸と第2軸の固有ベクトル\n",
    "\n",
    "# 新規の第１軸（第１主成分とも呼ぶ）の固有ベクトル\n",
    "print(model.components_[0], \"\\n\")\n",
    "# 新規の第2軸（第2主成分とも呼ぶ）の固有ベクトル\n",
    "print(model.components_[1])"
   ]
  },
  {
   "cell_type": "code",
   "execution_count": 11,
   "metadata": {},
   "outputs": [
    {
     "data": {
      "text/html": [
       "<div>\n",
       "<style scoped>\n",
       "    .dataframe tbody tr th:only-of-type {\n",
       "        vertical-align: middle;\n",
       "    }\n",
       "\n",
       "    .dataframe tbody tr th {\n",
       "        vertical-align: top;\n",
       "    }\n",
       "\n",
       "    .dataframe thead th {\n",
       "        text-align: right;\n",
       "    }\n",
       "</style>\n",
       "<table border=\"1\" class=\"dataframe\">\n",
       "  <thead>\n",
       "    <tr style=\"text-align: right;\">\n",
       "      <th></th>\n",
       "      <th>0</th>\n",
       "      <th>1</th>\n",
       "    </tr>\n",
       "  </thead>\n",
       "  <tbody>\n",
       "    <tr>\n",
       "      <th>0</th>\n",
       "      <td>1.490417</td>\n",
       "      <td>-0.680415</td>\n",
       "    </tr>\n",
       "    <tr>\n",
       "      <th>1</th>\n",
       "      <td>0.703223</td>\n",
       "      <td>-0.252517</td>\n",
       "    </tr>\n",
       "    <tr>\n",
       "      <th>2</th>\n",
       "      <td>-1.403756</td>\n",
       "      <td>-0.613175</td>\n",
       "    </tr>\n",
       "    <tr>\n",
       "      <th>3</th>\n",
       "      <td>1.030971</td>\n",
       "      <td>0.560933</td>\n",
       "    </tr>\n",
       "    <tr>\n",
       "      <th>4</th>\n",
       "      <td>0.898674</td>\n",
       "      <td>0.272037</td>\n",
       "    </tr>\n",
       "  </tbody>\n",
       "</table>\n",
       "</div>"
      ],
      "text/plain": [
       "          0         1\n",
       "0  1.490417 -0.680415\n",
       "1  0.703223 -0.252517\n",
       "2 -1.403756 -0.613175\n",
       "3  1.030971  0.560933\n",
       "4  0.898674  0.272037"
      ]
     },
     "execution_count": 11,
     "metadata": {},
     "output_type": "execute_result"
    }
   ],
   "source": [
    "# 14-9 既存のsc_dfを新しい2つの軸に当てはめる\n",
    "new = model.transform(sc_df)\n",
    "\n",
    "new_df = pd.DataFrame(new)\n",
    "new_df.head()"
   ]
  },
  {
   "cell_type": "markdown",
   "metadata": {},
   "source": [
    "## 14.4 結果の評価"
   ]
  },
  {
   "cell_type": "markdown",
   "metadata": {},
   "source": [
    "### 14.4.1 主成分負荷量の確認"
   ]
  },
  {
   "cell_type": "code",
   "execution_count": 12,
   "metadata": {},
   "outputs": [
    {
     "data": {
      "text/html": [
       "<div>\n",
       "<style scoped>\n",
       "    .dataframe tbody tr th:only-of-type {\n",
       "        vertical-align: middle;\n",
       "    }\n",
       "\n",
       "    .dataframe tbody tr th {\n",
       "        vertical-align: top;\n",
       "    }\n",
       "\n",
       "    .dataframe thead th {\n",
       "        text-align: right;\n",
       "    }\n",
       "</style>\n",
       "<table border=\"1\" class=\"dataframe\">\n",
       "  <thead>\n",
       "    <tr style=\"text-align: right;\">\n",
       "      <th></th>\n",
       "      <th>ZN</th>\n",
       "      <th>INDUS</th>\n",
       "      <th>CHAS</th>\n",
       "      <th>NOX</th>\n",
       "      <th>RM</th>\n",
       "      <th>AGE</th>\n",
       "      <th>DIS</th>\n",
       "      <th>RAD</th>\n",
       "      <th>TAX</th>\n",
       "      <th>PTRATIO</th>\n",
       "      <th>B</th>\n",
       "      <th>LSTAT</th>\n",
       "      <th>PRICE</th>\n",
       "      <th>low</th>\n",
       "      <th>very_low</th>\n",
       "      <th>PC1</th>\n",
       "      <th>PC2</th>\n",
       "    </tr>\n",
       "  </thead>\n",
       "  <tbody>\n",
       "    <tr>\n",
       "      <th>0</th>\n",
       "      <td>-0.467750</td>\n",
       "      <td>1.249826</td>\n",
       "      <td>-0.229416</td>\n",
       "      <td>1.576995</td>\n",
       "      <td>-3.499220</td>\n",
       "      <td>0.800793</td>\n",
       "      <td>-1.128755</td>\n",
       "      <td>1.846563</td>\n",
       "      <td>1.776804</td>\n",
       "      <td>0.870770</td>\n",
       "      <td>-0.303459</td>\n",
       "      <td>-0.692464</td>\n",
       "      <td>0.424585</td>\n",
       "      <td>-0.577350</td>\n",
       "      <td>-1.0</td>\n",
       "      <td>1.490417</td>\n",
       "      <td>-0.680415</td>\n",
       "    </tr>\n",
       "    <tr>\n",
       "      <th>1</th>\n",
       "      <td>-0.467750</td>\n",
       "      <td>-0.337700</td>\n",
       "      <td>-0.229416</td>\n",
       "      <td>-0.048340</td>\n",
       "      <td>-0.374040</td>\n",
       "      <td>0.589124</td>\n",
       "      <td>0.019857</td>\n",
       "      <td>-0.574758</td>\n",
       "      <td>-0.462288</td>\n",
       "      <td>1.284683</td>\n",
       "      <td>-2.366667</td>\n",
       "      <td>2.336991</td>\n",
       "      <td>-1.077163</td>\n",
       "      <td>1.732051</td>\n",
       "      <td>-1.0</td>\n",
       "      <td>0.703223</td>\n",
       "      <td>-0.252517</td>\n",
       "    </tr>\n",
       "    <tr>\n",
       "      <th>2</th>\n",
       "      <td>3.432136</td>\n",
       "      <td>-1.311574</td>\n",
       "      <td>-0.229416</td>\n",
       "      <td>-1.158986</td>\n",
       "      <td>-0.096712</td>\n",
       "      <td>-0.975080</td>\n",
       "      <td>1.121690</td>\n",
       "      <td>-0.816890</td>\n",
       "      <td>-0.206570</td>\n",
       "      <td>-1.974883</td>\n",
       "      <td>0.356734</td>\n",
       "      <td>-0.646853</td>\n",
       "      <td>0.067526</td>\n",
       "      <td>-0.577350</td>\n",
       "      <td>1.0</td>\n",
       "      <td>-1.403756</td>\n",
       "      <td>-0.613175</td>\n",
       "    </tr>\n",
       "    <tr>\n",
       "      <th>3</th>\n",
       "      <td>-0.467750</td>\n",
       "      <td>1.853915</td>\n",
       "      <td>-0.229416</td>\n",
       "      <td>0.728209</td>\n",
       "      <td>-0.111102</td>\n",
       "      <td>1.159555</td>\n",
       "      <td>-1.101934</td>\n",
       "      <td>-0.574758</td>\n",
       "      <td>0.348525</td>\n",
       "      <td>1.388161</td>\n",
       "      <td>0.409624</td>\n",
       "      <td>0.976017</td>\n",
       "      <td>-0.594083</td>\n",
       "      <td>1.732051</td>\n",
       "      <td>-1.0</td>\n",
       "      <td>1.030971</td>\n",
       "      <td>0.560933</td>\n",
       "    </tr>\n",
       "    <tr>\n",
       "      <th>4</th>\n",
       "      <td>-0.467750</td>\n",
       "      <td>1.249826</td>\n",
       "      <td>-0.229416</td>\n",
       "      <td>0.637912</td>\n",
       "      <td>0.973358</td>\n",
       "      <td>0.072506</td>\n",
       "      <td>-0.684301</td>\n",
       "      <td>1.846563</td>\n",
       "      <td>1.776804</td>\n",
       "      <td>0.870770</td>\n",
       "      <td>0.034157</td>\n",
       "      <td>-0.024483</td>\n",
       "      <td>0.666125</td>\n",
       "      <td>-0.577350</td>\n",
       "      <td>-1.0</td>\n",
       "      <td>0.898674</td>\n",
       "      <td>0.272037</td>\n",
       "    </tr>\n",
       "  </tbody>\n",
       "</table>\n",
       "</div>"
      ],
      "text/plain": [
       "         ZN     INDUS      CHAS       NOX        RM       AGE       DIS  \\\n",
       "0 -0.467750  1.249826 -0.229416  1.576995 -3.499220  0.800793 -1.128755   \n",
       "1 -0.467750 -0.337700 -0.229416 -0.048340 -0.374040  0.589124  0.019857   \n",
       "2  3.432136 -1.311574 -0.229416 -1.158986 -0.096712 -0.975080  1.121690   \n",
       "3 -0.467750  1.853915 -0.229416  0.728209 -0.111102  1.159555 -1.101934   \n",
       "4 -0.467750  1.249826 -0.229416  0.637912  0.973358  0.072506 -0.684301   \n",
       "\n",
       "        RAD       TAX   PTRATIO         B     LSTAT     PRICE       low  \\\n",
       "0  1.846563  1.776804  0.870770 -0.303459 -0.692464  0.424585 -0.577350   \n",
       "1 -0.574758 -0.462288  1.284683 -2.366667  2.336991 -1.077163  1.732051   \n",
       "2 -0.816890 -0.206570 -1.974883  0.356734 -0.646853  0.067526 -0.577350   \n",
       "3 -0.574758  0.348525  1.388161  0.409624  0.976017 -0.594083  1.732051   \n",
       "4  1.846563  1.776804  0.870770  0.034157 -0.024483  0.666125 -0.577350   \n",
       "\n",
       "   very_low       PC1       PC2  \n",
       "0      -1.0  1.490417 -0.680415  \n",
       "1      -1.0  0.703223 -0.252517  \n",
       "2       1.0 -1.403756 -0.613175  \n",
       "3      -1.0  1.030971  0.560933  \n",
       "4      -1.0  0.898674  0.272037  "
      ]
     },
     "execution_count": 12,
     "metadata": {},
     "output_type": "execute_result"
    }
   ],
   "source": [
    "# 14-10 「新しい2列」と「もとの列」を結合する\n",
    "\n",
    "new_df.columns = ['PC1', 'PC2']\n",
    "# 標準化済の既存データ（numpy)をデータフレーム化\n",
    "df5 = pd.DataFrame(sc_df, columns=df4.columns)\n",
    "# 2つのデータフレームを列方向に結合\n",
    "df6 = pd.concat([df5, new_df], axis=1)\n",
    "df6.head()"
   ]
  },
  {
   "cell_type": "code",
   "execution_count": 13,
   "metadata": {},
   "outputs": [
    {
     "data": {
      "text/html": [
       "<div>\n",
       "<style scoped>\n",
       "    .dataframe tbody tr th:only-of-type {\n",
       "        vertical-align: middle;\n",
       "    }\n",
       "\n",
       "    .dataframe tbody tr th {\n",
       "        vertical-align: top;\n",
       "    }\n",
       "\n",
       "    .dataframe thead th {\n",
       "        text-align: right;\n",
       "    }\n",
       "</style>\n",
       "<table border=\"1\" class=\"dataframe\">\n",
       "  <thead>\n",
       "    <tr style=\"text-align: right;\">\n",
       "      <th></th>\n",
       "      <th>PC1</th>\n",
       "      <th>PC2</th>\n",
       "    </tr>\n",
       "  </thead>\n",
       "  <tbody>\n",
       "    <tr>\n",
       "      <th>ZN</th>\n",
       "      <td>-0.560802</td>\n",
       "      <td>-0.226097</td>\n",
       "    </tr>\n",
       "    <tr>\n",
       "      <th>INDUS</th>\n",
       "      <td>0.891989</td>\n",
       "      <td>0.041801</td>\n",
       "    </tr>\n",
       "    <tr>\n",
       "      <th>CHAS</th>\n",
       "      <td>0.104808</td>\n",
       "      <td>0.291786</td>\n",
       "    </tr>\n",
       "    <tr>\n",
       "      <th>NOX</th>\n",
       "      <td>0.868891</td>\n",
       "      <td>0.203678</td>\n",
       "    </tr>\n",
       "    <tr>\n",
       "      <th>RM</th>\n",
       "      <td>-0.483825</td>\n",
       "      <td>0.596553</td>\n",
       "    </tr>\n",
       "    <tr>\n",
       "      <th>AGE</th>\n",
       "      <td>0.739745</td>\n",
       "      <td>0.295669</td>\n",
       "    </tr>\n",
       "    <tr>\n",
       "      <th>DIS</th>\n",
       "      <td>-0.744414</td>\n",
       "      <td>-0.432478</td>\n",
       "    </tr>\n",
       "    <tr>\n",
       "      <th>RAD</th>\n",
       "      <td>0.762947</td>\n",
       "      <td>-0.151461</td>\n",
       "    </tr>\n",
       "    <tr>\n",
       "      <th>TAX</th>\n",
       "      <td>0.814979</td>\n",
       "      <td>-0.170203</td>\n",
       "    </tr>\n",
       "    <tr>\n",
       "      <th>PTRATIO</th>\n",
       "      <td>0.403417</td>\n",
       "      <td>-0.501855</td>\n",
       "    </tr>\n",
       "    <tr>\n",
       "      <th>B</th>\n",
       "      <td>-0.453200</td>\n",
       "      <td>0.083456</td>\n",
       "    </tr>\n",
       "    <tr>\n",
       "      <th>LSTAT</th>\n",
       "      <td>0.683921</td>\n",
       "      <td>-0.263043</td>\n",
       "    </tr>\n",
       "    <tr>\n",
       "      <th>PRICE</th>\n",
       "      <td>-0.501186</td>\n",
       "      <td>0.654321</td>\n",
       "    </tr>\n",
       "    <tr>\n",
       "      <th>low</th>\n",
       "      <td>0.095129</td>\n",
       "      <td>0.622828</td>\n",
       "    </tr>\n",
       "    <tr>\n",
       "      <th>very_low</th>\n",
       "      <td>-0.781958</td>\n",
       "      <td>-0.408543</td>\n",
       "    </tr>\n",
       "  </tbody>\n",
       "</table>\n",
       "</div>"
      ],
      "text/plain": [
       "               PC1       PC2\n",
       "ZN       -0.560802 -0.226097\n",
       "INDUS     0.891989  0.041801\n",
       "CHAS      0.104808  0.291786\n",
       "NOX       0.868891  0.203678\n",
       "RM       -0.483825  0.596553\n",
       "AGE       0.739745  0.295669\n",
       "DIS      -0.744414 -0.432478\n",
       "RAD       0.762947 -0.151461\n",
       "TAX       0.814979 -0.170203\n",
       "PTRATIO   0.403417 -0.501855\n",
       "B        -0.453200  0.083456\n",
       "LSTAT     0.683921 -0.263043\n",
       "PRICE    -0.501186  0.654321\n",
       "low       0.095129  0.622828\n",
       "very_low -0.781958 -0.408543"
      ]
     },
     "execution_count": 13,
     "metadata": {},
     "output_type": "execute_result"
    }
   ],
   "source": [
    "# 14-11 主成分負荷量の計算\n",
    "\n",
    "# 相関係数の計算\n",
    "df_corr = df6.corr()\n",
    "df_corr.loc[:'very_low', 'PC1':]"
   ]
  },
  {
   "cell_type": "code",
   "execution_count": 14,
   "metadata": {},
   "outputs": [
    {
     "data": {
      "text/plain": [
       "INDUS       0.891989\n",
       "NOX         0.868891\n",
       "TAX         0.814979\n",
       "RAD         0.762947\n",
       "AGE         0.739745\n",
       "LSTAT       0.683921\n",
       "PTRATIO     0.403417\n",
       "CHAS        0.104808\n",
       "low         0.095129\n",
       "B          -0.453200\n",
       "RM         -0.483825\n",
       "PRICE      -0.501186\n",
       "ZN         -0.560802\n",
       "DIS        -0.744414\n",
       "very_low   -0.781958\n",
       "Name: PC1, dtype: float64"
      ]
     },
     "execution_count": 14,
     "metadata": {},
     "output_type": "execute_result"
    }
   ],
   "source": [
    "# 14-12 第1列の相関係数を大きい順に並べ替える\n",
    "pc_corr = df_corr.loc[:'very_low', 'PC1':]\n",
    "pc_corr['PC1'].sort_values(ascending=False)"
   ]
  },
  {
   "cell_type": "code",
   "execution_count": 15,
   "metadata": {},
   "outputs": [
    {
     "data": {
      "text/plain": [
       "PRICE       0.654321\n",
       "low         0.622828\n",
       "RM          0.596553\n",
       "AGE         0.295669\n",
       "CHAS        0.291786\n",
       "NOX         0.203678\n",
       "B           0.083456\n",
       "INDUS       0.041801\n",
       "RAD        -0.151461\n",
       "TAX        -0.170203\n",
       "ZN         -0.226097\n",
       "LSTAT      -0.263043\n",
       "very_low   -0.408543\n",
       "DIS        -0.432478\n",
       "PTRATIO    -0.501855\n",
       "Name: PC2, dtype: float64"
      ]
     },
     "execution_count": 15,
     "metadata": {},
     "output_type": "execute_result"
    }
   ],
   "source": [
    "# 14−13 第2列の相関係数を確認する\n",
    "pc_corr['PC2'].sort_values(ascending=False)"
   ]
  },
  {
   "cell_type": "code",
   "execution_count": 16,
   "metadata": {},
   "outputs": [
    {
     "data": {
      "text/plain": [
       "<AxesSubplot:xlabel='City', ylabel='Exclusive residential'>"
      ]
     },
     "execution_count": 16,
     "metadata": {},
     "output_type": "execute_result"
    },
    {
     "data": {
      "image/png": "[encoded data removed]",
      "text/plain": [
       "<Figure size 432x288 with 1 Axes>"
      ]
     },
     "metadata": {
      "needs_background": "light"
     },
     "output_type": "display_data"
    }
   ],
   "source": [
    "# 14-14 新しい列の散布図を描画する\n",
    "\n",
    "#都市の発展度合いと住環境の良さ\n",
    "col = ['City', 'Exclusive residential']\n",
    "# 列名の変更\n",
    "new_df.columns = col\n",
    "# 散布図\n",
    "new_df.plot(kind='scatter', x='City', y='Exclusive residential')  "
   ]
  },
  {
   "cell_type": "markdown",
   "metadata": {},
   "source": [
    "### 14.4.2 最適な列の個数（寄与率）"
   ]
  },
  {
   "cell_type": "code",
   "execution_count": 17,
   "metadata": {},
   "outputs": [
    {
     "data": {
      "text/plain": [
       "(100, 15)"
      ]
     },
     "execution_count": 17,
     "metadata": {},
     "output_type": "execute_result"
    }
   ],
   "source": [
    "# 14-15 新規の軸をすべて用意する\n",
    "\n",
    "model = PCA(whiten=True)\n",
    "\n",
    "# 学習と新規軸へのデータの当てはめを一括で行う\n",
    "tmp = model.fit_transform(sc_df)\n",
    "tmp.shape"
   ]
  },
  {
   "cell_type": "code",
   "execution_count": 18,
   "metadata": {},
   "outputs": [
    {
     "data": {
      "text/plain": [
       "array([0.41102789, 0.14484698, 0.10192698, 0.06448954, 0.06233684,\n",
       "       0.05810331, 0.04843711, 0.02885228, 0.02142431, 0.01831962,\n",
       "       0.01572944, 0.01068611, 0.00918466, 0.00277548, 0.00185945])"
      ]
     },
     "execution_count": 18,
     "metadata": {},
     "output_type": "execute_result"
    }
   ],
   "source": [
    "# 14-16 寄与率を表示する\n",
    "model.explained_variance_ratio_"
   ]
  },
  {
   "cell_type": "code",
   "execution_count": 19,
   "metadata": {},
   "outputs": [
    {
     "data": {
      "text/plain": [
       "<AxesSubplot:>"
      ]
     },
     "execution_count": 19,
     "metadata": {},
     "output_type": "execute_result"
    },
    {
     "data": {
      "image/png": "[encoded data removed]",
      "text/plain": [
       "<Figure size 432x288 with 1 Axes>"
      ]
     },
     "metadata": {
      "needs_background": "light"
     },
     "output_type": "display_data"
    }
   ],
   "source": [
    "# 14-17 累積寄与率\n",
    "# 寄与率のデータ集合\n",
    "ratio = model.explained_variance_ratio_\n",
    "# 第N列までの累積寄与率を格納するリスト\n",
    "array = []  \n",
    "for i in range(len(ratio)):\n",
    "    # 累積寄与率の計算\n",
    "    ruiseki = sum(ratio[0:(i+1)])\n",
    "    # 累積寄与率の格納\n",
    "    array.append(ruiseki)\n",
    "\n",
    "# 第N列の累積寄与率を折れ線グラフ化\n",
    "pd.Series(array).plot(kind='line')\n"
   ]
  },
  {
   "cell_type": "code",
   "execution_count": 28,
   "metadata": {},
   "outputs": [
    {
     "name": "stdout",
     "output_type": "stream",
     "text": [
      "6\n"
     ]
    }
   ],
   "source": [
    "# 14-18 情報量のしきい値を設定して必要な列の数を求める\n",
    "\n",
    "# 累積寄与率のしきい値\n",
    "threshold = 0.8  \n",
    "for i in range(len(array)):\n",
    "# 第(i + 1)列の累積寄与率がthresholdより大きいかチェック\n",
    "    if array[i] >= threshold:\n",
    "        print(i + 1)\n",
    "        break"
   ]
  },
  {
   "cell_type": "code",
   "execution_count": 29,
   "metadata": {},
   "outputs": [],
   "source": [
    "# 14-19 新規の列を6つに設定してモデルを学習させる\n",
    "\n",
    "# もとデータの全情報の80%を賄うために、新規の列を6つに設定する\n",
    "model = PCA(n_components=6, whiten=True)\n",
    "\n",
    "model.fit(sc_df)\n",
    "\n",
    "# 元データを新規の列（6列）に当てはめる\n",
    "new = model.transform(sc_df)"
   ]
  },
  {
   "cell_type": "code",
   "execution_count": 30,
   "metadata": {},
   "outputs": [],
   "source": [
    "# 14-20 6列のデータをCSVファイルに保存する\n",
    "\n",
    "# 主成分分析の結果をデータフレームに変換\n",
    "col = ['PC1', 'PC2', 'PC3', 'PC4', 'PC5', 'PC6']\n",
    "new_df2 = pd.DataFrame(new, columns=col)\n",
    "\n",
    "# データフレームをcsvファイルとして保存\n",
    "new_df2.to_csv('../models/boston_pca.csv', index=False)"
   ]
  },
  {
   "cell_type": "markdown",
   "metadata": {},
   "source": [
    "## 14.6 練習問題"
   ]
  },
  {
   "cell_type": "code",
   "execution_count": 31,
   "metadata": {},
   "outputs": [],
   "source": [
    "# データの読み込みと前処理\n",
    "\n",
    "df = pd.read_csv('../support/datafiles/cinema.csv')\n",
    "df = df.drop('cinema_id', axis=1)\n",
    "# 欠損値補完\n",
    "df = df.fillna(df.mean())\n",
    "# 可能なら外れ値の確認もするが今回は割愛"
   ]
  },
  {
   "cell_type": "code",
   "execution_count": 32,
   "metadata": {},
   "outputs": [],
   "source": [
    "# データの標準化\n",
    "from sklearn.preprocessing import StandardScaler\n",
    "\n",
    "sc = StandardScaler()\n",
    "sc_df = sc.fit_transform(df)\n",
    "sc_df = pd.DataFrame(sc_df, columns=df.columns)"
   ]
  },
  {
   "cell_type": "code",
   "execution_count": 33,
   "metadata": {},
   "outputs": [
    {
     "data": {
      "text/plain": [
       "[0.5401206784462207,\n",
       " 0.7261760786703707,\n",
       " 0.8624874337165251,\n",
       " 0.9677581622696745,\n",
       " 1.0]"
      ]
     },
     "execution_count": 33,
     "metadata": {},
     "output_type": "execute_result"
    }
   ],
   "source": [
    "# 累積寄与率を調べる\n",
    "from sklearn.decomposition import PCA\n",
    "\n",
    "model = PCA(whiten=True)\n",
    "model.fit(sc_df)\n",
    "\n",
    "total = []\n",
    "for i in model.explained_variance_ratio_:\n",
    "    if len(total) == 0:\n",
    "        total.append(i)\n",
    "    else:\n",
    "        tmp = total[-1] + i\n",
    "        total.append(tmp)\n",
    "total"
   ]
  },
  {
   "cell_type": "code",
   "execution_count": 34,
   "metadata": {},
   "outputs": [
    {
     "data": {
      "text/html": [
       "<div>\n",
       "<style scoped>\n",
       "    .dataframe tbody tr th:only-of-type {\n",
       "        vertical-align: middle;\n",
       "    }\n",
       "\n",
       "    .dataframe tbody tr th {\n",
       "        vertical-align: top;\n",
       "    }\n",
       "\n",
       "    .dataframe thead th {\n",
       "        text-align: right;\n",
       "    }\n",
       "</style>\n",
       "<table border=\"1\" class=\"dataframe\">\n",
       "  <thead>\n",
       "    <tr style=\"text-align: right;\">\n",
       "      <th></th>\n",
       "      <th>SNS1</th>\n",
       "      <th>SNS2</th>\n",
       "      <th>actor</th>\n",
       "      <th>original</th>\n",
       "      <th>sales</th>\n",
       "    </tr>\n",
       "  </thead>\n",
       "  <tbody>\n",
       "    <tr>\n",
       "      <th>pc1</th>\n",
       "      <td>0.736368</td>\n",
       "      <td>0.598555</td>\n",
       "      <td>0.837999</td>\n",
       "      <td>0.469117</td>\n",
       "      <td>0.936901</td>\n",
       "    </tr>\n",
       "    <tr>\n",
       "      <th>pc2</th>\n",
       "      <td>-0.050756</td>\n",
       "      <td>-0.534089</td>\n",
       "      <td>-0.037073</td>\n",
       "      <td>0.800559</td>\n",
       "      <td>0.013415</td>\n",
       "    </tr>\n",
       "    <tr>\n",
       "      <th>pc3</th>\n",
       "      <td>-0.531509</td>\n",
       "      <td>0.536704</td>\n",
       "      <td>-0.017275</td>\n",
       "      <td>0.324773</td>\n",
       "      <td>-0.072303</td>\n",
       "    </tr>\n",
       "  </tbody>\n",
       "</table>\n",
       "</div>"
      ],
      "text/plain": [
       "         SNS1      SNS2     actor  original     sales\n",
       "pc1  0.736368  0.598555  0.837999  0.469117  0.936901\n",
       "pc2 -0.050756 -0.534089 -0.037073  0.800559  0.013415\n",
       "pc3 -0.531509  0.536704 -0.017275  0.324773 -0.072303"
      ]
     },
     "execution_count": 34,
     "metadata": {},
     "output_type": "execute_result"
    }
   ],
   "source": [
    "# 主成分負荷量を調べる\n",
    "model = PCA( n_components=3, whiten=True)\n",
    "model.fit(sc_df)\n",
    "new = pd.DataFrame(\n",
    "    model.transform(sc_df), columns=['pc1', 'pc2', 'pc3']\n",
    ")\n",
    "new_df = pd.concat([new, sc_df], axis=1)\n",
    "cor_df = new_df.corr()\n",
    "cor_df.loc['pc1':'pc3', 'SNS1':]"
   ]
  }
 ],
 "metadata": {
  "kernelspec": {
   "display_name": "Python 3.9.13 ('ml_env': venv)",
   "language": "python",
   "name": "python3"
  },
  "language_info": {
   "codemirror_mode": {
    "name": "ipython",
    "version": 3
   },
   "file_extension": ".py",
   "mimetype": "text/x-python",
   "name": "python",
   "nbconvert_exporter": "python",
   "pygments_lexer": "ipython3",
   "version": "3.9.13"
  },
  "orig_nbformat": 4,
  "vscode": {
   "interpreter": {
    "hash": "59dafaf31f4c906cca062281d81c99e041861ac1b3181d0964a0a41f42326fb1"
   }
  }
 },
 "nbformat": 4,
 "nbformat_minor": 2
}
