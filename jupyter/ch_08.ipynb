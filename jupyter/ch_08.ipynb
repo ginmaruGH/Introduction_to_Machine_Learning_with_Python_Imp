{
 "cells": [
  {
   "cell_type": "markdown",
   "metadata": {},
   "source": [
    "# Chap.08 回帰2：住宅の平均価格の予測"
   ]
  },
  {
   "cell_type": "code",
   "execution_count": 53,
   "metadata": {},
   "outputs": [],
   "source": [
    "# ライブラリの準備\n",
    "from sklearn.model_selection import train_test_split\n",
    "from sklearn.linear_model import LinearRegression\n",
    "from sklearn.preprocessing import StandardScaler\n",
    "import pandas as pd\n",
    "import pickle\n",
    "%matplotlib inline"
   ]
  },
  {
   "cell_type": "markdown",
   "metadata": {},
   "source": [
    "## 8.2 データの前処理"
   ]
  },
  {
   "cell_type": "code",
   "execution_count": 2,
   "metadata": {},
   "outputs": [
    {
     "name": "stdout",
     "output_type": "stream",
     "text": [
      "      CRIME    ZN  INDUS  CHAS    NOX     RM   AGE     DIS   RAD  TAX  \\\n",
      "0      high   0.0  18.10     0  0.718  3.561  87.9  1.6132  24.0  666   \n",
      "1       low   0.0   8.14     0  0.538  5.950  82.0  3.9900   4.0  307   \n",
      "2  very_low  82.5   2.03     0  0.415  6.162  38.4  6.2700   2.0  348   \n",
      "3       low   0.0  21.89     0  0.624  6.151  97.9  1.6687   4.0  437   \n",
      "4      high   0.0  18.10     0  0.614  6.980  67.6  2.5329  24.0  666   \n",
      "\n",
      "   PTRATIO       B  LSTAT  PRICE  \n",
      "0     20.2  354.70   7.12   27.5  \n",
      "1     21.0  232.60  27.71   13.2  \n",
      "2     14.7  393.77   7.43   24.1  \n",
      "3     21.2  396.90  18.46   17.8  \n",
      "4     20.2  374.68  11.66   29.8   \n",
      "\n",
      "   CRIME   ZN  INDUS  CHAS    NOX     RM    AGE     DIS   RAD  TAX  PTRATIO  \\\n",
      "95  high  0.0   18.1     0  0.740  6.219  100.0  2.0048  24.0  666     20.2   \n",
      "96  high  0.0   18.1     0  0.655  5.759   48.2  3.0665  24.0  666     20.2   \n",
      "97  high  0.0   18.1     0  0.671  6.380   96.2  1.3861  24.0  666     20.2   \n",
      "98   low  0.0    9.9     0  0.544  5.914   83.2  3.9986   4.0  304     18.4   \n",
      "99  high  0.0   18.1     0  0.693  5.453  100.0  1.4896  24.0  666     20.2   \n",
      "\n",
      "         B  LSTAT  PRICE  \n",
      "95  395.69  16.59   18.4  \n",
      "96  334.40  14.13   19.9  \n",
      "97  396.90  23.69   13.1  \n",
      "98  390.70  18.33   17.8  \n",
      "99  396.90  30.59    5.0  \n"
     ]
    },
    {
     "data": {
      "text/plain": [
       "(100, 14)"
      ]
     },
     "execution_count": 2,
     "metadata": {},
     "output_type": "execute_result"
    }
   ],
   "source": [
    "# 8-2 データを読み込む\n",
    "df = pd.read_csv('../support/datafiles/Boston.csv')\n",
    "print(df.head(), \"\\n\")\n",
    "print(df.tail())\n",
    "df.shape"
   ]
  },
  {
   "cell_type": "code",
   "execution_count": 3,
   "metadata": {},
   "outputs": [
    {
     "data": {
      "text/plain": [
       "very_low    50\n",
       "high        25\n",
       "low         25\n",
       "Name: CRIME, dtype: int64"
      ]
     },
     "execution_count": 3,
     "metadata": {},
     "output_type": "execute_result"
    }
   ],
   "source": [
    "# 8-3 「CRIME」列にデータが何種類あるか調べる\n",
    "df['CRIME'].value_counts()"
   ]
  },
  {
   "cell_type": "code",
   "execution_count": 4,
   "metadata": {},
   "outputs": [
    {
     "data": {
      "text/html": [
       "<div>\n",
       "<style scoped>\n",
       "    .dataframe tbody tr th:only-of-type {\n",
       "        vertical-align: middle;\n",
       "    }\n",
       "\n",
       "    .dataframe tbody tr th {\n",
       "        vertical-align: top;\n",
       "    }\n",
       "\n",
       "    .dataframe thead th {\n",
       "        text-align: right;\n",
       "    }\n",
       "</style>\n",
       "<table border=\"1\" class=\"dataframe\">\n",
       "  <thead>\n",
       "    <tr style=\"text-align: right;\">\n",
       "      <th></th>\n",
       "      <th>ZN</th>\n",
       "      <th>INDUS</th>\n",
       "      <th>CHAS</th>\n",
       "      <th>NOX</th>\n",
       "      <th>RM</th>\n",
       "      <th>AGE</th>\n",
       "      <th>DIS</th>\n",
       "      <th>RAD</th>\n",
       "      <th>TAX</th>\n",
       "      <th>PTRATIO</th>\n",
       "      <th>B</th>\n",
       "      <th>LSTAT</th>\n",
       "      <th>PRICE</th>\n",
       "      <th>low</th>\n",
       "      <th>very_low</th>\n",
       "    </tr>\n",
       "  </thead>\n",
       "  <tbody>\n",
       "    <tr>\n",
       "      <th>0</th>\n",
       "      <td>0.0</td>\n",
       "      <td>18.10</td>\n",
       "      <td>0</td>\n",
       "      <td>0.718</td>\n",
       "      <td>3.561</td>\n",
       "      <td>87.9</td>\n",
       "      <td>1.6132</td>\n",
       "      <td>24.0</td>\n",
       "      <td>666</td>\n",
       "      <td>20.2</td>\n",
       "      <td>354.70</td>\n",
       "      <td>7.12</td>\n",
       "      <td>27.5</td>\n",
       "      <td>0</td>\n",
       "      <td>0</td>\n",
       "    </tr>\n",
       "    <tr>\n",
       "      <th>1</th>\n",
       "      <td>0.0</td>\n",
       "      <td>8.14</td>\n",
       "      <td>0</td>\n",
       "      <td>0.538</td>\n",
       "      <td>5.950</td>\n",
       "      <td>82.0</td>\n",
       "      <td>3.9900</td>\n",
       "      <td>4.0</td>\n",
       "      <td>307</td>\n",
       "      <td>21.0</td>\n",
       "      <td>232.60</td>\n",
       "      <td>27.71</td>\n",
       "      <td>13.2</td>\n",
       "      <td>1</td>\n",
       "      <td>0</td>\n",
       "    </tr>\n",
       "    <tr>\n",
       "      <th>2</th>\n",
       "      <td>82.5</td>\n",
       "      <td>2.03</td>\n",
       "      <td>0</td>\n",
       "      <td>0.415</td>\n",
       "      <td>6.162</td>\n",
       "      <td>38.4</td>\n",
       "      <td>6.2700</td>\n",
       "      <td>2.0</td>\n",
       "      <td>348</td>\n",
       "      <td>14.7</td>\n",
       "      <td>393.77</td>\n",
       "      <td>7.43</td>\n",
       "      <td>24.1</td>\n",
       "      <td>0</td>\n",
       "      <td>1</td>\n",
       "    </tr>\n",
       "    <tr>\n",
       "      <th>3</th>\n",
       "      <td>0.0</td>\n",
       "      <td>21.89</td>\n",
       "      <td>0</td>\n",
       "      <td>0.624</td>\n",
       "      <td>6.151</td>\n",
       "      <td>97.9</td>\n",
       "      <td>1.6687</td>\n",
       "      <td>4.0</td>\n",
       "      <td>437</td>\n",
       "      <td>21.2</td>\n",
       "      <td>396.90</td>\n",
       "      <td>18.46</td>\n",
       "      <td>17.8</td>\n",
       "      <td>1</td>\n",
       "      <td>0</td>\n",
       "    </tr>\n",
       "    <tr>\n",
       "      <th>4</th>\n",
       "      <td>0.0</td>\n",
       "      <td>18.10</td>\n",
       "      <td>0</td>\n",
       "      <td>0.614</td>\n",
       "      <td>6.980</td>\n",
       "      <td>67.6</td>\n",
       "      <td>2.5329</td>\n",
       "      <td>24.0</td>\n",
       "      <td>666</td>\n",
       "      <td>20.2</td>\n",
       "      <td>374.68</td>\n",
       "      <td>11.66</td>\n",
       "      <td>29.8</td>\n",
       "      <td>0</td>\n",
       "      <td>0</td>\n",
       "    </tr>\n",
       "  </tbody>\n",
       "</table>\n",
       "</div>"
      ],
      "text/plain": [
       "     ZN  INDUS  CHAS    NOX     RM   AGE     DIS   RAD  TAX  PTRATIO       B  \\\n",
       "0   0.0  18.10     0  0.718  3.561  87.9  1.6132  24.0  666     20.2  354.70   \n",
       "1   0.0   8.14     0  0.538  5.950  82.0  3.9900   4.0  307     21.0  232.60   \n",
       "2  82.5   2.03     0  0.415  6.162  38.4  6.2700   2.0  348     14.7  393.77   \n",
       "3   0.0  21.89     0  0.624  6.151  97.9  1.6687   4.0  437     21.2  396.90   \n",
       "4   0.0  18.10     0  0.614  6.980  67.6  2.5329  24.0  666     20.2  374.68   \n",
       "\n",
       "   LSTAT  PRICE  low  very_low  \n",
       "0   7.12   27.5    0         0  \n",
       "1  27.71   13.2    1         0  \n",
       "2   7.43   24.1    0         1  \n",
       "3  18.46   17.8    1         0  \n",
       "4  11.66   29.8    0         0  "
      ]
     },
     "execution_count": 4,
     "metadata": {},
     "output_type": "execute_result"
    }
   ],
   "source": [
    "# 8-4 「CRIME」列をダミー変数化して連結する。\n",
    "# CRIME」列は削除する\n",
    "crime = pd.get_dummies(df['CRIME'], drop_first=True)\n",
    "df2 = pd.concat([df, crime], axis=1)\n",
    "df2 = df2.drop(['CRIME'], axis=1)\n",
    "df2.head()"
   ]
  },
  {
   "cell_type": "code",
   "execution_count": 5,
   "metadata": {},
   "outputs": [],
   "source": [
    "# 8-5 「訓練データ&検証データ」と「テストデータ」に分割する\n",
    "train_val, test = train_test_split(df2, test_size=0.2, random_state=0)"
   ]
  },
  {
   "cell_type": "code",
   "execution_count": 6,
   "metadata": {},
   "outputs": [
    {
     "data": {
      "text/plain": [
       "ZN          0\n",
       "INDUS       0\n",
       "CHAS        0\n",
       "NOX         1\n",
       "RM          0\n",
       "AGE         0\n",
       "DIS         0\n",
       "RAD         0\n",
       "TAX         0\n",
       "PTRATIO     0\n",
       "B           0\n",
       "LSTAT       0\n",
       "PRICE       0\n",
       "low         0\n",
       "very_low    0\n",
       "dtype: int64"
      ]
     },
     "execution_count": 6,
     "metadata": {},
     "output_type": "execute_result"
    }
   ],
   "source": [
    "# 8-6 train_valの欠損値を確認する\n",
    "train_val.isnull().sum()"
   ]
  },
  {
   "cell_type": "code",
   "execution_count": 7,
   "metadata": {},
   "outputs": [],
   "source": [
    "# 8-7 欠損値を平均値で穴埋めする\n",
    "train_val_mean = train_val.mean()\n",
    "train_val2 = train_val.fillna(train_val_mean)"
   ]
  },
  {
   "cell_type": "code",
   "execution_count": 9,
   "metadata": {},
   "outputs": [
    {
     "data": {
      "image/png": "[encoded data removed]",
      "text/plain": [
       "<Figure size 432x288 with 1 Axes>"
      ]
     },
     "metadata": {
      "needs_background": "light"
     },
     "output_type": "display_data"
    },
    {
     "data": {
      "image/png": "[encoded data removed]",
      "text/plain": [
       "<Figure size 432x288 with 1 Axes>"
      ]
     },
     "metadata": {
      "needs_background": "light"
     },
     "output_type": "display_data"
    },
    {
     "data": {
      "image/png": "[encoded data removed]",
      "text/plain": [
       "<Figure size 432x288 with 1 Axes>"
      ]
     },
     "metadata": {
      "needs_background": "light"
     },
     "output_type": "display_data"
    },
    {
     "data": {
      "image/png": "[encoded data removed]",
      "text/plain": [
       "<Figure size 432x288 with 1 Axes>"
      ]
     },
     "metadata": {
      "needs_background": "light"
     },
     "output_type": "display_data"
    },
    {
     "data": {
      "image/png": "[encoded data removed]",
      "text/plain": [
       "<Figure size 432x288 with 1 Axes>"
      ]
     },
     "metadata": {
      "needs_background": "light"
     },
     "output_type": "display_data"
    },
    {
     "data": {
      "image/png": "[encoded data removed]",
      "text/plain": [
       "<Figure size 432x288 with 1 Axes>"
      ]
     },
     "metadata": {
      "needs_background": "light"
     },
     "output_type": "display_data"
    },
    {
     "data": {
      "image/png": "[encoded data removed]",
      "text/plain": [
       "<Figure size 432x288 with 1 Axes>"
      ]
     },
     "metadata": {
      "needs_background": "light"
     },
     "output_type": "display_data"
    },
    {
     "data": {
      "image/png": "[encoded data removed]",
      "text/plain": [
       "<Figure size 432x288 with 1 Axes>"
      ]
     },
     "metadata": {
      "needs_background": "light"
     },
     "output_type": "display_data"
    },
    {
     "data": {
      "image/png": "[encoded data removed]",
      "text/plain": [
       "<Figure size 432x288 with 1 Axes>"
      ]
     },
     "metadata": {
      "needs_background": "light"
     },
     "output_type": "display_data"
    },
    {
     "data": {
      "image/png": "[encoded data removed]",
      "text/plain": [
       "<Figure size 432x288 with 1 Axes>"
      ]
     },
     "metadata": {
      "needs_background": "light"
     },
     "output_type": "display_data"
    },
    {
     "data": {
      "image/png": "[encoded data removed]",
      "text/plain": [
       "<Figure size 432x288 with 1 Axes>"
      ]
     },
     "metadata": {
      "needs_background": "light"
     },
     "output_type": "display_data"
    },
    {
     "data": {
      "image/png": "[encoded data removed]",
      "text/plain": [
       "<Figure size 432x288 with 1 Axes>"
      ]
     },
     "metadata": {
      "needs_background": "light"
     },
     "output_type": "display_data"
    },
    {
     "data": {
      "image/png": "[encoded data removed]",
      "text/plain": [
       "<Figure size 432x288 with 1 Axes>"
      ]
     },
     "metadata": {
      "needs_background": "light"
     },
     "output_type": "display_data"
    },
    {
     "data": {
      "image/png": "[encoded data removed]",
      "text/plain": [
       "<Figure size 432x288 with 1 Axes>"
      ]
     },
     "metadata": {
      "needs_background": "light"
     },
     "output_type": "display_data"
    }
   ],
   "source": [
    "# 8-8 「各特徴量の列」と「PRICE列」の相関係数を示す散布図を描く\n",
    "colname = train_val2.columns\n",
    "for name in colname:\n",
    "    if name == 'PRICE':\n",
    "        continue\n",
    "    train_val2.plot(kind='scatter', x=name, y='PRICE')"
   ]
  },
  {
   "cell_type": "code",
   "execution_count": 11,
   "metadata": {},
   "outputs": [
    {
     "name": "stdout",
     "output_type": "stream",
     "text": [
      "Int64Index([76], dtype='int64') Int64Index([76], dtype='int64')\n"
     ]
    }
   ],
   "source": [
    "# 8−9 外れ値が存在するインデックスを確認する\n",
    "# RM\n",
    "out_line1 = train_val2[\n",
    "    (train_val2['RM'] < 6) & (train_val2['PRICE'] > 40)\n",
    "].index\n",
    "# PTRATIO\n",
    "out_line2 = train_val2[\n",
    "    (train_val2['PTRATIO'] > 18) & (train_val2['PRICE'] > 40)\n",
    "].index\n",
    "\n",
    "print(out_line1, out_line2)"
   ]
  },
  {
   "cell_type": "code",
   "execution_count": 12,
   "metadata": {},
   "outputs": [],
   "source": [
    "# 8-10 外れ値を削除する\n",
    "train_val3 = train_val2.drop([76], axis=0)"
   ]
  },
  {
   "cell_type": "code",
   "execution_count": 13,
   "metadata": {},
   "outputs": [
    {
     "data": {
      "text/html": [
       "<div>\n",
       "<style scoped>\n",
       "    .dataframe tbody tr th:only-of-type {\n",
       "        vertical-align: middle;\n",
       "    }\n",
       "\n",
       "    .dataframe tbody tr th {\n",
       "        vertical-align: top;\n",
       "    }\n",
       "\n",
       "    .dataframe thead th {\n",
       "        text-align: right;\n",
       "    }\n",
       "</style>\n",
       "<table border=\"1\" class=\"dataframe\">\n",
       "  <thead>\n",
       "    <tr style=\"text-align: right;\">\n",
       "      <th></th>\n",
       "      <th>INDUS</th>\n",
       "      <th>NOX</th>\n",
       "      <th>RM</th>\n",
       "      <th>PTRATIO</th>\n",
       "      <th>LSTAT</th>\n",
       "      <th>PRICE</th>\n",
       "    </tr>\n",
       "  </thead>\n",
       "  <tbody>\n",
       "    <tr>\n",
       "      <th>43</th>\n",
       "      <td>5.86</td>\n",
       "      <td>0.431</td>\n",
       "      <td>6.108</td>\n",
       "      <td>19.1</td>\n",
       "      <td>9.16</td>\n",
       "      <td>24.3</td>\n",
       "    </tr>\n",
       "    <tr>\n",
       "      <th>62</th>\n",
       "      <td>5.86</td>\n",
       "      <td>0.431</td>\n",
       "      <td>6.957</td>\n",
       "      <td>19.1</td>\n",
       "      <td>3.53</td>\n",
       "      <td>29.6</td>\n",
       "    </tr>\n",
       "    <tr>\n",
       "      <th>3</th>\n",
       "      <td>21.89</td>\n",
       "      <td>0.624</td>\n",
       "      <td>6.151</td>\n",
       "      <td>21.2</td>\n",
       "      <td>18.46</td>\n",
       "      <td>17.8</td>\n",
       "    </tr>\n",
       "    <tr>\n",
       "      <th>71</th>\n",
       "      <td>3.64</td>\n",
       "      <td>0.392</td>\n",
       "      <td>6.108</td>\n",
       "      <td>16.4</td>\n",
       "      <td>6.57</td>\n",
       "      <td>21.9</td>\n",
       "    </tr>\n",
       "    <tr>\n",
       "      <th>45</th>\n",
       "      <td>5.64</td>\n",
       "      <td>0.439</td>\n",
       "      <td>5.963</td>\n",
       "      <td>16.8</td>\n",
       "      <td>13.45</td>\n",
       "      <td>19.7</td>\n",
       "    </tr>\n",
       "  </tbody>\n",
       "</table>\n",
       "</div>"
      ],
      "text/plain": [
       "    INDUS    NOX     RM  PTRATIO  LSTAT  PRICE\n",
       "43   5.86  0.431  6.108     19.1   9.16   24.3\n",
       "62   5.86  0.431  6.957     19.1   3.53   29.6\n",
       "3   21.89  0.624  6.151     21.2  18.46   17.8\n",
       "71   3.64  0.392  6.108     16.4   6.57   21.9\n",
       "45   5.64  0.439  5.963     16.8  13.45   19.7"
      ]
     },
     "execution_count": 13,
     "metadata": {},
     "output_type": "execute_result"
    }
   ],
   "source": [
    "# 8-11 絞り込んだ列以外を取り除く\n",
    "col = ['INDUS', 'NOX', 'RM', 'PTRATIO', 'LSTAT', 'PRICE']\n",
    "train_val4 = train_val3[col]\n",
    "train_val4.head()"
   ]
  },
  {
   "cell_type": "code",
   "execution_count": 14,
   "metadata": {},
   "outputs": [
    {
     "data": {
      "text/html": [
       "<div>\n",
       "<style scoped>\n",
       "    .dataframe tbody tr th:only-of-type {\n",
       "        vertical-align: middle;\n",
       "    }\n",
       "\n",
       "    .dataframe tbody tr th {\n",
       "        vertical-align: top;\n",
       "    }\n",
       "\n",
       "    .dataframe thead th {\n",
       "        text-align: right;\n",
       "    }\n",
       "</style>\n",
       "<table border=\"1\" class=\"dataframe\">\n",
       "  <thead>\n",
       "    <tr style=\"text-align: right;\">\n",
       "      <th></th>\n",
       "      <th>INDUS</th>\n",
       "      <th>NOX</th>\n",
       "      <th>RM</th>\n",
       "      <th>PTRATIO</th>\n",
       "      <th>LSTAT</th>\n",
       "      <th>PRICE</th>\n",
       "    </tr>\n",
       "  </thead>\n",
       "  <tbody>\n",
       "    <tr>\n",
       "      <th>INDUS</th>\n",
       "      <td>1.000000</td>\n",
       "      <td>0.785722</td>\n",
       "      <td>-0.403129</td>\n",
       "      <td>0.249438</td>\n",
       "      <td>0.578406</td>\n",
       "      <td>-0.470889</td>\n",
       "    </tr>\n",
       "    <tr>\n",
       "      <th>NOX</th>\n",
       "      <td>0.785722</td>\n",
       "      <td>1.000000</td>\n",
       "      <td>-0.272996</td>\n",
       "      <td>0.077533</td>\n",
       "      <td>0.484295</td>\n",
       "      <td>-0.325289</td>\n",
       "    </tr>\n",
       "    <tr>\n",
       "      <th>RM</th>\n",
       "      <td>-0.403129</td>\n",
       "      <td>-0.272996</td>\n",
       "      <td>1.000000</td>\n",
       "      <td>-0.404568</td>\n",
       "      <td>-0.560454</td>\n",
       "      <td>0.753771</td>\n",
       "    </tr>\n",
       "    <tr>\n",
       "      <th>PTRATIO</th>\n",
       "      <td>0.249438</td>\n",
       "      <td>0.077533</td>\n",
       "      <td>-0.404568</td>\n",
       "      <td>1.000000</td>\n",
       "      <td>0.326563</td>\n",
       "      <td>-0.542449</td>\n",
       "    </tr>\n",
       "    <tr>\n",
       "      <th>LSTAT</th>\n",
       "      <td>0.578406</td>\n",
       "      <td>0.484295</td>\n",
       "      <td>-0.560454</td>\n",
       "      <td>0.326563</td>\n",
       "      <td>1.000000</td>\n",
       "      <td>-0.693490</td>\n",
       "    </tr>\n",
       "    <tr>\n",
       "      <th>PRICE</th>\n",
       "      <td>-0.470889</td>\n",
       "      <td>-0.325289</td>\n",
       "      <td>0.753771</td>\n",
       "      <td>-0.542449</td>\n",
       "      <td>-0.693490</td>\n",
       "      <td>1.000000</td>\n",
       "    </tr>\n",
       "  </tbody>\n",
       "</table>\n",
       "</div>"
      ],
      "text/plain": [
       "            INDUS       NOX        RM   PTRATIO     LSTAT     PRICE\n",
       "INDUS    1.000000  0.785722 -0.403129  0.249438  0.578406 -0.470889\n",
       "NOX      0.785722  1.000000 -0.272996  0.077533  0.484295 -0.325289\n",
       "RM      -0.403129 -0.272996  1.000000 -0.404568 -0.560454  0.753771\n",
       "PTRATIO  0.249438  0.077533 -0.404568  1.000000  0.326563 -0.542449\n",
       "LSTAT    0.578406  0.484295 -0.560454  0.326563  1.000000 -0.693490\n",
       "PRICE   -0.470889 -0.325289  0.753771 -0.542449 -0.693490  1.000000"
      ]
     },
     "execution_count": 14,
     "metadata": {},
     "output_type": "execute_result"
    }
   ],
   "source": [
    "# 8-12 列同士の相関係数を調べる\n",
    "train_val4.corr()"
   ]
  },
  {
   "cell_type": "code",
   "execution_count": 15,
   "metadata": {},
   "outputs": [
    {
     "data": {
      "text/plain": [
       "INDUS     -0.470889\n",
       "NOX       -0.325289\n",
       "RM         0.753771\n",
       "PTRATIO   -0.542449\n",
       "LSTAT     -0.693490\n",
       "PRICE      1.000000\n",
       "Name: PRICE, dtype: float64"
      ]
     },
     "execution_count": 15,
     "metadata": {},
     "output_type": "execute_result"
    }
   ],
   "source": [
    "# 8-13 各列と「PRICE列」との相関係数をみる\n",
    "train_cor = train_val4.corr()['PRICE']\n",
    "train_cor"
   ]
  },
  {
   "cell_type": "code",
   "execution_count": 18,
   "metadata": {},
   "outputs": [
    {
     "data": {
      "text/plain": [
       "INDUS      0.470889\n",
       "NOX        0.325289\n",
       "RM         0.753771\n",
       "PTRATIO    0.542449\n",
       "LSTAT      0.693490\n",
       "PRICE      1.000000\n",
       "Name: PRICE, dtype: float64"
      ]
     },
     "execution_count": 18,
     "metadata": {},
     "output_type": "execute_result"
    }
   ],
   "source": [
    "# 8-16 相関行列の「PRICE列」との相関係数を絶対値に変換する\n",
    "# abs(train_cor)\n",
    "abs_cor = train_cor.map(abs)\n",
    "abs_cor"
   ]
  },
  {
   "cell_type": "code",
   "execution_count": 19,
   "metadata": {},
   "outputs": [
    {
     "data": {
      "text/plain": [
       "PRICE      1.000000\n",
       "RM         0.753771\n",
       "LSTAT      0.693490\n",
       "PTRATIO    0.542449\n",
       "INDUS      0.470889\n",
       "NOX        0.325289\n",
       "Name: PRICE, dtype: float64"
      ]
     },
     "execution_count": 19,
     "metadata": {},
     "output_type": "execute_result"
    }
   ],
   "source": [
    "# 8-17 sort_values()メソッドで要素を降順に並べ替える\n",
    "abs_cor.sort_values(ascending=False)"
   ]
  },
  {
   "cell_type": "code",
   "execution_count": 23,
   "metadata": {},
   "outputs": [],
   "source": [
    "# 8-18 訓練データと検証データを分割する\n",
    "col = ['RM', 'LSTAT', 'PTRATIO']\n",
    "x = train_val4[col]\n",
    "t = train_val4[['PRICE']]\n",
    "\n",
    "x_train, x_val, y_train, y_val = train_test_split(\n",
    "    x, t, test_size=0.2, random_state=0\n",
    ")\n"
   ]
  },
  {
   "cell_type": "code",
   "execution_count": 26,
   "metadata": {},
   "outputs": [
    {
     "data": {
      "text/html": [
       "<style>#sk-container-id-3 {color: black;background-color: white;}#sk-container-id-3 pre{padding: 0;}#sk-container-id-3 div.sk-toggleable {background-color: white;}#sk-container-id-3 label.sk-toggleable__label {cursor: pointer;display: block;width: 100%;margin-bottom: 0;padding: 0.3em;box-sizing: border-box;text-align: center;}#sk-container-id-3 label.sk-toggleable__label-arrow:before {content: \"▸\";float: left;margin-right: 0.25em;color: #696969;}#sk-container-id-3 label.sk-toggleable__label-arrow:hover:before {color: black;}#sk-container-id-3 div.sk-estimator:hover label.sk-toggleable__label-arrow:before {color: black;}#sk-container-id-3 div.sk-toggleable__content {max-height: 0;max-width: 0;overflow: hidden;text-align: left;background-color: #f0f8ff;}#sk-container-id-3 div.sk-toggleable__content pre {margin: 0.2em;color: black;border-radius: 0.25em;background-color: #f0f8ff;}#sk-container-id-3 input.sk-toggleable__control:checked~div.sk-toggleable__content {max-height: 200px;max-width: 100%;overflow: auto;}#sk-container-id-3 input.sk-toggleable__control:checked~label.sk-toggleable__label-arrow:before {content: \"▾\";}#sk-container-id-3 div.sk-estimator input.sk-toggleable__control:checked~label.sk-toggleable__label {background-color: #d4ebff;}#sk-container-id-3 div.sk-label input.sk-toggleable__control:checked~label.sk-toggleable__label {background-color: #d4ebff;}#sk-container-id-3 input.sk-hidden--visually {border: 0;clip: rect(1px 1px 1px 1px);clip: rect(1px, 1px, 1px, 1px);height: 1px;margin: -1px;overflow: hidden;padding: 0;position: absolute;width: 1px;}#sk-container-id-3 div.sk-estimator {font-family: monospace;background-color: #f0f8ff;border: 1px dotted black;border-radius: 0.25em;box-sizing: border-box;margin-bottom: 0.5em;}#sk-container-id-3 div.sk-estimator:hover {background-color: #d4ebff;}#sk-container-id-3 div.sk-parallel-item::after {content: \"\";width: 100%;border-bottom: 1px solid gray;flex-grow: 1;}#sk-container-id-3 div.sk-label:hover label.sk-toggleable__label {background-color: #d4ebff;}#sk-container-id-3 div.sk-serial::before {content: \"\";position: absolute;border-left: 1px solid gray;box-sizing: border-box;top: 0;bottom: 0;left: 50%;z-index: 0;}#sk-container-id-3 div.sk-serial {display: flex;flex-direction: column;align-items: center;background-color: white;padding-right: 0.2em;padding-left: 0.2em;position: relative;}#sk-container-id-3 div.sk-item {position: relative;z-index: 1;}#sk-container-id-3 div.sk-parallel {display: flex;align-items: stretch;justify-content: center;background-color: white;position: relative;}#sk-container-id-3 div.sk-item::before, #sk-container-id-3 div.sk-parallel-item::before {content: \"\";position: absolute;border-left: 1px solid gray;box-sizing: border-box;top: 0;bottom: 0;left: 50%;z-index: -1;}#sk-container-id-3 div.sk-parallel-item {display: flex;flex-direction: column;z-index: 1;position: relative;background-color: white;}#sk-container-id-3 div.sk-parallel-item:first-child::after {align-self: flex-end;width: 50%;}#sk-container-id-3 div.sk-parallel-item:last-child::after {align-self: flex-start;width: 50%;}#sk-container-id-3 div.sk-parallel-item:only-child::after {width: 0;}#sk-container-id-3 div.sk-dashed-wrapped {border: 1px dashed gray;margin: 0 0.4em 0.5em 0.4em;box-sizing: border-box;padding-bottom: 0.4em;background-color: white;}#sk-container-id-3 div.sk-label label {font-family: monospace;font-weight: bold;display: inline-block;line-height: 1.2em;}#sk-container-id-3 div.sk-label-container {text-align: center;}#sk-container-id-3 div.sk-container {/* jupyter's `normalize.less` sets `[hidden] { display: none; }` but bootstrap.min.css set `[hidden] { display: none !important; }` so we also need the `!important` here to be able to override the default hidden behavior on the sphinx rendered scikit-learn.org. See: https://github.com/scikit-learn/scikit-learn/issues/21755 */display: inline-block !important;position: relative;}#sk-container-id-3 div.sk-text-repr-fallback {display: none;}</style><div id=\"sk-container-id-3\" class=\"sk-top-container\"><div class=\"sk-text-repr-fallback\"><pre>StandardScaler()</pre><b>In a Jupyter environment, please rerun this cell to show the HTML representation or trust the notebook. <br />On GitHub, the HTML representation is unable to render, please try loading this page with nbviewer.org.</b></div><div class=\"sk-container\" hidden><div class=\"sk-item\"><div class=\"sk-estimator sk-toggleable\"><input class=\"sk-toggleable__control sk-hidden--visually\" id=\"sk-estimator-id-3\" type=\"checkbox\" checked><label for=\"sk-estimator-id-3\" class=\"sk-toggleable__label sk-toggleable__label-arrow\">StandardScaler</label><div class=\"sk-toggleable__content\"><pre>StandardScaler()</pre></div></div></div></div></div>"
      ],
      "text/plain": [
       "StandardScaler()"
      ]
     },
     "execution_count": 26,
     "metadata": {},
     "output_type": "execute_result"
    }
   ],
   "source": [
    "# 8-19 scikit-learnのpreprocessingモジュールを使う\n",
    "# データの標準化\n",
    "\n",
    "# StandardScalerオブジェクトを生成する\n",
    "sc_model_x = StandardScaler()\n",
    "# 各列の平均値、標準偏差を調べる\n",
    "sc_model_x.fit(x_train)\n"
   ]
  },
  {
   "cell_type": "code",
   "execution_count": 27,
   "metadata": {},
   "outputs": [
    {
     "data": {
      "text/plain": [
       "array([[-0.10238334, -0.89546338, -0.97250163],\n",
       "       [-0.11741281, -0.37386886,  1.21732721],\n",
       "       [-0.92274224,  2.49984836,  0.83648742],\n",
       "       [ 1.60346221, -1.37747891, -2.59107078],\n",
       "       [-0.21134704, -0.36821472, -0.30603198],\n",
       "       [ 0.28337322, -0.54632017, -0.87729168],\n",
       "       [ 2.01927772, -1.55275729, -1.7817862 ],\n",
       "       [-0.42551707, -0.58448562,  0.36043767],\n",
       "       [-0.39420567,  0.21557535, -1.7817862 ],\n",
       "       [-0.21886178, -0.00634969,  0.02720284],\n",
       "       [-0.48438252,  0.24525959,  0.83648742],\n",
       "       [ 0.02411475,  0.04453758,  0.83648742],\n",
       "       [ 0.31092726, -1.31669689,  0.31283269],\n",
       "       [ 2.08315299, -1.28559912, -1.7817862 ],\n",
       "       [-0.98411261,  1.56550154,  0.07480782],\n",
       "       [-0.28398951,  0.07704889, -0.78208173],\n",
       "       [-0.9039554 ,  1.91040415, -1.7817862 ],\n",
       "       [ 0.23828479,  1.52450902,  0.83648742],\n",
       "       [-0.12993738, -0.28622968, -0.49645188],\n",
       "       [-0.18629791, -0.73573389,  0.55085757],\n",
       "       [-0.37917619,  0.48697412,  0.83648742],\n",
       "       [ 0.9897586 , -0.17597392,  0.83648742],\n",
       "       [ 0.02411475, -0.81489187, -0.87729168],\n",
       "       [-3.29238966, -0.81771894,  0.83648742],\n",
       "       [-1.10935824,  1.94150192,  0.83648742],\n",
       "       [-0.0460228 ,  0.03464283, -0.30603198],\n",
       "       [ 0.9609521 , -1.32517811,  0.31283269],\n",
       "       [-0.83882767,  1.64748659,  0.83648742],\n",
       "       [-0.22637651,  0.05160526, -1.54376133],\n",
       "       [ 0.43617289, -0.73149329,  0.07480782],\n",
       "       [-0.34535987,  0.76685411, -0.02040213],\n",
       "       [-0.30027144,  2.0927502 ,  1.21732721],\n",
       "       [-0.98411261,  0.05301879, -1.7817862 ],\n",
       "       [-0.13369475, -0.01624444,  0.55085757],\n",
       "       [ 3.14899334, -1.100426  , -2.59107078],\n",
       "       [-0.38794338, -0.12367312, -1.7817862 ],\n",
       "       [-0.10238334, -0.52935774,  0.31283269],\n",
       "       [ 0.5451366 , -0.8841551 , -0.21082203],\n",
       "       [ 0.33973375,  0.72727512,  0.83648742],\n",
       "       [ 2.04182193, -1.31952396, -0.21082203],\n",
       "       [-0.97409295,  2.35284069,  0.07480782],\n",
       "       [ 0.26834374,  1.04673409,  0.83648742],\n",
       "       [-0.20007493,  0.83329027, -0.25842701],\n",
       "       [ 0.46998921, -0.47988401, -0.87729168],\n",
       "       [-0.35663198, -0.20565816,  0.83648742],\n",
       "       [ 0.1405932 , -0.87426035,  0.26522772],\n",
       "       [-0.28148459,  0.13076323,  1.21732721],\n",
       "       [ 1.21895811, -0.92514762, -0.49645188],\n",
       "       [ 0.41989096,  0.7385834 ,  0.83648742],\n",
       "       [ 0.06544581, -0.30601917,  0.83648742],\n",
       "       [-0.28023214, -0.39224482,  0.36043767],\n",
       "       [-0.60587079, -0.06713171, -0.73447676],\n",
       "       [-0.20007493, -0.71029026,  1.21732721],\n",
       "       [ 0.2896355 , -0.53218481, -0.30603198],\n",
       "       [-0.42426462,  0.50393655,  1.16972224],\n",
       "       [ 1.97293683, -0.75552339, -0.30603198],\n",
       "       [-0.41674988,  1.18950116,  1.31253716],\n",
       "       [-0.56203482,  0.03464283,  0.59846254],\n",
       "       [ 0.15061285, -0.87001975,  0.83648742],\n",
       "       [-2.56972234,  1.47503528,  0.83648742],\n",
       "       [-0.95530611,  0.73999694,  0.83648742],\n",
       "       [ 0.04540651, -0.38941775,  0.31283269],\n",
       "       [ 1.24651215, -1.25450134, -0.30603198]])"
      ]
     },
     "execution_count": 27,
     "metadata": {},
     "output_type": "execute_result"
    }
   ],
   "source": [
    "# 各列のデータを標準化してsc_xに代入する\n",
    "sc_x = sc_model_x.transform(x_train)\n",
    "sc_x"
   ]
  },
  {
   "cell_type": "code",
   "execution_count": 30,
   "metadata": {},
   "outputs": [
    {
     "name": "stdout",
     "output_type": "stream",
     "text": [
      "         RM     LSTAT   PTRATIO\n",
      "0 -0.102383 -0.895463 -0.972502\n",
      "1 -0.117413 -0.373869  1.217327\n",
      "2 -0.922742  2.499848  0.836487\n",
      "3  1.603462 -1.377479 -2.591071\n",
      "4 -0.211347 -0.368215 -0.306032 \n",
      "\n"
     ]
    },
    {
     "data": {
      "text/plain": [
       "RM        -3.418782e-16\n",
       "LSTAT      1.445052e-16\n",
       "PTRATIO   -1.436241e-16\n",
       "dtype: float64"
      ]
     },
     "execution_count": 30,
     "metadata": {},
     "output_type": "execute_result"
    }
   ],
   "source": [
    "# 8-20 平均値0を確認する\n",
    "# array型をデータフレームに変換する\n",
    "tmp_df = pd.DataFrame(sc_x, columns=x_train.columns)\n",
    "print(tmp_df.head(), \"\\n\")\n",
    "\n",
    "tmp_df.mean()"
   ]
  },
  {
   "cell_type": "code",
   "execution_count": 31,
   "metadata": {},
   "outputs": [
    {
     "data": {
      "text/plain": [
       "RM         1.008032\n",
       "LSTAT      1.008032\n",
       "PTRATIO    1.008032\n",
       "dtype: float64"
      ]
     },
     "execution_count": 31,
     "metadata": {},
     "output_type": "execute_result"
    }
   ],
   "source": [
    "# 8-21 標準偏差1を確認する\n",
    "tmp_df.std()"
   ]
  },
  {
   "cell_type": "code",
   "execution_count": 34,
   "metadata": {},
   "outputs": [
    {
     "data": {
      "text/plain": [
       "array([[-0.05270192],\n",
       "       [-0.44023557],\n",
       "       [-1.82278806],\n",
       "       [ 2.2096567 ],\n",
       "       [-0.33549674],\n",
       "       [ 0.12535409],\n",
       "       [ 2.89045906],\n",
       "       [-0.14696686],\n",
       "       [-0.52402663],\n",
       "       [ 0.01014138],\n",
       "       [-0.58686992],\n",
       "       [-0.10507133],\n",
       "       [ 0.25104068],\n",
       "       [ 2.73335082],\n",
       "       [-0.32502286],\n",
       "       [-0.28312733],\n",
       "       [-0.71255651],\n",
       "       [-0.97440357],\n",
       "       [ 0.16724962],\n",
       "       [-0.20981015],\n",
       "       [-1.0162991 ],\n",
       "       [ 0.7747348 ],\n",
       "       [ 0.08345856],\n",
       "       [ 0.5338355 ],\n",
       "       [-1.2571984 ],\n",
       "       [ 0.75378703],\n",
       "       [ 0.75378703],\n",
       "       [-1.05819463],\n",
       "       [-0.36691839],\n",
       "       [ 0.20914515],\n",
       "       [-0.4821311 ],\n",
       "       [-0.96392969],\n",
       "       [-0.29360121],\n",
       "       [-0.02128027],\n",
       "       [ 2.89045906],\n",
       "       [-0.34597063],\n",
       "       [ 0.19867126],\n",
       "       [ 0.62810044],\n",
       "       [-1.34098946],\n",
       "       [ 2.24107835],\n",
       "       [ 0.13582797],\n",
       "       [-1.0791424 ],\n",
       "       [-0.60781769],\n",
       "       [ 0.25104068],\n",
       "       [-0.18886239],\n",
       "       [ 0.25104068],\n",
       "       [-0.29360121],\n",
       "       [ 0.96326468],\n",
       "       [-0.86966475],\n",
       "       [ 0.06251079],\n",
       "       [ 0.24056679],\n",
       "       [-0.55544828],\n",
       "       [-1.10009016],\n",
       "       [-0.08412356],\n",
       "       [-0.3040751 ],\n",
       "       [ 1.82212305],\n",
       "       [-0.95345581],\n",
       "       [-0.38786616],\n",
       "       [-0.17838851],\n",
       "       [-1.10009016],\n",
       "       [-0.9010864 ],\n",
       "       [-0.19933627],\n",
       "       [ 1.28795504]])"
      ]
     },
     "execution_count": 34,
     "metadata": {},
     "output_type": "execute_result"
    }
   ],
   "source": [
    "# 8-22 正解データを標準化する\n",
    "sc_model_y = StandardScaler()\n",
    "sc_model_y.fit(y_train)\n",
    "\n",
    "sc_y = sc_model_y.transform(y_train)\n",
    "sc_y"
   ]
  },
  {
   "cell_type": "markdown",
   "metadata": {},
   "source": [
    "## 8.3 モデルの作成と学習"
   ]
  },
  {
   "cell_type": "code",
   "execution_count": 36,
   "metadata": {},
   "outputs": [
    {
     "data": {
      "text/html": [
       "<style>#sk-container-id-4 {color: black;background-color: white;}#sk-container-id-4 pre{padding: 0;}#sk-container-id-4 div.sk-toggleable {background-color: white;}#sk-container-id-4 label.sk-toggleable__label {cursor: pointer;display: block;width: 100%;margin-bottom: 0;padding: 0.3em;box-sizing: border-box;text-align: center;}#sk-container-id-4 label.sk-toggleable__label-arrow:before {content: \"▸\";float: left;margin-right: 0.25em;color: #696969;}#sk-container-id-4 label.sk-toggleable__label-arrow:hover:before {color: black;}#sk-container-id-4 div.sk-estimator:hover label.sk-toggleable__label-arrow:before {color: black;}#sk-container-id-4 div.sk-toggleable__content {max-height: 0;max-width: 0;overflow: hidden;text-align: left;background-color: #f0f8ff;}#sk-container-id-4 div.sk-toggleable__content pre {margin: 0.2em;color: black;border-radius: 0.25em;background-color: #f0f8ff;}#sk-container-id-4 input.sk-toggleable__control:checked~div.sk-toggleable__content {max-height: 200px;max-width: 100%;overflow: auto;}#sk-container-id-4 input.sk-toggleable__control:checked~label.sk-toggleable__label-arrow:before {content: \"▾\";}#sk-container-id-4 div.sk-estimator input.sk-toggleable__control:checked~label.sk-toggleable__label {background-color: #d4ebff;}#sk-container-id-4 div.sk-label input.sk-toggleable__control:checked~label.sk-toggleable__label {background-color: #d4ebff;}#sk-container-id-4 input.sk-hidden--visually {border: 0;clip: rect(1px 1px 1px 1px);clip: rect(1px, 1px, 1px, 1px);height: 1px;margin: -1px;overflow: hidden;padding: 0;position: absolute;width: 1px;}#sk-container-id-4 div.sk-estimator {font-family: monospace;background-color: #f0f8ff;border: 1px dotted black;border-radius: 0.25em;box-sizing: border-box;margin-bottom: 0.5em;}#sk-container-id-4 div.sk-estimator:hover {background-color: #d4ebff;}#sk-container-id-4 div.sk-parallel-item::after {content: \"\";width: 100%;border-bottom: 1px solid gray;flex-grow: 1;}#sk-container-id-4 div.sk-label:hover label.sk-toggleable__label {background-color: #d4ebff;}#sk-container-id-4 div.sk-serial::before {content: \"\";position: absolute;border-left: 1px solid gray;box-sizing: border-box;top: 0;bottom: 0;left: 50%;z-index: 0;}#sk-container-id-4 div.sk-serial {display: flex;flex-direction: column;align-items: center;background-color: white;padding-right: 0.2em;padding-left: 0.2em;position: relative;}#sk-container-id-4 div.sk-item {position: relative;z-index: 1;}#sk-container-id-4 div.sk-parallel {display: flex;align-items: stretch;justify-content: center;background-color: white;position: relative;}#sk-container-id-4 div.sk-item::before, #sk-container-id-4 div.sk-parallel-item::before {content: \"\";position: absolute;border-left: 1px solid gray;box-sizing: border-box;top: 0;bottom: 0;left: 50%;z-index: -1;}#sk-container-id-4 div.sk-parallel-item {display: flex;flex-direction: column;z-index: 1;position: relative;background-color: white;}#sk-container-id-4 div.sk-parallel-item:first-child::after {align-self: flex-end;width: 50%;}#sk-container-id-4 div.sk-parallel-item:last-child::after {align-self: flex-start;width: 50%;}#sk-container-id-4 div.sk-parallel-item:only-child::after {width: 0;}#sk-container-id-4 div.sk-dashed-wrapped {border: 1px dashed gray;margin: 0 0.4em 0.5em 0.4em;box-sizing: border-box;padding-bottom: 0.4em;background-color: white;}#sk-container-id-4 div.sk-label label {font-family: monospace;font-weight: bold;display: inline-block;line-height: 1.2em;}#sk-container-id-4 div.sk-label-container {text-align: center;}#sk-container-id-4 div.sk-container {/* jupyter's `normalize.less` sets `[hidden] { display: none; }` but bootstrap.min.css set `[hidden] { display: none !important; }` so we also need the `!important` here to be able to override the default hidden behavior on the sphinx rendered scikit-learn.org. See: https://github.com/scikit-learn/scikit-learn/issues/21755 */display: inline-block !important;position: relative;}#sk-container-id-4 div.sk-text-repr-fallback {display: none;}</style><div id=\"sk-container-id-4\" class=\"sk-top-container\"><div class=\"sk-text-repr-fallback\"><pre>LinearRegression()</pre><b>In a Jupyter environment, please rerun this cell to show the HTML representation or trust the notebook. <br />On GitHub, the HTML representation is unable to render, please try loading this page with nbviewer.org.</b></div><div class=\"sk-container\" hidden><div class=\"sk-item\"><div class=\"sk-estimator sk-toggleable\"><input class=\"sk-toggleable__control sk-hidden--visually\" id=\"sk-estimator-id-4\" type=\"checkbox\" checked><label for=\"sk-estimator-id-4\" class=\"sk-toggleable__label sk-toggleable__label-arrow\">LinearRegression</label><div class=\"sk-toggleable__content\"><pre>LinearRegression()</pre></div></div></div></div></div>"
      ],
      "text/plain": [
       "LinearRegression()"
      ]
     },
     "execution_count": 36,
     "metadata": {},
     "output_type": "execute_result"
    }
   ],
   "source": [
    "# 8-23 標準化したデータで学習させる\n",
    "model = LinearRegression()\n",
    "model.fit(sc_x, sc_y)"
   ]
  },
  {
   "cell_type": "markdown",
   "metadata": {},
   "source": [
    "## 8.4 モデルの評価とチューニング"
   ]
  },
  {
   "cell_type": "code",
   "execution_count": 37,
   "metadata": {},
   "outputs": [
    {
     "name": "stderr",
     "output_type": "stream",
     "text": [
      "/Users/takeru/Library/CloudStorage/OneDrive-個人用/Learn/Python/Introduction_to_Machine_Learning_with_Python_Imp/ml_env/lib/python3.9/site-packages/sklearn/base.py:443: UserWarning: X has feature names, but LinearRegression was fitted without feature names\n",
      "  warnings.warn(\n"
     ]
    },
    {
     "data": {
      "text/plain": [
       "-13.085044375040098"
      ]
     },
     "execution_count": 37,
     "metadata": {},
     "output_type": "execute_result"
    }
   ],
   "source": [
    "# 8-24 score()メソッドで決定係数を求める\n",
    "model.score(x_val, y_val)"
   ]
  },
  {
   "cell_type": "code",
   "execution_count": 38,
   "metadata": {},
   "outputs": [
    {
     "data": {
      "text/plain": [
       "0.7359028880291"
      ]
     },
     "execution_count": 38,
     "metadata": {},
     "output_type": "execute_result"
    }
   ],
   "source": [
    "# 8-25 検証データを標準化する\n",
    "sc_x_val = sc_model_x.transform(x_val)\n",
    "sc_y_val = sc_model_y.transform(y_val)\n",
    "\n",
    "model.score(sc_x_val, sc_y_val)"
   ]
  },
  {
   "cell_type": "code",
   "execution_count": 39,
   "metadata": {},
   "outputs": [],
   "source": [
    "# 8-27 learn関数を定義する\n",
    "def learn(x, t):\n",
    "    x_train, x_val, y_train, y_val = train_test_split(\n",
    "        x, t, test_size=0.2, random_state=0\n",
    "    )\n",
    "    # 訓練データの標準化\n",
    "    sc_model_x = StandardScaler()\n",
    "    sc_model_y = StandardScaler()\n",
    "    sc_model_x.fit(x_train)\n",
    "    sc_model_y.fit(y_train)\n",
    "    sc_x_train = sc_model_x.transform(x_train)\n",
    "    sc_y_train = sc_model_y.transform(y_train)\n",
    "    # 検証データの標準化\n",
    "    sc_x_val = sc_model_x.transform(x_val)\n",
    "    sc_y_val = sc_model_y.transform(y_val)\n",
    "    # 学習\n",
    "    model = LinearRegression()\n",
    "    model.fit(sc_x_train, sc_y_train)\n",
    "    # 訓練データと検証データの決定係数の計算\n",
    "    train_score = model.score(sc_x_train, sc_y_train)\n",
    "    val_score = model.score(sc_x_val, sc_y_val)\n",
    "\n",
    "    return train_score, val_score"
   ]
  },
  {
   "cell_type": "code",
   "execution_count": 40,
   "metadata": {},
   "outputs": [
    {
     "name": "stdout",
     "output_type": "stream",
     "text": [
      "0.717589757251598 0.7359028880291\n"
     ]
    }
   ],
   "source": [
    "# 8-28 learn関数を実行する\n",
    "x = train_val3.loc[:, ['RM', 'LSTAT', 'PTRATIO']]\n",
    "t = train_val3[['PRICE']]\n",
    "\n",
    "s1, s2 = learn(x, t)\n",
    "print(s1, s2)"
   ]
  },
  {
   "cell_type": "code",
   "execution_count": 41,
   "metadata": {},
   "outputs": [
    {
     "name": "stdout",
     "output_type": "stream",
     "text": [
      "0.7190252930186809 0.7295535344941493\n"
     ]
    }
   ],
   "source": [
    "# 8-29 特徴量に「INDUS列」を追加する（2回目）\n",
    "x = train_val3.loc[:, ['RM', 'LSTAT', 'PTRATIO', 'INDUS']]\n",
    "t = train_val3[['PRICE']]\n",
    "\n",
    "s1, s2 = learn(x, t)\n",
    "print(s1, s2)"
   ]
  },
  {
   "cell_type": "code",
   "execution_count": 42,
   "metadata": {},
   "outputs": [
    {
     "data": {
      "text/html": [
       "<div>\n",
       "<style scoped>\n",
       "    .dataframe tbody tr th:only-of-type {\n",
       "        vertical-align: middle;\n",
       "    }\n",
       "\n",
       "    .dataframe tbody tr th {\n",
       "        vertical-align: top;\n",
       "    }\n",
       "\n",
       "    .dataframe thead th {\n",
       "        text-align: right;\n",
       "    }\n",
       "</style>\n",
       "<table border=\"1\" class=\"dataframe\">\n",
       "  <thead>\n",
       "    <tr style=\"text-align: right;\">\n",
       "      <th></th>\n",
       "      <th>RM</th>\n",
       "      <th>LSTAT</th>\n",
       "      <th>PTRATIO</th>\n",
       "      <th>RM2</th>\n",
       "    </tr>\n",
       "  </thead>\n",
       "  <tbody>\n",
       "    <tr>\n",
       "      <th>43</th>\n",
       "      <td>6.108</td>\n",
       "      <td>9.16</td>\n",
       "      <td>19.1</td>\n",
       "      <td>37.307664</td>\n",
       "    </tr>\n",
       "    <tr>\n",
       "      <th>62</th>\n",
       "      <td>6.957</td>\n",
       "      <td>3.53</td>\n",
       "      <td>19.1</td>\n",
       "      <td>48.399849</td>\n",
       "    </tr>\n",
       "    <tr>\n",
       "      <th>3</th>\n",
       "      <td>6.151</td>\n",
       "      <td>18.46</td>\n",
       "      <td>21.2</td>\n",
       "      <td>37.834801</td>\n",
       "    </tr>\n",
       "    <tr>\n",
       "      <th>71</th>\n",
       "      <td>6.108</td>\n",
       "      <td>6.57</td>\n",
       "      <td>16.4</td>\n",
       "      <td>37.307664</td>\n",
       "    </tr>\n",
       "    <tr>\n",
       "      <th>45</th>\n",
       "      <td>5.963</td>\n",
       "      <td>13.45</td>\n",
       "      <td>16.8</td>\n",
       "      <td>35.557369</td>\n",
       "    </tr>\n",
       "  </tbody>\n",
       "</table>\n",
       "</div>"
      ],
      "text/plain": [
       "       RM  LSTAT  PTRATIO        RM2\n",
       "43  6.108   9.16     19.1  37.307664\n",
       "62  6.957   3.53     19.1  48.399849\n",
       "3   6.151  18.46     21.2  37.834801\n",
       "71  6.108   6.57     16.4  37.307664\n",
       "45  5.963  13.45     16.8  35.557369"
      ]
     },
     "execution_count": 42,
     "metadata": {},
     "output_type": "execute_result"
    }
   ],
   "source": [
    "# 8-31 新しい列を特徴量として追加する\n",
    "x['RM2'] = x['RM'] ** 2\n",
    "\n",
    "# 「INDUS列」を削除する\n",
    "x = x.drop('INDUS', axis=1)\n",
    "x.head()"
   ]
  },
  {
   "cell_type": "code",
   "execution_count": 43,
   "metadata": {},
   "outputs": [
    {
     "name": "stdout",
     "output_type": "stream",
     "text": [
      "0.8456207631185567 0.8372526287986777\n"
     ]
    }
   ],
   "source": [
    "# 8-33 新しい特徴量を含めて再学習する（3回目）\n",
    "s1, s2 = learn(x, t)\n",
    "print(s1, s2)"
   ]
  },
  {
   "cell_type": "code",
   "execution_count": 45,
   "metadata": {},
   "outputs": [
    {
     "name": "stdout",
     "output_type": "stream",
     "text": [
      "0.8565689444345094 0.8425282632102127\n",
      "0.864383498898444 0.8678022326740729\n"
     ]
    }
   ],
   "source": [
    "# 8−34 「LSTAT列」と「PTRATIO列」で新しい列を特徴量に追加する(4,5回目)\n",
    "x['LSTAT2'] = x['LSTAT'] ** 2\n",
    "s1, s2 = learn(x, t)\n",
    "print(s1, s2)\n",
    "\n",
    "x['PTRATIO2'] = x['PTRATIO'] ** 2\n",
    "s1, s2 = learn(x, t)\n",
    "print(s1, s2)"
   ]
  },
  {
   "cell_type": "code",
   "execution_count": 47,
   "metadata": {},
   "outputs": [
    {
     "data": {
      "text/html": [
       "<div>\n",
       "<style scoped>\n",
       "    .dataframe tbody tr th:only-of-type {\n",
       "        vertical-align: middle;\n",
       "    }\n",
       "\n",
       "    .dataframe tbody tr th {\n",
       "        vertical-align: top;\n",
       "    }\n",
       "\n",
       "    .dataframe thead th {\n",
       "        text-align: right;\n",
       "    }\n",
       "</style>\n",
       "<table border=\"1\" class=\"dataframe\">\n",
       "  <thead>\n",
       "    <tr style=\"text-align: right;\">\n",
       "      <th></th>\n",
       "      <th>RM</th>\n",
       "      <th>LSTAT</th>\n",
       "      <th>PTRATIO</th>\n",
       "      <th>RM2</th>\n",
       "      <th>LSTAT2</th>\n",
       "      <th>PTRATIO2</th>\n",
       "      <th>RM*LSTAT</th>\n",
       "    </tr>\n",
       "  </thead>\n",
       "  <tbody>\n",
       "    <tr>\n",
       "      <th>43</th>\n",
       "      <td>6.108</td>\n",
       "      <td>9.16</td>\n",
       "      <td>19.1</td>\n",
       "      <td>37.307664</td>\n",
       "      <td>83.9056</td>\n",
       "      <td>364.81</td>\n",
       "      <td>55.94928</td>\n",
       "    </tr>\n",
       "    <tr>\n",
       "      <th>62</th>\n",
       "      <td>6.957</td>\n",
       "      <td>3.53</td>\n",
       "      <td>19.1</td>\n",
       "      <td>48.399849</td>\n",
       "      <td>12.4609</td>\n",
       "      <td>364.81</td>\n",
       "      <td>24.55821</td>\n",
       "    </tr>\n",
       "    <tr>\n",
       "      <th>3</th>\n",
       "      <td>6.151</td>\n",
       "      <td>18.46</td>\n",
       "      <td>21.2</td>\n",
       "      <td>37.834801</td>\n",
       "      <td>340.7716</td>\n",
       "      <td>449.44</td>\n",
       "      <td>113.54746</td>\n",
       "    </tr>\n",
       "    <tr>\n",
       "      <th>71</th>\n",
       "      <td>6.108</td>\n",
       "      <td>6.57</td>\n",
       "      <td>16.4</td>\n",
       "      <td>37.307664</td>\n",
       "      <td>43.1649</td>\n",
       "      <td>268.96</td>\n",
       "      <td>40.12956</td>\n",
       "    </tr>\n",
       "    <tr>\n",
       "      <th>45</th>\n",
       "      <td>5.963</td>\n",
       "      <td>13.45</td>\n",
       "      <td>16.8</td>\n",
       "      <td>35.557369</td>\n",
       "      <td>180.9025</td>\n",
       "      <td>282.24</td>\n",
       "      <td>80.20235</td>\n",
       "    </tr>\n",
       "  </tbody>\n",
       "</table>\n",
       "</div>"
      ],
      "text/plain": [
       "       RM  LSTAT  PTRATIO        RM2    LSTAT2  PTRATIO2   RM*LSTAT\n",
       "43  6.108   9.16     19.1  37.307664   83.9056    364.81   55.94928\n",
       "62  6.957   3.53     19.1  48.399849   12.4609    364.81   24.55821\n",
       "3   6.151  18.46     21.2  37.834801  340.7716    449.44  113.54746\n",
       "71  6.108   6.57     16.4  37.307664   43.1649    268.96   40.12956\n",
       "45  5.963  13.45     16.8  35.557369  180.9025    282.24   80.20235"
      ]
     },
     "execution_count": 47,
     "metadata": {},
     "output_type": "execute_result"
    }
   ],
   "source": [
    "# 8-36 交互作用特徴量を追加する\n",
    "x['RM*LSTAT'] = x['RM'] * x['LSTAT']\n",
    "x.head()"
   ]
  },
  {
   "cell_type": "code",
   "execution_count": 48,
   "metadata": {},
   "outputs": [
    {
     "name": "stdout",
     "output_type": "stream",
     "text": [
      "0.8668534967796697 0.8739347357775971\n"
     ]
    }
   ],
   "source": [
    "# 8-37 追加した特徴量を含めて再学習を行う（6回目）\n",
    "s1, s2 = learn(x, t)\n",
    "print(s1, s2)"
   ]
  },
  {
   "cell_type": "code",
   "execution_count": 49,
   "metadata": {},
   "outputs": [
    {
     "data": {
      "text/html": [
       "<style>#sk-container-id-5 {color: black;background-color: white;}#sk-container-id-5 pre{padding: 0;}#sk-container-id-5 div.sk-toggleable {background-color: white;}#sk-container-id-5 label.sk-toggleable__label {cursor: pointer;display: block;width: 100%;margin-bottom: 0;padding: 0.3em;box-sizing: border-box;text-align: center;}#sk-container-id-5 label.sk-toggleable__label-arrow:before {content: \"▸\";float: left;margin-right: 0.25em;color: #696969;}#sk-container-id-5 label.sk-toggleable__label-arrow:hover:before {color: black;}#sk-container-id-5 div.sk-estimator:hover label.sk-toggleable__label-arrow:before {color: black;}#sk-container-id-5 div.sk-toggleable__content {max-height: 0;max-width: 0;overflow: hidden;text-align: left;background-color: #f0f8ff;}#sk-container-id-5 div.sk-toggleable__content pre {margin: 0.2em;color: black;border-radius: 0.25em;background-color: #f0f8ff;}#sk-container-id-5 input.sk-toggleable__control:checked~div.sk-toggleable__content {max-height: 200px;max-width: 100%;overflow: auto;}#sk-container-id-5 input.sk-toggleable__control:checked~label.sk-toggleable__label-arrow:before {content: \"▾\";}#sk-container-id-5 div.sk-estimator input.sk-toggleable__control:checked~label.sk-toggleable__label {background-color: #d4ebff;}#sk-container-id-5 div.sk-label input.sk-toggleable__control:checked~label.sk-toggleable__label {background-color: #d4ebff;}#sk-container-id-5 input.sk-hidden--visually {border: 0;clip: rect(1px 1px 1px 1px);clip: rect(1px, 1px, 1px, 1px);height: 1px;margin: -1px;overflow: hidden;padding: 0;position: absolute;width: 1px;}#sk-container-id-5 div.sk-estimator {font-family: monospace;background-color: #f0f8ff;border: 1px dotted black;border-radius: 0.25em;box-sizing: border-box;margin-bottom: 0.5em;}#sk-container-id-5 div.sk-estimator:hover {background-color: #d4ebff;}#sk-container-id-5 div.sk-parallel-item::after {content: \"\";width: 100%;border-bottom: 1px solid gray;flex-grow: 1;}#sk-container-id-5 div.sk-label:hover label.sk-toggleable__label {background-color: #d4ebff;}#sk-container-id-5 div.sk-serial::before {content: \"\";position: absolute;border-left: 1px solid gray;box-sizing: border-box;top: 0;bottom: 0;left: 50%;z-index: 0;}#sk-container-id-5 div.sk-serial {display: flex;flex-direction: column;align-items: center;background-color: white;padding-right: 0.2em;padding-left: 0.2em;position: relative;}#sk-container-id-5 div.sk-item {position: relative;z-index: 1;}#sk-container-id-5 div.sk-parallel {display: flex;align-items: stretch;justify-content: center;background-color: white;position: relative;}#sk-container-id-5 div.sk-item::before, #sk-container-id-5 div.sk-parallel-item::before {content: \"\";position: absolute;border-left: 1px solid gray;box-sizing: border-box;top: 0;bottom: 0;left: 50%;z-index: -1;}#sk-container-id-5 div.sk-parallel-item {display: flex;flex-direction: column;z-index: 1;position: relative;background-color: white;}#sk-container-id-5 div.sk-parallel-item:first-child::after {align-self: flex-end;width: 50%;}#sk-container-id-5 div.sk-parallel-item:last-child::after {align-self: flex-start;width: 50%;}#sk-container-id-5 div.sk-parallel-item:only-child::after {width: 0;}#sk-container-id-5 div.sk-dashed-wrapped {border: 1px dashed gray;margin: 0 0.4em 0.5em 0.4em;box-sizing: border-box;padding-bottom: 0.4em;background-color: white;}#sk-container-id-5 div.sk-label label {font-family: monospace;font-weight: bold;display: inline-block;line-height: 1.2em;}#sk-container-id-5 div.sk-label-container {text-align: center;}#sk-container-id-5 div.sk-container {/* jupyter's `normalize.less` sets `[hidden] { display: none; }` but bootstrap.min.css set `[hidden] { display: none !important; }` so we also need the `!important` here to be able to override the default hidden behavior on the sphinx rendered scikit-learn.org. See: https://github.com/scikit-learn/scikit-learn/issues/21755 */display: inline-block !important;position: relative;}#sk-container-id-5 div.sk-text-repr-fallback {display: none;}</style><div id=\"sk-container-id-5\" class=\"sk-top-container\"><div class=\"sk-text-repr-fallback\"><pre>LinearRegression()</pre><b>In a Jupyter environment, please rerun this cell to show the HTML representation or trust the notebook. <br />On GitHub, the HTML representation is unable to render, please try loading this page with nbviewer.org.</b></div><div class=\"sk-container\" hidden><div class=\"sk-item\"><div class=\"sk-estimator sk-toggleable\"><input class=\"sk-toggleable__control sk-hidden--visually\" id=\"sk-estimator-id-5\" type=\"checkbox\" checked><label for=\"sk-estimator-id-5\" class=\"sk-toggleable__label sk-toggleable__label-arrow\">LinearRegression</label><div class=\"sk-toggleable__content\"><pre>LinearRegression()</pre></div></div></div></div></div>"
      ],
      "text/plain": [
       "LinearRegression()"
      ]
     },
     "execution_count": 49,
     "metadata": {},
     "output_type": "execute_result"
    }
   ],
   "source": [
    "# 8-38 データの標準化後に再学習を行う（7回目）\n",
    "\n",
    "# 訓練データと検証データを合わせて再学習するので、\n",
    "# 再度、標準化する\n",
    "sc_model_x2 = StandardScaler()\n",
    "sc_model_y2 = StandardScaler()\n",
    "sc_model_x2.fit(x)\n",
    "sc_model_y2.fit(t)\n",
    "sc_x = sc_model_x2.transform(x)\n",
    "sc_y = sc_model_y2.transform(t)\n",
    "\n",
    "model = LinearRegression()\n",
    "model.fit(sc_x, sc_y)"
   ]
  },
  {
   "cell_type": "code",
   "execution_count": 51,
   "metadata": {},
   "outputs": [],
   "source": [
    "# 8-39 テストデータの前処理\n",
    "test2 = test.fillna(test.mean())\n",
    "x_test = test2.loc[:, ['RM', 'LSTAT', 'PTRATIO']]\n",
    "y_test = test2[['PRICE']]\n",
    "\n",
    "x_test['RM2'] = x_test['RM'] ** 2\n",
    "x_test['LSTAT2'] = x_test['LSTAT'] ** 2\n",
    "x_test['PTRATIO2'] = x_test['PTRATIO'] ** 2\n",
    "x_test['RM*LSTAT'] = x_test['RM'] * x_test['LSTAT']\n",
    "\n",
    "sc_x_test = sc_model_x2.transform(x_test)\n",
    "sc_y_test = sc_model_y2.transform(y_test)"
   ]
  },
  {
   "cell_type": "code",
   "execution_count": 52,
   "metadata": {},
   "outputs": [
    {
     "data": {
      "text/plain": [
       "0.7649249353669053"
      ]
     },
     "execution_count": 52,
     "metadata": {},
     "output_type": "execute_result"
    }
   ],
   "source": [
    "# 8-40 テストデータで決定係数を計算する\n",
    "model.score(sc_x_test, sc_y_test)"
   ]
  },
  {
   "cell_type": "code",
   "execution_count": 55,
   "metadata": {},
   "outputs": [],
   "source": [
    "# 8-41 モデルを保存する\n",
    "with open('../models/boston/boston.pkl', 'wb') as f:\n",
    "    pickle.dump(model, f)\n",
    "with open('../models/boston/boston_scx.pkl', 'wb') as f:\n",
    "    pickle.dump(sc_model_x2, f)\n",
    "with open('../models/boston/boston_scy.pkl', 'wb') as f:\n",
    "    pickle.dump(sc_model_y2, f)"
   ]
  }
 ],
 "metadata": {
  "interpreter": {
   "hash": "59dafaf31f4c906cca062281d81c99e041861ac1b3181d0964a0a41f42326fb1"
  },
  "kernelspec": {
   "display_name": "Python 3.9.13 ('ml_env': venv)",
   "language": "python",
   "name": "python3"
  },
  "language_info": {
   "codemirror_mode": {
    "name": "ipython",
    "version": 3
   },
   "file_extension": ".py",
   "mimetype": "text/x-python",
   "name": "python",
   "nbconvert_exporter": "python",
   "pygments_lexer": "ipython3",
   "version": "3.9.13"
  },
  "orig_nbformat": 4
 },
 "nbformat": 4,
 "nbformat_minor": 2
}
