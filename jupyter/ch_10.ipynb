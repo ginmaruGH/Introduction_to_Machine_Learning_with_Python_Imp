{
 "cells": [
  {
   "cell_type": "markdown",
   "metadata": {},
   "source": [
    "# Chap.10 より実践的な前処理"
   ]
  },
  {
   "cell_type": "code",
   "execution_count": 9,
   "metadata": {},
   "outputs": [],
   "source": [
    "# ライブラリの準備 \n",
    "import pandas as pd\n",
    "%matplotlib inline"
   ]
  },
  {
   "cell_type": "markdown",
   "metadata": {},
   "source": [
    "## 10.1 さまざまなデータの読み込み"
   ]
  },
  {
   "cell_type": "markdown",
   "metadata": {},
   "source": [
    "### 10.1.1 表データの区切り文字"
   ]
  },
  {
   "cell_type": "code",
   "execution_count": 10,
   "metadata": {},
   "outputs": [
    {
     "name": "stdout",
     "output_type": "stream",
     "text": [
      "  dteday\\tholiday\\tweekday\\tworkingday\\tweather_id\\tcnt\n",
      "0                        2011-01-01\\t0\\t6\\t0\\t2\\t985   \n",
      "1                        2011-01-02\\t0\\t0\\t0\\t2\\t801   \n",
      "2                       2011-01-03\\t0\\t1\\t1\\t1\\t1349   \n"
     ]
    },
    {
     "data": {
      "text/plain": [
       "(731, 1)"
      ]
     },
     "execution_count": 10,
     "metadata": {},
     "output_type": "execute_result"
    }
   ],
   "source": [
    "# 10-1 bike.tsvを読み込む\n",
    "df = pd.read_csv('../support/datafiles/bike.tsv')\n",
    "print(df.head(3))\n",
    "df.shape"
   ]
  },
  {
   "cell_type": "code",
   "execution_count": 11,
   "metadata": {},
   "outputs": [
    {
     "name": "stdout",
     "output_type": "stream",
     "text": [
      "       dteday  holiday  weekday  workingday  weather_id   cnt\n",
      "0  2011-01-01        0        6           0           2   985\n",
      "1  2011-01-02        0        0           0           2   801\n",
      "2  2011-01-03        0        1           1           1  1349\n"
     ]
    }
   ],
   "source": [
    "# 10-2 read_cvs()関数にパラメータ引数を追加する\n",
    "df = pd.read_csv('../support/datafiles/bike.tsv', sep='\\t')\n",
    "print(df.head(3))"
   ]
  },
  {
   "cell_type": "markdown",
   "metadata": {},
   "source": [
    "### 10.1.2 文字コードの指定"
   ]
  },
  {
   "cell_type": "code",
   "execution_count": 12,
   "metadata": {},
   "outputs": [],
   "source": [
    "# 10-3 weather.csvを読み込む\n",
    "# 文字コードが「UTF-8」ではないのでエラーになる\n",
    "\n",
    "# df2 = pd.read_csv('../support/datafiles/weather.csv')\n",
    "# df2.head(3)"
   ]
  },
  {
   "cell_type": "code",
   "execution_count": 13,
   "metadata": {},
   "outputs": [
    {
     "data": {
      "text/html": [
       "<div>\n",
       "<style scoped>\n",
       "    .dataframe tbody tr th:only-of-type {\n",
       "        vertical-align: middle;\n",
       "    }\n",
       "\n",
       "    .dataframe tbody tr th {\n",
       "        vertical-align: top;\n",
       "    }\n",
       "\n",
       "    .dataframe thead th {\n",
       "        text-align: right;\n",
       "    }\n",
       "</style>\n",
       "<table border=\"1\" class=\"dataframe\">\n",
       "  <thead>\n",
       "    <tr style=\"text-align: right;\">\n",
       "      <th></th>\n",
       "      <th>weather_id</th>\n",
       "      <th>weather</th>\n",
       "    </tr>\n",
       "  </thead>\n",
       "  <tbody>\n",
       "    <tr>\n",
       "      <th>0</th>\n",
       "      <td>1</td>\n",
       "      <td>晴れ</td>\n",
       "    </tr>\n",
       "    <tr>\n",
       "      <th>1</th>\n",
       "      <td>2</td>\n",
       "      <td>曇り</td>\n",
       "    </tr>\n",
       "    <tr>\n",
       "      <th>2</th>\n",
       "      <td>3</td>\n",
       "      <td>雨</td>\n",
       "    </tr>\n",
       "  </tbody>\n",
       "</table>\n",
       "</div>"
      ],
      "text/plain": [
       "   weather_id weather\n",
       "0           1      晴れ\n",
       "1           2      曇り\n",
       "2           3       雨"
      ]
     },
     "execution_count": 13,
     "metadata": {},
     "output_type": "execute_result"
    }
   ],
   "source": [
    "# 10-4 文字コードを指定して読み込む\n",
    "weather = pd.read_csv('../support/datafiles/weather.csv', encoding='shift-jis')\n",
    "weather"
   ]
  },
  {
   "cell_type": "markdown",
   "metadata": {},
   "source": [
    "### 10.1.3 JSONファイルの読み込み"
   ]
  },
  {
   "cell_type": "code",
   "execution_count": 14,
   "metadata": {},
   "outputs": [
    {
     "data": {
      "text/html": [
       "<div>\n",
       "<style scoped>\n",
       "    .dataframe tbody tr th:only-of-type {\n",
       "        vertical-align: middle;\n",
       "    }\n",
       "\n",
       "    .dataframe tbody tr th {\n",
       "        vertical-align: top;\n",
       "    }\n",
       "\n",
       "    .dataframe thead th {\n",
       "        text-align: right;\n",
       "    }\n",
       "</style>\n",
       "<table border=\"1\" class=\"dataframe\">\n",
       "  <thead>\n",
       "    <tr style=\"text-align: right;\">\n",
       "      <th></th>\n",
       "      <th>0</th>\n",
       "      <th>1</th>\n",
       "      <th>2</th>\n",
       "      <th>3</th>\n",
       "      <th>4</th>\n",
       "      <th>5</th>\n",
       "      <th>6</th>\n",
       "      <th>7</th>\n",
       "      <th>8</th>\n",
       "      <th>9</th>\n",
       "      <th>...</th>\n",
       "      <th>720</th>\n",
       "      <th>721</th>\n",
       "      <th>722</th>\n",
       "      <th>723</th>\n",
       "      <th>724</th>\n",
       "      <th>725</th>\n",
       "      <th>726</th>\n",
       "      <th>727</th>\n",
       "      <th>728</th>\n",
       "      <th>729</th>\n",
       "    </tr>\n",
       "  </thead>\n",
       "  <tbody>\n",
       "    <tr>\n",
       "      <th>atemp</th>\n",
       "      <td>0.363625</td>\n",
       "      <td>0.353739</td>\n",
       "      <td>0.189405</td>\n",
       "      <td>0.212122</td>\n",
       "      <td>0.22927</td>\n",
       "      <td>0.233209</td>\n",
       "      <td>0.208839</td>\n",
       "      <td>0.162254</td>\n",
       "      <td>0.116175</td>\n",
       "      <td>0.150888</td>\n",
       "      <td>...</td>\n",
       "      <td>0.236113</td>\n",
       "      <td>0.259471</td>\n",
       "      <td>0.2589</td>\n",
       "      <td>0.294465</td>\n",
       "      <td>0.220333</td>\n",
       "      <td>0.226642</td>\n",
       "      <td>0.255046</td>\n",
       "      <td>0.2424</td>\n",
       "      <td>0.2317</td>\n",
       "      <td>0.223487</td>\n",
       "    </tr>\n",
       "    <tr>\n",
       "      <th>dteday</th>\n",
       "      <td>2011-01-01</td>\n",
       "      <td>2011-01-02</td>\n",
       "      <td>2011-01-03</td>\n",
       "      <td>2011-01-04</td>\n",
       "      <td>2011-01-05</td>\n",
       "      <td>2011-01-06</td>\n",
       "      <td>2011-01-07</td>\n",
       "      <td>2011-01-08</td>\n",
       "      <td>2011-01-09</td>\n",
       "      <td>2011-01-10</td>\n",
       "      <td>...</td>\n",
       "      <td>2012-12-22</td>\n",
       "      <td>2012-12-23</td>\n",
       "      <td>2012-12-24</td>\n",
       "      <td>2012-12-25</td>\n",
       "      <td>2012-12-26</td>\n",
       "      <td>2012-12-27</td>\n",
       "      <td>2012-12-28</td>\n",
       "      <td>2012-12-29</td>\n",
       "      <td>2012-12-30</td>\n",
       "      <td>2012-12-31</td>\n",
       "    </tr>\n",
       "    <tr>\n",
       "      <th>hum</th>\n",
       "      <td>0.805833</td>\n",
       "      <td>0.696087</td>\n",
       "      <td>0.437273</td>\n",
       "      <td>0.590435</td>\n",
       "      <td>0.436957</td>\n",
       "      <td>0.518261</td>\n",
       "      <td>0.498696</td>\n",
       "      <td>0.535833</td>\n",
       "      <td>0.434167</td>\n",
       "      <td>0.482917</td>\n",
       "      <td>...</td>\n",
       "      <td>0.44125</td>\n",
       "      <td>0.515417</td>\n",
       "      <td>0.791304</td>\n",
       "      <td>0.734783</td>\n",
       "      <td>0.823333</td>\n",
       "      <td>0.652917</td>\n",
       "      <td>0.59</td>\n",
       "      <td>0.752917</td>\n",
       "      <td>0.483333</td>\n",
       "      <td>0.5775</td>\n",
       "    </tr>\n",
       "    <tr>\n",
       "      <th>temp</th>\n",
       "      <td>0.344167</td>\n",
       "      <td>0.363478</td>\n",
       "      <td>0.196364</td>\n",
       "      <td>0.2</td>\n",
       "      <td>0.226957</td>\n",
       "      <td>0.204348</td>\n",
       "      <td>0.196522</td>\n",
       "      <td>0.165</td>\n",
       "      <td>0.138333</td>\n",
       "      <td>0.150833</td>\n",
       "      <td>...</td>\n",
       "      <td>0.265833</td>\n",
       "      <td>0.245833</td>\n",
       "      <td>0.231304</td>\n",
       "      <td>0.291304</td>\n",
       "      <td>0.243333</td>\n",
       "      <td>0.254167</td>\n",
       "      <td>0.253333</td>\n",
       "      <td>0.253333</td>\n",
       "      <td>0.255833</td>\n",
       "      <td>0.215833</td>\n",
       "    </tr>\n",
       "    <tr>\n",
       "      <th>windspeed</th>\n",
       "      <td>0.160446</td>\n",
       "      <td>0.248539</td>\n",
       "      <td>0.248309</td>\n",
       "      <td>0.160296</td>\n",
       "      <td>0.1869</td>\n",
       "      <td>0.089565</td>\n",
       "      <td>0.168726</td>\n",
       "      <td>0.266804</td>\n",
       "      <td>0.36195</td>\n",
       "      <td>0.223267</td>\n",
       "      <td>...</td>\n",
       "      <td>0.407346</td>\n",
       "      <td>0.133083</td>\n",
       "      <td>0.07723</td>\n",
       "      <td>0.168726</td>\n",
       "      <td>0.316546</td>\n",
       "      <td>0.350133</td>\n",
       "      <td>0.155471</td>\n",
       "      <td>0.124383</td>\n",
       "      <td>0.350754</td>\n",
       "      <td>0.154846</td>\n",
       "    </tr>\n",
       "  </tbody>\n",
       "</table>\n",
       "<p>5 rows × 730 columns</p>\n",
       "</div>"
      ],
      "text/plain": [
       "                  0           1           2           3           4    \\\n",
       "atemp        0.363625    0.353739    0.189405    0.212122     0.22927   \n",
       "dteday     2011-01-01  2011-01-02  2011-01-03  2011-01-04  2011-01-05   \n",
       "hum          0.805833    0.696087    0.437273    0.590435    0.436957   \n",
       "temp         0.344167    0.363478    0.196364         0.2    0.226957   \n",
       "windspeed    0.160446    0.248539    0.248309    0.160296      0.1869   \n",
       "\n",
       "                  5           6           7           8           9    ...  \\\n",
       "atemp        0.233209    0.208839    0.162254    0.116175    0.150888  ...   \n",
       "dteday     2011-01-06  2011-01-07  2011-01-08  2011-01-09  2011-01-10  ...   \n",
       "hum          0.518261    0.498696    0.535833    0.434167    0.482917  ...   \n",
       "temp         0.204348    0.196522       0.165    0.138333    0.150833  ...   \n",
       "windspeed    0.089565    0.168726    0.266804     0.36195    0.223267  ...   \n",
       "\n",
       "                  720         721         722         723         724  \\\n",
       "atemp        0.236113    0.259471      0.2589    0.294465    0.220333   \n",
       "dteday     2012-12-22  2012-12-23  2012-12-24  2012-12-25  2012-12-26   \n",
       "hum           0.44125    0.515417    0.791304    0.734783    0.823333   \n",
       "temp         0.265833    0.245833    0.231304    0.291304    0.243333   \n",
       "windspeed    0.407346    0.133083     0.07723    0.168726    0.316546   \n",
       "\n",
       "                  725         726         727         728         729  \n",
       "atemp        0.226642    0.255046      0.2424      0.2317    0.223487  \n",
       "dteday     2012-12-27  2012-12-28  2012-12-29  2012-12-30  2012-12-31  \n",
       "hum          0.652917        0.59    0.752917    0.483333      0.5775  \n",
       "temp         0.254167    0.253333    0.253333    0.255833    0.215833  \n",
       "windspeed    0.350133    0.155471    0.124383    0.350754    0.154846  \n",
       "\n",
       "[5 rows x 730 columns]"
      ]
     },
     "execution_count": 14,
     "metadata": {},
     "output_type": "execute_result"
    }
   ],
   "source": [
    "# 10-5 JSONファイルを読み込む\n",
    "temp = pd.read_json('../support/datafiles/temp.json')\n",
    "temp.head()"
   ]
  },
  {
   "cell_type": "code",
   "execution_count": 15,
   "metadata": {},
   "outputs": [
    {
     "data": {
      "text/html": [
       "<div>\n",
       "<style scoped>\n",
       "    .dataframe tbody tr th:only-of-type {\n",
       "        vertical-align: middle;\n",
       "    }\n",
       "\n",
       "    .dataframe tbody tr th {\n",
       "        vertical-align: top;\n",
       "    }\n",
       "\n",
       "    .dataframe thead th {\n",
       "        text-align: right;\n",
       "    }\n",
       "</style>\n",
       "<table border=\"1\" class=\"dataframe\">\n",
       "  <thead>\n",
       "    <tr style=\"text-align: right;\">\n",
       "      <th></th>\n",
       "      <th>atemp</th>\n",
       "      <th>dteday</th>\n",
       "      <th>hum</th>\n",
       "      <th>temp</th>\n",
       "      <th>windspeed</th>\n",
       "    </tr>\n",
       "  </thead>\n",
       "  <tbody>\n",
       "    <tr>\n",
       "      <th>0</th>\n",
       "      <td>0.363625</td>\n",
       "      <td>2011-01-01</td>\n",
       "      <td>0.805833</td>\n",
       "      <td>0.344167</td>\n",
       "      <td>0.160446</td>\n",
       "    </tr>\n",
       "    <tr>\n",
       "      <th>1</th>\n",
       "      <td>0.353739</td>\n",
       "      <td>2011-01-02</td>\n",
       "      <td>0.696087</td>\n",
       "      <td>0.363478</td>\n",
       "      <td>0.248539</td>\n",
       "    </tr>\n",
       "    <tr>\n",
       "      <th>2</th>\n",
       "      <td>0.189405</td>\n",
       "      <td>2011-01-03</td>\n",
       "      <td>0.437273</td>\n",
       "      <td>0.196364</td>\n",
       "      <td>0.248309</td>\n",
       "    </tr>\n",
       "    <tr>\n",
       "      <th>3</th>\n",
       "      <td>0.212122</td>\n",
       "      <td>2011-01-04</td>\n",
       "      <td>0.590435</td>\n",
       "      <td>0.2</td>\n",
       "      <td>0.160296</td>\n",
       "    </tr>\n",
       "    <tr>\n",
       "      <th>4</th>\n",
       "      <td>0.22927</td>\n",
       "      <td>2011-01-05</td>\n",
       "      <td>0.436957</td>\n",
       "      <td>0.226957</td>\n",
       "      <td>0.1869</td>\n",
       "    </tr>\n",
       "    <tr>\n",
       "      <th>...</th>\n",
       "      <td>...</td>\n",
       "      <td>...</td>\n",
       "      <td>...</td>\n",
       "      <td>...</td>\n",
       "      <td>...</td>\n",
       "    </tr>\n",
       "    <tr>\n",
       "      <th>725</th>\n",
       "      <td>0.226642</td>\n",
       "      <td>2012-12-27</td>\n",
       "      <td>0.652917</td>\n",
       "      <td>0.254167</td>\n",
       "      <td>0.350133</td>\n",
       "    </tr>\n",
       "    <tr>\n",
       "      <th>726</th>\n",
       "      <td>0.255046</td>\n",
       "      <td>2012-12-28</td>\n",
       "      <td>0.59</td>\n",
       "      <td>0.253333</td>\n",
       "      <td>0.155471</td>\n",
       "    </tr>\n",
       "    <tr>\n",
       "      <th>727</th>\n",
       "      <td>0.2424</td>\n",
       "      <td>2012-12-29</td>\n",
       "      <td>0.752917</td>\n",
       "      <td>0.253333</td>\n",
       "      <td>0.124383</td>\n",
       "    </tr>\n",
       "    <tr>\n",
       "      <th>728</th>\n",
       "      <td>0.2317</td>\n",
       "      <td>2012-12-30</td>\n",
       "      <td>0.483333</td>\n",
       "      <td>0.255833</td>\n",
       "      <td>0.350754</td>\n",
       "    </tr>\n",
       "    <tr>\n",
       "      <th>729</th>\n",
       "      <td>0.223487</td>\n",
       "      <td>2012-12-31</td>\n",
       "      <td>0.5775</td>\n",
       "      <td>0.215833</td>\n",
       "      <td>0.154846</td>\n",
       "    </tr>\n",
       "  </tbody>\n",
       "</table>\n",
       "<p>730 rows × 5 columns</p>\n",
       "</div>"
      ],
      "text/plain": [
       "        atemp      dteday       hum      temp windspeed\n",
       "0    0.363625  2011-01-01  0.805833  0.344167  0.160446\n",
       "1    0.353739  2011-01-02  0.696087  0.363478  0.248539\n",
       "2    0.189405  2011-01-03  0.437273  0.196364  0.248309\n",
       "3    0.212122  2011-01-04  0.590435       0.2  0.160296\n",
       "4     0.22927  2011-01-05  0.436957  0.226957    0.1869\n",
       "..        ...         ...       ...       ...       ...\n",
       "725  0.226642  2012-12-27  0.652917  0.254167  0.350133\n",
       "726  0.255046  2012-12-28      0.59  0.253333  0.155471\n",
       "727    0.2424  2012-12-29  0.752917  0.253333  0.124383\n",
       "728    0.2317  2012-12-30  0.483333  0.255833  0.350754\n",
       "729  0.223487  2012-12-31    0.5775  0.215833  0.154846\n",
       "\n",
       "[730 rows x 5 columns]"
      ]
     },
     "execution_count": 15,
     "metadata": {},
     "output_type": "execute_result"
    }
   ],
   "source": [
    "# 10-6 行と列を反転させる\n",
    "temp.T"
   ]
  },
  {
   "cell_type": "markdown",
   "metadata": {},
   "source": [
    "### 10.1.4 内部結合"
   ]
  },
  {
   "cell_type": "code",
   "execution_count": 16,
   "metadata": {},
   "outputs": [
    {
     "data": {
      "text/html": [
       "<div>\n",
       "<style scoped>\n",
       "    .dataframe tbody tr th:only-of-type {\n",
       "        vertical-align: middle;\n",
       "    }\n",
       "\n",
       "    .dataframe tbody tr th {\n",
       "        vertical-align: top;\n",
       "    }\n",
       "\n",
       "    .dataframe thead th {\n",
       "        text-align: right;\n",
       "    }\n",
       "</style>\n",
       "<table border=\"1\" class=\"dataframe\">\n",
       "  <thead>\n",
       "    <tr style=\"text-align: right;\">\n",
       "      <th></th>\n",
       "      <th>dteday</th>\n",
       "      <th>holiday</th>\n",
       "      <th>weekday</th>\n",
       "      <th>workingday</th>\n",
       "      <th>weather_id</th>\n",
       "      <th>cnt</th>\n",
       "      <th>weather</th>\n",
       "    </tr>\n",
       "  </thead>\n",
       "  <tbody>\n",
       "    <tr>\n",
       "      <th>0</th>\n",
       "      <td>2011-01-01</td>\n",
       "      <td>0</td>\n",
       "      <td>6</td>\n",
       "      <td>0</td>\n",
       "      <td>2</td>\n",
       "      <td>985</td>\n",
       "      <td>曇り</td>\n",
       "    </tr>\n",
       "    <tr>\n",
       "      <th>1</th>\n",
       "      <td>2011-01-02</td>\n",
       "      <td>0</td>\n",
       "      <td>0</td>\n",
       "      <td>0</td>\n",
       "      <td>2</td>\n",
       "      <td>801</td>\n",
       "      <td>曇り</td>\n",
       "    </tr>\n",
       "    <tr>\n",
       "      <th>2</th>\n",
       "      <td>2011-01-07</td>\n",
       "      <td>0</td>\n",
       "      <td>5</td>\n",
       "      <td>1</td>\n",
       "      <td>2</td>\n",
       "      <td>1510</td>\n",
       "      <td>曇り</td>\n",
       "    </tr>\n",
       "    <tr>\n",
       "      <th>3</th>\n",
       "      <td>2011-01-08</td>\n",
       "      <td>0</td>\n",
       "      <td>6</td>\n",
       "      <td>0</td>\n",
       "      <td>2</td>\n",
       "      <td>959</td>\n",
       "      <td>曇り</td>\n",
       "    </tr>\n",
       "    <tr>\n",
       "      <th>4</th>\n",
       "      <td>2011-01-11</td>\n",
       "      <td>0</td>\n",
       "      <td>2</td>\n",
       "      <td>1</td>\n",
       "      <td>2</td>\n",
       "      <td>1263</td>\n",
       "      <td>曇り</td>\n",
       "    </tr>\n",
       "  </tbody>\n",
       "</table>\n",
       "</div>"
      ],
      "text/plain": [
       "       dteday  holiday  weekday  workingday  weather_id   cnt weather\n",
       "0  2011-01-01        0        6           0           2   985      曇り\n",
       "1  2011-01-02        0        0           0           2   801      曇り\n",
       "2  2011-01-07        0        5           1           2  1510      曇り\n",
       "3  2011-01-08        0        6           0           2   959      曇り\n",
       "4  2011-01-11        0        2           1           2  1263      曇り"
      ]
     },
     "execution_count": 16,
     "metadata": {},
     "output_type": "execute_result"
    }
   ],
   "source": [
    "# 10-7 内部結合を行う\n",
    "df2 = df.merge(weather, how='inner', on='weather_id')\n",
    "df2.head()"
   ]
  },
  {
   "cell_type": "code",
   "execution_count": 17,
   "metadata": {},
   "outputs": [
    {
     "data": {
      "text/plain": [
       "weather\n",
       "晴れ    4876.786177\n",
       "曇り    4052.672065\n",
       "雨     1803.285714\n",
       "Name: cnt, dtype: float64"
      ]
     },
     "execution_count": 17,
     "metadata": {},
     "output_type": "execute_result"
    }
   ],
   "source": [
    "# 10-8 weatherごとのcntの平均値を集計する\n",
    "df2.groupby('weather').mean()['cnt']"
   ]
  },
  {
   "cell_type": "markdown",
   "metadata": {},
   "source": [
    "### 10.1.5 外部結合"
   ]
  },
  {
   "cell_type": "code",
   "execution_count": 18,
   "metadata": {},
   "outputs": [
    {
     "data": {
      "text/html": [
       "<div>\n",
       "<style scoped>\n",
       "    .dataframe tbody tr th:only-of-type {\n",
       "        vertical-align: middle;\n",
       "    }\n",
       "\n",
       "    .dataframe tbody tr th {\n",
       "        vertical-align: top;\n",
       "    }\n",
       "\n",
       "    .dataframe thead th {\n",
       "        text-align: right;\n",
       "    }\n",
       "</style>\n",
       "<table border=\"1\" class=\"dataframe\">\n",
       "  <thead>\n",
       "    <tr style=\"text-align: right;\">\n",
       "      <th></th>\n",
       "      <th>atemp</th>\n",
       "      <th>dteday</th>\n",
       "      <th>hum</th>\n",
       "      <th>temp</th>\n",
       "      <th>windspeed</th>\n",
       "    </tr>\n",
       "  </thead>\n",
       "  <tbody>\n",
       "    <tr>\n",
       "      <th>199</th>\n",
       "      <td>0.747479</td>\n",
       "      <td>2011-07-19</td>\n",
       "      <td>0.650417</td>\n",
       "      <td>0.776667</td>\n",
       "      <td>0.1306</td>\n",
       "    </tr>\n",
       "    <tr>\n",
       "      <th>200</th>\n",
       "      <td>0.826371</td>\n",
       "      <td>2011-07-21</td>\n",
       "      <td>0.69125</td>\n",
       "      <td>0.815</td>\n",
       "      <td>0.222021</td>\n",
       "    </tr>\n",
       "    <tr>\n",
       "      <th>201</th>\n",
       "      <td>None</td>\n",
       "      <td>2011-07-22</td>\n",
       "      <td>0.580417</td>\n",
       "      <td>0.848333</td>\n",
       "      <td>0.1331</td>\n",
       "    </tr>\n",
       "  </tbody>\n",
       "</table>\n",
       "</div>"
      ],
      "text/plain": [
       "        atemp      dteday       hum      temp windspeed\n",
       "199  0.747479  2011-07-19  0.650417  0.776667    0.1306\n",
       "200  0.826371  2011-07-21   0.69125     0.815  0.222021\n",
       "201      None  2011-07-22  0.580417  0.848333    0.1331"
      ]
     },
     "execution_count": 18,
     "metadata": {},
     "output_type": "execute_result"
    }
   ],
   "source": [
    "# 10-9 tempデータフレームの200行目付近を表示する\n",
    "temp = temp.T\n",
    "temp.loc[199:201]"
   ]
  },
  {
   "cell_type": "code",
   "execution_count": 19,
   "metadata": {},
   "outputs": [
    {
     "data": {
      "text/html": [
       "<div>\n",
       "<style scoped>\n",
       "    .dataframe tbody tr th:only-of-type {\n",
       "        vertical-align: middle;\n",
       "    }\n",
       "\n",
       "    .dataframe tbody tr th {\n",
       "        vertical-align: top;\n",
       "    }\n",
       "\n",
       "    .dataframe thead th {\n",
       "        text-align: right;\n",
       "    }\n",
       "</style>\n",
       "<table border=\"1\" class=\"dataframe\">\n",
       "  <thead>\n",
       "    <tr style=\"text-align: right;\">\n",
       "      <th></th>\n",
       "      <th>dteday</th>\n",
       "      <th>holiday</th>\n",
       "      <th>weekday</th>\n",
       "      <th>workingday</th>\n",
       "      <th>weather_id</th>\n",
       "      <th>cnt</th>\n",
       "      <th>weather</th>\n",
       "    </tr>\n",
       "  </thead>\n",
       "  <tbody>\n",
       "    <tr>\n",
       "      <th>370</th>\n",
       "      <td>2011-07-20</td>\n",
       "      <td>0</td>\n",
       "      <td>3</td>\n",
       "      <td>1</td>\n",
       "      <td>1</td>\n",
       "      <td>4332</td>\n",
       "      <td>晴れ</td>\n",
       "    </tr>\n",
       "  </tbody>\n",
       "</table>\n",
       "</div>"
      ],
      "text/plain": [
       "         dteday  holiday  weekday  workingday  weather_id   cnt weather\n",
       "370  2011-07-20        0        3           1           1  4332      晴れ"
      ]
     },
     "execution_count": 19,
     "metadata": {},
     "output_type": "execute_result"
    }
   ],
   "source": [
    "# 10-10 df2データフレームの「2011-07-20」を表示する\n",
    "df2[df2['dteday'] == '2011-07-20']"
   ]
  },
  {
   "cell_type": "code",
   "execution_count": 20,
   "metadata": {},
   "outputs": [
    {
     "data": {
      "text/html": [
       "<div>\n",
       "<style scoped>\n",
       "    .dataframe tbody tr th:only-of-type {\n",
       "        vertical-align: middle;\n",
       "    }\n",
       "\n",
       "    .dataframe tbody tr th {\n",
       "        vertical-align: top;\n",
       "    }\n",
       "\n",
       "    .dataframe thead th {\n",
       "        text-align: right;\n",
       "    }\n",
       "</style>\n",
       "<table border=\"1\" class=\"dataframe\">\n",
       "  <thead>\n",
       "    <tr style=\"text-align: right;\">\n",
       "      <th></th>\n",
       "      <th>dteday</th>\n",
       "      <th>holiday</th>\n",
       "      <th>weekday</th>\n",
       "      <th>workingday</th>\n",
       "      <th>weather_id</th>\n",
       "      <th>cnt</th>\n",
       "      <th>weather</th>\n",
       "      <th>atemp</th>\n",
       "      <th>hum</th>\n",
       "      <th>temp</th>\n",
       "      <th>windspeed</th>\n",
       "    </tr>\n",
       "  </thead>\n",
       "  <tbody>\n",
       "    <tr>\n",
       "      <th>370</th>\n",
       "      <td>2011-07-20</td>\n",
       "      <td>0</td>\n",
       "      <td>3</td>\n",
       "      <td>1</td>\n",
       "      <td>1</td>\n",
       "      <td>4332</td>\n",
       "      <td>晴れ</td>\n",
       "      <td>NaN</td>\n",
       "      <td>NaN</td>\n",
       "      <td>NaN</td>\n",
       "      <td>NaN</td>\n",
       "    </tr>\n",
       "  </tbody>\n",
       "</table>\n",
       "</div>"
      ],
      "text/plain": [
       "         dteday  holiday  weekday  workingday  weather_id   cnt weather atemp  \\\n",
       "370  2011-07-20        0        3           1           1  4332      晴れ   NaN   \n",
       "\n",
       "     hum temp windspeed  \n",
       "370  NaN  NaN       NaN  "
      ]
     },
     "execution_count": 20,
     "metadata": {},
     "output_type": "execute_result"
    }
   ],
   "source": [
    "# 10-11 merge()関数で左外部結合を行う\n",
    "df3 = df2.merge(temp, how='left', on='dteday')\n",
    "df3[df3['dteday'] == '2011-07-20']"
   ]
  },
  {
   "cell_type": "markdown",
   "metadata": {},
   "source": [
    "## 10.2 より高度な欠損値の処理\n",
    "\n",
    "### 10.2.1 線形補間"
   ]
  },
  {
   "cell_type": "code",
   "execution_count": 21,
   "metadata": {},
   "outputs": [
    {
     "data": {
      "text/plain": [
       "<AxesSubplot:>"
      ]
     },
     "execution_count": 21,
     "metadata": {},
     "output_type": "execute_result"
    },
    {
     "data": {
      "image/png": "[encoded data removed]",
      "text/plain": [
       "<Figure size 432x288 with 1 Axes>"
      ]
     },
     "metadata": {
      "needs_background": "light"
     },
     "output_type": "display_data"
    }
   ],
   "source": [
    "# 10-12 気温に関する折れ線グラフを作成する\n",
    "df3['temp'].plot(kind='line')"
   ]
  },
  {
   "cell_type": "code",
   "execution_count": 22,
   "metadata": {},
   "outputs": [
    {
     "data": {
      "text/plain": [
       "<AxesSubplot:>"
      ]
     },
     "execution_count": 22,
     "metadata": {},
     "output_type": "execute_result"
    },
    {
     "data": {
      "image/png": "[encoded data removed]",
      "text/plain": [
       "<Figure size 432x288 with 1 Axes>"
      ]
     },
     "metadata": {
      "needs_background": "light"
     },
     "output_type": "display_data"
    }
   ],
   "source": [
    "# 10-13 「temp列」と「hum列」を折れ線グラフにして比較する\n",
    "df3[['temp', 'hum']].plot(kind='line')"
   ]
  },
  {
   "cell_type": "code",
   "execution_count": 23,
   "metadata": {},
   "outputs": [
    {
     "data": {
      "text/plain": [
       "<AxesSubplot:ylabel='Frequency'>"
      ]
     },
     "execution_count": 23,
     "metadata": {},
     "output_type": "execute_result"
    },
    {
     "data": {
      "image/png": "[encoded data removed]",
      "text/plain": [
       "<Figure size 432x288 with 1 Axes>"
      ]
     },
     "metadata": {
      "needs_background": "light"
     },
     "output_type": "display_data"
    }
   ],
   "source": [
    "# 10-14 plot()メソッドでヒストグラムを作成する\n",
    "df3['temp'].plot(kind='hist')\n",
    "df3['hum'].plot(kind='hist', alpha=0.5)"
   ]
  },
  {
   "cell_type": "code",
   "execution_count": 24,
   "metadata": {},
   "outputs": [
    {
     "data": {
      "text/plain": [
       "<AxesSubplot:>"
      ]
     },
     "execution_count": 24,
     "metadata": {},
     "output_type": "execute_result"
    },
    {
     "data": {
      "image/png": "[encoded data removed]",
      "text/plain": [
       "<Figure size 432x288 with 1 Axes>"
      ]
     },
     "metadata": {
      "needs_background": "light"
     },
     "output_type": "display_data"
    }
   ],
   "source": [
    "# 10-15 欠損値付近の折れ線グラフを作成する\n",
    "df3['atemp'].loc[220:240].plot(kind='line')"
   ]
  },
  {
   "cell_type": "code",
   "execution_count": 25,
   "metadata": {},
   "outputs": [
    {
     "data": {
      "text/plain": [
       "220      0.3611\n",
       "221    0.369942\n",
       "222    0.323846\n",
       "223    0.274621\n",
       "224    0.323225\n",
       "225    0.324492\n",
       "226    0.375621\n",
       "227    0.380667\n",
       "228    0.281558\n",
       "229        None\n",
       "230    0.359208\n",
       "231    0.321958\n",
       "232    0.389508\n",
       "233    0.390146\n",
       "234    0.435575\n",
       "235    0.338363\n",
       "236    0.297338\n",
       "237    0.369938\n",
       "238      0.4015\n",
       "239    0.335217\n",
       "240    0.301767\n",
       "Name: atemp, dtype: object"
      ]
     },
     "execution_count": 25,
     "metadata": {},
     "output_type": "execute_result"
    }
   ],
   "source": [
    "df3['atemp'].loc[220:240]"
   ]
  },
  {
   "cell_type": "code",
   "execution_count": 26,
   "metadata": {},
   "outputs": [
    {
     "name": "stdout",
     "output_type": "stream",
     "text": [
      "<class 'pandas.core.series.Series'>\n",
      "object\n"
     ]
    }
   ],
   "source": [
    "print(type(df3['atemp']))\n",
    "print(df3['atemp'].dtype)"
   ]
  },
  {
   "cell_type": "code",
   "execution_count": 27,
   "metadata": {},
   "outputs": [
    {
     "data": {
      "text/plain": [
       "<AxesSubplot:>"
      ]
     },
     "execution_count": 27,
     "metadata": {},
     "output_type": "execute_result"
    },
    {
     "data": {
      "image/png": "[encoded data removed]",
      "text/plain": [
       "<Figure size 432x288 with 1 Axes>"
      ]
     },
     "metadata": {
      "needs_background": "light"
     },
     "output_type": "display_data"
    }
   ],
   "source": [
    "# 10-16 欠損値を線形補間する\n",
    "# attemp列の方をfloatに変換する\n",
    "df3['atemp'] = df3['atemp'].astype(float)\n",
    "# 欠損値を線形補間する\n",
    "df3['atemp'] = df3['atemp'].interpolate()\n",
    "\n",
    "df3.loc[225:235, 'atemp'].plot(kind='line')"
   ]
  },
  {
   "cell_type": "markdown",
   "metadata": {},
   "source": [
    "### 10.2.2 教師あり学習による補完"
   ]
  },
  {
   "cell_type": "code",
   "execution_count": 28,
   "metadata": {},
   "outputs": [
    {
     "data": {
      "text/html": [
       "<style>#sk-container-id-1 {color: black;background-color: white;}#sk-container-id-1 pre{padding: 0;}#sk-container-id-1 div.sk-toggleable {background-color: white;}#sk-container-id-1 label.sk-toggleable__label {cursor: pointer;display: block;width: 100%;margin-bottom: 0;padding: 0.3em;box-sizing: border-box;text-align: center;}#sk-container-id-1 label.sk-toggleable__label-arrow:before {content: \"▸\";float: left;margin-right: 0.25em;color: #696969;}#sk-container-id-1 label.sk-toggleable__label-arrow:hover:before {color: black;}#sk-container-id-1 div.sk-estimator:hover label.sk-toggleable__label-arrow:before {color: black;}#sk-container-id-1 div.sk-toggleable__content {max-height: 0;max-width: 0;overflow: hidden;text-align: left;background-color: #f0f8ff;}#sk-container-id-1 div.sk-toggleable__content pre {margin: 0.2em;color: black;border-radius: 0.25em;background-color: #f0f8ff;}#sk-container-id-1 input.sk-toggleable__control:checked~div.sk-toggleable__content {max-height: 200px;max-width: 100%;overflow: auto;}#sk-container-id-1 input.sk-toggleable__control:checked~label.sk-toggleable__label-arrow:before {content: \"▾\";}#sk-container-id-1 div.sk-estimator input.sk-toggleable__control:checked~label.sk-toggleable__label {background-color: #d4ebff;}#sk-container-id-1 div.sk-label input.sk-toggleable__control:checked~label.sk-toggleable__label {background-color: #d4ebff;}#sk-container-id-1 input.sk-hidden--visually {border: 0;clip: rect(1px 1px 1px 1px);clip: rect(1px, 1px, 1px, 1px);height: 1px;margin: -1px;overflow: hidden;padding: 0;position: absolute;width: 1px;}#sk-container-id-1 div.sk-estimator {font-family: monospace;background-color: #f0f8ff;border: 1px dotted black;border-radius: 0.25em;box-sizing: border-box;margin-bottom: 0.5em;}#sk-container-id-1 div.sk-estimator:hover {background-color: #d4ebff;}#sk-container-id-1 div.sk-parallel-item::after {content: \"\";width: 100%;border-bottom: 1px solid gray;flex-grow: 1;}#sk-container-id-1 div.sk-label:hover label.sk-toggleable__label {background-color: #d4ebff;}#sk-container-id-1 div.sk-serial::before {content: \"\";position: absolute;border-left: 1px solid gray;box-sizing: border-box;top: 0;bottom: 0;left: 50%;z-index: 0;}#sk-container-id-1 div.sk-serial {display: flex;flex-direction: column;align-items: center;background-color: white;padding-right: 0.2em;padding-left: 0.2em;position: relative;}#sk-container-id-1 div.sk-item {position: relative;z-index: 1;}#sk-container-id-1 div.sk-parallel {display: flex;align-items: stretch;justify-content: center;background-color: white;position: relative;}#sk-container-id-1 div.sk-item::before, #sk-container-id-1 div.sk-parallel-item::before {content: \"\";position: absolute;border-left: 1px solid gray;box-sizing: border-box;top: 0;bottom: 0;left: 50%;z-index: -1;}#sk-container-id-1 div.sk-parallel-item {display: flex;flex-direction: column;z-index: 1;position: relative;background-color: white;}#sk-container-id-1 div.sk-parallel-item:first-child::after {align-self: flex-end;width: 50%;}#sk-container-id-1 div.sk-parallel-item:last-child::after {align-self: flex-start;width: 50%;}#sk-container-id-1 div.sk-parallel-item:only-child::after {width: 0;}#sk-container-id-1 div.sk-dashed-wrapped {border: 1px dashed gray;margin: 0 0.4em 0.5em 0.4em;box-sizing: border-box;padding-bottom: 0.4em;background-color: white;}#sk-container-id-1 div.sk-label label {font-family: monospace;font-weight: bold;display: inline-block;line-height: 1.2em;}#sk-container-id-1 div.sk-label-container {text-align: center;}#sk-container-id-1 div.sk-container {/* jupyter's `normalize.less` sets `[hidden] { display: none; }` but bootstrap.min.css set `[hidden] { display: none !important; }` so we also need the `!important` here to be able to override the default hidden behavior on the sphinx rendered scikit-learn.org. See: https://github.com/scikit-learn/scikit-learn/issues/21755 */display: inline-block !important;position: relative;}#sk-container-id-1 div.sk-text-repr-fallback {display: none;}</style><div id=\"sk-container-id-1\" class=\"sk-top-container\"><div class=\"sk-text-repr-fallback\"><pre>LinearRegression()</pre><b>In a Jupyter environment, please rerun this cell to show the HTML representation or trust the notebook. <br />On GitHub, the HTML representation is unable to render, please try loading this page with nbviewer.org.</b></div><div class=\"sk-container\" hidden><div class=\"sk-item\"><div class=\"sk-estimator sk-toggleable\"><input class=\"sk-toggleable__control sk-hidden--visually\" id=\"sk-estimator-id-1\" type=\"checkbox\" checked><label for=\"sk-estimator-id-1\" class=\"sk-toggleable__label sk-toggleable__label-arrow\">LinearRegression</label><div class=\"sk-toggleable__content\"><pre>LinearRegression()</pre></div></div></div></div></div>"
      ],
      "text/plain": [
       "LinearRegression()"
      ]
     },
     "execution_count": 28,
     "metadata": {},
     "output_type": "execute_result"
    }
   ],
   "source": [
    "# 10−17 がく片長さを予測する重回帰の予測モデルを作成する\n",
    "from sklearn.linear_model import LinearRegression\n",
    "\n",
    "# 「がく片長さ列」に2個の欠損値がある\n",
    "iris_df = pd.read_csv('../support/datafiles/iris.csv')\n",
    "# 欠損値を含む行を削除する\n",
    "non_df = iris_df.dropna()\n",
    "\n",
    "x = non_df.loc[:, 'がく片幅':'花弁幅']\n",
    "t = non_df['がく片長さ']\n",
    "model = LinearRegression()\n",
    "model.fit(x, t)"
   ]
  },
  {
   "cell_type": "code",
   "execution_count": 29,
   "metadata": {},
   "outputs": [
    {
     "data": {
      "text/plain": [
       "0      False\n",
       "1      False\n",
       "2      False\n",
       "3      False\n",
       "4      False\n",
       "       ...  \n",
       "145    False\n",
       "146    False\n",
       "147    False\n",
       "148    False\n",
       "149    False\n",
       "Name: がく片長さ, Length: 150, dtype: bool"
      ]
     },
     "execution_count": 29,
     "metadata": {},
     "output_type": "execute_result"
    }
   ],
   "source": [
    "# 10-18 欠損データの本来の値を予測させる\n",
    "\n",
    "# 欠損行の抜き出し\n",
    "condition = iris_df['がく片長さ'].isnull()\n",
    "condition"
   ]
  },
  {
   "cell_type": "code",
   "execution_count": 30,
   "metadata": {},
   "outputs": [
    {
     "data": {
      "text/html": [
       "<div>\n",
       "<style scoped>\n",
       "    .dataframe tbody tr th:only-of-type {\n",
       "        vertical-align: middle;\n",
       "    }\n",
       "\n",
       "    .dataframe tbody tr th {\n",
       "        vertical-align: top;\n",
       "    }\n",
       "\n",
       "    .dataframe thead th {\n",
       "        text-align: right;\n",
       "    }\n",
       "</style>\n",
       "<table border=\"1\" class=\"dataframe\">\n",
       "  <thead>\n",
       "    <tr style=\"text-align: right;\">\n",
       "      <th></th>\n",
       "      <th>がく片長さ</th>\n",
       "      <th>がく片幅</th>\n",
       "      <th>花弁長さ</th>\n",
       "      <th>花弁幅</th>\n",
       "      <th>種類</th>\n",
       "    </tr>\n",
       "  </thead>\n",
       "  <tbody>\n",
       "    <tr>\n",
       "      <th>61</th>\n",
       "      <td>NaN</td>\n",
       "      <td>0.42</td>\n",
       "      <td>0.65</td>\n",
       "      <td>0.58</td>\n",
       "      <td>Iris-versicolor</td>\n",
       "    </tr>\n",
       "    <tr>\n",
       "      <th>137</th>\n",
       "      <td>NaN</td>\n",
       "      <td>0.46</td>\n",
       "      <td>0.57</td>\n",
       "      <td>0.71</td>\n",
       "      <td>Iris-virginica</td>\n",
       "    </tr>\n",
       "  </tbody>\n",
       "</table>\n",
       "</div>"
      ],
      "text/plain": [
       "     がく片長さ  がく片幅  花弁長さ   花弁幅               種類\n",
       "61     NaN  0.42  0.65  0.58  Iris-versicolor\n",
       "137    NaN  0.46  0.57  0.71   Iris-virginica"
      ]
     },
     "execution_count": 30,
     "metadata": {},
     "output_type": "execute_result"
    }
   ],
   "source": [
    "non_data = iris_df.loc[condition]\n",
    "non_data"
   ]
  },
  {
   "cell_type": "code",
   "execution_count": 31,
   "metadata": {},
   "outputs": [
    {
     "data": {
      "text/html": [
       "<div>\n",
       "<style scoped>\n",
       "    .dataframe tbody tr th:only-of-type {\n",
       "        vertical-align: middle;\n",
       "    }\n",
       "\n",
       "    .dataframe tbody tr th {\n",
       "        vertical-align: top;\n",
       "    }\n",
       "\n",
       "    .dataframe thead th {\n",
       "        text-align: right;\n",
       "    }\n",
       "</style>\n",
       "<table border=\"1\" class=\"dataframe\">\n",
       "  <thead>\n",
       "    <tr style=\"text-align: right;\">\n",
       "      <th></th>\n",
       "      <th>がく片幅</th>\n",
       "      <th>花弁長さ</th>\n",
       "      <th>花弁幅</th>\n",
       "    </tr>\n",
       "  </thead>\n",
       "  <tbody>\n",
       "    <tr>\n",
       "      <th>61</th>\n",
       "      <td>0.42</td>\n",
       "      <td>0.65</td>\n",
       "      <td>0.58</td>\n",
       "    </tr>\n",
       "    <tr>\n",
       "      <th>137</th>\n",
       "      <td>0.46</td>\n",
       "      <td>0.57</td>\n",
       "      <td>0.71</td>\n",
       "    </tr>\n",
       "  </tbody>\n",
       "</table>\n",
       "</div>"
      ],
      "text/plain": [
       "     がく片幅  花弁長さ   花弁幅\n",
       "61   0.42  0.65  0.58\n",
       "137  0.46  0.57  0.71"
      ]
     },
     "execution_count": 31,
     "metadata": {},
     "output_type": "execute_result"
    }
   ],
   "source": [
    "# 欠損行の入力に利用する特徴量だけを抜き出して、モデルで予測する\n",
    "x = non_data.loc[:, 'がく片幅':'花弁幅']\n",
    "x"
   ]
  },
  {
   "cell_type": "code",
   "execution_count": 32,
   "metadata": {},
   "outputs": [
    {
     "data": {
      "text/plain": [
       "array([0.50543104, 0.572684  ])"
      ]
     },
     "execution_count": 32,
     "metadata": {},
     "output_type": "execute_result"
    }
   ],
   "source": [
    "pred = model.predict(x)\n",
    "pred"
   ]
  },
  {
   "cell_type": "code",
   "execution_count": 33,
   "metadata": {},
   "outputs": [],
   "source": [
    "# 欠損行のがく片長さのマスを抜き出して、predで代入する\n",
    "iris_df.loc[condition, 'がく片長さ'] = pred"
   ]
  },
  {
   "cell_type": "markdown",
   "metadata": {},
   "source": [
    "## 10.3 より高度な外れ値の処理\n",
    "\n",
    "### 10.3.1 マハラノビス距離"
   ]
  },
  {
   "cell_type": "code",
   "execution_count": 34,
   "metadata": {},
   "outputs": [
    {
     "data": {
      "text/plain": [
       "array([5.27754434e+00, 2.95288431e+00, 4.56554287e+00, 1.11292894e+01,\n",
       "       4.88709108e+00, 3.61583593e+00, 8.14460849e+00, 6.75556991e+00,\n",
       "       2.87723941e+00, 5.21488750e+00, 3.79416537e+00, 5.40316379e+00,\n",
       "       6.20213715e+00, 1.10553049e+01, 8.90271314e+00, 3.76946284e+00,\n",
       "       9.37787119e+00, 8.19067907e+00, 9.96797528e+00, 4.96633549e+00,\n",
       "       9.49019954e+00, 8.66205425e+00, 4.97595770e+00, 4.10070771e+00,\n",
       "       1.69047652e+01, 6.72016281e+00, 4.26099138e+00, 1.44169140e+00,\n",
       "       2.48070141e+00, 5.30852520e+00, 6.32167727e+00, 1.09093890e+01,\n",
       "       4.97013012e+00, 2.46016070e+00, 8.26586093e+00, 1.55628115e+00,\n",
       "       1.11467060e+01, 7.12123114e+00, 5.31412121e+00, 3.68894563e+00,\n",
       "       1.91868229e+03, 4.79217095e+00, 6.04087328e+00, 1.83355572e-01,\n",
       "       5.17790203e+00, 5.63622705e+00, 2.28418229e+00, 9.46535988e+00,\n",
       "       6.11551425e+00, 2.28464022e+00, 1.26942361e+00, 7.86245236e+00,\n",
       "       7.40873776e+00, 3.31990003e+00, 5.12019709e+00, 3.36617674e+00,\n",
       "       6.27099475e+00, 3.91012671e+00, 2.89707058e+00, 3.94257500e+00,\n",
       "       4.32989292e+00, 3.51579109e+00, 1.27130459e+00, 4.32062827e+00,\n",
       "       9.63586827e-01, 3.78225964e+00, 1.50353478e+00, 2.02654693e+00,\n",
       "       5.13321497e+00, 2.42179436e+00, 2.26496266e+00, 6.35106880e+00,\n",
       "       3.47667923e+00, 5.53579570e+01, 2.22102981e+00, 2.33853483e+00,\n",
       "       3.51887432e+00, 2.01098779e+00, 5.09165493e+00, 2.85718006e+00,\n",
       "       2.67497955e+00, 1.54635345e+01, 1.34373505e+00, 3.37328220e+00,\n",
       "       1.89710561e+01, 3.42792061e+00, 7.88797085e-01, 7.10318989e-01,\n",
       "       5.24864816e-01, 4.21584452e+00, 8.64113322e+00, 2.30017740e+01,\n",
       "       4.55886758e+01, 7.02943665e+00, 1.57581947e+01, 1.07779318e+01,\n",
       "       1.37026267e+01, 1.04655457e+01, 6.61996540e+00, 4.70805357e+00,\n",
       "       3.77887588e+00, 2.07983911e+00, 5.49792564e+00, 1.38394595e+00,\n",
       "       2.31491862e+00, 7.23463745e-01, 2.39127532e+00, 3.27857493e+00,\n",
       "       3.29235943e+00, 3.10139096e+00, 3.71917585e-01, 7.00286318e+00,\n",
       "       8.45425194e-01, 8.42418132e+00, 5.38315672e+00, 5.54350506e+00,\n",
       "       6.06651131e+00, 2.20690941e+00, 3.29114134e+00, 6.44471952e+00,\n",
       "       5.58541033e+00, 5.06178965e+00, 5.05510592e+00, 2.47308490e+00,\n",
       "       1.04997244e+01, 4.49405324e+00, 5.38132197e+00, 2.50825353e+00,\n",
       "       9.01526217e+00, 5.63277770e+00, 1.29034332e+01, 1.33431136e+01,\n",
       "       8.32797971e+00, 4.84793805e+00, 8.63122143e+00, 8.56159871e-01,\n",
       "       4.34633958e+00, 4.03748773e+00, 3.31968994e+00, 3.42791249e+00,\n",
       "       3.75939797e+00, 3.80647455e+00, 7.30000642e+00, 3.43888392e+00,\n",
       "       2.93646819e+00, 1.36799580e+00, 8.49545240e-01, 1.41809612e+01,\n",
       "       3.74565675e+00, 2.28571053e+00, 2.30687525e+00, 3.24185585e+00,\n",
       "       1.26869880e+00, 4.23027634e+00, 5.90457379e+00, 1.80218229e+00,\n",
       "       3.20656207e+00, 3.63363683e-01, 1.08036890e+00, 1.23442029e+01,\n",
       "       1.00977775e+00, 2.86712823e+00, 1.04713661e+00, 6.14494029e-01,\n",
       "       1.35807064e+00, 1.48808593e+00, 1.63615806e+00, 2.96273399e+00,\n",
       "       4.68072554e+00, 1.84624765e+00, 2.32755240e+00, 2.06362643e+00,\n",
       "       3.41735779e+00, 1.98084650e+00, 2.82113037e+00, 1.81243629e+00,\n",
       "       3.26485225e+00, 1.36127622e+00, 3.29708091e+00, 7.02042822e+00,\n",
       "       1.39585821e+00, 2.68181814e+00, 2.57958469e+00, 8.80645077e+00,\n",
       "       1.98322881e+00, 5.96779573e+00, 3.51410372e+00, 3.83148321e+00,\n",
       "       3.08180305e+00, 3.33364215e+00, 3.36211671e+00, 2.88543609e+00,\n",
       "       3.12986404e+00, 2.54035379e+00, 1.76102840e+00, 5.87188215e+00,\n",
       "       2.47978209e+00, 8.44151101e+00, 2.99670059e+00, 5.86728320e+00,\n",
       "       2.86734803e+00, 6.37560004e+00, 7.97437377e-01, 1.85065692e+01,\n",
       "       1.47494054e+00, 5.69086186e-01, 2.85809831e+00, 1.02241332e+01,\n",
       "       3.48144263e+00, 1.88590885e+00, 1.58230765e+00, 1.37548620e+00,\n",
       "       4.72627446e+00, 3.25194775e+00, 2.17088395e+00, 2.00922162e+00,\n",
       "       2.01291096e+00, 2.26313948e+00, 1.41808118e+01, 6.46734320e+00,\n",
       "       9.84552755e-01, 1.28739082e+00, 6.00466007e+00, 1.08236713e+01,\n",
       "       1.06865898e+01, 1.36287700e+00, 1.27230118e+00, 3.14228866e+00,\n",
       "       7.98333378e+00, 6.82405923e+00, 3.98189452e+00, 3.02955379e+00,\n",
       "       6.24244187e+00, 5.52107207e+00, 6.34294801e+00, 5.19794622e+00,\n",
       "       2.47241756e+00, 4.32644124e+00, 6.30827045e+00, 1.61646406e+00,\n",
       "       1.46239223e+01, 6.54779264e+00, 2.75338204e+00, 2.23254506e+01,\n",
       "       3.67627199e+00, 1.09890574e+01, 4.15181984e+00, 1.08038290e+01,\n",
       "       3.88783658e+00, 5.82674590e+00, 6.85790611e+00, 3.05039075e+01,\n",
       "       1.06488064e+01, 1.73474004e+01, 1.85597495e+01, 5.31385448e+00,\n",
       "       4.78212091e+00, 2.32776088e+01, 1.17661830e+01, 1.48436234e+01,\n",
       "       7.96899671e+00, 4.42728408e+00, 3.87171053e+00, 7.11498540e+00,\n",
       "       1.30758086e+01, 2.36223819e+00, 8.96698399e+00, 2.14252909e+01,\n",
       "       9.53018394e+00, 5.85218243e+00, 3.24566223e+00, 4.30586172e+00,\n",
       "       1.49081479e+01, 1.13501501e+01, 4.13985641e+00, 1.85212680e+00,\n",
       "       4.73098793e+00, 3.26934989e+01, 5.95724815e+00, 6.54661100e+00,\n",
       "       8.27699776e+00, 2.71716487e+00, 1.83842562e+00, 3.86666119e+00,\n",
       "       6.90305315e+00, 1.00390489e+01, 1.66838255e+01, 5.61064540e+00,\n",
       "       1.67644065e+00, 2.77758748e+00, 2.95788084e+00, 7.12593696e-01,\n",
       "       3.12823037e+00, 1.34848222e+01, 2.78595044e+00, 2.07466308e+00,\n",
       "       5.79381532e+00, 7.36913266e+00, 9.59682024e+00, 8.14035988e+00,\n",
       "       2.17485193e+00, 1.15090414e+01, 3.32509378e+00, 7.90275499e-01,\n",
       "       2.89305287e+00, 1.55769745e+00, 4.89999930e+00, 2.07924872e+00,\n",
       "       1.26973596e+00, 9.06477671e+00, 1.58045489e+00, 7.13623292e+00,\n",
       "       3.65367653e+00, 2.48436913e+00, 4.41438887e+00, 2.36778137e+00,\n",
       "       2.91737009e+00, 3.72792148e+00, 2.86253826e+00, 4.60421579e+00,\n",
       "       1.62317077e+00, 2.06792655e+00, 1.82601081e+00, 2.74246977e+00,\n",
       "       1.14109883e+00, 1.11023524e+00, 1.50469140e+00, 2.12899459e+00,\n",
       "       2.00912386e+00, 2.28233027e+00, 5.05269640e+00, 4.45927251e+00,\n",
       "       3.50757341e+00, 1.25539176e+01, 6.25396118e+00, 4.01285357e+00,\n",
       "       4.40163003e+00, 1.68544479e+00, 3.08570136e+00, 2.50875462e+00,\n",
       "       1.64933544e+00, 2.27409955e+00, 5.56213198e+00, 8.59375805e+00,\n",
       "       2.36693458e+00, 2.98591313e+00, 3.04414226e+00, 2.60853928e+00,\n",
       "       5.27209673e+00, 2.93965687e+00, 4.28335164e+00, 2.15243754e+00,\n",
       "       8.44998018e+00, 5.39407596e+00, 1.24726324e+01, 1.01542411e+01,\n",
       "       2.83977552e+00, 3.27598111e+00, 3.57665057e+00, 5.80107026e+00,\n",
       "       2.46863939e+00, 1.02025187e+01, 3.34734041e+00, 2.66164453e+00,\n",
       "       3.11980524e+00, 9.71286394e-01, 1.53433474e+00, 2.53866429e+00,\n",
       "       3.05229969e+00, 8.65007032e+00, 4.73098922e+00, 9.99969698e+00,\n",
       "       1.15686687e+01, 9.62905257e+00, 6.51788503e+00, 1.31546134e+01,\n",
       "       5.39132150e+00, 5.64509918e+00, 7.47049239e+00, 7.37408357e+00,\n",
       "       4.98231183e+00, 7.24468359e+00, 1.97260067e+00, 7.76722048e+00,\n",
       "       2.93031644e+00, 3.11236010e+00, 1.13816729e+01, 7.42923564e+00,\n",
       "       6.39082685e+00, 2.35787793e+00, 2.71564275e+00, 3.04159163e+00,\n",
       "       2.18563159e+00, 2.84855486e+00, 5.31717577e+00, 4.68875752e+00,\n",
       "       3.40311694e+00, 2.24115310e+00, 3.59332679e+00, 5.89700120e+00,\n",
       "       1.87170351e+00, 2.66774004e+00, 3.98021431e+00, 1.07018787e+00,\n",
       "       1.39766694e+00, 2.30040054e+00, 3.68177941e+00, 2.39744522e+00,\n",
       "       3.08330112e+00, 2.34532182e+00, 1.45348979e+00, 2.87470661e-01,\n",
       "       1.43032861e+00, 1.05497184e+00, 9.87266532e-01, 1.60944011e+00,\n",
       "       6.27677754e-01, 6.48886136e+00, 4.89790534e+00, 3.31840901e+00,\n",
       "       4.78333946e+00, 4.89677407e+00, 5.96009295e+00, 2.23496141e-01,\n",
       "       1.64192224e+01, 1.29251647e+00, 2.98480850e+00, 2.46608869e+00,\n",
       "       1.94960715e+00, 5.53555392e-01, 1.22567494e+00, 3.63261907e+00,\n",
       "       9.27082982e-01, 4.36302367e+00, 1.02325125e+00, 1.91450905e+00,\n",
       "       3.89506182e+00, 4.69079109e+00, 3.76709068e+00, 5.04061870e+00,\n",
       "       8.37610525e+00, 1.32899752e+00, 3.97222224e+00, 8.59090818e+00,\n",
       "       5.52533184e+00, 2.37335094e+00, 1.10341978e+00, 2.49133747e+00,\n",
       "       4.17346877e+00, 1.77233623e+00, 1.00224310e+00, 5.20871871e+00,\n",
       "       2.95335539e+00, 3.77564255e+00, 3.28044879e+00, 5.13610947e+00,\n",
       "       5.93580436e+00, 6.11554937e+00, 5.34742078e+00, 9.57874769e+00,\n",
       "       7.34199558e+00, 2.97508730e+00, 3.03451080e+00, 2.13870278e+00,\n",
       "       4.10373828e+00, 2.45195536e+00, 2.50804384e+00, 2.93140046e+00,\n",
       "       9.22924307e+00, 3.40969936e+00, 1.76571270e+00, 2.36148399e+00,\n",
       "       1.54247213e+00, 1.44127253e+01, 3.04888445e+01, 3.38307596e+00,\n",
       "       1.68462710e+00, 1.16239529e+00, 2.54084840e+00, 1.56319472e+00,\n",
       "       1.86193942e+01, 7.86172358e+00, 1.25814151e+01, 7.30108485e+00,\n",
       "       2.10119477e+01, 7.60962867e+00, 3.86858351e+00, 2.20022999e+00,\n",
       "       2.29273369e+00, 9.16733079e+00, 6.51672985e+00, 3.91569161e+00,\n",
       "       2.98626853e+00, 2.42820459e+00, 2.00679581e+00, 2.89786431e+00,\n",
       "       3.86853749e+00, 3.84342411e+01, 6.29781957e+00, 1.52034160e+00,\n",
       "       1.67883849e+00, 2.22560453e+00, 4.47499126e+00, 1.75119520e+00,\n",
       "       1.41341871e+00, 6.51572764e-01, 2.70441651e+01, 7.16583282e+00,\n",
       "       3.09620781e+00, 3.86727128e+00, 1.24490599e+00, 1.16671888e+01,\n",
       "       5.12699181e+00, 5.21041880e+00, 7.26655482e+00, 2.41839723e+01,\n",
       "       7.72403220e+00, 2.20750056e+00, 2.33879930e+00, 1.42749125e+00,\n",
       "       2.78252402e+00, 5.86486654e-01, 1.76812975e+00, 2.20481651e+00,\n",
       "       2.72815628e+00, 1.20616146e+01, 8.34578727e+00, 4.41482185e+00,\n",
       "       7.38105721e+00, 5.47146256e+00, 7.03650148e+00, 5.08800348e+00,\n",
       "       5.31298855e+00, 6.18027326e+00, 9.71310136e+00, 1.06884244e+01,\n",
       "       1.30345912e+01, 3.32685783e+00, 5.02664262e+00, 4.05085331e+00,\n",
       "       3.68935632e+00, 2.78470717e+00, 1.67875481e+00, 3.80224079e+00,\n",
       "       1.35927242e+01, 4.37140424e+00, 1.33315227e+00, 3.34578671e+00,\n",
       "       2.86228414e+00, 5.25889537e+00, 1.09366545e+01, 1.46444040e+00,\n",
       "       1.81587288e+00, 1.09306838e+00, 5.42588384e+00, 7.23042004e+00,\n",
       "       3.51272351e+00, 1.68397220e+00, 1.74361227e+00, 3.18644761e+00,\n",
       "       3.66227315e+00, 5.45780506e+00, 2.15170587e+00, 2.15143239e+00,\n",
       "       3.40309924e+00, 2.25620127e+00, 1.94533844e+00, 3.30905302e+00,\n",
       "       5.27964623e+00, 2.47173956e+00, 2.61967268e+00, 2.03136684e+00,\n",
       "       6.61652462e+00, 4.06648137e+00, 7.94902939e-01, 3.75745734e+00,\n",
       "       6.82950426e+00, 5.22627333e+00, 7.11634330e+00, 5.05921619e+00,\n",
       "       7.62497747e-01, 1.76328867e+00, 1.64764447e+00, 1.98689833e+00,\n",
       "       4.35838263e+00, 4.58118970e+00, 2.76321236e+00, 1.06229745e+01,\n",
       "       7.19075106e+00, 6.37270602e+00, 1.01836709e+01, 7.29323239e+00,\n",
       "       9.10040630e+00, 7.88597018e+00, 8.33364769e+00, 4.43011517e+00,\n",
       "       9.43690266e+00, 1.01261037e+01, 4.01826455e+00, 5.61060796e+00,\n",
       "       8.09313108e+00, 6.95287534e+00, 1.22396834e+01, 5.68789698e+00,\n",
       "       4.57809424e+00, 2.90646917e+00, 3.93924729e+00, 5.95626979e+00,\n",
       "       4.27689323e+00, 2.46206039e+00, 2.29116564e+00, 2.83372455e+00,\n",
       "       8.16381124e+00, 9.48650643e+00, 3.43558196e+00, 2.62924979e+00,\n",
       "       1.92105132e+00, 1.78831978e+00, 1.85387521e+00, 1.97211883e+00,\n",
       "       2.67912181e+00, 7.23325846e+00, 8.93701221e+00, 2.40821618e+00,\n",
       "       4.43937510e+00, 3.97330233e+00, 1.72440611e+00, 1.83982554e+00,\n",
       "       5.80763402e+00, 1.86732406e+03, 4.24398641e+00, 5.04265449e+00,\n",
       "       4.27677583e+00, 6.29277980e+00, 2.42153971e+00, 3.41205010e+00,\n",
       "       3.41065668e+00, 5.33310066e+00, 6.97468352e+00, 2.66954108e+00,\n",
       "       4.37805179e+00, 6.69368120e+00, 1.80372293e+00, 1.36676964e+00,\n",
       "       4.89219753e+00, 3.59661808e+00, 1.22145201e+00, 2.63541936e+00,\n",
       "       2.11056415e+00, 4.19621872e+00, 3.81445365e+00, 3.36674736e+00,\n",
       "       1.81935858e+00, 5.46008399e-01, 3.46427716e+00, 4.38788638e+00,\n",
       "       2.81024562e+00, 5.84470460e+00, 1.58145464e+00, 3.12325574e+00,\n",
       "       2.40041646e+00, 1.76924579e+00, 3.79539936e+00, 1.03817101e+00,\n",
       "       2.66677982e+00, 2.01785728e+00, 2.18832154e+00, 3.72585818e+00,\n",
       "       1.08226612e+00, 1.76336837e+00, 1.56332316e+00, 1.70298575e+00,\n",
       "       4.09708880e+00, 2.42799895e+00, 2.95615842e+00, 3.02343602e+00,\n",
       "       1.60979145e+00, 4.03049805e+00, 2.53763854e+00, 1.03219579e+01,\n",
       "       1.36090115e+00, 4.33021252e+00, 1.49493232e+00, 1.09446013e+00,\n",
       "       3.93007080e+00, 1.59808546e+00, 1.48024650e+00, 2.24501285e+00,\n",
       "       3.20483692e+00, 5.62111495e+00, 2.70159217e+00, 2.11811548e+01,\n",
       "       4.11444151e+00, 9.92251967e+00, 3.69021380e+00, 3.74601360e+00,\n",
       "       7.12204751e+00, 4.20419245e+00, 1.25700356e+00, 5.90201800e+00,\n",
       "       3.64970188e+00, 3.20170817e+00, 2.28341893e+00, 3.04640609e+00,\n",
       "       1.42959416e+00, 1.53674979e+00, 2.45516346e+01, 3.72489150e+00,\n",
       "       1.80097311e+01, 2.09331935e+01, 2.51157240e+01, 1.43803961e+01,\n",
       "       1.34198757e+01, 1.29490654e+01, 1.40517669e+01, 2.74739390e+01,\n",
       "       6.89863956e+00, 6.45429894e+00, 3.00546112e+01, 5.59239054e+00,\n",
       "       5.07687257e+00, 7.60518018e+00, 8.35071011e+00, 1.12895605e+01,\n",
       "       1.49805437e+01, 1.16492788e+01, 6.95793265e+00, 9.34911890e+00,\n",
       "       1.59335403e+01, 2.37987797e+01])"
      ]
     },
     "execution_count": 34,
     "metadata": {},
     "output_type": "execute_result"
    }
   ],
   "source": [
    "# 10-13 自転車データでマハラノビス距離を計算する\n",
    "from sklearn.covariance import MinCovDet\n",
    "\n",
    "# 適当な数値列でマハラノビス距離を計算する\n",
    "df4 = df3.loc[:, 'atemp':'windspeed']\n",
    "df4 = df4.dropna()\n",
    "\n",
    "# マハラノビス距離を計算するための準備\n",
    "mcd = MinCovDet(random_state=0, support_fraction=0.7)\n",
    "# マハラノビス距離を計算するために必要な共分散行列\n",
    "mcd.fit(df4)\n",
    "# マハラノビス距離\n",
    "distance = mcd.mahalanobis(df4)\n",
    "distance"
   ]
  },
  {
   "cell_type": "markdown",
   "metadata": {},
   "source": [
    "### 10.3.2 中央値を用いた外れ値の判定"
   ]
  },
  {
   "cell_type": "code",
   "execution_count": 35,
   "metadata": {},
   "outputs": [
    {
     "data": {
      "text/plain": [
       "<AxesSubplot:>"
      ]
     },
     "execution_count": 35,
     "metadata": {},
     "output_type": "execute_result"
    },
    {
     "data": {
      "image/png": "[encoded data removed]",
      "text/plain": [
       "<Figure size 432x288 with 1 Axes>"
      ]
     },
     "metadata": {
      "needs_background": "light"
     },
     "output_type": "display_data"
    }
   ],
   "source": [
    "# 10-20 箱ひげ図で外れ値を見つける\n",
    "distance = pd.Series(distance)\n",
    "distance.plot(kind='box')"
   ]
  },
  {
   "cell_type": "code",
   "execution_count": 36,
   "metadata": {},
   "outputs": [
    {
     "data": {
      "text/plain": [
       "count     730.000000\n",
       "mean       10.571304\n",
       "std        98.889470\n",
       "min         0.183356\n",
       "25%         2.302019\n",
       "50%         3.780568\n",
       "75%         6.517596\n",
       "max      1918.682293\n",
       "dtype: float64"
      ]
     },
     "execution_count": 36,
     "metadata": {},
     "output_type": "execute_result"
    }
   ],
   "source": [
    "# 10-21 さまざまな基本統計量\n",
    "tmp = distance.describe()\n",
    "tmp"
   ]
  },
  {
   "cell_type": "code",
   "execution_count": 37,
   "metadata": {},
   "outputs": [
    {
     "data": {
      "text/plain": [
       "24       16.904765\n",
       "40     1918.682293\n",
       "73       55.357957\n",
       "81       15.463534\n",
       "84       18.971056\n",
       "91       23.001774\n",
       "92       45.588676\n",
       "94       15.758195\n",
       "96       13.702627\n",
       "130      12.903433\n",
       "131      13.343114\n",
       "147      14.180961\n",
       "203      18.506569\n",
       "218      14.180812\n",
       "240      14.623922\n",
       "243      22.325451\n",
       "251      30.503908\n",
       "253      17.347400\n",
       "254      18.559749\n",
       "257      23.277609\n",
       "259      14.843623\n",
       "264      13.075809\n",
       "267      21.425291\n",
       "272      14.908148\n",
       "277      32.693499\n",
       "286      16.683825\n",
       "293      13.484822\n",
       "375      13.154613\n",
       "424      16.419222\n",
       "473      14.412725\n",
       "474      30.488845\n",
       "480      18.619394\n",
       "484      21.011948\n",
       "497      38.434241\n",
       "506      27.044165\n",
       "515      24.183972\n",
       "536      13.034591\n",
       "544      13.592724\n",
       "629    1867.324064\n",
       "691      21.181155\n",
       "706      24.551635\n",
       "708      18.009731\n",
       "709      20.933194\n",
       "710      25.115724\n",
       "711      14.380396\n",
       "712      13.419876\n",
       "713      12.949065\n",
       "714      14.051767\n",
       "715      27.473939\n",
       "718      30.054611\n",
       "724      14.980544\n",
       "728      15.933540\n",
       "729      23.798780\n",
       "dtype: float64"
      ]
     },
     "execution_count": 37,
     "metadata": {},
     "output_type": "execute_result"
    }
   ],
   "source": [
    "# 10-22 四分位範囲を用いた外れ値の判定\n",
    "\n",
    "# IQRの計算\n",
    "iqr = tmp['75%'] - tmp['25%']\n",
    "# 上限値\n",
    "upper = tmp['75%'] + 1.5 * iqr\n",
    "lower = tmp['25%'] - 1.5 * iqr\n",
    "\n",
    "# 上限と下限の条件をもとに、Seriesで条件検索する\n",
    "outliner = distance[ (distance < lower) | (upper < distance) ]\n",
    "outliner"
   ]
  },
  {
   "cell_type": "markdown",
   "metadata": {},
   "source": [
    "## 10.5 練習問題"
   ]
  },
  {
   "cell_type": "code",
   "execution_count": 38,
   "metadata": {},
   "outputs": [],
   "source": [
    "# EX.10-4\n",
    "# Chap.09の続き"
   ]
  },
  {
   "cell_type": "code",
   "execution_count": 39,
   "metadata": {},
   "outputs": [],
   "source": [
    "# ライブラリの準備\n",
    "import pandas as pd\n",
    "from sklearn import tree\n",
    "from sklearn.model_selection import train_test_split\n",
    "from sklearn.linear_model import LinearRegression\n",
    "%matplotlib inline"
   ]
  },
  {
   "cell_type": "code",
   "execution_count": 40,
   "metadata": {},
   "outputs": [
    {
     "name": "stdout",
     "output_type": "stream",
     "text": [
      "(27128, 16)\n"
     ]
    },
    {
     "data": {
      "text/html": [
       "<div>\n",
       "<style scoped>\n",
       "    .dataframe tbody tr th:only-of-type {\n",
       "        vertical-align: middle;\n",
       "    }\n",
       "\n",
       "    .dataframe tbody tr th {\n",
       "        vertical-align: top;\n",
       "    }\n",
       "\n",
       "    .dataframe thead th {\n",
       "        text-align: right;\n",
       "    }\n",
       "</style>\n",
       "<table border=\"1\" class=\"dataframe\">\n",
       "  <thead>\n",
       "    <tr style=\"text-align: right;\">\n",
       "      <th></th>\n",
       "      <th>id</th>\n",
       "      <th>age</th>\n",
       "      <th>job</th>\n",
       "      <th>marital</th>\n",
       "      <th>education</th>\n",
       "      <th>default</th>\n",
       "      <th>amount</th>\n",
       "      <th>housing</th>\n",
       "      <th>loan</th>\n",
       "      <th>contact</th>\n",
       "      <th>day</th>\n",
       "      <th>month</th>\n",
       "      <th>duration</th>\n",
       "      <th>campaign</th>\n",
       "      <th>previous</th>\n",
       "      <th>y</th>\n",
       "    </tr>\n",
       "  </thead>\n",
       "  <tbody>\n",
       "    <tr>\n",
       "      <th>0</th>\n",
       "      <td>1</td>\n",
       "      <td>39</td>\n",
       "      <td>blue-collar</td>\n",
       "      <td>married</td>\n",
       "      <td>secondary</td>\n",
       "      <td>no</td>\n",
       "      <td>1756.0</td>\n",
       "      <td>yes</td>\n",
       "      <td>no</td>\n",
       "      <td>cellular</td>\n",
       "      <td>3</td>\n",
       "      <td>apr</td>\n",
       "      <td>370.055237</td>\n",
       "      <td>1</td>\n",
       "      <td>0</td>\n",
       "      <td>1</td>\n",
       "    </tr>\n",
       "    <tr>\n",
       "      <th>1</th>\n",
       "      <td>2</td>\n",
       "      <td>51</td>\n",
       "      <td>entrepreneur</td>\n",
       "      <td>married</td>\n",
       "      <td>primary</td>\n",
       "      <td>no</td>\n",
       "      <td>1443.0</td>\n",
       "      <td>no</td>\n",
       "      <td>no</td>\n",
       "      <td>cellular</td>\n",
       "      <td>18</td>\n",
       "      <td>feb</td>\n",
       "      <td>233.998933</td>\n",
       "      <td>10</td>\n",
       "      <td>0</td>\n",
       "      <td>1</td>\n",
       "    </tr>\n",
       "    <tr>\n",
       "      <th>2</th>\n",
       "      <td>3</td>\n",
       "      <td>36</td>\n",
       "      <td>management</td>\n",
       "      <td>single</td>\n",
       "      <td>tertiary</td>\n",
       "      <td>no</td>\n",
       "      <td>436.0</td>\n",
       "      <td>no</td>\n",
       "      <td>no</td>\n",
       "      <td>cellular</td>\n",
       "      <td>13</td>\n",
       "      <td>apr</td>\n",
       "      <td>NaN</td>\n",
       "      <td>1</td>\n",
       "      <td>2</td>\n",
       "      <td>0</td>\n",
       "    </tr>\n",
       "    <tr>\n",
       "      <th>3</th>\n",
       "      <td>4</td>\n",
       "      <td>63</td>\n",
       "      <td>retired</td>\n",
       "      <td>married</td>\n",
       "      <td>secondary</td>\n",
       "      <td>no</td>\n",
       "      <td>474.0</td>\n",
       "      <td>no</td>\n",
       "      <td>no</td>\n",
       "      <td>cellular</td>\n",
       "      <td>25</td>\n",
       "      <td>jan</td>\n",
       "      <td>252.525808</td>\n",
       "      <td>1</td>\n",
       "      <td>0</td>\n",
       "      <td>0</td>\n",
       "    </tr>\n",
       "    <tr>\n",
       "      <th>4</th>\n",
       "      <td>5</td>\n",
       "      <td>31</td>\n",
       "      <td>management</td>\n",
       "      <td>single</td>\n",
       "      <td>tertiary</td>\n",
       "      <td>no</td>\n",
       "      <td>354.0</td>\n",
       "      <td>no</td>\n",
       "      <td>no</td>\n",
       "      <td>cellular</td>\n",
       "      <td>30</td>\n",
       "      <td>apr</td>\n",
       "      <td>NaN</td>\n",
       "      <td>1</td>\n",
       "      <td>2</td>\n",
       "      <td>0</td>\n",
       "    </tr>\n",
       "  </tbody>\n",
       "</table>\n",
       "</div>"
      ],
      "text/plain": [
       "   id  age           job  marital  education default  amount housing loan  \\\n",
       "0   1   39   blue-collar  married  secondary      no  1756.0     yes   no   \n",
       "1   2   51  entrepreneur  married    primary      no  1443.0      no   no   \n",
       "2   3   36    management   single   tertiary      no   436.0      no   no   \n",
       "3   4   63       retired  married  secondary      no   474.0      no   no   \n",
       "4   5   31    management   single   tertiary      no   354.0      no   no   \n",
       "\n",
       "    contact  day month    duration  campaign  previous  y  \n",
       "0  cellular    3   apr  370.055237         1         0  1  \n",
       "1  cellular   18   feb  233.998933        10         0  1  \n",
       "2  cellular   13   apr         NaN         1         2  0  \n",
       "3  cellular   25   jan  252.525808         1         0  0  \n",
       "4  cellular   30   apr         NaN         1         2  0  "
      ]
     },
     "execution_count": 40,
     "metadata": {},
     "output_type": "execute_result"
    }
   ],
   "source": [
    "# データの準備\n",
    "df = pd.read_csv('../support/datafiles/Bank.csv')\n",
    "print(df.shape)\n",
    "df.head()"
   ]
  },
  {
   "cell_type": "code",
   "execution_count": 41,
   "metadata": {},
   "outputs": [
    {
     "name": "stdout",
     "output_type": "stream",
     "text": [
      "(27128, 48)\n"
     ]
    },
    {
     "data": {
      "text/html": [
       "<div>\n",
       "<style scoped>\n",
       "    .dataframe tbody tr th:only-of-type {\n",
       "        vertical-align: middle;\n",
       "    }\n",
       "\n",
       "    .dataframe tbody tr th {\n",
       "        vertical-align: top;\n",
       "    }\n",
       "\n",
       "    .dataframe thead th {\n",
       "        text-align: right;\n",
       "    }\n",
       "</style>\n",
       "<table border=\"1\" class=\"dataframe\">\n",
       "  <thead>\n",
       "    <tr style=\"text-align: right;\">\n",
       "      <th></th>\n",
       "      <th>id</th>\n",
       "      <th>age</th>\n",
       "      <th>amount</th>\n",
       "      <th>day</th>\n",
       "      <th>duration</th>\n",
       "      <th>campaign</th>\n",
       "      <th>previous</th>\n",
       "      <th>y</th>\n",
       "      <th>job_blue-collar</th>\n",
       "      <th>job_entrepreneur</th>\n",
       "      <th>...</th>\n",
       "      <th>month_oct</th>\n",
       "      <th>month_sep</th>\n",
       "      <th>job</th>\n",
       "      <th>default</th>\n",
       "      <th>marital</th>\n",
       "      <th>education</th>\n",
       "      <th>housing</th>\n",
       "      <th>loan</th>\n",
       "      <th>contact</th>\n",
       "      <th>month</th>\n",
       "    </tr>\n",
       "  </thead>\n",
       "  <tbody>\n",
       "    <tr>\n",
       "      <th>0</th>\n",
       "      <td>1</td>\n",
       "      <td>39</td>\n",
       "      <td>1756.0</td>\n",
       "      <td>3</td>\n",
       "      <td>370.055237</td>\n",
       "      <td>1</td>\n",
       "      <td>0</td>\n",
       "      <td>1</td>\n",
       "      <td>1</td>\n",
       "      <td>0</td>\n",
       "      <td>...</td>\n",
       "      <td>0</td>\n",
       "      <td>0</td>\n",
       "      <td>blue-collar</td>\n",
       "      <td>no</td>\n",
       "      <td>married</td>\n",
       "      <td>secondary</td>\n",
       "      <td>yes</td>\n",
       "      <td>no</td>\n",
       "      <td>cellular</td>\n",
       "      <td>apr</td>\n",
       "    </tr>\n",
       "    <tr>\n",
       "      <th>1</th>\n",
       "      <td>2</td>\n",
       "      <td>51</td>\n",
       "      <td>1443.0</td>\n",
       "      <td>18</td>\n",
       "      <td>233.998933</td>\n",
       "      <td>10</td>\n",
       "      <td>0</td>\n",
       "      <td>1</td>\n",
       "      <td>0</td>\n",
       "      <td>1</td>\n",
       "      <td>...</td>\n",
       "      <td>0</td>\n",
       "      <td>0</td>\n",
       "      <td>entrepreneur</td>\n",
       "      <td>no</td>\n",
       "      <td>married</td>\n",
       "      <td>primary</td>\n",
       "      <td>no</td>\n",
       "      <td>no</td>\n",
       "      <td>cellular</td>\n",
       "      <td>feb</td>\n",
       "    </tr>\n",
       "    <tr>\n",
       "      <th>2</th>\n",
       "      <td>3</td>\n",
       "      <td>36</td>\n",
       "      <td>436.0</td>\n",
       "      <td>13</td>\n",
       "      <td>NaN</td>\n",
       "      <td>1</td>\n",
       "      <td>2</td>\n",
       "      <td>0</td>\n",
       "      <td>0</td>\n",
       "      <td>0</td>\n",
       "      <td>...</td>\n",
       "      <td>0</td>\n",
       "      <td>0</td>\n",
       "      <td>management</td>\n",
       "      <td>no</td>\n",
       "      <td>single</td>\n",
       "      <td>tertiary</td>\n",
       "      <td>no</td>\n",
       "      <td>no</td>\n",
       "      <td>cellular</td>\n",
       "      <td>apr</td>\n",
       "    </tr>\n",
       "    <tr>\n",
       "      <th>3</th>\n",
       "      <td>4</td>\n",
       "      <td>63</td>\n",
       "      <td>474.0</td>\n",
       "      <td>25</td>\n",
       "      <td>252.525808</td>\n",
       "      <td>1</td>\n",
       "      <td>0</td>\n",
       "      <td>0</td>\n",
       "      <td>0</td>\n",
       "      <td>0</td>\n",
       "      <td>...</td>\n",
       "      <td>0</td>\n",
       "      <td>0</td>\n",
       "      <td>retired</td>\n",
       "      <td>no</td>\n",
       "      <td>married</td>\n",
       "      <td>secondary</td>\n",
       "      <td>no</td>\n",
       "      <td>no</td>\n",
       "      <td>cellular</td>\n",
       "      <td>jan</td>\n",
       "    </tr>\n",
       "    <tr>\n",
       "      <th>4</th>\n",
       "      <td>5</td>\n",
       "      <td>31</td>\n",
       "      <td>354.0</td>\n",
       "      <td>30</td>\n",
       "      <td>NaN</td>\n",
       "      <td>1</td>\n",
       "      <td>2</td>\n",
       "      <td>0</td>\n",
       "      <td>0</td>\n",
       "      <td>0</td>\n",
       "      <td>...</td>\n",
       "      <td>0</td>\n",
       "      <td>0</td>\n",
       "      <td>management</td>\n",
       "      <td>no</td>\n",
       "      <td>single</td>\n",
       "      <td>tertiary</td>\n",
       "      <td>no</td>\n",
       "      <td>no</td>\n",
       "      <td>cellular</td>\n",
       "      <td>apr</td>\n",
       "    </tr>\n",
       "  </tbody>\n",
       "</table>\n",
       "<p>5 rows × 48 columns</p>\n",
       "</div>"
      ],
      "text/plain": [
       "   id  age  amount  day    duration  campaign  previous  y  job_blue-collar  \\\n",
       "0   1   39  1756.0    3  370.055237         1         0  1                1   \n",
       "1   2   51  1443.0   18  233.998933        10         0  1                0   \n",
       "2   3   36   436.0   13         NaN         1         2  0                0   \n",
       "3   4   63   474.0   25  252.525808         1         0  0                0   \n",
       "4   5   31   354.0   30         NaN         1         2  0                0   \n",
       "\n",
       "   job_entrepreneur  ...  month_oct  month_sep           job  default  \\\n",
       "0                 0  ...          0          0   blue-collar       no   \n",
       "1                 1  ...          0          0  entrepreneur       no   \n",
       "2                 0  ...          0          0    management       no   \n",
       "3                 0  ...          0          0       retired       no   \n",
       "4                 0  ...          0          0    management       no   \n",
       "\n",
       "   marital  education  housing  loan   contact  month  \n",
       "0  married  secondary      yes    no  cellular    apr  \n",
       "1  married    primary       no    no  cellular    feb  \n",
       "2   single   tertiary       no    no  cellular    apr  \n",
       "3  married  secondary       no    no  cellular    jan  \n",
       "4   single   tertiary       no    no  cellular    apr  \n",
       "\n",
       "[5 rows x 48 columns]"
      ]
     },
     "execution_count": 41,
     "metadata": {},
     "output_type": "execute_result"
    }
   ],
   "source": [
    "# ダミー変数化をするため、文字列の列が複数あるので抜き出す。\n",
    "str_col_name = [\n",
    "    'job','default','marital','education','housing','loan','contact','month'\n",
    "]\n",
    "str_df = df[str_col_name]\n",
    "\n",
    "# 複数列をダミー変数化\n",
    "str_df2 = pd.get_dummies(str_df, drop_first=True)\n",
    "# 数値列を抜き出す\n",
    "num_df = df.drop(str_col_name,axis=1)\n",
    "# 結合(今後の集計の利便性も考慮してstr_dfも結合しておく)\n",
    "df2 = pd.concat([num_df, str_df2, str_df], axis=1)\n",
    "print(df2.shape)\n",
    "df2.head()"
   ]
  },
  {
   "cell_type": "code",
   "execution_count": 42,
   "metadata": {},
   "outputs": [
    {
     "data": {
      "text/html": [
       "<div>\n",
       "<style scoped>\n",
       "    .dataframe tbody tr th:only-of-type {\n",
       "        vertical-align: middle;\n",
       "    }\n",
       "\n",
       "    .dataframe tbody tr th {\n",
       "        vertical-align: top;\n",
       "    }\n",
       "\n",
       "    .dataframe thead th {\n",
       "        text-align: right;\n",
       "    }\n",
       "</style>\n",
       "<table border=\"1\" class=\"dataframe\">\n",
       "  <thead>\n",
       "    <tr style=\"text-align: right;\">\n",
       "      <th></th>\n",
       "      <th>id</th>\n",
       "      <th>age</th>\n",
       "      <th>amount</th>\n",
       "      <th>day</th>\n",
       "      <th>duration</th>\n",
       "      <th>campaign</th>\n",
       "      <th>previous</th>\n",
       "      <th>y</th>\n",
       "      <th>job_blue-collar</th>\n",
       "      <th>job_entrepreneur</th>\n",
       "      <th>...</th>\n",
       "      <th>month_oct</th>\n",
       "      <th>month_sep</th>\n",
       "      <th>job</th>\n",
       "      <th>default</th>\n",
       "      <th>marital</th>\n",
       "      <th>education</th>\n",
       "      <th>housing</th>\n",
       "      <th>loan</th>\n",
       "      <th>contact</th>\n",
       "      <th>month</th>\n",
       "    </tr>\n",
       "  </thead>\n",
       "  <tbody>\n",
       "    <tr>\n",
       "      <th>13378</th>\n",
       "      <td>13379</td>\n",
       "      <td>46</td>\n",
       "      <td>0.0</td>\n",
       "      <td>10</td>\n",
       "      <td>378.293875</td>\n",
       "      <td>1</td>\n",
       "      <td>0</td>\n",
       "      <td>1</td>\n",
       "      <td>0</td>\n",
       "      <td>0</td>\n",
       "      <td>...</td>\n",
       "      <td>0</td>\n",
       "      <td>0</td>\n",
       "      <td>unemployed</td>\n",
       "      <td>no</td>\n",
       "      <td>married</td>\n",
       "      <td>tertiary</td>\n",
       "      <td>yes</td>\n",
       "      <td>no</td>\n",
       "      <td>cellular</td>\n",
       "      <td>jul</td>\n",
       "    </tr>\n",
       "    <tr>\n",
       "      <th>3800</th>\n",
       "      <td>3801</td>\n",
       "      <td>41</td>\n",
       "      <td>-333.0</td>\n",
       "      <td>30</td>\n",
       "      <td>300.845752</td>\n",
       "      <td>3</td>\n",
       "      <td>2</td>\n",
       "      <td>0</td>\n",
       "      <td>1</td>\n",
       "      <td>0</td>\n",
       "      <td>...</td>\n",
       "      <td>0</td>\n",
       "      <td>0</td>\n",
       "      <td>blue-collar</td>\n",
       "      <td>no</td>\n",
       "      <td>divorced</td>\n",
       "      <td>secondary</td>\n",
       "      <td>yes</td>\n",
       "      <td>no</td>\n",
       "      <td>cellular</td>\n",
       "      <td>jan</td>\n",
       "    </tr>\n",
       "    <tr>\n",
       "      <th>10398</th>\n",
       "      <td>10399</td>\n",
       "      <td>30</td>\n",
       "      <td>5389.0</td>\n",
       "      <td>6</td>\n",
       "      <td>159.053623</td>\n",
       "      <td>3</td>\n",
       "      <td>0</td>\n",
       "      <td>1</td>\n",
       "      <td>0</td>\n",
       "      <td>0</td>\n",
       "      <td>...</td>\n",
       "      <td>0</td>\n",
       "      <td>0</td>\n",
       "      <td>management</td>\n",
       "      <td>no</td>\n",
       "      <td>single</td>\n",
       "      <td>tertiary</td>\n",
       "      <td>no</td>\n",
       "      <td>no</td>\n",
       "      <td>cellular</td>\n",
       "      <td>aug</td>\n",
       "    </tr>\n",
       "    <tr>\n",
       "      <th>23401</th>\n",
       "      <td>23402</td>\n",
       "      <td>39</td>\n",
       "      <td>255.0</td>\n",
       "      <td>5</td>\n",
       "      <td>334.802583</td>\n",
       "      <td>1</td>\n",
       "      <td>0</td>\n",
       "      <td>0</td>\n",
       "      <td>0</td>\n",
       "      <td>0</td>\n",
       "      <td>...</td>\n",
       "      <td>0</td>\n",
       "      <td>0</td>\n",
       "      <td>management</td>\n",
       "      <td>no</td>\n",
       "      <td>single</td>\n",
       "      <td>tertiary</td>\n",
       "      <td>yes</td>\n",
       "      <td>no</td>\n",
       "      <td>sending _document</td>\n",
       "      <td>may</td>\n",
       "    </tr>\n",
       "    <tr>\n",
       "      <th>26223</th>\n",
       "      <td>26224</td>\n",
       "      <td>47</td>\n",
       "      <td>33.0</td>\n",
       "      <td>5</td>\n",
       "      <td>NaN</td>\n",
       "      <td>1</td>\n",
       "      <td>0</td>\n",
       "      <td>1</td>\n",
       "      <td>0</td>\n",
       "      <td>0</td>\n",
       "      <td>...</td>\n",
       "      <td>0</td>\n",
       "      <td>0</td>\n",
       "      <td>services</td>\n",
       "      <td>no</td>\n",
       "      <td>single</td>\n",
       "      <td>secondary</td>\n",
       "      <td>yes</td>\n",
       "      <td>no</td>\n",
       "      <td>cellular</td>\n",
       "      <td>may</td>\n",
       "    </tr>\n",
       "  </tbody>\n",
       "</table>\n",
       "<p>5 rows × 48 columns</p>\n",
       "</div>"
      ],
      "text/plain": [
       "          id  age  amount  day    duration  campaign  previous  y  \\\n",
       "13378  13379   46     0.0   10  378.293875         1         0  1   \n",
       "3800    3801   41  -333.0   30  300.845752         3         2  0   \n",
       "10398  10399   30  5389.0    6  159.053623         3         0  1   \n",
       "23401  23402   39   255.0    5  334.802583         1         0  0   \n",
       "26223  26224   47    33.0    5         NaN         1         0  1   \n",
       "\n",
       "       job_blue-collar  job_entrepreneur  ...  month_oct  month_sep  \\\n",
       "13378                0                 0  ...          0          0   \n",
       "3800                 1                 0  ...          0          0   \n",
       "10398                0                 0  ...          0          0   \n",
       "23401                0                 0  ...          0          0   \n",
       "26223                0                 0  ...          0          0   \n",
       "\n",
       "               job  default   marital  education  housing  loan  \\\n",
       "13378   unemployed       no   married   tertiary      yes    no   \n",
       "3800   blue-collar       no  divorced  secondary      yes    no   \n",
       "10398   management       no    single   tertiary       no    no   \n",
       "23401   management       no    single   tertiary      yes    no   \n",
       "26223     services       no    single  secondary      yes    no   \n",
       "\n",
       "                 contact  month  \n",
       "13378           cellular    jul  \n",
       "3800            cellular    jan  \n",
       "10398           cellular    aug  \n",
       "23401  sending _document    may  \n",
       "26223           cellular    may  \n",
       "\n",
       "[5 rows x 48 columns]"
      ]
     },
     "execution_count": 42,
     "metadata": {},
     "output_type": "execute_result"
    }
   ],
   "source": [
    "# 訓練&検証データとテストデータに分割\n",
    "train_val, test = train_test_split(df2, test_size=0.1, random_state=9)\n",
    "train_val.head()"
   ]
  },
  {
   "cell_type": "code",
   "execution_count": 43,
   "metadata": {},
   "outputs": [
    {
     "data": {
      "text/plain": [
       "duration    6331\n",
       "dtype: int64"
      ]
     },
     "execution_count": 43,
     "metadata": {},
     "output_type": "execute_result"
    }
   ],
   "source": [
    "# 欠損値の確認\n",
    "is_nan = train_val.isnull().sum()\n",
    "# 欠損が存在している列だけ表示\n",
    "is_nan[is_nan > 0]"
   ]
  },
  {
   "cell_type": "code",
   "execution_count": 44,
   "metadata": {},
   "outputs": [
    {
     "data": {
      "text/plain": [
       "duration                     1.000000\n",
       "housing_yes                  0.556899\n",
       "loan_yes                     0.372579\n",
       "y                            0.277575\n",
       "age                          0.207738\n",
       "month_aug                    0.187310\n",
       "month_may                    0.184593\n",
       "marital_single               0.164614\n",
       "previous                     0.143538\n",
       "marital_married              0.115429\n",
       "job_student                  0.107913\n",
       "contact_sending _document    0.087863\n",
       "education_tertiary           0.081769\n",
       "job_blue-collar              0.080727\n",
       "month_jun                    0.065998\n",
       "month_oct                    0.052855\n",
       "job_unknown                  0.046328\n",
       "job_management               0.045735\n",
       "job_unemployed               0.044179\n",
       "month_mar                    0.043775\n",
       "job_housemaid                0.039184\n",
       "education_secondary          0.033989\n",
       "job_retired                  0.033277\n",
       "month_sep                    0.032082\n",
       "amount                       0.030532\n",
       "day                          0.023779\n",
       "job_services                 0.021712\n",
       "campaign                     0.021585\n",
       "month_dec                    0.017984\n",
       "month_feb                    0.017516\n",
       "month_nov                    0.014978\n",
       "job_entrepreneur             0.014454\n",
       "job_self-employed            0.013761\n",
       "job_technician               0.012723\n",
       "default_yes                  0.011425\n",
       "month_jan                    0.009934\n",
       "education_unknown            0.009059\n",
       "id                           0.008333\n",
       "month_jul                    0.005223\n",
       "contact_telephone            0.003610\n",
       "Name: duration, dtype: float64"
      ]
     },
     "execution_count": 44,
     "metadata": {},
     "output_type": "execute_result"
    }
   ],
   "source": [
    "# 「duration列」と各列との相関係数（絶対値）を抜き出す\n",
    "train_val.corr()['duration'].map(abs).sort_values(ascending=False)"
   ]
  },
  {
   "cell_type": "code",
   "execution_count": 61,
   "metadata": {},
   "outputs": [
    {
     "name": "stdout",
     "output_type": "stream",
     "text": [
      "(18084, 39)\n"
     ]
    },
    {
     "data": {
      "text/html": [
       "<div>\n",
       "<style scoped>\n",
       "    .dataframe tbody tr th:only-of-type {\n",
       "        vertical-align: middle;\n",
       "    }\n",
       "\n",
       "    .dataframe tbody tr th {\n",
       "        vertical-align: top;\n",
       "    }\n",
       "\n",
       "    .dataframe thead th {\n",
       "        text-align: right;\n",
       "    }\n",
       "</style>\n",
       "<table border=\"1\" class=\"dataframe\">\n",
       "  <thead>\n",
       "    <tr style=\"text-align: right;\">\n",
       "      <th></th>\n",
       "      <th>age</th>\n",
       "      <th>amount</th>\n",
       "      <th>day</th>\n",
       "      <th>duration</th>\n",
       "      <th>campaign</th>\n",
       "      <th>previous</th>\n",
       "      <th>y</th>\n",
       "      <th>job_blue-collar</th>\n",
       "      <th>job_entrepreneur</th>\n",
       "      <th>job_housemaid</th>\n",
       "      <th>...</th>\n",
       "      <th>month_dec</th>\n",
       "      <th>month_feb</th>\n",
       "      <th>month_jan</th>\n",
       "      <th>month_jul</th>\n",
       "      <th>month_jun</th>\n",
       "      <th>month_mar</th>\n",
       "      <th>month_may</th>\n",
       "      <th>month_nov</th>\n",
       "      <th>month_oct</th>\n",
       "      <th>month_sep</th>\n",
       "    </tr>\n",
       "  </thead>\n",
       "  <tbody>\n",
       "    <tr>\n",
       "      <th>13378</th>\n",
       "      <td>46</td>\n",
       "      <td>0.0</td>\n",
       "      <td>10</td>\n",
       "      <td>378.293875</td>\n",
       "      <td>1</td>\n",
       "      <td>0</td>\n",
       "      <td>1</td>\n",
       "      <td>0</td>\n",
       "      <td>0</td>\n",
       "      <td>0</td>\n",
       "      <td>...</td>\n",
       "      <td>0</td>\n",
       "      <td>0</td>\n",
       "      <td>0</td>\n",
       "      <td>1</td>\n",
       "      <td>0</td>\n",
       "      <td>0</td>\n",
       "      <td>0</td>\n",
       "      <td>0</td>\n",
       "      <td>0</td>\n",
       "      <td>0</td>\n",
       "    </tr>\n",
       "    <tr>\n",
       "      <th>3800</th>\n",
       "      <td>41</td>\n",
       "      <td>-333.0</td>\n",
       "      <td>30</td>\n",
       "      <td>300.845752</td>\n",
       "      <td>3</td>\n",
       "      <td>2</td>\n",
       "      <td>0</td>\n",
       "      <td>1</td>\n",
       "      <td>0</td>\n",
       "      <td>0</td>\n",
       "      <td>...</td>\n",
       "      <td>0</td>\n",
       "      <td>0</td>\n",
       "      <td>1</td>\n",
       "      <td>0</td>\n",
       "      <td>0</td>\n",
       "      <td>0</td>\n",
       "      <td>0</td>\n",
       "      <td>0</td>\n",
       "      <td>0</td>\n",
       "      <td>0</td>\n",
       "    </tr>\n",
       "    <tr>\n",
       "      <th>10398</th>\n",
       "      <td>30</td>\n",
       "      <td>5389.0</td>\n",
       "      <td>6</td>\n",
       "      <td>159.053623</td>\n",
       "      <td>3</td>\n",
       "      <td>0</td>\n",
       "      <td>1</td>\n",
       "      <td>0</td>\n",
       "      <td>0</td>\n",
       "      <td>0</td>\n",
       "      <td>...</td>\n",
       "      <td>0</td>\n",
       "      <td>0</td>\n",
       "      <td>0</td>\n",
       "      <td>0</td>\n",
       "      <td>0</td>\n",
       "      <td>0</td>\n",
       "      <td>0</td>\n",
       "      <td>0</td>\n",
       "      <td>0</td>\n",
       "      <td>0</td>\n",
       "    </tr>\n",
       "    <tr>\n",
       "      <th>23401</th>\n",
       "      <td>39</td>\n",
       "      <td>255.0</td>\n",
       "      <td>5</td>\n",
       "      <td>334.802583</td>\n",
       "      <td>1</td>\n",
       "      <td>0</td>\n",
       "      <td>0</td>\n",
       "      <td>0</td>\n",
       "      <td>0</td>\n",
       "      <td>0</td>\n",
       "      <td>...</td>\n",
       "      <td>0</td>\n",
       "      <td>0</td>\n",
       "      <td>0</td>\n",
       "      <td>0</td>\n",
       "      <td>0</td>\n",
       "      <td>0</td>\n",
       "      <td>1</td>\n",
       "      <td>0</td>\n",
       "      <td>0</td>\n",
       "      <td>0</td>\n",
       "    </tr>\n",
       "    <tr>\n",
       "      <th>25158</th>\n",
       "      <td>52</td>\n",
       "      <td>556.0</td>\n",
       "      <td>13</td>\n",
       "      <td>231.375776</td>\n",
       "      <td>6</td>\n",
       "      <td>0</td>\n",
       "      <td>1</td>\n",
       "      <td>0</td>\n",
       "      <td>0</td>\n",
       "      <td>0</td>\n",
       "      <td>...</td>\n",
       "      <td>0</td>\n",
       "      <td>0</td>\n",
       "      <td>0</td>\n",
       "      <td>0</td>\n",
       "      <td>0</td>\n",
       "      <td>0</td>\n",
       "      <td>0</td>\n",
       "      <td>0</td>\n",
       "      <td>0</td>\n",
       "      <td>0</td>\n",
       "    </tr>\n",
       "  </tbody>\n",
       "</table>\n",
       "<p>5 rows × 39 columns</p>\n",
       "</div>"
      ],
      "text/plain": [
       "       age  amount  day    duration  campaign  previous  y  job_blue-collar  \\\n",
       "13378   46     0.0   10  378.293875         1         0  1                0   \n",
       "3800    41  -333.0   30  300.845752         3         2  0                1   \n",
       "10398   30  5389.0    6  159.053623         3         0  1                0   \n",
       "23401   39   255.0    5  334.802583         1         0  0                0   \n",
       "25158   52   556.0   13  231.375776         6         0  1                0   \n",
       "\n",
       "       job_entrepreneur  job_housemaid  ...  month_dec  month_feb  month_jan  \\\n",
       "13378                 0              0  ...          0          0          0   \n",
       "3800                  0              0  ...          0          0          1   \n",
       "10398                 0              0  ...          0          0          0   \n",
       "23401                 0              0  ...          0          0          0   \n",
       "25158                 0              0  ...          0          0          0   \n",
       "\n",
       "       month_jul  month_jun  month_mar  month_may  month_nov  month_oct  \\\n",
       "13378          1          0          0          0          0          0   \n",
       "3800           0          0          0          0          0          0   \n",
       "10398          0          0          0          0          0          0   \n",
       "23401          0          0          0          1          0          0   \n",
       "25158          0          0          0          0          0          0   \n",
       "\n",
       "       month_sep  \n",
       "13378          0  \n",
       "3800           0  \n",
       "10398          0  \n",
       "23401          0  \n",
       "25158          0  \n",
       "\n",
       "[5 rows x 39 columns]"
      ]
     },
     "execution_count": 61,
     "metadata": {},
     "output_type": "execute_result"
    }
   ],
   "source": [
    "# 数値データ列の外れ値を調べる\n",
    "num_df = train_val.drop(str_col_name, axis=1)\n",
    "num_df = num_df.drop('id', axis=1)\n",
    "num_df2 = num_df.dropna()\n",
    "\n",
    "print(num_df2.shape)\n",
    "num_df2.head()"
   ]
  },
  {
   "cell_type": "code",
   "execution_count": null,
   "metadata": {},
   "outputs": [],
   "source": [
    "mcd2 = MinCovDet(random_state=0, support_fraction=0.7)\n",
    "mcd2.fit(num_df2)"
   ]
  },
  {
   "cell_type": "code",
   "execution_count": 46,
   "metadata": {},
   "outputs": [
    {
     "data": {
      "text/plain": [
       "<AxesSubplot:>"
      ]
     },
     "execution_count": 46,
     "metadata": {},
     "output_type": "execute_result"
    },
    {
     "data": {
      "image/png": "[encoded data removed]",
      "text/plain": [
       "<Figure size 432x288 with 1 Axes>"
      ]
     },
     "metadata": {
      "needs_background": "light"
     },
     "output_type": "display_data"
    }
   ],
   "source": [
    "# 箱ひげ図で外れ値を表示する\n",
    "dis = mcd2.mahalanobis(num_df2)\n",
    "dis = pd.Series(dis)\n",
    "dis.plot(kind=\"box\")"
   ]
  },
  {
   "cell_type": "code",
   "execution_count": 47,
   "metadata": {},
   "outputs": [
    {
     "data": {
      "text/plain": [
       "count     18084.000000\n",
       "mean        199.553389\n",
       "std        2615.322760\n",
       "min           8.201404\n",
       "25%          21.536943\n",
       "50%          30.961292\n",
       "75%          75.861095\n",
       "max      346111.305795\n",
       "dtype: float64"
      ]
     },
     "execution_count": 47,
     "metadata": {},
     "output_type": "execute_result"
    }
   ],
   "source": [
    "# 基本統計量を計算する\n",
    "dis.describe()"
   ]
  },
  {
   "cell_type": "code",
   "execution_count": 58,
   "metadata": {},
   "outputs": [
    {
     "data": {
      "text/plain": [
       "2561    346111.305795\n",
       "dtype: float64"
      ]
     },
     "execution_count": 58,
     "metadata": {},
     "output_type": "execute_result"
    }
   ],
   "source": [
    "# 外れ値の表示\n",
    "no = dis[dis > 300000].index\n",
    "dis[no]"
   ]
  },
  {
   "cell_type": "code",
   "execution_count": 63,
   "metadata": {},
   "outputs": [
    {
     "data": {
      "text/html": [
       "<div>\n",
       "<style scoped>\n",
       "    .dataframe tbody tr th:only-of-type {\n",
       "        vertical-align: middle;\n",
       "    }\n",
       "\n",
       "    .dataframe tbody tr th {\n",
       "        vertical-align: top;\n",
       "    }\n",
       "\n",
       "    .dataframe thead th {\n",
       "        text-align: right;\n",
       "    }\n",
       "</style>\n",
       "<table border=\"1\" class=\"dataframe\">\n",
       "  <thead>\n",
       "    <tr style=\"text-align: right;\">\n",
       "      <th></th>\n",
       "      <th>age</th>\n",
       "      <th>amount</th>\n",
       "      <th>day</th>\n",
       "      <th>duration</th>\n",
       "      <th>campaign</th>\n",
       "      <th>previous</th>\n",
       "      <th>y</th>\n",
       "      <th>job_blue-collar</th>\n",
       "      <th>job_entrepreneur</th>\n",
       "      <th>job_housemaid</th>\n",
       "      <th>...</th>\n",
       "      <th>month_dec</th>\n",
       "      <th>month_feb</th>\n",
       "      <th>month_jan</th>\n",
       "      <th>month_jul</th>\n",
       "      <th>month_jun</th>\n",
       "      <th>month_mar</th>\n",
       "      <th>month_may</th>\n",
       "      <th>month_nov</th>\n",
       "      <th>month_oct</th>\n",
       "      <th>month_sep</th>\n",
       "    </tr>\n",
       "  </thead>\n",
       "  <tbody>\n",
       "    <tr>\n",
       "      <th>3140</th>\n",
       "      <td>40</td>\n",
       "      <td>543.0</td>\n",
       "      <td>2</td>\n",
       "      <td>1435.48804</td>\n",
       "      <td>2</td>\n",
       "      <td>275</td>\n",
       "      <td>0</td>\n",
       "      <td>0</td>\n",
       "      <td>0</td>\n",
       "      <td>0</td>\n",
       "      <td>...</td>\n",
       "      <td>0</td>\n",
       "      <td>1</td>\n",
       "      <td>0</td>\n",
       "      <td>0</td>\n",
       "      <td>0</td>\n",
       "      <td>0</td>\n",
       "      <td>0</td>\n",
       "      <td>0</td>\n",
       "      <td>0</td>\n",
       "      <td>0</td>\n",
       "    </tr>\n",
       "  </tbody>\n",
       "</table>\n",
       "<p>1 rows × 39 columns</p>\n",
       "</div>"
      ],
      "text/plain": [
       "      age  amount  day    duration  campaign  previous  y  job_blue-collar  \\\n",
       "3140   40   543.0    2  1435.48804         2       275  0                0   \n",
       "\n",
       "      job_entrepreneur  job_housemaid  ...  month_dec  month_feb  month_jan  \\\n",
       "3140                 0              0  ...          0          1          0   \n",
       "\n",
       "      month_jul  month_jun  month_mar  month_may  month_nov  month_oct  \\\n",
       "3140          0          0          0          0          0          0   \n",
       "\n",
       "      month_sep  \n",
       "3140          0  \n",
       "\n",
       "[1 rows x 39 columns]"
      ]
     },
     "execution_count": 63,
     "metadata": {},
     "output_type": "execute_result"
    }
   ],
   "source": [
    "# num_df2の「no[0]以上、(no[0]+1)未満」番目のデータを削除する\n",
    "num_df2.iloc[no[0]:(no[0]+1),:]"
   ]
  },
  {
   "cell_type": "code",
   "execution_count": 65,
   "metadata": {},
   "outputs": [],
   "source": [
    "no = num_df2.iloc[no[0]:(no[0]+1), :].index\n",
    "train_val2 = train_val.drop(no)"
   ]
  },
  {
   "cell_type": "code",
   "execution_count": 66,
   "metadata": {},
   "outputs": [
    {
     "data": {
      "text/plain": [
       "duration                     1.000000\n",
       "housing_yes                  0.559269\n",
       "loan_yes                     0.374871\n",
       "y                            0.279582\n",
       "age                          0.208929\n",
       "month_aug                    0.188017\n",
       "month_may                    0.186111\n",
       "marital_single               0.165022\n",
       "marital_married              0.115441\n",
       "job_student                  0.108389\n",
       "previous                     0.102252\n",
       "contact_sending _document    0.088832\n",
       "education_tertiary           0.083440\n",
       "job_blue-collar              0.081568\n",
       "month_jun                    0.066075\n",
       "month_oct                    0.053041\n",
       "job_management               0.047512\n",
       "job_unknown                  0.046511\n",
       "job_unemployed               0.044287\n",
       "month_mar                    0.043928\n",
       "job_housemaid                0.039260\n",
       "education_secondary          0.034967\n",
       "job_retired                  0.033636\n",
       "month_sep                    0.032166\n",
       "amount                       0.030493\n",
       "day                          0.022636\n",
       "job_services                 0.022075\n",
       "campaign                     0.021513\n",
       "month_feb                    0.020818\n",
       "month_dec                    0.018029\n",
       "month_nov                    0.015293\n",
       "job_entrepreneur             0.014674\n",
       "job_self-employed            0.013694\n",
       "job_technician               0.012461\n",
       "default_yes                  0.011592\n",
       "month_jan                    0.009860\n",
       "id                           0.009385\n",
       "education_unknown            0.008952\n",
       "month_jul                    0.004927\n",
       "contact_telephone            0.003433\n",
       "Name: duration, dtype: float64"
      ]
     },
     "execution_count": 66,
     "metadata": {},
     "output_type": "execute_result"
    }
   ],
   "source": [
    "# 再度、「duration列」と各列との相関係数（絶対値）を抜き出す\n",
    "train_val2.corr()['duration'].map(abs).sort_values(ascending=False)"
   ]
  },
  {
   "cell_type": "markdown",
   "metadata": {},
   "source": [
    "- monthはdurationに本質的に影響あるとは思えない\n",
    "- 特徴量をhousing_yes, loan_yes, age, marital_single, job_studentとする。\n",
    "- （ｙは最終的な正解データなので除外）    "
   ]
  },
  {
   "cell_type": "code",
   "execution_count": 67,
   "metadata": {},
   "outputs": [
    {
     "data": {
      "text/plain": [
       "duration    6331\n",
       "dtype: int64"
      ]
     },
     "execution_count": 67,
     "metadata": {},
     "output_type": "execute_result"
    }
   ],
   "source": [
    "# 欠損値の確認\n",
    "is_nan = train_val2.isnull().sum()\n",
    "# 欠損が存在している列だけ表示\n",
    "is_nan[is_nan > 0]"
   ]
  },
  {
   "cell_type": "code",
   "execution_count": 68,
   "metadata": {},
   "outputs": [],
   "source": [
    "# 欠損行を削除\n",
    "not_nan_df = train_val2.dropna()\n",
    "temp_x = not_nan_df[[\n",
    "    'housing_yes', 'loan_yes', 'age', 'marital_single','job_student'\n",
    "]]\n",
    "temp_t = not_nan_df['duration']"
   ]
  },
  {
   "cell_type": "code",
   "execution_count": 72,
   "metadata": {},
   "outputs": [
    {
     "data": {
      "text/html": [
       "<div>\n",
       "<style scoped>\n",
       "    .dataframe tbody tr th:only-of-type {\n",
       "        vertical-align: middle;\n",
       "    }\n",
       "\n",
       "    .dataframe tbody tr th {\n",
       "        vertical-align: top;\n",
       "    }\n",
       "\n",
       "    .dataframe thead th {\n",
       "        text-align: right;\n",
       "    }\n",
       "</style>\n",
       "<table border=\"1\" class=\"dataframe\">\n",
       "  <thead>\n",
       "    <tr style=\"text-align: right;\">\n",
       "      <th></th>\n",
       "      <th>housing_yes</th>\n",
       "      <th>loan_yes</th>\n",
       "      <th>age</th>\n",
       "      <th>marital_single</th>\n",
       "      <th>job_student</th>\n",
       "    </tr>\n",
       "  </thead>\n",
       "  <tbody>\n",
       "    <tr>\n",
       "      <th>13378</th>\n",
       "      <td>1</td>\n",
       "      <td>0</td>\n",
       "      <td>46</td>\n",
       "      <td>0</td>\n",
       "      <td>0</td>\n",
       "    </tr>\n",
       "    <tr>\n",
       "      <th>3800</th>\n",
       "      <td>1</td>\n",
       "      <td>0</td>\n",
       "      <td>41</td>\n",
       "      <td>0</td>\n",
       "      <td>0</td>\n",
       "    </tr>\n",
       "    <tr>\n",
       "      <th>10398</th>\n",
       "      <td>0</td>\n",
       "      <td>0</td>\n",
       "      <td>30</td>\n",
       "      <td>1</td>\n",
       "      <td>0</td>\n",
       "    </tr>\n",
       "    <tr>\n",
       "      <th>23401</th>\n",
       "      <td>1</td>\n",
       "      <td>0</td>\n",
       "      <td>39</td>\n",
       "      <td>1</td>\n",
       "      <td>0</td>\n",
       "    </tr>\n",
       "    <tr>\n",
       "      <th>25158</th>\n",
       "      <td>0</td>\n",
       "      <td>0</td>\n",
       "      <td>52</td>\n",
       "      <td>1</td>\n",
       "      <td>0</td>\n",
       "    </tr>\n",
       "  </tbody>\n",
       "</table>\n",
       "</div>"
      ],
      "text/plain": [
       "       housing_yes  loan_yes  age  marital_single  job_student\n",
       "13378            1         0   46               0            0\n",
       "3800             1         0   41               0            0\n",
       "10398            0         0   30               1            0\n",
       "23401            1         0   39               1            0\n",
       "25158            0         0   52               1            0"
      ]
     },
     "execution_count": 72,
     "metadata": {},
     "output_type": "execute_result"
    }
   ],
   "source": [
    "temp_x.head()"
   ]
  },
  {
   "cell_type": "code",
   "execution_count": 69,
   "metadata": {},
   "outputs": [
    {
     "name": "stdout",
     "output_type": "stream",
     "text": [
      "0.7271253237617876 0.7154980171805083\n"
     ]
    }
   ],
   "source": [
    "# 線形回帰\n",
    "model_liner = LinearRegression()\n",
    "\n",
    "# 今回は予測させたいだけなので、標準化はしない\n",
    "a, b, c, d = train_test_split(temp_x, temp_t, random_state=0, test_size=0.2)\n",
    "\n",
    "model_liner.fit(a, c)\n",
    "print(model_liner.score(a, c),model_liner.score(b, d))"
   ]
  },
  {
   "cell_type": "code",
   "execution_count": 73,
   "metadata": {},
   "outputs": [],
   "source": [
    "# 「duration列」の欠損値を線形回帰の値で埋める\n",
    "is_null = train_val2['duration'].isnull()\n",
    "non_x = train_val2.loc[\n",
    "    is_null, ['housing_yes', 'loan_yes', 'age', 'marital_single', 'job_student'\n",
    "]]\n",
    "pred_d = model_liner.predict(non_x)\n",
    "train_val2.loc[is_null, 'duration'] = pred_d"
   ]
  },
  {
   "cell_type": "code",
   "execution_count": 74,
   "metadata": {},
   "outputs": [
    {
     "data": {
      "text/plain": [
       "<AxesSubplot:ylabel='Frequency'>"
      ]
     },
     "execution_count": 74,
     "metadata": {},
     "output_type": "execute_result"
    },
    {
     "data": {
      "image/png": "[encoded data removed]",
      "text/plain": [
       "<Figure size 432x288 with 1 Axes>"
      ]
     },
     "metadata": {
      "needs_background": "light"
     },
     "output_type": "display_data"
    }
   ],
   "source": [
    "# ヒストグラムの確認\n",
    "train_val2.loc[train_val['y'] == 0, \"duration\"].plot(kind=\"hist\")\n",
    "train_val2.loc[train_val['y'] == 1, \"duration\"].plot(kind=\"hist\", alpha=0.4)\n",
    "\n",
    "# y=1の方が、durationが大きい傾向がやっぱりありそう"
   ]
  },
  {
   "cell_type": "code",
   "execution_count": 75,
   "metadata": {},
   "outputs": [],
   "source": [
    "# 学習できるようなlearn関数を定義する。\n",
    "def learn(x, t, i):\n",
    "    x_train, x_val, y_train, y_val = train_test_split(\n",
    "        x, t, test_size=0.2, random_state=13\n",
    "    )\n",
    "    datum = [x_train, x_val, y_train, y_val]\n",
    "    \n",
    "    # 不均衡データに対応できるように、class_weight引数も設定\n",
    "    model = tree.DecisionTreeClassifier(\n",
    "        random_state=i, max_depth=i, class_weight='balanced'\n",
    "    )\n",
    "    model.fit(x_train, y_train)\n",
    "\n",
    "    train_score = model.score(x_train, y_train)\n",
    "    val_score = model.score(x_val, y_val)\n",
    "\n",
    "    return train_score, val_score, model, datum"
   ]
  },
  {
   "cell_type": "code",
   "execution_count": 76,
   "metadata": {},
   "outputs": [],
   "source": [
    "# learn関数へ渡すデータの準備\n",
    "t = train_val2['y']\n",
    "x = train_val2.drop(str_col_name, axis=1)\n",
    "x = x.drop(['id', 'y', 'day'], axis=1)"
   ]
  },
  {
   "cell_type": "code",
   "execution_count": 77,
   "metadata": {},
   "outputs": [
    {
     "name": "stdout",
     "output_type": "stream",
     "text": [
      "1 0.7436383185704777 0.7651034200286709\n",
      "2 0.674517433823153 0.6807290600040958\n",
      "3 0.7416926936664789 0.7569117345893918\n",
      "4 0.6975065280835595 0.7034609870980955\n",
      "5 0.7592545184578363 0.7653082121646528\n",
      "6 0.7422047002201628 0.745033790702437\n",
      "7 0.7774307511136143 0.7773909481875896\n",
      "8 0.8082535456453842 0.7939791112021298\n",
      "9 0.822180123905586 0.7999180831456072\n",
      "10 0.843377195228099 0.8038091337292648\n",
      "11 0.8587885924939839 0.7958222404259676\n",
      "12 0.8744047923813425 0.7886545156665984\n",
      "13 0.8949874558394347 0.792135981978292\n",
      "14 0.9094260406533203 0.7911120212983821\n"
     ]
    }
   ],
   "source": [
    "# for文でさまざまな決定木の深さでの正解率を調べる\n",
    "for i in range(1, 15):\n",
    "    s1, s2, model, datum = learn(x, t, i)\n",
    "    print(i, s1, s2)"
   ]
  },
  {
   "cell_type": "code",
   "execution_count": 78,
   "metadata": {},
   "outputs": [
    {
     "data": {
      "text/plain": [
       "0.7814227792112053"
      ]
     },
     "execution_count": 78,
     "metadata": {},
     "output_type": "execute_result"
    }
   ],
   "source": [
    "# テストデータで調べる\n",
    "test2 = test.copy()\n",
    "isnull = test2['duration'].isnull()\n",
    "\n",
    "model_tree=tree.DecisionTreeClassifier(\n",
    "    random_state=10, max_depth=10, class_weight=\"balanced\"\n",
    ")\n",
    "\n",
    "if isnull.sum() > 0:\n",
    "    temp_x = test2.loc[\n",
    "        isnull, ['housing_yes', 'loan_yes', 'age', 'marital_single', 'job_student'\n",
    "    ]]\n",
    "    pred_d = model_liner.predict(temp_x)\n",
    "    test2.loc[isnull,'duration'] = pred_d\n",
    "\n",
    "x_test = test2.drop(str_col_name, axis=1)\n",
    "x_test = x_test.drop(['id', 'y', 'day'], axis=1)\n",
    "y_test = test['y']\n",
    "\n",
    "model.score(x_test, y_test)\n",
    "# 9章の最後より若干低下している"
   ]
  },
  {
   "cell_type": "code",
   "execution_count": 79,
   "metadata": {},
   "outputs": [
    {
     "data": {
      "text/html": [
       "<div>\n",
       "<style scoped>\n",
       "    .dataframe tbody tr th:only-of-type {\n",
       "        vertical-align: middle;\n",
       "    }\n",
       "\n",
       "    .dataframe tbody tr th {\n",
       "        vertical-align: top;\n",
       "    }\n",
       "\n",
       "    .dataframe thead th {\n",
       "        text-align: right;\n",
       "    }\n",
       "</style>\n",
       "<table border=\"1\" class=\"dataframe\">\n",
       "  <thead>\n",
       "    <tr style=\"text-align: right;\">\n",
       "      <th>pred</th>\n",
       "      <th>0</th>\n",
       "      <th>1</th>\n",
       "    </tr>\n",
       "    <tr>\n",
       "      <th>true</th>\n",
       "      <th></th>\n",
       "      <th></th>\n",
       "    </tr>\n",
       "  </thead>\n",
       "  <tbody>\n",
       "    <tr>\n",
       "      <th>0</th>\n",
       "      <td>2631</td>\n",
       "      <td>715</td>\n",
       "    </tr>\n",
       "    <tr>\n",
       "      <th>1</th>\n",
       "      <td>262</td>\n",
       "      <td>1275</td>\n",
       "    </tr>\n",
       "  </tbody>\n",
       "</table>\n",
       "</div>"
      ],
      "text/plain": [
       "pred     0     1\n",
       "true            \n",
       "0     2631   715\n",
       "1      262  1275"
      ]
     },
     "execution_count": 79,
     "metadata": {},
     "output_type": "execute_result"
    }
   ],
   "source": [
    "# どのような間違い方をしているのか確認\n",
    "s1, s2, model, datum = learn(x, t, 9)\n",
    "\n",
    "# 訓練データでの予測結果と実際の値の2軸で個数集計flagがFalseならば、検証データで集計\n",
    "def syuukei(model, datum, flag=False):\n",
    "    if flag:\n",
    "        pre = model.predict(datum[0])\n",
    "        y_val = datum[2]\n",
    "    else:\n",
    "        pre = model.predict(datum[1])\n",
    "        y_val = datum[3]\n",
    "    data = {\n",
    "        \"pred\": pre,\n",
    "        \"true\": y_val\n",
    "    }\n",
    "    tmp = pd.DataFrame(data)\n",
    "    return tmp, pd.pivot_table(tmp, index=\"true\", columns=\"pred\", values=\"true\", aggfunc=len)\n",
    "\n",
    "tmp, a = syuukei(model, datum, False)\n",
    "a"
   ]
  },
  {
   "cell_type": "code",
   "execution_count": 80,
   "metadata": {},
   "outputs": [
    {
     "data": {
      "text/plain": [
       "<AxesSubplot:>"
      ]
     },
     "execution_count": 80,
     "metadata": {},
     "output_type": "execute_result"
    },
    {
     "data": {
      "image/png": "[encoded data removed]",
      "text/plain": [
       "<Figure size 432x288 with 1 Axes>"
      ]
     },
     "metadata": {
      "needs_background": "light"
     },
     "output_type": "display_data"
    }
   ],
   "source": [
    "# 値にばらつきが大きいので、標準化してもう一度グラフ化\n",
    "from sklearn.preprocessing import StandardScaler\n",
    "\n",
    "sc = StandardScaler()\n",
    "tmp2 = train_val2.drop(str_col_name, axis=1)\n",
    "sc_data = sc.fit_transform(tmp2)\n",
    "sc_df = pd.DataFrame(sc_data, columns=tmp2.columns, index=tmp2.index)\n",
    "\n",
    "######挿入箇所#######\n",
    "pre = model.predict(sc_df.drop([\"id\", \"day\", \"y\"], axis=1))\n",
    "target = tmp2[\"y\"]\n",
    "true = (pre == target)\n",
    "false = (pre != target)\n",
    "############\n",
    "\n",
    "true_df = sc_df.loc[true]\n",
    "false_df = sc_df.loc[false]\n",
    "true_df\n",
    "temp2 = pd.concat([false_df.mean()[\"age\":], true_df.mean()[\"age\":]], axis=1)\n",
    "temp2.plot(kind=\"bar\")\n"
   ]
  },
  {
   "cell_type": "code",
   "execution_count": 81,
   "metadata": {},
   "outputs": [
    {
     "name": "stdout",
     "output_type": "stream",
     "text": [
      "loan\n",
      "no     0.300210\n",
      "yes    0.424328\n",
      "Name: y, dtype: float64 \n",
      "\n",
      "housing\n",
      "no     0.217959\n",
      "yes    0.400940\n",
      "Name: y, dtype: float64\n"
     ]
    }
   ],
   "source": [
    "print(train_val2.groupby('loan')['y'].mean(), \"\\n\")\n",
    "print(train_val2.groupby('housing')['y'].mean())"
   ]
  },
  {
   "cell_type": "code",
   "execution_count": 82,
   "metadata": {},
   "outputs": [],
   "source": [
    "train_val3 = train_val2.copy()\n",
    "train_val3['du*hou'] = train_val3['duration'] * train_val3['housing_yes']\n",
    "train_val3['du*loan'] = train_val3['duration'] * train_val3['loan_yes']\n",
    "train_val3['du*age'] = train_val3['duration'] * train_val3['age']"
   ]
  },
  {
   "cell_type": "code",
   "execution_count": 83,
   "metadata": {},
   "outputs": [
    {
     "data": {
      "text/plain": [
       "Index(['age', 'amount', 'duration', 'campaign', 'previous', 'job_blue-collar',\n",
       "       'default_yes', 'marital_married', 'marital_single',\n",
       "       'education_secondary', 'education_tertiary', 'education_unknown',\n",
       "       'housing_yes', 'loan_yes', 'contact_sending _document',\n",
       "       'contact_telephone', 'du*hou', 'du*loan', 'du*age'],\n",
       "      dtype='object')"
      ]
     },
     "execution_count": 83,
     "metadata": {},
     "output_type": "execute_result"
    }
   ],
   "source": [
    "t = train_val3['y']\n",
    "\n",
    "monthcol = [\n",
    "    'month_aug', 'month_dec', 'month_feb', 'month_jan', 'month_jul',\n",
    "    'month_jun', 'month_mar', 'month_may', 'month_nov', 'month_oct', \n",
    "    'month_sep'\n",
    "]\n",
    "jobcol = [\n",
    "    'job_entrepreneur', 'job_housemaid', 'job_management', 'job_retired',\n",
    "    'job_self-employed', 'job_services', 'job_student', 'job_technician',\n",
    "    'job_unemployed', 'job_unknown'\n",
    "]\n",
    "x = train_val3.drop(str_col_name, axis=1)\n",
    "x = x.drop(jobcol, axis=1)\n",
    "x = x.drop(monthcol, axis=1)\n",
    "x = x.drop(['id', 'y', 'day'], axis=1)\n",
    "x.columns"
   ]
  },
  {
   "cell_type": "code",
   "execution_count": 84,
   "metadata": {},
   "outputs": [
    {
     "name": "stdout",
     "output_type": "stream",
     "text": [
      "5 0.7585377092826788 0.7648986278926889\n",
      "6 0.7422559008755312 0.7440098300225272\n",
      "7 0.7811171983001383 0.7792340774114274\n",
      "8 0.8061543187752803 0.7876305549866885\n",
      "9 0.8267369822333726 0.801146835961499\n",
      "10 0.8407147611489427 0.7978701617857874\n",
      "11 0.8552045466181967 0.7911120212983821\n",
      "12 0.8780912395678665 0.7988941224656974\n",
      "13 0.8984691004044851 0.7982797460577514\n",
      "14 0.9142901029133172 0.7978701617857874\n"
     ]
    }
   ],
   "source": [
    "# for文でさまざまな決定木の深さでの正解率を調べる\n",
    "for i in range(5, 15):\n",
    "    s1, s2, model, datum = learn(x, t, i)\n",
    "    print(i, s1, s2)"
   ]
  },
  {
   "cell_type": "code",
   "execution_count": 85,
   "metadata": {},
   "outputs": [
    {
     "data": {
      "text/html": [
       "<div>\n",
       "<style scoped>\n",
       "    .dataframe tbody tr th:only-of-type {\n",
       "        vertical-align: middle;\n",
       "    }\n",
       "\n",
       "    .dataframe tbody tr th {\n",
       "        vertical-align: top;\n",
       "    }\n",
       "\n",
       "    .dataframe thead th {\n",
       "        text-align: right;\n",
       "    }\n",
       "</style>\n",
       "<table border=\"1\" class=\"dataframe\">\n",
       "  <thead>\n",
       "    <tr style=\"text-align: right;\">\n",
       "      <th>pred</th>\n",
       "      <th>0</th>\n",
       "      <th>1</th>\n",
       "    </tr>\n",
       "    <tr>\n",
       "      <th>true</th>\n",
       "      <th></th>\n",
       "      <th></th>\n",
       "    </tr>\n",
       "  </thead>\n",
       "  <tbody>\n",
       "    <tr>\n",
       "      <th>0</th>\n",
       "      <td>2653</td>\n",
       "      <td>693</td>\n",
       "    </tr>\n",
       "    <tr>\n",
       "      <th>1</th>\n",
       "      <td>278</td>\n",
       "      <td>1259</td>\n",
       "    </tr>\n",
       "  </tbody>\n",
       "</table>\n",
       "</div>"
      ],
      "text/plain": [
       "pred     0     1\n",
       "true            \n",
       "0     2653   693\n",
       "1      278  1259"
      ]
     },
     "execution_count": 85,
     "metadata": {},
     "output_type": "execute_result"
    }
   ],
   "source": [
    "s1, s2, model, datum = learn(x, t, 9)\n",
    "tmp, a = syuukei(model, datum, False)\n",
    "a"
   ]
  },
  {
   "cell_type": "code",
   "execution_count": 86,
   "metadata": {},
   "outputs": [
    {
     "data": {
      "text/plain": [
       "age                          0.103160\n",
       "amount                       0.019240\n",
       "duration                     0.522389\n",
       "campaign                     0.141550\n",
       "previous                     0.012433\n",
       "job_blue-collar              0.000689\n",
       "default_yes                  0.001352\n",
       "marital_married              0.001845\n",
       "marital_single               0.001906\n",
       "education_secondary          0.001850\n",
       "education_tertiary           0.001379\n",
       "education_unknown            0.000689\n",
       "housing_yes                  0.020159\n",
       "loan_yes                     0.018217\n",
       "contact_sending _document    0.019211\n",
       "contact_telephone            0.000493\n",
       "du*hou                       0.034961\n",
       "du*loan                      0.043253\n",
       "du*age                       0.055223\n",
       "dtype: float64"
      ]
     },
     "execution_count": 86,
     "metadata": {},
     "output_type": "execute_result"
    }
   ],
   "source": [
    "pd.Series(model.feature_importances_,index=x.columns)"
   ]
  },
  {
   "cell_type": "code",
   "execution_count": 87,
   "metadata": {},
   "outputs": [
    {
     "data": {
      "text/html": [
       "<style>#sk-container-id-3 {color: black;background-color: white;}#sk-container-id-3 pre{padding: 0;}#sk-container-id-3 div.sk-toggleable {background-color: white;}#sk-container-id-3 label.sk-toggleable__label {cursor: pointer;display: block;width: 100%;margin-bottom: 0;padding: 0.3em;box-sizing: border-box;text-align: center;}#sk-container-id-3 label.sk-toggleable__label-arrow:before {content: \"▸\";float: left;margin-right: 0.25em;color: #696969;}#sk-container-id-3 label.sk-toggleable__label-arrow:hover:before {color: black;}#sk-container-id-3 div.sk-estimator:hover label.sk-toggleable__label-arrow:before {color: black;}#sk-container-id-3 div.sk-toggleable__content {max-height: 0;max-width: 0;overflow: hidden;text-align: left;background-color: #f0f8ff;}#sk-container-id-3 div.sk-toggleable__content pre {margin: 0.2em;color: black;border-radius: 0.25em;background-color: #f0f8ff;}#sk-container-id-3 input.sk-toggleable__control:checked~div.sk-toggleable__content {max-height: 200px;max-width: 100%;overflow: auto;}#sk-container-id-3 input.sk-toggleable__control:checked~label.sk-toggleable__label-arrow:before {content: \"▾\";}#sk-container-id-3 div.sk-estimator input.sk-toggleable__control:checked~label.sk-toggleable__label {background-color: #d4ebff;}#sk-container-id-3 div.sk-label input.sk-toggleable__control:checked~label.sk-toggleable__label {background-color: #d4ebff;}#sk-container-id-3 input.sk-hidden--visually {border: 0;clip: rect(1px 1px 1px 1px);clip: rect(1px, 1px, 1px, 1px);height: 1px;margin: -1px;overflow: hidden;padding: 0;position: absolute;width: 1px;}#sk-container-id-3 div.sk-estimator {font-family: monospace;background-color: #f0f8ff;border: 1px dotted black;border-radius: 0.25em;box-sizing: border-box;margin-bottom: 0.5em;}#sk-container-id-3 div.sk-estimator:hover {background-color: #d4ebff;}#sk-container-id-3 div.sk-parallel-item::after {content: \"\";width: 100%;border-bottom: 1px solid gray;flex-grow: 1;}#sk-container-id-3 div.sk-label:hover label.sk-toggleable__label {background-color: #d4ebff;}#sk-container-id-3 div.sk-serial::before {content: \"\";position: absolute;border-left: 1px solid gray;box-sizing: border-box;top: 0;bottom: 0;left: 50%;z-index: 0;}#sk-container-id-3 div.sk-serial {display: flex;flex-direction: column;align-items: center;background-color: white;padding-right: 0.2em;padding-left: 0.2em;position: relative;}#sk-container-id-3 div.sk-item {position: relative;z-index: 1;}#sk-container-id-3 div.sk-parallel {display: flex;align-items: stretch;justify-content: center;background-color: white;position: relative;}#sk-container-id-3 div.sk-item::before, #sk-container-id-3 div.sk-parallel-item::before {content: \"\";position: absolute;border-left: 1px solid gray;box-sizing: border-box;top: 0;bottom: 0;left: 50%;z-index: -1;}#sk-container-id-3 div.sk-parallel-item {display: flex;flex-direction: column;z-index: 1;position: relative;background-color: white;}#sk-container-id-3 div.sk-parallel-item:first-child::after {align-self: flex-end;width: 50%;}#sk-container-id-3 div.sk-parallel-item:last-child::after {align-self: flex-start;width: 50%;}#sk-container-id-3 div.sk-parallel-item:only-child::after {width: 0;}#sk-container-id-3 div.sk-dashed-wrapped {border: 1px dashed gray;margin: 0 0.4em 0.5em 0.4em;box-sizing: border-box;padding-bottom: 0.4em;background-color: white;}#sk-container-id-3 div.sk-label label {font-family: monospace;font-weight: bold;display: inline-block;line-height: 1.2em;}#sk-container-id-3 div.sk-label-container {text-align: center;}#sk-container-id-3 div.sk-container {/* jupyter's `normalize.less` sets `[hidden] { display: none; }` but bootstrap.min.css set `[hidden] { display: none !important; }` so we also need the `!important` here to be able to override the default hidden behavior on the sphinx rendered scikit-learn.org. See: https://github.com/scikit-learn/scikit-learn/issues/21755 */display: inline-block !important;position: relative;}#sk-container-id-3 div.sk-text-repr-fallback {display: none;}</style><div id=\"sk-container-id-3\" class=\"sk-top-container\"><div class=\"sk-text-repr-fallback\"><pre>DecisionTreeClassifier(class_weight=&#x27;balanced&#x27;, max_depth=9, random_state=9)</pre><b>In a Jupyter environment, please rerun this cell to show the HTML representation or trust the notebook. <br />On GitHub, the HTML representation is unable to render, please try loading this page with nbviewer.org.</b></div><div class=\"sk-container\" hidden><div class=\"sk-item\"><div class=\"sk-estimator sk-toggleable\"><input class=\"sk-toggleable__control sk-hidden--visually\" id=\"sk-estimator-id-3\" type=\"checkbox\" checked><label for=\"sk-estimator-id-3\" class=\"sk-toggleable__label sk-toggleable__label-arrow\">DecisionTreeClassifier</label><div class=\"sk-toggleable__content\"><pre>DecisionTreeClassifier(class_weight=&#x27;balanced&#x27;, max_depth=9, random_state=9)</pre></div></div></div></div></div>"
      ],
      "text/plain": [
       "DecisionTreeClassifier(class_weight='balanced', max_depth=9, random_state=9)"
      ]
     },
     "execution_count": 87,
     "metadata": {},
     "output_type": "execute_result"
    }
   ],
   "source": [
    "i = 9\n",
    "model = tree.DecisionTreeClassifier(\n",
    "    random_state=i, max_depth=i, class_weight=\"balanced\"\n",
    ")\n",
    "model.fit(x, t)"
   ]
  },
  {
   "cell_type": "code",
   "execution_count": 88,
   "metadata": {},
   "outputs": [
    {
     "data": {
      "text/plain": [
       "0.7913748617766311"
      ]
     },
     "execution_count": 88,
     "metadata": {},
     "output_type": "execute_result"
    }
   ],
   "source": [
    "# テストデータでも調べる\n",
    "test2 = test.copy()\n",
    "isnull = test['duration'].isnull()\n",
    "\n",
    "if isnull.sum() > 0:\n",
    "    temp_x = test2.loc[\n",
    "        isnull, \n",
    "        ['housing_yes', 'loan_yes', 'age', 'marital_single', 'job_student']\n",
    "    ]\n",
    "    pred_d = model_liner.predict(temp_x)\n",
    "    test2.loc[isnull,'duration'] = pred_d\n",
    "\n",
    "test2['du*hou'] = test2['duration'] * test2['housing_yes']\n",
    "test2['du*loan'] = test2['duration'] * test2['loan_yes']\n",
    "test2['du*age'] = test2['duration'] * test2['age']\n",
    "\n",
    "x_test = test2.drop(str_col_name, axis=1)\n",
    "x_test = x_test.drop(jobcol, axis=1)\n",
    "x_test = x_test.drop(monthcol, axis=1)\n",
    "x_test = x_test.drop(['id', 'y', 'day'], axis=1)\n",
    "y_test = test['y']\n",
    "x_test.columns\n",
    "model.score(x_test, y_test)"
   ]
  },
  {
   "cell_type": "markdown",
   "metadata": {},
   "source": [
    "- 直観的に考えて、9章では、housingとloanで集計しており、今回の線形回帰では、それらの列も含まれているから、\n",
    "- durationの性能はよりよくなるはず、でも全体のモデルの正解率は1%ほど低下している\n",
    "- 原因の仮説⇒ \n",
    "  - １．現状の線形回帰だと訓練&検証に過学習してしまい、テストデータにフィットしない。\n",
    "    - （そもそもテストデータではdurationがあまり関係していない？？）\n",
    "  - 2. 純粋な決定木の限界？ \n",
    "  - 3. 現在考慮していない特徴量ももっとしっかりした方が良いのか？？\n",
    "\n",
    "次以降の章で仮説1,2について検討できるので、次章に続く。"
   ]
  }
 ],
 "metadata": {
  "interpreter": {
   "hash": "59dafaf31f4c906cca062281d81c99e041861ac1b3181d0964a0a41f42326fb1"
  },
  "kernelspec": {
   "display_name": "Python 3.9.13 ('ml_env': venv)",
   "language": "python",
   "name": "python3"
  },
  "language_info": {
   "codemirror_mode": {
    "name": "ipython",
    "version": 3
   },
   "file_extension": ".py",
   "mimetype": "text/x-python",
   "name": "python",
   "nbconvert_exporter": "python",
   "pygments_lexer": "ipython3",
   "version": "3.9.13"
  },
  "orig_nbformat": 4
 },
 "nbformat": 4,
 "nbformat_minor": 2
}
