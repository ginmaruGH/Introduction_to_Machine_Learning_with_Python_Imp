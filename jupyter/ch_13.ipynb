{
 "cells": [
  {
   "cell_type": "markdown",
   "metadata": {},
   "source": [
    "# Chap.13 さまざまな予測性能評価"
   ]
  },
  {
   "cell_type": "code",
   "execution_count": 1,
   "metadata": {},
   "outputs": [
    {
     "data": {
      "text/html": [
       "<style>#sk-container-id-1 {color: black;background-color: white;}#sk-container-id-1 pre{padding: 0;}#sk-container-id-1 div.sk-toggleable {background-color: white;}#sk-container-id-1 label.sk-toggleable__label {cursor: pointer;display: block;width: 100%;margin-bottom: 0;padding: 0.3em;box-sizing: border-box;text-align: center;}#sk-container-id-1 label.sk-toggleable__label-arrow:before {content: \"▸\";float: left;margin-right: 0.25em;color: #696969;}#sk-container-id-1 label.sk-toggleable__label-arrow:hover:before {color: black;}#sk-container-id-1 div.sk-estimator:hover label.sk-toggleable__label-arrow:before {color: black;}#sk-container-id-1 div.sk-toggleable__content {max-height: 0;max-width: 0;overflow: hidden;text-align: left;background-color: #f0f8ff;}#sk-container-id-1 div.sk-toggleable__content pre {margin: 0.2em;color: black;border-radius: 0.25em;background-color: #f0f8ff;}#sk-container-id-1 input.sk-toggleable__control:checked~div.sk-toggleable__content {max-height: 200px;max-width: 100%;overflow: auto;}#sk-container-id-1 input.sk-toggleable__control:checked~label.sk-toggleable__label-arrow:before {content: \"▾\";}#sk-container-id-1 div.sk-estimator input.sk-toggleable__control:checked~label.sk-toggleable__label {background-color: #d4ebff;}#sk-container-id-1 div.sk-label input.sk-toggleable__control:checked~label.sk-toggleable__label {background-color: #d4ebff;}#sk-container-id-1 input.sk-hidden--visually {border: 0;clip: rect(1px 1px 1px 1px);clip: rect(1px, 1px, 1px, 1px);height: 1px;margin: -1px;overflow: hidden;padding: 0;position: absolute;width: 1px;}#sk-container-id-1 div.sk-estimator {font-family: monospace;background-color: #f0f8ff;border: 1px dotted black;border-radius: 0.25em;box-sizing: border-box;margin-bottom: 0.5em;}#sk-container-id-1 div.sk-estimator:hover {background-color: #d4ebff;}#sk-container-id-1 div.sk-parallel-item::after {content: \"\";width: 100%;border-bottom: 1px solid gray;flex-grow: 1;}#sk-container-id-1 div.sk-label:hover label.sk-toggleable__label {background-color: #d4ebff;}#sk-container-id-1 div.sk-serial::before {content: \"\";position: absolute;border-left: 1px solid gray;box-sizing: border-box;top: 0;bottom: 0;left: 50%;z-index: 0;}#sk-container-id-1 div.sk-serial {display: flex;flex-direction: column;align-items: center;background-color: white;padding-right: 0.2em;padding-left: 0.2em;position: relative;}#sk-container-id-1 div.sk-item {position: relative;z-index: 1;}#sk-container-id-1 div.sk-parallel {display: flex;align-items: stretch;justify-content: center;background-color: white;position: relative;}#sk-container-id-1 div.sk-item::before, #sk-container-id-1 div.sk-parallel-item::before {content: \"\";position: absolute;border-left: 1px solid gray;box-sizing: border-box;top: 0;bottom: 0;left: 50%;z-index: -1;}#sk-container-id-1 div.sk-parallel-item {display: flex;flex-direction: column;z-index: 1;position: relative;background-color: white;}#sk-container-id-1 div.sk-parallel-item:first-child::after {align-self: flex-end;width: 50%;}#sk-container-id-1 div.sk-parallel-item:last-child::after {align-self: flex-start;width: 50%;}#sk-container-id-1 div.sk-parallel-item:only-child::after {width: 0;}#sk-container-id-1 div.sk-dashed-wrapped {border: 1px dashed gray;margin: 0 0.4em 0.5em 0.4em;box-sizing: border-box;padding-bottom: 0.4em;background-color: white;}#sk-container-id-1 div.sk-label label {font-family: monospace;font-weight: bold;display: inline-block;line-height: 1.2em;}#sk-container-id-1 div.sk-label-container {text-align: center;}#sk-container-id-1 div.sk-container {/* jupyter's `normalize.less` sets `[hidden] { display: none; }` but bootstrap.min.css set `[hidden] { display: none !important; }` so we also need the `!important` here to be able to override the default hidden behavior on the sphinx rendered scikit-learn.org. See: https://github.com/scikit-learn/scikit-learn/issues/21755 */display: inline-block !important;position: relative;}#sk-container-id-1 div.sk-text-repr-fallback {display: none;}</style><div id=\"sk-container-id-1\" class=\"sk-top-container\"><div class=\"sk-text-repr-fallback\"><pre>LinearRegression()</pre><b>In a Jupyter environment, please rerun this cell to show the HTML representation or trust the notebook. <br />On GitHub, the HTML representation is unable to render, please try loading this page with nbviewer.org.</b></div><div class=\"sk-container\" hidden><div class=\"sk-item\"><div class=\"sk-estimator sk-toggleable\"><input class=\"sk-toggleable__control sk-hidden--visually\" id=\"sk-estimator-id-1\" type=\"checkbox\" checked><label for=\"sk-estimator-id-1\" class=\"sk-toggleable__label sk-toggleable__label-arrow\">LinearRegression</label><div class=\"sk-toggleable__content\"><pre>LinearRegression()</pre></div></div></div></div></div>"
      ],
      "text/plain": [
       "LinearRegression()"
      ]
     },
     "execution_count": 1,
     "metadata": {},
     "output_type": "execute_result"
    }
   ],
   "source": [
    "# 13-1 データとモデルの準備\n",
    "from sklearn.linear_model import LinearRegression\n",
    "import pandas as pd\n",
    "\n",
    "# 欠損値があるままでは学習できないので欠損値処理だけ行う\n",
    "df = pd.read_csv('../support/datafiles/cinema.csv')\n",
    "df = df.fillna(df.mean())\n",
    "x = df.loc[:, 'SNS1':'original']\n",
    "t = df['sales']\n",
    "model = LinearRegression()\n",
    "model.fit(x, t)"
   ]
  },
  {
   "cell_type": "code",
   "execution_count": 2,
   "metadata": {},
   "outputs": [
    {
     "data": {
      "text/plain": [
       "151986.03957624518"
      ]
     },
     "execution_count": 2,
     "metadata": {},
     "output_type": "execute_result"
    }
   ],
   "source": [
    "# 13-2 平均二乗誤差を計算する\n",
    "from sklearn.metrics import mean_squared_error\n",
    "\n",
    "pred = model.predict(x)\n",
    "# 訓練データでのMSE値\n",
    "mse = mean_squared_error(pred, t)\n",
    "mse"
   ]
  },
  {
   "cell_type": "markdown",
   "metadata": {},
   "source": [
    "### 13.1.3 二乗平均平方根誤差（RMSE）"
   ]
  },
  {
   "cell_type": "code",
   "execution_count": 3,
   "metadata": {},
   "outputs": [
    {
     "data": {
      "text/plain": [
       "389.85386951554705"
      ]
     },
     "execution_count": 3,
     "metadata": {},
     "output_type": "execute_result"
    }
   ],
   "source": [
    "# 13-3 RMSEの計算\n",
    "import math\n",
    "\n",
    "# RMSEの計算\n",
    "math.sqrt(mse)"
   ]
  },
  {
   "cell_type": "code",
   "execution_count": 5,
   "metadata": {},
   "outputs": [
    {
     "name": "stdout",
     "output_type": "stream",
     "text": [
      "rmse: 3.8944404818493075\n",
      "mae: 3.5\n",
      "外れ値の混入\n",
      "rmse: 9.411239481143202\n",
      "mae: 6.285714285714286\n"
     ]
    }
   ],
   "source": [
    "# 13-4 予測結果と実際の誤差を検証する\n",
    "\n",
    "from sklearn.metrics import mean_absolute_error\n",
    "\n",
    "# 予測結果をリストで作成\n",
    "yosoku = [2, 3, 5, 7, 11, 13]\n",
    "# 実際の結果をリストで作成\n",
    "target = [3, 5, 8, 11, 16, 19]\n",
    "\n",
    "mse = mean_squared_error(yosoku, target)\n",
    "print(f\"rmse: {math.sqrt(mse)}\")\n",
    "print(f\"mae: {mean_absolute_error(yosoku, target)}\")\n",
    "\n",
    "print('外れ値の混入')\n",
    "# 実際には23だけど46と予測\n",
    "yosoku = [2, 3, 5, 7, 11, 13, 46]\n",
    "target = [3, 5, 8, 11, 16, 19, 23]\n",
    "\n",
    "mse = mean_squared_error(yosoku, target)\n",
    "print(f\"rmse: {math.sqrt(mse)}\")\n",
    "print(f\"mae: {mean_absolute_error(yosoku, target)}\")\n"
   ]
  },
  {
   "cell_type": "markdown",
   "metadata": {},
   "source": [
    "## 13.2 分類の予測性能評価"
   ]
  },
  {
   "cell_type": "markdown",
   "metadata": {},
   "source": [
    "### 13.2.1 適合率と再現率"
   ]
  },
  {
   "cell_type": "code",
   "execution_count": 8,
   "metadata": {},
   "outputs": [
    {
     "name": "stderr",
     "output_type": "stream",
     "text": [
      "/var/folders/cm/w7d5zwgj0h3gp9q0lvvq4yrr0000gn/T/ipykernel_11149/2706489098.py:3: FutureWarning: Dropping of nuisance columns in DataFrame reductions (with 'numeric_only=None') is deprecated; in a future version this will raise TypeError.  Select only valid columns before calling the reduction.\n",
      "  df = df.fillna(df.mean())\n"
     ]
    }
   ],
   "source": [
    "# 13-5 データの準備\n",
    "df = pd.read_csv('../support/datafiles/Survived.csv')\n",
    "df = df.fillna(df.mean())\n",
    "\n",
    "x = df[['Pclass', 'Age']]\n",
    "t = df['Survived']"
   ]
  },
  {
   "cell_type": "code",
   "execution_count": 9,
   "metadata": {},
   "outputs": [
    {
     "data": {
      "text/html": [
       "<style>#sk-container-id-3 {color: black;background-color: white;}#sk-container-id-3 pre{padding: 0;}#sk-container-id-3 div.sk-toggleable {background-color: white;}#sk-container-id-3 label.sk-toggleable__label {cursor: pointer;display: block;width: 100%;margin-bottom: 0;padding: 0.3em;box-sizing: border-box;text-align: center;}#sk-container-id-3 label.sk-toggleable__label-arrow:before {content: \"▸\";float: left;margin-right: 0.25em;color: #696969;}#sk-container-id-3 label.sk-toggleable__label-arrow:hover:before {color: black;}#sk-container-id-3 div.sk-estimator:hover label.sk-toggleable__label-arrow:before {color: black;}#sk-container-id-3 div.sk-toggleable__content {max-height: 0;max-width: 0;overflow: hidden;text-align: left;background-color: #f0f8ff;}#sk-container-id-3 div.sk-toggleable__content pre {margin: 0.2em;color: black;border-radius: 0.25em;background-color: #f0f8ff;}#sk-container-id-3 input.sk-toggleable__control:checked~div.sk-toggleable__content {max-height: 200px;max-width: 100%;overflow: auto;}#sk-container-id-3 input.sk-toggleable__control:checked~label.sk-toggleable__label-arrow:before {content: \"▾\";}#sk-container-id-3 div.sk-estimator input.sk-toggleable__control:checked~label.sk-toggleable__label {background-color: #d4ebff;}#sk-container-id-3 div.sk-label input.sk-toggleable__control:checked~label.sk-toggleable__label {background-color: #d4ebff;}#sk-container-id-3 input.sk-hidden--visually {border: 0;clip: rect(1px 1px 1px 1px);clip: rect(1px, 1px, 1px, 1px);height: 1px;margin: -1px;overflow: hidden;padding: 0;position: absolute;width: 1px;}#sk-container-id-3 div.sk-estimator {font-family: monospace;background-color: #f0f8ff;border: 1px dotted black;border-radius: 0.25em;box-sizing: border-box;margin-bottom: 0.5em;}#sk-container-id-3 div.sk-estimator:hover {background-color: #d4ebff;}#sk-container-id-3 div.sk-parallel-item::after {content: \"\";width: 100%;border-bottom: 1px solid gray;flex-grow: 1;}#sk-container-id-3 div.sk-label:hover label.sk-toggleable__label {background-color: #d4ebff;}#sk-container-id-3 div.sk-serial::before {content: \"\";position: absolute;border-left: 1px solid gray;box-sizing: border-box;top: 0;bottom: 0;left: 50%;z-index: 0;}#sk-container-id-3 div.sk-serial {display: flex;flex-direction: column;align-items: center;background-color: white;padding-right: 0.2em;padding-left: 0.2em;position: relative;}#sk-container-id-3 div.sk-item {position: relative;z-index: 1;}#sk-container-id-3 div.sk-parallel {display: flex;align-items: stretch;justify-content: center;background-color: white;position: relative;}#sk-container-id-3 div.sk-item::before, #sk-container-id-3 div.sk-parallel-item::before {content: \"\";position: absolute;border-left: 1px solid gray;box-sizing: border-box;top: 0;bottom: 0;left: 50%;z-index: -1;}#sk-container-id-3 div.sk-parallel-item {display: flex;flex-direction: column;z-index: 1;position: relative;background-color: white;}#sk-container-id-3 div.sk-parallel-item:first-child::after {align-self: flex-end;width: 50%;}#sk-container-id-3 div.sk-parallel-item:last-child::after {align-self: flex-start;width: 50%;}#sk-container-id-3 div.sk-parallel-item:only-child::after {width: 0;}#sk-container-id-3 div.sk-dashed-wrapped {border: 1px dashed gray;margin: 0 0.4em 0.5em 0.4em;box-sizing: border-box;padding-bottom: 0.4em;background-color: white;}#sk-container-id-3 div.sk-label label {font-family: monospace;font-weight: bold;display: inline-block;line-height: 1.2em;}#sk-container-id-3 div.sk-label-container {text-align: center;}#sk-container-id-3 div.sk-container {/* jupyter's `normalize.less` sets `[hidden] { display: none; }` but bootstrap.min.css set `[hidden] { display: none !important; }` so we also need the `!important` here to be able to override the default hidden behavior on the sphinx rendered scikit-learn.org. See: https://github.com/scikit-learn/scikit-learn/issues/21755 */display: inline-block !important;position: relative;}#sk-container-id-3 div.sk-text-repr-fallback {display: none;}</style><div id=\"sk-container-id-3\" class=\"sk-top-container\"><div class=\"sk-text-repr-fallback\"><pre>DecisionTreeClassifier(max_depth=2, random_state=0)</pre><b>In a Jupyter environment, please rerun this cell to show the HTML representation or trust the notebook. <br />On GitHub, the HTML representation is unable to render, please try loading this page with nbviewer.org.</b></div><div class=\"sk-container\" hidden><div class=\"sk-item\"><div class=\"sk-estimator sk-toggleable\"><input class=\"sk-toggleable__control sk-hidden--visually\" id=\"sk-estimator-id-3\" type=\"checkbox\" checked><label for=\"sk-estimator-id-3\" class=\"sk-toggleable__label sk-toggleable__label-arrow\">DecisionTreeClassifier</label><div class=\"sk-toggleable__content\"><pre>DecisionTreeClassifier(max_depth=2, random_state=0)</pre></div></div></div></div></div>"
      ],
      "text/plain": [
       "DecisionTreeClassifier(max_depth=2, random_state=0)"
      ]
     },
     "execution_count": 9,
     "metadata": {},
     "output_type": "execute_result"
    }
   ],
   "source": [
    "# 13-6 モデルの準備\n",
    "from sklearn import tree\n",
    "\n",
    "model = tree.DecisionTreeClassifier(\n",
    "    max_depth=2, random_state=0\n",
    ")\n",
    "model.fit(x, t)"
   ]
  },
  {
   "cell_type": "code",
   "execution_count": 10,
   "metadata": {},
   "outputs": [
    {
     "name": "stdout",
     "output_type": "stream",
     "text": [
      "              precision    recall  f1-score   support\n",
      "\n",
      "           0       0.78      0.65      0.71       549\n",
      "           1       0.56      0.70      0.62       342\n",
      "\n",
      "    accuracy                           0.67       891\n",
      "   macro avg       0.67      0.68      0.67       891\n",
      "weighted avg       0.69      0.67      0.68       891\n",
      "\n"
     ]
    }
   ],
   "source": [
    "# 13-7 再現率と適合率を計算する\n",
    "from sklearn.metrics import classification_report\n",
    "\n",
    "pred = model.predict(x)\n",
    "out_put = classification_report(y_pred=pred, y_true=t)\n",
    "\n",
    "# precision（適合率）, recall（再現率）\n",
    "print(out_put)"
   ]
  },
  {
   "cell_type": "code",
   "execution_count": 11,
   "metadata": {},
   "outputs": [
    {
     "data": {
      "text/html": [
       "<div>\n",
       "<style scoped>\n",
       "    .dataframe tbody tr th:only-of-type {\n",
       "        vertical-align: middle;\n",
       "    }\n",
       "\n",
       "    .dataframe tbody tr th {\n",
       "        vertical-align: top;\n",
       "    }\n",
       "\n",
       "    .dataframe thead th {\n",
       "        text-align: right;\n",
       "    }\n",
       "</style>\n",
       "<table border=\"1\" class=\"dataframe\">\n",
       "  <thead>\n",
       "    <tr style=\"text-align: right;\">\n",
       "      <th></th>\n",
       "      <th>0</th>\n",
       "      <th>1</th>\n",
       "      <th>accuracy</th>\n",
       "      <th>macro avg</th>\n",
       "      <th>weighted avg</th>\n",
       "    </tr>\n",
       "  </thead>\n",
       "  <tbody>\n",
       "    <tr>\n",
       "      <th>precision</th>\n",
       "      <td>0.778742</td>\n",
       "      <td>0.558140</td>\n",
       "      <td>0.672278</td>\n",
       "      <td>0.668441</td>\n",
       "      <td>0.694066</td>\n",
       "    </tr>\n",
       "    <tr>\n",
       "      <th>recall</th>\n",
       "      <td>0.653916</td>\n",
       "      <td>0.701754</td>\n",
       "      <td>0.672278</td>\n",
       "      <td>0.677835</td>\n",
       "      <td>0.672278</td>\n",
       "    </tr>\n",
       "    <tr>\n",
       "      <th>f1-score</th>\n",
       "      <td>0.710891</td>\n",
       "      <td>0.621762</td>\n",
       "      <td>0.672278</td>\n",
       "      <td>0.666326</td>\n",
       "      <td>0.676680</td>\n",
       "    </tr>\n",
       "    <tr>\n",
       "      <th>support</th>\n",
       "      <td>549.000000</td>\n",
       "      <td>342.000000</td>\n",
       "      <td>0.672278</td>\n",
       "      <td>891.000000</td>\n",
       "      <td>891.000000</td>\n",
       "    </tr>\n",
       "  </tbody>\n",
       "</table>\n",
       "</div>"
      ],
      "text/plain": [
       "                    0           1  accuracy   macro avg  weighted avg\n",
       "precision    0.778742    0.558140  0.672278    0.668441      0.694066\n",
       "recall       0.653916    0.701754  0.672278    0.677835      0.672278\n",
       "f1-score     0.710891    0.621762  0.672278    0.666326      0.676680\n",
       "support    549.000000  342.000000  0.672278  891.000000    891.000000"
      ]
     },
     "execution_count": 11,
     "metadata": {},
     "output_type": "execute_result"
    }
   ],
   "source": [
    "# 13-8 classification_report()関数にパラメータ引数を指定する\n",
    "out_put = classification_report(y_pred=pred, y_true=t, output_dict=True)\n",
    "\n",
    "# out_putをデータフレームに変換\n",
    "pd.DataFrame(out_put)"
   ]
  },
  {
   "cell_type": "markdown",
   "metadata": {},
   "source": [
    "### 13.2.2 f1-score"
   ]
  },
  {
   "cell_type": "markdown",
   "metadata": {},
   "source": [
    "## 13.3 K分割交差検証"
   ]
  },
  {
   "cell_type": "markdown",
   "metadata": {},
   "source": [
    "### 13.3.1 ホールドアウト法の問題点"
   ]
  },
  {
   "cell_type": "markdown",
   "metadata": {},
   "source": [
    "### 13.3.2 K分割交差検証"
   ]
  },
  {
   "cell_type": "code",
   "execution_count": 12,
   "metadata": {},
   "outputs": [],
   "source": [
    "# 13-9 K分割交差検証のためのデータの準備\n",
    "df = pd.read_csv('../support/datafiles/cinema.csv')\n",
    "\n",
    "# 学習できないので欠損値処理だけ行う\n",
    "df = df.fillna(df.mean())\n",
    "x = df.loc[:, 'SNS1':'original']\n",
    "t = df['sales']"
   ]
  },
  {
   "cell_type": "code",
   "execution_count": 13,
   "metadata": {},
   "outputs": [],
   "source": [
    "# 13-10 KFoldの処理で分割時の条件を指定\n",
    "from sklearn.model_selection import KFold\n",
    "\n",
    "kf = KFold(n_splits=3, shuffle=True, random_state=0)"
   ]
  },
  {
   "cell_type": "code",
   "execution_count": 14,
   "metadata": {},
   "outputs": [
    {
     "name": "stdout",
     "output_type": "stream",
     "text": [
      "{'fit_time': array([0.00513101, 0.00443316, 0.00342393]), 'score_time': array([0.00239968, 0.00388503, 0.00195098]), 'test_score': array([0.72465051, 0.71740834, 0.75975591]), 'train_score': array([0.76928501, 0.76368104, 0.75780074])}\n"
     ]
    }
   ],
   "source": [
    "# 13-11 cross_validate()関数で交差検証を行う\n",
    "from sklearn.model_selection import cross_validate\n",
    "from sklearn.linear_model import LinearRegression\n",
    "\n",
    "model = LinearRegression()\n",
    "result = cross_validate(\n",
    "    model, x, t, cv=kf, scoring='r2', return_train_score=True\n",
    ")\n",
    "print(result)"
   ]
  },
  {
   "cell_type": "code",
   "execution_count": 16,
   "metadata": {},
   "outputs": [
    {
     "data": {
      "text/plain": [
       "0.7339382541774343"
      ]
     },
     "execution_count": 16,
     "metadata": {},
     "output_type": "execute_result"
    }
   ],
   "source": [
    "# 13-12 平均値を計算する\n",
    "sum(result['test_score']) / len(result['test_score'])"
   ]
  },
  {
   "cell_type": "markdown",
   "metadata": {},
   "source": [
    "### 13.3.3 分類モデルと作るときの交差検証の注意点"
   ]
  },
  {
   "cell_type": "code",
   "execution_count": 18,
   "metadata": {},
   "outputs": [],
   "source": [
    "# 13-13 StratifiedKFoldのインポート\n",
    "from sklearn.model_selection import StratifiedKFold\n",
    "\n",
    "skf = StratifiedKFold(\n",
    "    n_splits = 5, shuffle = True, random_state = 0\n",
    ")"
   ]
  },
  {
   "cell_type": "code",
   "execution_count": 19,
   "metadata": {},
   "outputs": [
    {
     "name": "stderr",
     "output_type": "stream",
     "text": [
      "/var/folders/cm/w7d5zwgj0h3gp9q0lvvq4yrr0000gn/T/ipykernel_11149/3465352863.py:5: FutureWarning: Dropping of nuisance columns in DataFrame reductions (with 'numeric_only=None') is deprecated; in a future version this will raise TypeError.  Select only valid columns before calling the reduction.\n",
      "  iris = iris.fillna(iris.mean())\n"
     ]
    }
   ],
   "source": [
    "from sklearn.tree import DecisionTreeClassifier\n",
    "\n",
    "iris = pd.read_csv(\"../support/datafiles/iris.csv\")\n",
    "\n",
    "iris = iris.fillna(iris.mean())\n",
    "\n",
    "x = iris.loc[:, :\"花弁幅\"]\n",
    "t = iris[\"種類\"]\n",
    "model = DecisionTreeClassifier(random_state=0)\n",
    "\n",
    "result = cross_validate(\n",
    "    model, x, t, cv=skf, scoring='accuracy', return_train_score=True\n",
    ")"
   ]
  },
  {
   "cell_type": "code",
   "execution_count": 20,
   "metadata": {},
   "outputs": [
    {
     "data": {
      "text/plain": [
       "{'fit_time': array([0.00416899, 0.00205588, 0.0019238 , 0.00243402, 0.00185418]),\n",
       " 'score_time': array([0.00195193, 0.00125909, 0.0010941 , 0.00153327, 0.00110269]),\n",
       " 'test_score': array([0.93333333, 0.9       , 0.86666667, 0.9       , 0.93333333]),\n",
       " 'train_score': array([1., 1., 1., 1., 1.])}"
      ]
     },
     "execution_count": 20,
     "metadata": {},
     "output_type": "execute_result"
    }
   ],
   "source": [
    "result"
   ]
  },
  {
   "cell_type": "markdown",
   "metadata": {},
   "source": [
    "## 13.5 練習問題"
   ]
  },
  {
   "cell_type": "code",
   "execution_count": 22,
   "metadata": {},
   "outputs": [],
   "source": [
    "import pandas as pd\n",
    "from sklearn.ensemble import RandomForestClassifier, AdaBoostClassifier\n",
    "from sklearn.model_selection import train_test_split\n",
    "\n",
    "# 追加\n",
    "from sklearn.model_selection import StratifiedKFold\n",
    "from sklearn.model_selection import cross_validate\n",
    "import numpy as np\n",
    "\n",
    "%matplotlib inline"
   ]
  },
  {
   "cell_type": "code",
   "execution_count": 23,
   "metadata": {},
   "outputs": [
    {
     "data": {
      "text/html": [
       "<div>\n",
       "<style scoped>\n",
       "    .dataframe tbody tr th:only-of-type {\n",
       "        vertical-align: middle;\n",
       "    }\n",
       "\n",
       "    .dataframe tbody tr th {\n",
       "        vertical-align: top;\n",
       "    }\n",
       "\n",
       "    .dataframe thead th {\n",
       "        text-align: right;\n",
       "    }\n",
       "</style>\n",
       "<table border=\"1\" class=\"dataframe\">\n",
       "  <thead>\n",
       "    <tr style=\"text-align: right;\">\n",
       "      <th></th>\n",
       "      <th>id</th>\n",
       "      <th>age</th>\n",
       "      <th>amount</th>\n",
       "      <th>day</th>\n",
       "      <th>duration</th>\n",
       "      <th>campaign</th>\n",
       "      <th>previous</th>\n",
       "      <th>y</th>\n",
       "      <th>job_blue-collar</th>\n",
       "      <th>job_entrepreneur</th>\n",
       "      <th>...</th>\n",
       "      <th>month_oct</th>\n",
       "      <th>month_sep</th>\n",
       "      <th>job</th>\n",
       "      <th>default</th>\n",
       "      <th>marital</th>\n",
       "      <th>education</th>\n",
       "      <th>housing</th>\n",
       "      <th>loan</th>\n",
       "      <th>contact</th>\n",
       "      <th>month</th>\n",
       "    </tr>\n",
       "  </thead>\n",
       "  <tbody>\n",
       "    <tr>\n",
       "      <th>13378</th>\n",
       "      <td>13379</td>\n",
       "      <td>46</td>\n",
       "      <td>0.0</td>\n",
       "      <td>10</td>\n",
       "      <td>378.293875</td>\n",
       "      <td>1</td>\n",
       "      <td>0</td>\n",
       "      <td>1</td>\n",
       "      <td>0</td>\n",
       "      <td>0</td>\n",
       "      <td>...</td>\n",
       "      <td>0</td>\n",
       "      <td>0</td>\n",
       "      <td>unemployed</td>\n",
       "      <td>no</td>\n",
       "      <td>married</td>\n",
       "      <td>tertiary</td>\n",
       "      <td>yes</td>\n",
       "      <td>no</td>\n",
       "      <td>cellular</td>\n",
       "      <td>jul</td>\n",
       "    </tr>\n",
       "    <tr>\n",
       "      <th>3800</th>\n",
       "      <td>3801</td>\n",
       "      <td>41</td>\n",
       "      <td>-333.0</td>\n",
       "      <td>30</td>\n",
       "      <td>300.845752</td>\n",
       "      <td>3</td>\n",
       "      <td>2</td>\n",
       "      <td>0</td>\n",
       "      <td>1</td>\n",
       "      <td>0</td>\n",
       "      <td>...</td>\n",
       "      <td>0</td>\n",
       "      <td>0</td>\n",
       "      <td>blue-collar</td>\n",
       "      <td>no</td>\n",
       "      <td>divorced</td>\n",
       "      <td>secondary</td>\n",
       "      <td>yes</td>\n",
       "      <td>no</td>\n",
       "      <td>cellular</td>\n",
       "      <td>jan</td>\n",
       "    </tr>\n",
       "    <tr>\n",
       "      <th>10398</th>\n",
       "      <td>10399</td>\n",
       "      <td>30</td>\n",
       "      <td>5389.0</td>\n",
       "      <td>6</td>\n",
       "      <td>159.053623</td>\n",
       "      <td>3</td>\n",
       "      <td>0</td>\n",
       "      <td>1</td>\n",
       "      <td>0</td>\n",
       "      <td>0</td>\n",
       "      <td>...</td>\n",
       "      <td>0</td>\n",
       "      <td>0</td>\n",
       "      <td>management</td>\n",
       "      <td>no</td>\n",
       "      <td>single</td>\n",
       "      <td>tertiary</td>\n",
       "      <td>no</td>\n",
       "      <td>no</td>\n",
       "      <td>cellular</td>\n",
       "      <td>aug</td>\n",
       "    </tr>\n",
       "    <tr>\n",
       "      <th>23401</th>\n",
       "      <td>23402</td>\n",
       "      <td>39</td>\n",
       "      <td>255.0</td>\n",
       "      <td>5</td>\n",
       "      <td>334.802583</td>\n",
       "      <td>1</td>\n",
       "      <td>0</td>\n",
       "      <td>0</td>\n",
       "      <td>0</td>\n",
       "      <td>0</td>\n",
       "      <td>...</td>\n",
       "      <td>0</td>\n",
       "      <td>0</td>\n",
       "      <td>management</td>\n",
       "      <td>no</td>\n",
       "      <td>single</td>\n",
       "      <td>tertiary</td>\n",
       "      <td>yes</td>\n",
       "      <td>no</td>\n",
       "      <td>sending _document</td>\n",
       "      <td>may</td>\n",
       "    </tr>\n",
       "    <tr>\n",
       "      <th>26223</th>\n",
       "      <td>26224</td>\n",
       "      <td>47</td>\n",
       "      <td>33.0</td>\n",
       "      <td>5</td>\n",
       "      <td>NaN</td>\n",
       "      <td>1</td>\n",
       "      <td>0</td>\n",
       "      <td>1</td>\n",
       "      <td>0</td>\n",
       "      <td>0</td>\n",
       "      <td>...</td>\n",
       "      <td>0</td>\n",
       "      <td>0</td>\n",
       "      <td>services</td>\n",
       "      <td>no</td>\n",
       "      <td>single</td>\n",
       "      <td>secondary</td>\n",
       "      <td>yes</td>\n",
       "      <td>no</td>\n",
       "      <td>cellular</td>\n",
       "      <td>may</td>\n",
       "    </tr>\n",
       "  </tbody>\n",
       "</table>\n",
       "<p>5 rows × 48 columns</p>\n",
       "</div>"
      ],
      "text/plain": [
       "          id  age  amount  day    duration  campaign  previous  y  \\\n",
       "13378  13379   46     0.0   10  378.293875         1         0  1   \n",
       "3800    3801   41  -333.0   30  300.845752         3         2  0   \n",
       "10398  10399   30  5389.0    6  159.053623         3         0  1   \n",
       "23401  23402   39   255.0    5  334.802583         1         0  0   \n",
       "26223  26224   47    33.0    5         NaN         1         0  1   \n",
       "\n",
       "       job_blue-collar  job_entrepreneur  ...  month_oct  month_sep  \\\n",
       "13378                0                 0  ...          0          0   \n",
       "3800                 1                 0  ...          0          0   \n",
       "10398                0                 0  ...          0          0   \n",
       "23401                0                 0  ...          0          0   \n",
       "26223                0                 0  ...          0          0   \n",
       "\n",
       "               job  default   marital  education  housing  loan  \\\n",
       "13378   unemployed       no   married   tertiary      yes    no   \n",
       "3800   blue-collar       no  divorced  secondary      yes    no   \n",
       "10398   management       no    single   tertiary       no    no   \n",
       "23401   management       no    single   tertiary      yes    no   \n",
       "26223     services       no    single  secondary      yes    no   \n",
       "\n",
       "                 contact  month  \n",
       "13378           cellular    jul  \n",
       "3800            cellular    jan  \n",
       "10398           cellular    aug  \n",
       "23401  sending _document    may  \n",
       "26223           cellular    may  \n",
       "\n",
       "[5 rows x 48 columns]"
      ]
     },
     "execution_count": 23,
     "metadata": {},
     "output_type": "execute_result"
    }
   ],
   "source": [
    "df = pd.read_csv('../support/datafiles/Bank.csv')\n",
    "\n",
    "# まず、ダミー変数化をしたいが、文字列の列が複数あるので抜き出す。\n",
    "str_col_name = [\n",
    "    'job', 'default', 'marital','education', 'housing', \n",
    "    'loan', 'contact', 'month'\n",
    "]\n",
    "str_df = df[str_col_name]\n",
    "#複数列を一気にダミー変数化\n",
    "str_df2 = pd.get_dummies(str_df, drop_first=True)\n",
    "# 数値列を抜き出す\n",
    "num_df = df.drop(str_col_name, axis=1)  \n",
    "# 結合(今後の集計の利便性も考慮してstr_dfも結合しておく)\n",
    "df2 = pd.concat([num_df, str_df2, str_df], axis=1)\n",
    "\n",
    "#訓練&検証データとテストデータに分割\n",
    "train_val, test = train_test_split(df2, test_size=0.1, random_state=9)\n",
    "train_val.head()"
   ]
  },
  {
   "cell_type": "code",
   "execution_count": 24,
   "metadata": {},
   "outputs": [
    {
     "data": {
      "image/png": "[encoded data removed]",
      "text/plain": [
       "<Figure size 432x288 with 1 Axes>"
      ]
     },
     "metadata": {
      "needs_background": "light"
     },
     "output_type": "display_data"
    }
   ],
   "source": [
    "from sklearn.covariance import MinCovDet\n",
    "\n",
    "# 欠損値の補正\n",
    "num_df = train_val.drop(str_col_name, axis=1)\n",
    "num_df = num_df.drop('id', axis=1)\n",
    "num_df2 = num_df.dropna()\n",
    "mcd2 = MinCovDet(random_state=0, support_fraction=0.7)\n",
    "mcd2.fit(num_df2)\n",
    "dis = mcd2.mahalanobis(num_df2)\n",
    "dis = pd.Series(dis)\n",
    "dis.plot(kind=\"box\")\n",
    "no = dis[dis > 300000].index\n",
    "#先頭から2561番目が外れ値となる事が分かったので９章の付録で紹介したilocを利用する\n",
    "no = num_df2.iloc[no[0]:(no[0]+1), :].index\n",
    "train_val2 = train_val.drop(no)"
   ]
  },
  {
   "cell_type": "code",
   "execution_count": 25,
   "metadata": {},
   "outputs": [
    {
     "name": "stdout",
     "output_type": "stream",
     "text": [
      "0.15 0.7304944115519963\n"
     ]
    },
    {
     "data": {
      "text/html": [
       "<style>#sk-container-id-4 {color: black;background-color: white;}#sk-container-id-4 pre{padding: 0;}#sk-container-id-4 div.sk-toggleable {background-color: white;}#sk-container-id-4 label.sk-toggleable__label {cursor: pointer;display: block;width: 100%;margin-bottom: 0;padding: 0.3em;box-sizing: border-box;text-align: center;}#sk-container-id-4 label.sk-toggleable__label-arrow:before {content: \"▸\";float: left;margin-right: 0.25em;color: #696969;}#sk-container-id-4 label.sk-toggleable__label-arrow:hover:before {color: black;}#sk-container-id-4 div.sk-estimator:hover label.sk-toggleable__label-arrow:before {color: black;}#sk-container-id-4 div.sk-toggleable__content {max-height: 0;max-width: 0;overflow: hidden;text-align: left;background-color: #f0f8ff;}#sk-container-id-4 div.sk-toggleable__content pre {margin: 0.2em;color: black;border-radius: 0.25em;background-color: #f0f8ff;}#sk-container-id-4 input.sk-toggleable__control:checked~div.sk-toggleable__content {max-height: 200px;max-width: 100%;overflow: auto;}#sk-container-id-4 input.sk-toggleable__control:checked~label.sk-toggleable__label-arrow:before {content: \"▾\";}#sk-container-id-4 div.sk-estimator input.sk-toggleable__control:checked~label.sk-toggleable__label {background-color: #d4ebff;}#sk-container-id-4 div.sk-label input.sk-toggleable__control:checked~label.sk-toggleable__label {background-color: #d4ebff;}#sk-container-id-4 input.sk-hidden--visually {border: 0;clip: rect(1px 1px 1px 1px);clip: rect(1px, 1px, 1px, 1px);height: 1px;margin: -1px;overflow: hidden;padding: 0;position: absolute;width: 1px;}#sk-container-id-4 div.sk-estimator {font-family: monospace;background-color: #f0f8ff;border: 1px dotted black;border-radius: 0.25em;box-sizing: border-box;margin-bottom: 0.5em;}#sk-container-id-4 div.sk-estimator:hover {background-color: #d4ebff;}#sk-container-id-4 div.sk-parallel-item::after {content: \"\";width: 100%;border-bottom: 1px solid gray;flex-grow: 1;}#sk-container-id-4 div.sk-label:hover label.sk-toggleable__label {background-color: #d4ebff;}#sk-container-id-4 div.sk-serial::before {content: \"\";position: absolute;border-left: 1px solid gray;box-sizing: border-box;top: 0;bottom: 0;left: 50%;z-index: 0;}#sk-container-id-4 div.sk-serial {display: flex;flex-direction: column;align-items: center;background-color: white;padding-right: 0.2em;padding-left: 0.2em;position: relative;}#sk-container-id-4 div.sk-item {position: relative;z-index: 1;}#sk-container-id-4 div.sk-parallel {display: flex;align-items: stretch;justify-content: center;background-color: white;position: relative;}#sk-container-id-4 div.sk-item::before, #sk-container-id-4 div.sk-parallel-item::before {content: \"\";position: absolute;border-left: 1px solid gray;box-sizing: border-box;top: 0;bottom: 0;left: 50%;z-index: -1;}#sk-container-id-4 div.sk-parallel-item {display: flex;flex-direction: column;z-index: 1;position: relative;background-color: white;}#sk-container-id-4 div.sk-parallel-item:first-child::after {align-self: flex-end;width: 50%;}#sk-container-id-4 div.sk-parallel-item:last-child::after {align-self: flex-start;width: 50%;}#sk-container-id-4 div.sk-parallel-item:only-child::after {width: 0;}#sk-container-id-4 div.sk-dashed-wrapped {border: 1px dashed gray;margin: 0 0.4em 0.5em 0.4em;box-sizing: border-box;padding-bottom: 0.4em;background-color: white;}#sk-container-id-4 div.sk-label label {font-family: monospace;font-weight: bold;display: inline-block;line-height: 1.2em;}#sk-container-id-4 div.sk-label-container {text-align: center;}#sk-container-id-4 div.sk-container {/* jupyter's `normalize.less` sets `[hidden] { display: none; }` but bootstrap.min.css set `[hidden] { display: none !important; }` so we also need the `!important` here to be able to override the default hidden behavior on the sphinx rendered scikit-learn.org. See: https://github.com/scikit-learn/scikit-learn/issues/21755 */display: inline-block !important;position: relative;}#sk-container-id-4 div.sk-text-repr-fallback {display: none;}</style><div id=\"sk-container-id-4\" class=\"sk-top-container\"><div class=\"sk-text-repr-fallback\"><pre>Lasso(alpha=0.15, random_state=0)</pre><b>In a Jupyter environment, please rerun this cell to show the HTML representation or trust the notebook. <br />On GitHub, the HTML representation is unable to render, please try loading this page with nbviewer.org.</b></div><div class=\"sk-container\" hidden><div class=\"sk-item\"><div class=\"sk-estimator sk-toggleable\"><input class=\"sk-toggleable__control sk-hidden--visually\" id=\"sk-estimator-id-4\" type=\"checkbox\" checked><label for=\"sk-estimator-id-4\" class=\"sk-toggleable__label sk-toggleable__label-arrow\">Lasso</label><div class=\"sk-toggleable__content\"><pre>Lasso(alpha=0.15, random_state=0)</pre></div></div></div></div></div>"
      ],
      "text/plain": [
       "Lasso(alpha=0.15, random_state=0)"
      ]
     },
     "execution_count": 25,
     "metadata": {},
     "output_type": "execute_result"
    }
   ],
   "source": [
    "# 欠損行を削除\n",
    "from sklearn.linear_model import Lasso, Ridge\n",
    "from sklearn.preprocessing import PolynomialFeatures\n",
    "\n",
    "# df2は外れ値が無いデータ\n",
    "not_nan_df = train_val2.dropna()\n",
    "temp_t = not_nan_df[['duration']]\n",
    "temp_x = not_nan_df.drop(str_col_name, axis=1)\n",
    "\n",
    "# durationとyに関係があるという仮定が成り立つならば、適切な推定をするためには,\n",
    "temp_x = temp_x.drop(['y', 'duration', 'id'], axis=1)\n",
    "\n",
    "a, b, c, d = train_test_split(temp_x, temp_t, random_state=0, test_size=0.2)\n",
    "\n",
    "maxvalue = 0\n",
    "v = 0\n",
    "# 今回はLasso回帰を利用するので、特徴量選択はしない\n",
    "for i in range(1, 42):\n",
    "    val = i/20\n",
    "    model_liner = Lasso(random_state=0, alpha=val)\n",
    "    # 今回は予測させたいだけなので、標準化はしない\n",
    "    model_liner.fit(a, c)\n",
    "    if maxvalue < model_liner.score(b, d):\n",
    "        v = val\n",
    "        maxvalue = model_liner.score(b, d)\n",
    "        \n",
    "print(v, maxvalue)\n",
    "model_liner = Lasso(random_state=0, alpha=v)\n",
    "# 今回は予測させたいだけなので、標準化はしない\n",
    "model_liner.fit(a, c)\n",
    "# pd.Series(model_liner)\n"
   ]
  },
  {
   "cell_type": "code",
   "execution_count": 26,
   "metadata": {},
   "outputs": [],
   "source": [
    "# 実際に使うのは外れ値込みのデータ\n",
    "train_val3 = train_val.copy()\n",
    "is_null = train_val3['duration'].isnull()\n",
    "temp_x = train_val3.drop(str_col_name, axis=1)\n",
    "temp_x = temp_x.drop(['y', 'duration', 'id'], axis=1)\n",
    "temp_x = temp_x[is_null]\n",
    "# non_x=train_val2.loc[is_null,['housing_yes','loan_yes','age','marital_single','job_student']]\n",
    "pred_d = model_liner.predict(temp_x)\n",
    "train_val3.loc[is_null, 'duration'] = pred_d"
   ]
  },
  {
   "cell_type": "code",
   "execution_count": 27,
   "metadata": {},
   "outputs": [],
   "source": [
    "# 12章付録で紹介したアンダーサンプリングを行う\n",
    "def under_sampling(train_val):\n",
    "    y_0 = train_val[train_val['y'] == 0]\n",
    "    y_1 = train_val[train_val['y'] == 1]\n",
    "    num_1 = len(y_1)\n",
    "    #Y=1と同じ件数だけサンプリング\n",
    "    y_0_2 = y_0.sample(n=num_1, random_state=0)\n",
    "    train_val2 = pd.concat([y_1, y_0_2])\n",
    "\n",
    "    return train_val2"
   ]
  },
  {
   "cell_type": "markdown",
   "metadata": {},
   "source": [
    "- 学習をさせよう。\n",
    "- ただし、13章で学習した知識を使いたい。\n",
    "- これまでは正解率を考えてきたが、今回のケースだと適合率再現率のどちらを見るべきだろうか？\n",
    "\n",
    "- y=1の適合率が高い⇒無駄なアポイントメントを減らす事が出来る。\n",
    "- y=1の再現率が高い⇒潜在顧客を見逃さない\n",
    "\n",
    "- スッキリ銀行は、効率よくキャンペーンを回したいと考えているので、y=1適合率に着目する"
   ]
  },
  {
   "cell_type": "code",
   "execution_count": 28,
   "metadata": {},
   "outputs": [
    {
     "data": {
      "text/html": [
       "<div>\n",
       "<style scoped>\n",
       "    .dataframe tbody tr th:only-of-type {\n",
       "        vertical-align: middle;\n",
       "    }\n",
       "\n",
       "    .dataframe tbody tr th {\n",
       "        vertical-align: top;\n",
       "    }\n",
       "\n",
       "    .dataframe thead th {\n",
       "        text-align: right;\n",
       "    }\n",
       "</style>\n",
       "<table border=\"1\" class=\"dataframe\">\n",
       "  <thead>\n",
       "    <tr style=\"text-align: right;\">\n",
       "      <th></th>\n",
       "      <th>0</th>\n",
       "      <th>1</th>\n",
       "      <th>accuracy</th>\n",
       "      <th>macro avg</th>\n",
       "      <th>weighted avg</th>\n",
       "    </tr>\n",
       "  </thead>\n",
       "  <tbody>\n",
       "    <tr>\n",
       "      <th>precision</th>\n",
       "      <td>0.908992</td>\n",
       "      <td>0.587765</td>\n",
       "      <td>0.769199</td>\n",
       "      <td>0.748378</td>\n",
       "      <td>0.810315</td>\n",
       "    </tr>\n",
       "    <tr>\n",
       "      <th>recall</th>\n",
       "      <td>0.741058</td>\n",
       "      <td>0.832667</td>\n",
       "      <td>0.769199</td>\n",
       "      <td>0.786862</td>\n",
       "      <td>0.769199</td>\n",
       "    </tr>\n",
       "    <tr>\n",
       "      <th>f1-score</th>\n",
       "      <td>0.816479</td>\n",
       "      <td>0.689103</td>\n",
       "      <td>0.769199</td>\n",
       "      <td>0.752791</td>\n",
       "      <td>0.777351</td>\n",
       "    </tr>\n",
       "    <tr>\n",
       "      <th>support</th>\n",
       "      <td>3383.000000</td>\n",
       "      <td>1500.000000</td>\n",
       "      <td>0.769199</td>\n",
       "      <td>4883.000000</td>\n",
       "      <td>4883.000000</td>\n",
       "    </tr>\n",
       "  </tbody>\n",
       "</table>\n",
       "</div>"
      ],
      "text/plain": [
       "                     0            1  accuracy    macro avg  weighted avg\n",
       "precision     0.908992     0.587765  0.769199     0.748378      0.810315\n",
       "recall        0.741058     0.832667  0.769199     0.786862      0.769199\n",
       "f1-score      0.816479     0.689103  0.769199     0.752791      0.777351\n",
       "support    3383.000000  1500.000000  0.769199  4883.000000   4883.000000"
      ]
     },
     "execution_count": 28,
     "metadata": {},
     "output_type": "execute_result"
    }
   ],
   "source": [
    "# まず、さくっと学習できるようなlearn関数を定義する。\n",
    "# ただし、正解率では無くて適合率をみる\n",
    "from sklearn.metrics import classification_report\n",
    "from sklearn.tree import DecisionTreeClassifier\n",
    "\n",
    "def learn(x, t, i):\n",
    "    x_train, x_val, y_train, y_val = train_test_split(\n",
    "        x, t, test_size=0.2, random_state=13\n",
    "    )\n",
    "    datum = [x_train, x_val, y_train, y_val]\n",
    "    base = DecisionTreeClassifier(\n",
    "        max_depth=i, random_state=0, class_weight=\"balanced\"\n",
    "    )\n",
    "    #model = AdaBoostClassifier(n_estimators=150,base_estimator=base,random_state=0)\n",
    "\n",
    "    # 追加\n",
    "    base.fit(x_train, y_train)\n",
    "    train_pred = base.predict(x_train)\n",
    "    test_pred = base.predict(x_val)\n",
    "    result = classification_report(\n",
    "        y_pred=test_pred, y_true=y_val, output_dict=True\n",
    "    )\n",
    "\n",
    "    return result, base, datum\n",
    "\n",
    "t = train_val3['y']\n",
    "x = train_val3.drop(str_col_name, axis=1)\n",
    "x = x.drop(['id', 'y', 'day'], axis=1)\n",
    "\n",
    "res, model, datum = learn(x, t, i=8)\n",
    "res_df = pd.DataFrame(res)\n",
    "res_df\n",
    "#res_df.iloc[0,1]"
   ]
  },
  {
   "cell_type": "code",
   "execution_count": 29,
   "metadata": {},
   "outputs": [],
   "source": [
    "# 適合率が低い。\n",
    "# 12章で学習したランダムフォレストとアダブーストだとどうなるか？\n",
    "def learn2(x, t, i, de=5, forest=True):\n",
    "    x_train, x_val, y_train, y_val = train_test_split(\n",
    "        x, t, test_size=0.2, random_state=13\n",
    "    )\n",
    "    datum = [x_train, x_val, y_train, y_val]\n",
    "    model = None\n",
    "    if forest:\n",
    "        model = RandomForestClassifier(\n",
    "            n_estimators=i, random_state=0, max_depth=de, class_weight=\"balanced\"\n",
    "        )\n",
    "    #datas=[x_train,x_val,y_train,y_val]\n",
    "    else:\n",
    "        base = DecisionTreeClassifier(\n",
    "            max_depth=de, random_state=0, class_weight=\"balanced\"\n",
    "        )\n",
    "        model = AdaBoostClassifier(\n",
    "            n_estimators=i, base_estimator=base, random_state=0\n",
    "        )\n",
    "    #model = AdaBoostClassifier(n_estimators=150,base_estimator=base,random_state=0)\n",
    "    model.fit(x_train, y_train)\n",
    "    train_pred = model.predict(x_train)\n",
    "    test_pred = model.predict(x_val)\n",
    "    result = classification_report(\n",
    "        y_pred=test_pred, y_true=y_val, output_dict=True\n",
    "    )\n",
    "    \n",
    "    return result, model, datum\n",
    "\n",
    "t = train_val3['y']\n",
    "x = train_val3.drop(str_col_name, axis=1)\n",
    "x = x.drop(['id', 'y', 'day'], axis=1)"
   ]
  },
  {
   "cell_type": "code",
   "execution_count": 30,
   "metadata": {},
   "outputs": [
    {
     "name": "stdout",
     "output_type": "stream",
     "text": [
      "=================random_forest=========================\n",
      "0.559322033898305 50 5\n",
      "50 5 0.559322033898305 finish next_i\n",
      "0.5614552605703048 50 6\n",
      "50 6 0.5614552605703048 finish next_i\n",
      "0.5669099756690997 50 7\n",
      "50 7 0.5669099756690997 finish next_i\n",
      "0.5786350148367952 50 8\n",
      "50 8 0.5786350148367952 finish next_i\n",
      "0.5846308387744852 50 9\n",
      "50 9 0.5846308387744852 finish next_i\n",
      "0.5903614457831325 50 10\n",
      "50 10 0.5903614457831325 finish next_i\n",
      "100 5 0.5660282258064516 finish next_i\n",
      "100 6 0.56575682382134 finish next_i\n",
      "100 7 0.5690854870775348 finish next_i\n",
      "100 8 0.5752343364578194 finish next_i\n",
      "100 9 0.5838790931989924 finish next_i\n",
      "100 10 0.589006555723651 finish next_i\n",
      "150 5 0.5648893360160966 finish next_i\n",
      "150 6 0.5663189269746647 finish next_i\n",
      "150 7 0.5690936106983655 finish next_i\n",
      "150 8 0.5758620689655173 finish next_i\n",
      "150 9 0.5837081459270365 finish next_i\n",
      "0.592741935483871 150 10\n",
      "150 10 0.592741935483871 finish next_i\n",
      "200 5 0.5668179525970751 finish next_i\n",
      "200 6 0.5674464907914385 finish next_i\n",
      "200 7 0.571145265245414 finish next_i\n",
      "200 8 0.5771513353115727 finish next_i\n",
      "200 9 0.5823735603405108 finish next_i\n",
      "0.5972713491662456 200 10\n",
      "200 10 0.5972713491662456 finish next_i\n",
      "=================adaboost=========================\n",
      "0.6272777471010491 50 5\n",
      "50 5 0.6272777471010491 finish next_i\n",
      "50 6 0.6234747239976758 finish next_i\n",
      "50 7 0.6261624302541847 finish next_i\n",
      "50 8 0.6078175895765472 finish next_i\n",
      "50 9 0.6053511705685619 finish next_i\n",
      "0.6380543633762518 50 10\n",
      "50 10 0.6380543633762518 finish next_i\n",
      "100 5 0.6149825783972126 finish next_i\n",
      "100 6 0.6089703095388502 finish next_i\n",
      "100 7 0.6060402684563758 finish next_i\n",
      "100 8 0.632996632996633 finish next_i\n",
      "0.648936170212766 100 9\n",
      "100 9 0.648936170212766 finish next_i\n",
      "0.6630196936542669 100 10\n",
      "100 10 0.6630196936542669 finish next_i\n",
      "150 5 0.6096096096096096 finish next_i\n",
      "150 6 0.6190476190476191 finish next_i\n",
      "150 7 0.6173434273916035 finish next_i\n",
      "150 8 0.6394001363326517 finish next_i\n",
      "150 9 0.6553911205073996 finish next_i\n",
      "0.6748878923766816 150 10\n",
      "150 10 0.6748878923766816 finish next_i\n",
      "200 5 0.607540173053152 finish next_i\n",
      "200 6 0.6075268817204301 finish next_i\n",
      "200 7 0.6365546218487395 finish next_i\n",
      "200 8 0.6511142061281338 finish next_i\n",
      "200 9 0.6645207439198856 finish next_i\n",
      "0.6755162241887905 200 10\n",
      "200 10 0.6755162241887905 finish next_i\n"
     ]
    }
   ],
   "source": [
    "# ランダムフォレストでの検証\n",
    "print(\"=================random_forest=========================\")\n",
    "max_pre = 0\n",
    "for i in [50, 100, 150, 200]:#esti\n",
    "    for j in range(5, 11):#depth\n",
    "        res, model, datum = learn2(x, t, i=i, de=j, forest=True)\n",
    "        res2 = pd.DataFrame(res)\n",
    "        pre = res2.iloc[0, 1]\n",
    "        if max_pre < pre:\n",
    "            max_pre = pre\n",
    "            print(max_pre, i, j)\n",
    "        print(i, j, pre, \"finish next_i\")\n",
    "\n",
    "# アダブーストでの検証\n",
    "print(\"=================adaboost=========================\")\n",
    "max_pre = 0\n",
    "for i in [50, 100, 150, 200]:#esti\n",
    "    for j in range(5, 11):#depth\n",
    "        res, model, datum = learn2(x, t, i=i, de=j, forest=False)\n",
    "        res2 = pd.DataFrame(res)\n",
    "        pre = res2.iloc[0, 1]\n",
    "        if max_pre < pre:\n",
    "            max_pre = pre\n",
    "            print(max_pre, i, j)\n",
    "        print(i, j, pre, \"finish next_i\")"
   ]
  },
  {
   "cell_type": "markdown",
   "metadata": {},
   "source": [
    "- 非常に時間がかかるので途中で終了。\n",
    "- random_forestよりadaboostの方がvalデータの精度が良く、\n",
    "- その中でもestimator=100,max_depth=8が最も高い"
   ]
  },
  {
   "cell_type": "code",
   "execution_count": 31,
   "metadata": {},
   "outputs": [],
   "source": [
    "# estimatorの値を100と固定して、max_depthについての考察を深める。\n",
    "# k-分割交差検証で最適なmax_depthを考察する\n",
    "def learn_k_valid(x, t, i, dep):\n",
    "    base = DecisionTreeClassifier(\n",
    "        max_depth=dep, random_state=0, class_weight=\"balanced\"\n",
    "    )\n",
    "    model = AdaBoostClassifier(\n",
    "        n_estimators=150, base_estimator=base, random_state=0\n",
    "    )\n",
    "    kv = StratifiedKFold(n_splits=3, shuffle=True, random_state=0)\n",
    "    result = cross_validate(\n",
    "        model, x, t, cv=kv, scoring='precision', return_train_score=True\n",
    "    )\n",
    "    #base.fit(x_train,y_train)\n",
    "    #train_pred = base.predict(x_train)\n",
    "    #test_pred = base.predict(x_val)\n",
    "    #result = classification_report(y_pred=test_pred,y_true=y_val,output_dict=True)\n",
    "    return result"
   ]
  },
  {
   "cell_type": "code",
   "execution_count": 32,
   "metadata": {},
   "outputs": [
    {
     "name": "stdout",
     "output_type": "stream",
     "text": [
      "2 0.693870965005931  2 0.6559046281758386\n",
      " j end next\n",
      "3 0.7363985362053104  3 0.6424140367280208\n",
      " j end next\n",
      "4 0.825276543095041  4 0.6301842720480172\n",
      " j end next\n",
      "5 0.9495102037655684  5 0.6249265745761058\n",
      " j end next\n",
      "6 1.0  6 0.6234441059456995\n",
      " j end next\n",
      "7 1.0  7 0.6366378009306722\n",
      " j end next\n",
      "8 1.0  8 0.6604879801641672\n",
      " j end next\n",
      "9 1.0  9 0.6708045411964312\n",
      " j end next\n"
     ]
    }
   ],
   "source": [
    "t = train_val3['y']\n",
    "x = train_val3.drop(str_col_name, axis=1)\n",
    "x = x.drop(['id', 'y', 'day'], axis=1)\n",
    "for j in range(2, 10):\n",
    "    res = learn_k_valid(x, t, i=100, dep=j)\n",
    "    res2 = res[\"train_score\"]\n",
    "    # 平均値\n",
    "    print(j, sum(res2)/len(res2), end=\"  \")\n",
    "    res3 = res[\"test_score\"]\n",
    "    # 平均値\n",
    "    print(j, sum(res3)/len(res3))  \n",
    "    print(\" j end next\")"
   ]
  },
  {
   "cell_type": "markdown",
   "metadata": {},
   "source": [
    "- 検証データの適合率が最も良いのは深さ9だが、明らかに過学習している。\n",
    "- アンダーサンプリングで不均衡データの影響が変わるか確認してみる"
   ]
  },
  {
   "cell_type": "code",
   "execution_count": 33,
   "metadata": {},
   "outputs": [
    {
     "name": "stdout",
     "output_type": "stream",
     "text": [
      "2 0.8358366359771408  2 0.7958753028990714\n",
      " j end next\n",
      "3 0.8827649771765654  3 0.7740156492673792\n",
      " j end next\n",
      "4 0.9510066312264068  4 0.7509248459530419\n",
      " j end next\n",
      "5 0.9994243683853746  5 0.7341253901909622\n",
      " j end next\n",
      "6 1.0  6 0.7402251532592067\n",
      " j end next\n",
      "7 1.0  7 0.7452506069662589\n",
      " j end next\n",
      "8 1.0  8 0.7577807266632144\n",
      " j end next\n",
      "9 1.0  9 0.7592334958553092\n",
      " j end next\n"
     ]
    }
   ],
   "source": [
    "train_val4 = under_sampling(train_val3)\n",
    "t = train_val4['y']\n",
    "x = train_val4.drop(str_col_name, axis=1)\n",
    "x = x.drop(['id', 'y', 'day'], axis=1)\n",
    "for j in range(2, 10):\n",
    "    res = learn_k_valid(x, t, i=100, dep=j)\n",
    "    res2 = res[\"train_score\"]\n",
    "    # 平均値\n",
    "    print(j, sum(res2)/len(res2), end=\"  \")  \n",
    "    res3 = res[\"test_score\"]\n",
    "    # 平均値\n",
    "    print(j, sum(res3)/len(res3)) \n",
    "    print(\" j end next\")"
   ]
  },
  {
   "cell_type": "markdown",
   "metadata": {},
   "source": [
    "- 深さ2~３当たりが最もよさそうである。\n",
    "- テストデータで検証するために再学習"
   ]
  },
  {
   "cell_type": "code",
   "execution_count": 34,
   "metadata": {},
   "outputs": [
    {
     "data": {
      "text/html": [
       "<style>#sk-container-id-5 {color: black;background-color: white;}#sk-container-id-5 pre{padding: 0;}#sk-container-id-5 div.sk-toggleable {background-color: white;}#sk-container-id-5 label.sk-toggleable__label {cursor: pointer;display: block;width: 100%;margin-bottom: 0;padding: 0.3em;box-sizing: border-box;text-align: center;}#sk-container-id-5 label.sk-toggleable__label-arrow:before {content: \"▸\";float: left;margin-right: 0.25em;color: #696969;}#sk-container-id-5 label.sk-toggleable__label-arrow:hover:before {color: black;}#sk-container-id-5 div.sk-estimator:hover label.sk-toggleable__label-arrow:before {color: black;}#sk-container-id-5 div.sk-toggleable__content {max-height: 0;max-width: 0;overflow: hidden;text-align: left;background-color: #f0f8ff;}#sk-container-id-5 div.sk-toggleable__content pre {margin: 0.2em;color: black;border-radius: 0.25em;background-color: #f0f8ff;}#sk-container-id-5 input.sk-toggleable__control:checked~div.sk-toggleable__content {max-height: 200px;max-width: 100%;overflow: auto;}#sk-container-id-5 input.sk-toggleable__control:checked~label.sk-toggleable__label-arrow:before {content: \"▾\";}#sk-container-id-5 div.sk-estimator input.sk-toggleable__control:checked~label.sk-toggleable__label {background-color: #d4ebff;}#sk-container-id-5 div.sk-label input.sk-toggleable__control:checked~label.sk-toggleable__label {background-color: #d4ebff;}#sk-container-id-5 input.sk-hidden--visually {border: 0;clip: rect(1px 1px 1px 1px);clip: rect(1px, 1px, 1px, 1px);height: 1px;margin: -1px;overflow: hidden;padding: 0;position: absolute;width: 1px;}#sk-container-id-5 div.sk-estimator {font-family: monospace;background-color: #f0f8ff;border: 1px dotted black;border-radius: 0.25em;box-sizing: border-box;margin-bottom: 0.5em;}#sk-container-id-5 div.sk-estimator:hover {background-color: #d4ebff;}#sk-container-id-5 div.sk-parallel-item::after {content: \"\";width: 100%;border-bottom: 1px solid gray;flex-grow: 1;}#sk-container-id-5 div.sk-label:hover label.sk-toggleable__label {background-color: #d4ebff;}#sk-container-id-5 div.sk-serial::before {content: \"\";position: absolute;border-left: 1px solid gray;box-sizing: border-box;top: 0;bottom: 0;left: 50%;z-index: 0;}#sk-container-id-5 div.sk-serial {display: flex;flex-direction: column;align-items: center;background-color: white;padding-right: 0.2em;padding-left: 0.2em;position: relative;}#sk-container-id-5 div.sk-item {position: relative;z-index: 1;}#sk-container-id-5 div.sk-parallel {display: flex;align-items: stretch;justify-content: center;background-color: white;position: relative;}#sk-container-id-5 div.sk-item::before, #sk-container-id-5 div.sk-parallel-item::before {content: \"\";position: absolute;border-left: 1px solid gray;box-sizing: border-box;top: 0;bottom: 0;left: 50%;z-index: -1;}#sk-container-id-5 div.sk-parallel-item {display: flex;flex-direction: column;z-index: 1;position: relative;background-color: white;}#sk-container-id-5 div.sk-parallel-item:first-child::after {align-self: flex-end;width: 50%;}#sk-container-id-5 div.sk-parallel-item:last-child::after {align-self: flex-start;width: 50%;}#sk-container-id-5 div.sk-parallel-item:only-child::after {width: 0;}#sk-container-id-5 div.sk-dashed-wrapped {border: 1px dashed gray;margin: 0 0.4em 0.5em 0.4em;box-sizing: border-box;padding-bottom: 0.4em;background-color: white;}#sk-container-id-5 div.sk-label label {font-family: monospace;font-weight: bold;display: inline-block;line-height: 1.2em;}#sk-container-id-5 div.sk-label-container {text-align: center;}#sk-container-id-5 div.sk-container {/* jupyter's `normalize.less` sets `[hidden] { display: none; }` but bootstrap.min.css set `[hidden] { display: none !important; }` so we also need the `!important` here to be able to override the default hidden behavior on the sphinx rendered scikit-learn.org. See: https://github.com/scikit-learn/scikit-learn/issues/21755 */display: inline-block !important;position: relative;}#sk-container-id-5 div.sk-text-repr-fallback {display: none;}</style><div id=\"sk-container-id-5\" class=\"sk-top-container\"><div class=\"sk-text-repr-fallback\"><pre>AdaBoostClassifier(base_estimator=RandomForestClassifier(class_weight=&#x27;balanced&#x27;,\n",
       "                                                         max_depth=3,\n",
       "                                                         random_state=0),\n",
       "                   n_estimators=100, random_state=0)</pre><b>In a Jupyter environment, please rerun this cell to show the HTML representation or trust the notebook. <br />On GitHub, the HTML representation is unable to render, please try loading this page with nbviewer.org.</b></div><div class=\"sk-container\" hidden><div class=\"sk-item sk-dashed-wrapped\"><div class=\"sk-label-container\"><div class=\"sk-label sk-toggleable\"><input class=\"sk-toggleable__control sk-hidden--visually\" id=\"sk-estimator-id-5\" type=\"checkbox\" ><label for=\"sk-estimator-id-5\" class=\"sk-toggleable__label sk-toggleable__label-arrow\">AdaBoostClassifier</label><div class=\"sk-toggleable__content\"><pre>AdaBoostClassifier(base_estimator=RandomForestClassifier(class_weight=&#x27;balanced&#x27;,\n",
       "                                                         max_depth=3,\n",
       "                                                         random_state=0),\n",
       "                   n_estimators=100, random_state=0)</pre></div></div></div><div class=\"sk-parallel\"><div class=\"sk-parallel-item\"><div class=\"sk-item\"><div class=\"sk-label-container\"><div class=\"sk-label sk-toggleable\"><input class=\"sk-toggleable__control sk-hidden--visually\" id=\"sk-estimator-id-6\" type=\"checkbox\" ><label for=\"sk-estimator-id-6\" class=\"sk-toggleable__label sk-toggleable__label-arrow\">base_estimator: RandomForestClassifier</label><div class=\"sk-toggleable__content\"><pre>RandomForestClassifier(class_weight=&#x27;balanced&#x27;, max_depth=3, random_state=0)</pre></div></div></div><div class=\"sk-serial\"><div class=\"sk-item\"><div class=\"sk-estimator sk-toggleable\"><input class=\"sk-toggleable__control sk-hidden--visually\" id=\"sk-estimator-id-7\" type=\"checkbox\" ><label for=\"sk-estimator-id-7\" class=\"sk-toggleable__label sk-toggleable__label-arrow\">RandomForestClassifier</label><div class=\"sk-toggleable__content\"><pre>RandomForestClassifier(class_weight=&#x27;balanced&#x27;, max_depth=3, random_state=0)</pre></div></div></div></div></div></div></div></div></div></div>"
      ],
      "text/plain": [
       "AdaBoostClassifier(base_estimator=RandomForestClassifier(class_weight='balanced',\n",
       "                                                         max_depth=3,\n",
       "                                                         random_state=0),\n",
       "                   n_estimators=100, random_state=0)"
      ]
     },
     "execution_count": 34,
     "metadata": {},
     "output_type": "execute_result"
    }
   ],
   "source": [
    "train_val4 = under_sampling(train_val3)\n",
    "t = train_val4['y']\n",
    "x = train_val4.drop(str_col_name, axis=1)\n",
    "x = x.drop(['id', 'y', 'day'], axis=1)\n",
    "base_model = RandomForestClassifier(\n",
    "    max_depth=3, random_state=0, class_weight=\"balanced\"\n",
    ")\n",
    "model = AdaBoostClassifier(\n",
    "    random_state=0, n_estimators=100, base_estimator=base_model\n",
    ")\n",
    "model.fit(x, t)"
   ]
  },
  {
   "cell_type": "code",
   "execution_count": 35,
   "metadata": {},
   "outputs": [
    {
     "name": "stdout",
     "output_type": "stream",
     "text": [
      "(2713,)\n"
     ]
    }
   ],
   "source": [
    "# テストデータ\n",
    "test2 = test.copy()\n",
    "isnull = test2['duration'].isnull()\n",
    "print(isnull.shape)\n",
    "\n",
    "if isnull.sum() > 0:\n",
    "    temp_x = test2.drop(str_col_name, axis=1)\n",
    "    temp_x = temp_x.drop(['y', 'duration', 'id'], axis=1)\n",
    "    temp_x = temp_x[isnull]\n",
    "    pred_d = model_liner.predict(temp_x)\n",
    "    test2.loc[isnull, 'duration'] = pred_d\n",
    "x_test = test2.drop(str_col_name, axis=1)\n",
    "x_test = x_test.drop(['id', 'y', 'day'], axis=1)\n",
    "y_test = test['y']"
   ]
  },
  {
   "cell_type": "code",
   "execution_count": 36,
   "metadata": {},
   "outputs": [
    {
     "data": {
      "text/html": [
       "<div>\n",
       "<style scoped>\n",
       "    .dataframe tbody tr th:only-of-type {\n",
       "        vertical-align: middle;\n",
       "    }\n",
       "\n",
       "    .dataframe tbody tr th {\n",
       "        vertical-align: top;\n",
       "    }\n",
       "\n",
       "    .dataframe thead th {\n",
       "        text-align: right;\n",
       "    }\n",
       "</style>\n",
       "<table border=\"1\" class=\"dataframe\">\n",
       "  <thead>\n",
       "    <tr style=\"text-align: right;\">\n",
       "      <th></th>\n",
       "      <th>0</th>\n",
       "      <th>1</th>\n",
       "      <th>accuracy</th>\n",
       "      <th>macro avg</th>\n",
       "      <th>weighted avg</th>\n",
       "    </tr>\n",
       "  </thead>\n",
       "  <tbody>\n",
       "    <tr>\n",
       "      <th>precision</th>\n",
       "      <td>0.896722</td>\n",
       "      <td>0.640511</td>\n",
       "      <td>0.793218</td>\n",
       "      <td>0.768617</td>\n",
       "      <td>0.814655</td>\n",
       "    </tr>\n",
       "    <tr>\n",
       "      <th>recall</th>\n",
       "      <td>0.786334</td>\n",
       "      <td>0.807825</td>\n",
       "      <td>0.793218</td>\n",
       "      <td>0.797080</td>\n",
       "      <td>0.793218</td>\n",
       "    </tr>\n",
       "    <tr>\n",
       "      <th>f1-score</th>\n",
       "      <td>0.837908</td>\n",
       "      <td>0.714504</td>\n",
       "      <td>0.793218</td>\n",
       "      <td>0.776206</td>\n",
       "      <td>0.798381</td>\n",
       "    </tr>\n",
       "    <tr>\n",
       "      <th>support</th>\n",
       "      <td>1844.000000</td>\n",
       "      <td>869.000000</td>\n",
       "      <td>0.793218</td>\n",
       "      <td>2713.000000</td>\n",
       "      <td>2713.000000</td>\n",
       "    </tr>\n",
       "  </tbody>\n",
       "</table>\n",
       "</div>"
      ],
      "text/plain": [
       "                     0           1  accuracy    macro avg  weighted avg\n",
       "precision     0.896722    0.640511  0.793218     0.768617      0.814655\n",
       "recall        0.786334    0.807825  0.793218     0.797080      0.793218\n",
       "f1-score      0.837908    0.714504  0.793218     0.776206      0.798381\n",
       "support    1844.000000  869.000000  0.793218  2713.000000   2713.000000"
      ]
     },
     "execution_count": 36,
     "metadata": {},
     "output_type": "execute_result"
    }
   ],
   "source": [
    "pre = model.predict(x_test)\n",
    "result = classification_report(\n",
    "    y_pred=pre, y_true=y_test, output_dict=True\n",
    ")\n",
    "pd.DataFrame(result)"
   ]
  },
  {
   "cell_type": "markdown",
   "metadata": {},
   "source": [
    "- y=1の適合率は0.64"
   ]
  },
  {
   "cell_type": "code",
   "execution_count": 37,
   "metadata": {},
   "outputs": [],
   "source": [
    "# 本書で紹介していないnumpyのテクニックを使っているが\n",
    "# 同様の事はpandasでもできる\n",
    "# 参考 予測確率の閾値を変更する事により予測結果を変えて調整する\n",
    "# 確率でいったん予測させる\n",
    "y_p = model.predict_proba(x)\n",
    "y_p\n",
    "# y=1の確率を抜き出す\n",
    "a = y_p[:,1]"
   ]
  },
  {
   "cell_type": "code",
   "execution_count": 38,
   "metadata": {},
   "outputs": [],
   "source": [
    "def conf(a, th=0.5):\n",
    "    import numpy as np\n",
    "    from sklearn.metrics import confusion_matrix\n",
    "\n",
    "    # 閾値以下なら0,以上なら1\n",
    "    y_pre = np.where(a < th, 0, 1)\n",
    "    # 混同行列をscikit-learnの関数で作成\n",
    "    mat = confusion_matrix(y_pred=y_pre, y_true=t)\n",
    "    pre = mat[1, 1]/(mat[1, 1] + mat[0, 1])\n",
    "    re = mat[1, 1]/(mat[1, 1] + mat[1, 0])\n",
    "    f1 = 2 * (pre * re) / (pre + re)\n",
    "\n",
    "    # 適合率、ｆ１スコア、混同行列\n",
    "    return pre, f1, mat"
   ]
  },
  {
   "cell_type": "code",
   "execution_count": 39,
   "metadata": {},
   "outputs": [
    {
     "data": {
      "text/plain": [
       "(0.8324248954240081,\n",
       " 0.8364006877666688,\n",
       " array([[6492, 1322],\n",
       "        [1247, 6567]]))"
      ]
     },
     "execution_count": 39,
     "metadata": {},
     "output_type": "execute_result"
    }
   ],
   "source": [
    "# 閾値0.5\n",
    "conf(a, 0.5)"
   ]
  },
  {
   "cell_type": "code",
   "execution_count": 40,
   "metadata": {},
   "outputs": [
    {
     "name": "stdout",
     "output_type": "stream",
     "text": [
      "1\n",
      "0.501 0.8675943193229092 0.8181264795400744\n",
      "2\n",
      "0.502 0.8975954262653438 0.7758157110675095\n",
      "3\n",
      "0.503 0.9247648902821317 0.730763276048924\n",
      "4\n",
      "0.504 0.9485172004744958 0.6647269099675783\n",
      "5\n",
      "0.505 0.9677904876580373 0.5774066091954023\n",
      "6\n",
      "0.506 0.9805371739976645 0.48521621881922383\n",
      "7\n",
      "0.507 0.9871332990221308 0.3931536332889208\n",
      "8\n",
      "0.508 0.990909090909091 0.3065772392903505\n",
      "9\n",
      "0.509 0.9950787401574803 0.2289920724801812\n",
      "10\n",
      "0.51 1.0 0.1717360786148807\n",
      "11\n",
      "0.511 1.0 0.1214088231758625\n",
      "12\n",
      "0.512 1.0 0.08621111927504285\n",
      "13\n",
      "0.513 1.0 0.05597711158104242\n",
      "14\n",
      "0.514 1.0 0.03643673828370398\n",
      "15\n",
      "0.515 1.0 0.023273463192512014\n",
      "16\n",
      "0.516 1.0 0.012968849332485696\n",
      "17\n",
      "0.517 1.0 0.007649158592554818\n",
      "18\n",
      "0.518 1.0 0.005869592956488452\n",
      "19\n",
      "0.519 1.0 0.0035769034236075624\n",
      "20\n",
      "0.52 1.0 0.002045512656609563\n",
      "21\n",
      "0.521 1.0 0.0010232796111537478\n",
      "22\n",
      "0.522 1.0 0.0007675578866572853\n",
      "23\n",
      "0.523 1.0 0.0005117707267144319\n",
      "24\n",
      "0.524 1.0 0.00025591810620601403\n",
      "25\n",
      "0.525 1.0 0.00025591810620601403\n",
      "26\n",
      "0.526 nan nan\n",
      "27\n",
      "0.527 nan nan\n",
      "28\n",
      "0.528 nan nan\n",
      "29\n",
      "0.529 nan nan\n"
     ]
    },
    {
     "name": "stderr",
     "output_type": "stream",
     "text": [
      "/var/folders/cm/w7d5zwgj0h3gp9q0lvvq4yrr0000gn/T/ipykernel_11149/2172774708.py:9: RuntimeWarning: invalid value encountered in long_scalars\n",
      "  pre = mat[1, 1]/(mat[1, 1] + mat[0, 1])\n",
      "/var/folders/cm/w7d5zwgj0h3gp9q0lvvq4yrr0000gn/T/ipykernel_11149/2172774708.py:9: RuntimeWarning: invalid value encountered in long_scalars\n",
      "  pre = mat[1, 1]/(mat[1, 1] + mat[0, 1])\n",
      "/var/folders/cm/w7d5zwgj0h3gp9q0lvvq4yrr0000gn/T/ipykernel_11149/2172774708.py:9: RuntimeWarning: invalid value encountered in long_scalars\n",
      "  pre = mat[1, 1]/(mat[1, 1] + mat[0, 1])\n",
      "/var/folders/cm/w7d5zwgj0h3gp9q0lvvq4yrr0000gn/T/ipykernel_11149/2172774708.py:9: RuntimeWarning: invalid value encountered in long_scalars\n",
      "  pre = mat[1, 1]/(mat[1, 1] + mat[0, 1])\n"
     ]
    }
   ],
   "source": [
    "# presitionを上げるためには閾値をもう少しあげればよい\n",
    "# ただし、閾値を上げすぎると適合率が低下してしまうのでf1スコアも意識する\n",
    "for i in range(1, 30):\n",
    "    val = 0.50 + (i / 1000)\n",
    "    print(i)\n",
    "    \n",
    "    # 閾値0.5\n",
    "    b = conf(a, val)\n",
    "    print(val, b[0], b[1])"
   ]
  },
  {
   "cell_type": "code",
   "execution_count": 41,
   "metadata": {},
   "outputs": [],
   "source": [
    "# 閾値を0.503にすると全体的に最もよさそう。\n",
    "th = 0.503\n",
    "# テストデータ\n",
    "proba = model.predict_proba(x_test)\n"
   ]
  },
  {
   "cell_type": "code",
   "execution_count": 42,
   "metadata": {},
   "outputs": [
    {
     "data": {
      "text/html": [
       "<div>\n",
       "<style scoped>\n",
       "    .dataframe tbody tr th:only-of-type {\n",
       "        vertical-align: middle;\n",
       "    }\n",
       "\n",
       "    .dataframe tbody tr th {\n",
       "        vertical-align: top;\n",
       "    }\n",
       "\n",
       "    .dataframe thead th {\n",
       "        text-align: right;\n",
       "    }\n",
       "</style>\n",
       "<table border=\"1\" class=\"dataframe\">\n",
       "  <thead>\n",
       "    <tr style=\"text-align: right;\">\n",
       "      <th></th>\n",
       "      <th>0</th>\n",
       "      <th>1</th>\n",
       "      <th>accuracy</th>\n",
       "      <th>macro avg</th>\n",
       "      <th>weighted avg</th>\n",
       "    </tr>\n",
       "  </thead>\n",
       "  <tbody>\n",
       "    <tr>\n",
       "      <th>precision</th>\n",
       "      <td>0.813288</td>\n",
       "      <td>0.743472</td>\n",
       "      <td>0.796535</td>\n",
       "      <td>0.778380</td>\n",
       "      <td>0.790925</td>\n",
       "    </tr>\n",
       "    <tr>\n",
       "      <th>recall</th>\n",
       "      <td>0.909436</td>\n",
       "      <td>0.556962</td>\n",
       "      <td>0.796535</td>\n",
       "      <td>0.733199</td>\n",
       "      <td>0.796535</td>\n",
       "    </tr>\n",
       "    <tr>\n",
       "      <th>f1-score</th>\n",
       "      <td>0.858679</td>\n",
       "      <td>0.636842</td>\n",
       "      <td>0.796535</td>\n",
       "      <td>0.747761</td>\n",
       "      <td>0.787622</td>\n",
       "    </tr>\n",
       "    <tr>\n",
       "      <th>support</th>\n",
       "      <td>1844.000000</td>\n",
       "      <td>869.000000</td>\n",
       "      <td>0.796535</td>\n",
       "      <td>2713.000000</td>\n",
       "      <td>2713.000000</td>\n",
       "    </tr>\n",
       "  </tbody>\n",
       "</table>\n",
       "</div>"
      ],
      "text/plain": [
       "                     0           1  accuracy    macro avg  weighted avg\n",
       "precision     0.813288    0.743472  0.796535     0.778380      0.790925\n",
       "recall        0.909436    0.556962  0.796535     0.733199      0.796535\n",
       "f1-score      0.858679    0.636842  0.796535     0.747761      0.787622\n",
       "support    1844.000000  869.000000  0.796535  2713.000000   2713.000000"
      ]
     },
     "execution_count": 42,
     "metadata": {},
     "output_type": "execute_result"
    }
   ],
   "source": [
    "a = proba[:, 1]\n",
    "pre = np.where(a < th, 0, 1)\n",
    "result = classification_report(y_pred=pre, y_true=y_test, output_dict=True)\n",
    "pd.DataFrame(result)"
   ]
  }
 ],
 "metadata": {
  "kernelspec": {
   "display_name": "Python 3.9.13 ('ml_env': venv)",
   "language": "python",
   "name": "python3"
  },
  "language_info": {
   "codemirror_mode": {
    "name": "ipython",
    "version": 3
   },
   "file_extension": ".py",
   "mimetype": "text/x-python",
   "name": "python",
   "nbconvert_exporter": "python",
   "pygments_lexer": "ipython3",
   "version": "3.9.13"
  },
  "orig_nbformat": 4,
  "vscode": {
   "interpreter": {
    "hash": "59dafaf31f4c906cca062281d81c99e041861ac1b3181d0964a0a41f42326fb1"
   }
  }
 },
 "nbformat": 4,
 "nbformat_minor": 2
}
