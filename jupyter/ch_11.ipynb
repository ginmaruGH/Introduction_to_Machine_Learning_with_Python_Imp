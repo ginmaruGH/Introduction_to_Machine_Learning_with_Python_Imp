{
 "cells": [
  {
   "cell_type": "markdown",
   "metadata": {},
   "source": [
    "# Chap.11 さまざまな教師あり学習：回帰\n",
    "\n",
    "## 11.1 リッジ回帰"
   ]
  },
  {
   "cell_type": "code",
   "execution_count": 21,
   "metadata": {},
   "outputs": [],
   "source": [
    "# ライブラリの準備\n",
    "import pandas as pd\n",
    "from sklearn.model_selection import train_test_split\n",
    "from sklearn.preprocessing import StandardScaler\n",
    "from sklearn.preprocessing import PolynomialFeatures\n",
    "from sklearn.linear_model import LinearRegression\n",
    "from sklearn.linear_model import Ridge\n",
    "from sklearn.linear_model import Lasso\n",
    "from sklearn.tree import DecisionTreeRegressor\n",
    "\n",
    "%matplotlib inline"
   ]
  },
  {
   "cell_type": "code",
   "execution_count": 5,
   "metadata": {},
   "outputs": [
    {
     "name": "stderr",
     "output_type": "stream",
     "text": [
      "/var/folders/cm/w7d5zwgj0h3gp9q0lvvq4yrr0000gn/T/ipykernel_23791/870091991.py:5: FutureWarning: Dropping of nuisance columns in DataFrame reductions (with 'numeric_only=None') is deprecated; in a future version this will raise TypeError.  Select only valid columns before calling the reduction.\n",
      "  df = df.fillna(df.mean())\n"
     ]
    }
   ],
   "source": [
    "# 11-2 データセットの準備\n",
    "# csvの読み込み\n",
    "df = pd.read_csv('../support/datafiles/Boston.csv')\n",
    "# 欠損値補完\n",
    "df = df.fillna(df.mean())\n",
    "# 外れ値の行を削除\n",
    "df = df.drop([76], axis=0)\n",
    "\n",
    "# 正解データ抜き出し\n",
    "t = df[['PRICE']]\n",
    "# 特徴量抜き出し\n",
    "x = df.loc[:, ['RM', 'PTRATIO', 'LSTAT']]\n",
    "\n",
    "# 標準化\n",
    "sc = StandardScaler()\n",
    "sc_x = sc.fit_transform(x)\n",
    "\n",
    "sc2 = StandardScaler()\n",
    "sc_t = sc2.fit_transform(t)"
   ]
  },
  {
   "cell_type": "code",
   "execution_count": 6,
   "metadata": {},
   "outputs": [
    {
     "data": {
      "text/plain": [
       "(99, 9)"
      ]
     },
     "execution_count": 6,
     "metadata": {},
     "output_type": "execute_result"
    }
   ],
   "source": [
    "# 11-3 累乗列と交互作用特徴量を追加する\n",
    "pf = PolynomialFeatures(degree=2, include_bias=False)\n",
    "# 2乗列と交互作用項の追加\n",
    "pf_x = pf.fit_transform(sc_x)\n",
    "# 行数と列数\n",
    "pf_x.shape"
   ]
  },
  {
   "cell_type": "code",
   "execution_count": 7,
   "metadata": {},
   "outputs": [
    {
     "name": "stderr",
     "output_type": "stream",
     "text": [
      "/Users/takeru/Library/CloudStorage/OneDrive-個人用/Learn/Python/Introduction_to_Machine_Learning_with_Python_Imp/ml_env/lib/python3.9/site-packages/sklearn/utils/deprecation.py:87: FutureWarning: Function get_feature_names is deprecated; get_feature_names is deprecated in 1.0 and will be removed in 1.2. Please use get_feature_names_out instead.\n",
      "  warnings.warn(msg, category=FutureWarning)\n"
     ]
    },
    {
     "data": {
      "text/plain": [
       "['x0', 'x1', 'x2', 'x0^2', 'x0 x1', 'x0 x2', 'x1^2', 'x1 x2', 'x2^2']"
      ]
     },
     "execution_count": 7,
     "metadata": {},
     "output_type": "execute_result"
    }
   ],
   "source": [
    "# 11-4 追加した 累乗列と交互作用特徴量の列名を確認する\n",
    "pf.get_feature_names()\n"
   ]
  },
  {
   "cell_type": "code",
   "execution_count": 10,
   "metadata": {},
   "outputs": [
    {
     "name": "stdout",
     "output_type": "stream",
     "text": [
      "0.8710525685992707\n"
     ]
    },
    {
     "data": {
      "text/plain": [
       "0.7854929935582586"
      ]
     },
     "execution_count": 10,
     "metadata": {},
     "output_type": "execute_result"
    }
   ],
   "source": [
    "# 11-5 線形回帰で過学習が起こることを確認する\n",
    "x_train, x_test, y_train, y_test = train_test_split(\n",
    "    pf_x, sc_t, test_size=0.3, random_state=0\n",
    ")\n",
    "model = LinearRegression()\n",
    "model.fit(x_train, y_train)\n",
    "\n",
    "# 訓練データの決定係数\n",
    "print(model.score(x_train, y_train))\n",
    "# テストデータの決定係数\n",
    "model.score(x_test, y_test)"
   ]
  },
  {
   "cell_type": "code",
   "execution_count": 13,
   "metadata": {},
   "outputs": [
    {
     "name": "stdout",
     "output_type": "stream",
     "text": [
      "0.8607320524729507\n",
      "0.8458730019328173\n"
     ]
    }
   ],
   "source": [
    "# 11-6 リッジ回帰で過学習が起こるか確認する\n",
    "\n",
    "# モデルの作成\n",
    "ridgeModel = Ridge(alpha=10)\n",
    "# 学習\n",
    "ridgeModel.fit(x_train, y_train)\n",
    "\n",
    "print(ridgeModel.score(x_train, y_train))\n",
    "print(ridgeModel.score(x_test, y_test))"
   ]
  },
  {
   "cell_type": "code",
   "execution_count": 14,
   "metadata": {},
   "outputs": [
    {
     "name": "stdout",
     "output_type": "stream",
     "text": [
      "17.62 0.852875480149763\n"
     ]
    }
   ],
   "source": [
    "# 11-7 正則化項の定数を0.01~20まで0.01刻みで検証する\n",
    "maxScore = 0\n",
    "maxIndex = 0\n",
    "\n",
    "for i in range(1, 2001):\n",
    "    num = i / 100\n",
    "    ridgeModel = Ridge(random_state=0, alpha=num)\n",
    "    ridgeModel.fit(x_train, y_train)\n",
    "\n",
    "    result = ridgeModel.score(x_test, y_test)\n",
    "    if result > maxScore:\n",
    "        maxScore = result\n",
    "        maxIndex = num\n",
    "\n",
    "print(maxIndex, maxScore)"
   ]
  },
  {
   "cell_type": "code",
   "execution_count": 15,
   "metadata": {},
   "outputs": [
    {
     "name": "stdout",
     "output_type": "stream",
     "text": [
      "1.5566745983288364\n",
      "1.2152800824026817\n"
     ]
    }
   ],
   "source": [
    "# 11-8 重回帰とリッジ回帰の係数の大きさを比較する\n",
    "\n",
    "# 線形回帰の係数（絶対値）\n",
    "print(sum(abs(model.coef_)[0]))\n",
    "# リッジ回帰の合計\n",
    "print(sum(abs(ridgeModel.coef_)[0]))"
   ]
  },
  {
   "cell_type": "markdown",
   "metadata": {},
   "source": [
    "## 11.2 ラッソ回帰"
   ]
  },
  {
   "cell_type": "code",
   "execution_count": 18,
   "metadata": {},
   "outputs": [
    {
     "name": "stdout",
     "output_type": "stream",
     "text": [
      "0.8224680202036665\n",
      "0.858846785318774\n"
     ]
    }
   ],
   "source": [
    "# 11-9 ラッソ回帰モデルで過学習が起きていないか確認する\n",
    "model = Lasso(alpha=0.1)\n",
    "model.fit(x_train, y_train)\n",
    "\n",
    "print(model.score(x_train, y_train))\n",
    "print(model.score(x_test, y_test))"
   ]
  },
  {
   "cell_type": "code",
   "execution_count": 19,
   "metadata": {},
   "outputs": [
    {
     "name": "stderr",
     "output_type": "stream",
     "text": [
      "/Users/takeru/Library/CloudStorage/OneDrive-個人用/Learn/Python/Introduction_to_Machine_Learning_with_Python_Imp/ml_env/lib/python3.9/site-packages/sklearn/utils/deprecation.py:87: FutureWarning: Function get_feature_names is deprecated; get_feature_names is deprecated in 1.0 and will be removed in 1.2. Please use get_feature_names_out instead.\n",
      "  warnings.warn(msg, category=FutureWarning)\n"
     ]
    },
    {
     "data": {
      "text/plain": [
       "x0       0.409426\n",
       "x1      -0.083104\n",
       "x2      -0.287714\n",
       "x0^2     0.150001\n",
       "x0 x1   -0.000000\n",
       "x0 x2   -0.037450\n",
       "x1^2    -0.000000\n",
       "x1 x2    0.000000\n",
       "x2^2     0.000000\n",
       "dtype: float64"
      ]
     },
     "execution_count": 19,
     "metadata": {},
     "output_type": "execute_result"
    }
   ],
   "source": [
    "# 11-10 回帰式の係数を確認する\n",
    "weight = model.coef_\n",
    "pd.Series(weight, index=pf.get_feature_names())"
   ]
  },
  {
   "cell_type": "markdown",
   "metadata": {},
   "source": [
    "## 11.3 回帰木"
   ]
  },
  {
   "cell_type": "code",
   "execution_count": 20,
   "metadata": {},
   "outputs": [
    {
     "name": "stderr",
     "output_type": "stream",
     "text": [
      "/var/folders/cm/w7d5zwgj0h3gp9q0lvvq4yrr0000gn/T/ipykernel_23791/3808134316.py:3: FutureWarning: Dropping of nuisance columns in DataFrame reductions (with 'numeric_only=None') is deprecated; in a future version this will raise TypeError.  Select only valid columns before calling the reduction.\n",
      "  df = df.fillna(df.mean())\n"
     ]
    }
   ],
   "source": [
    "# 11-11 ボストンの住宅価格のデータを読み込む\n",
    "df = pd.read_csv('../support/datafiles/Boston.csv')\n",
    "df = df.fillna(df.mean())\n",
    "x = df.loc[:, 'ZN':'LSTAT']\n",
    "t = df['PRICE']\n",
    "\n",
    "x_train, x_test, y_train, y_test = train_test_split(\n",
    "    x, t, test_size=0.3, random_state=0\n",
    ")\n"
   ]
  },
  {
   "cell_type": "code",
   "execution_count": 22,
   "metadata": {},
   "outputs": [
    {
     "data": {
      "text/plain": [
       "0.59433275545417"
      ]
     },
     "execution_count": 22,
     "metadata": {},
     "output_type": "execute_result"
    }
   ],
   "source": [
    "# 11-12 回帰木を用いた学習\n",
    "\n",
    "# 木の深さの最大を10に設定\n",
    "model = DecisionTreeRegressor(max_depth=10, random_state=0)\n",
    "model.fit(x_train, y_train)\n",
    "model.score(x_test, y_test)"
   ]
  },
  {
   "cell_type": "code",
   "execution_count": 23,
   "metadata": {},
   "outputs": [
    {
     "data": {
      "text/plain": [
       "ZN         0.000252\n",
       "INDUS      0.007301\n",
       "CHAS       0.000000\n",
       "NOX        0.001967\n",
       "RM         0.759547\n",
       "AGE        0.139388\n",
       "DIS        0.013635\n",
       "RAD        0.000404\n",
       "TAX        0.013975\n",
       "PTRATIO    0.001913\n",
       "B          0.003331\n",
       "LSTAT      0.058287\n",
       "dtype: float64"
      ]
     },
     "execution_count": 23,
     "metadata": {},
     "output_type": "execute_result"
    }
   ],
   "source": [
    "# 11-13 特徴量の重要度を参照する\n",
    "pd.Series(model.feature_importances_, index=x.columns)"
   ]
  },
  {
   "cell_type": "markdown",
   "metadata": {},
   "source": [
    "## 11.5 練習問題"
   ]
  },
  {
   "cell_type": "code",
   "execution_count": 28,
   "metadata": {},
   "outputs": [],
   "source": [
    "# ライブラリの準備\n",
    "import pandas as pd\n",
    "from sklearn import tree\n",
    "from sklearn.model_selection import train_test_split\n",
    "from sklearn.covariance import MinCovDet\n",
    "from sklearn.preprocessing import PolynomialFeatures\n",
    "from sklearn.linear_model import Lasso, Ridge\n",
    "from sklearn.preprocessing import StandardScaler\n",
    "\n",
    "%matplotlib inline"
   ]
  },
  {
   "cell_type": "code",
   "execution_count": 25,
   "metadata": {},
   "outputs": [
    {
     "name": "stdout",
     "output_type": "stream",
     "text": [
      "(27128, 16)\n"
     ]
    },
    {
     "data": {
      "text/html": [
       "<div>\n",
       "<style scoped>\n",
       "    .dataframe tbody tr th:only-of-type {\n",
       "        vertical-align: middle;\n",
       "    }\n",
       "\n",
       "    .dataframe tbody tr th {\n",
       "        vertical-align: top;\n",
       "    }\n",
       "\n",
       "    .dataframe thead th {\n",
       "        text-align: right;\n",
       "    }\n",
       "</style>\n",
       "<table border=\"1\" class=\"dataframe\">\n",
       "  <thead>\n",
       "    <tr style=\"text-align: right;\">\n",
       "      <th></th>\n",
       "      <th>id</th>\n",
       "      <th>age</th>\n",
       "      <th>job</th>\n",
       "      <th>marital</th>\n",
       "      <th>education</th>\n",
       "      <th>default</th>\n",
       "      <th>amount</th>\n",
       "      <th>housing</th>\n",
       "      <th>loan</th>\n",
       "      <th>contact</th>\n",
       "      <th>day</th>\n",
       "      <th>month</th>\n",
       "      <th>duration</th>\n",
       "      <th>campaign</th>\n",
       "      <th>previous</th>\n",
       "      <th>y</th>\n",
       "    </tr>\n",
       "  </thead>\n",
       "  <tbody>\n",
       "    <tr>\n",
       "      <th>0</th>\n",
       "      <td>1</td>\n",
       "      <td>39</td>\n",
       "      <td>blue-collar</td>\n",
       "      <td>married</td>\n",
       "      <td>secondary</td>\n",
       "      <td>no</td>\n",
       "      <td>1756.0</td>\n",
       "      <td>yes</td>\n",
       "      <td>no</td>\n",
       "      <td>cellular</td>\n",
       "      <td>3</td>\n",
       "      <td>apr</td>\n",
       "      <td>370.055237</td>\n",
       "      <td>1</td>\n",
       "      <td>0</td>\n",
       "      <td>1</td>\n",
       "    </tr>\n",
       "    <tr>\n",
       "      <th>1</th>\n",
       "      <td>2</td>\n",
       "      <td>51</td>\n",
       "      <td>entrepreneur</td>\n",
       "      <td>married</td>\n",
       "      <td>primary</td>\n",
       "      <td>no</td>\n",
       "      <td>1443.0</td>\n",
       "      <td>no</td>\n",
       "      <td>no</td>\n",
       "      <td>cellular</td>\n",
       "      <td>18</td>\n",
       "      <td>feb</td>\n",
       "      <td>233.998933</td>\n",
       "      <td>10</td>\n",
       "      <td>0</td>\n",
       "      <td>1</td>\n",
       "    </tr>\n",
       "    <tr>\n",
       "      <th>2</th>\n",
       "      <td>3</td>\n",
       "      <td>36</td>\n",
       "      <td>management</td>\n",
       "      <td>single</td>\n",
       "      <td>tertiary</td>\n",
       "      <td>no</td>\n",
       "      <td>436.0</td>\n",
       "      <td>no</td>\n",
       "      <td>no</td>\n",
       "      <td>cellular</td>\n",
       "      <td>13</td>\n",
       "      <td>apr</td>\n",
       "      <td>NaN</td>\n",
       "      <td>1</td>\n",
       "      <td>2</td>\n",
       "      <td>0</td>\n",
       "    </tr>\n",
       "    <tr>\n",
       "      <th>3</th>\n",
       "      <td>4</td>\n",
       "      <td>63</td>\n",
       "      <td>retired</td>\n",
       "      <td>married</td>\n",
       "      <td>secondary</td>\n",
       "      <td>no</td>\n",
       "      <td>474.0</td>\n",
       "      <td>no</td>\n",
       "      <td>no</td>\n",
       "      <td>cellular</td>\n",
       "      <td>25</td>\n",
       "      <td>jan</td>\n",
       "      <td>252.525808</td>\n",
       "      <td>1</td>\n",
       "      <td>0</td>\n",
       "      <td>0</td>\n",
       "    </tr>\n",
       "    <tr>\n",
       "      <th>4</th>\n",
       "      <td>5</td>\n",
       "      <td>31</td>\n",
       "      <td>management</td>\n",
       "      <td>single</td>\n",
       "      <td>tertiary</td>\n",
       "      <td>no</td>\n",
       "      <td>354.0</td>\n",
       "      <td>no</td>\n",
       "      <td>no</td>\n",
       "      <td>cellular</td>\n",
       "      <td>30</td>\n",
       "      <td>apr</td>\n",
       "      <td>NaN</td>\n",
       "      <td>1</td>\n",
       "      <td>2</td>\n",
       "      <td>0</td>\n",
       "    </tr>\n",
       "  </tbody>\n",
       "</table>\n",
       "</div>"
      ],
      "text/plain": [
       "   id  age           job  marital  education default  amount housing loan  \\\n",
       "0   1   39   blue-collar  married  secondary      no  1756.0     yes   no   \n",
       "1   2   51  entrepreneur  married    primary      no  1443.0      no   no   \n",
       "2   3   36    management   single   tertiary      no   436.0      no   no   \n",
       "3   4   63       retired  married  secondary      no   474.0      no   no   \n",
       "4   5   31    management   single   tertiary      no   354.0      no   no   \n",
       "\n",
       "    contact  day month    duration  campaign  previous  y  \n",
       "0  cellular    3   apr  370.055237         1         0  1  \n",
       "1  cellular   18   feb  233.998933        10         0  1  \n",
       "2  cellular   13   apr         NaN         1         2  0  \n",
       "3  cellular   25   jan  252.525808         1         0  0  \n",
       "4  cellular   30   apr         NaN         1         2  0  "
      ]
     },
     "execution_count": 25,
     "metadata": {},
     "output_type": "execute_result"
    }
   ],
   "source": [
    "# データの準備\n",
    "df = pd.read_csv('../support/datafiles/Bank.csv')\n",
    "print(df.shape)\n",
    "df.head()"
   ]
  },
  {
   "cell_type": "code",
   "execution_count": 26,
   "metadata": {},
   "outputs": [],
   "source": [
    "# ダミー変数化のため、文字列の列が複数あるので抜き出す。\n",
    "str_col_name=[\n",
    "    'job', 'default', 'marital', 'education', 'housing', \n",
    "    'loan', 'contact', 'month'\n",
    "]\n",
    "str_df = df[str_col_name]\n",
    "\n",
    "# 複数列をダミー変数化\n",
    "str_df2 = pd.get_dummies(str_df, drop_first=True)\n",
    "# 数値列を抜き出す\n",
    "num_df = df.drop(str_col_name, axis=1)\n",
    "# 結合(今後の集計の利便性も考慮してstr_dfも結合しておく)\n",
    "df2 = pd.concat([num_df, str_df2, str_df], axis=1)"
   ]
  },
  {
   "cell_type": "code",
   "execution_count": 27,
   "metadata": {},
   "outputs": [
    {
     "data": {
      "text/html": [
       "<div>\n",
       "<style scoped>\n",
       "    .dataframe tbody tr th:only-of-type {\n",
       "        vertical-align: middle;\n",
       "    }\n",
       "\n",
       "    .dataframe tbody tr th {\n",
       "        vertical-align: top;\n",
       "    }\n",
       "\n",
       "    .dataframe thead th {\n",
       "        text-align: right;\n",
       "    }\n",
       "</style>\n",
       "<table border=\"1\" class=\"dataframe\">\n",
       "  <thead>\n",
       "    <tr style=\"text-align: right;\">\n",
       "      <th></th>\n",
       "      <th>id</th>\n",
       "      <th>age</th>\n",
       "      <th>amount</th>\n",
       "      <th>day</th>\n",
       "      <th>duration</th>\n",
       "      <th>campaign</th>\n",
       "      <th>previous</th>\n",
       "      <th>y</th>\n",
       "      <th>job_blue-collar</th>\n",
       "      <th>job_entrepreneur</th>\n",
       "      <th>...</th>\n",
       "      <th>month_oct</th>\n",
       "      <th>month_sep</th>\n",
       "      <th>job</th>\n",
       "      <th>default</th>\n",
       "      <th>marital</th>\n",
       "      <th>education</th>\n",
       "      <th>housing</th>\n",
       "      <th>loan</th>\n",
       "      <th>contact</th>\n",
       "      <th>month</th>\n",
       "    </tr>\n",
       "  </thead>\n",
       "  <tbody>\n",
       "    <tr>\n",
       "      <th>13378</th>\n",
       "      <td>13379</td>\n",
       "      <td>46</td>\n",
       "      <td>0.0</td>\n",
       "      <td>10</td>\n",
       "      <td>378.293875</td>\n",
       "      <td>1</td>\n",
       "      <td>0</td>\n",
       "      <td>1</td>\n",
       "      <td>0</td>\n",
       "      <td>0</td>\n",
       "      <td>...</td>\n",
       "      <td>0</td>\n",
       "      <td>0</td>\n",
       "      <td>unemployed</td>\n",
       "      <td>no</td>\n",
       "      <td>married</td>\n",
       "      <td>tertiary</td>\n",
       "      <td>yes</td>\n",
       "      <td>no</td>\n",
       "      <td>cellular</td>\n",
       "      <td>jul</td>\n",
       "    </tr>\n",
       "    <tr>\n",
       "      <th>3800</th>\n",
       "      <td>3801</td>\n",
       "      <td>41</td>\n",
       "      <td>-333.0</td>\n",
       "      <td>30</td>\n",
       "      <td>300.845752</td>\n",
       "      <td>3</td>\n",
       "      <td>2</td>\n",
       "      <td>0</td>\n",
       "      <td>1</td>\n",
       "      <td>0</td>\n",
       "      <td>...</td>\n",
       "      <td>0</td>\n",
       "      <td>0</td>\n",
       "      <td>blue-collar</td>\n",
       "      <td>no</td>\n",
       "      <td>divorced</td>\n",
       "      <td>secondary</td>\n",
       "      <td>yes</td>\n",
       "      <td>no</td>\n",
       "      <td>cellular</td>\n",
       "      <td>jan</td>\n",
       "    </tr>\n",
       "    <tr>\n",
       "      <th>10398</th>\n",
       "      <td>10399</td>\n",
       "      <td>30</td>\n",
       "      <td>5389.0</td>\n",
       "      <td>6</td>\n",
       "      <td>159.053623</td>\n",
       "      <td>3</td>\n",
       "      <td>0</td>\n",
       "      <td>1</td>\n",
       "      <td>0</td>\n",
       "      <td>0</td>\n",
       "      <td>...</td>\n",
       "      <td>0</td>\n",
       "      <td>0</td>\n",
       "      <td>management</td>\n",
       "      <td>no</td>\n",
       "      <td>single</td>\n",
       "      <td>tertiary</td>\n",
       "      <td>no</td>\n",
       "      <td>no</td>\n",
       "      <td>cellular</td>\n",
       "      <td>aug</td>\n",
       "    </tr>\n",
       "    <tr>\n",
       "      <th>23401</th>\n",
       "      <td>23402</td>\n",
       "      <td>39</td>\n",
       "      <td>255.0</td>\n",
       "      <td>5</td>\n",
       "      <td>334.802583</td>\n",
       "      <td>1</td>\n",
       "      <td>0</td>\n",
       "      <td>0</td>\n",
       "      <td>0</td>\n",
       "      <td>0</td>\n",
       "      <td>...</td>\n",
       "      <td>0</td>\n",
       "      <td>0</td>\n",
       "      <td>management</td>\n",
       "      <td>no</td>\n",
       "      <td>single</td>\n",
       "      <td>tertiary</td>\n",
       "      <td>yes</td>\n",
       "      <td>no</td>\n",
       "      <td>sending _document</td>\n",
       "      <td>may</td>\n",
       "    </tr>\n",
       "    <tr>\n",
       "      <th>26223</th>\n",
       "      <td>26224</td>\n",
       "      <td>47</td>\n",
       "      <td>33.0</td>\n",
       "      <td>5</td>\n",
       "      <td>NaN</td>\n",
       "      <td>1</td>\n",
       "      <td>0</td>\n",
       "      <td>1</td>\n",
       "      <td>0</td>\n",
       "      <td>0</td>\n",
       "      <td>...</td>\n",
       "      <td>0</td>\n",
       "      <td>0</td>\n",
       "      <td>services</td>\n",
       "      <td>no</td>\n",
       "      <td>single</td>\n",
       "      <td>secondary</td>\n",
       "      <td>yes</td>\n",
       "      <td>no</td>\n",
       "      <td>cellular</td>\n",
       "      <td>may</td>\n",
       "    </tr>\n",
       "  </tbody>\n",
       "</table>\n",
       "<p>5 rows × 48 columns</p>\n",
       "</div>"
      ],
      "text/plain": [
       "          id  age  amount  day    duration  campaign  previous  y  \\\n",
       "13378  13379   46     0.0   10  378.293875         1         0  1   \n",
       "3800    3801   41  -333.0   30  300.845752         3         2  0   \n",
       "10398  10399   30  5389.0    6  159.053623         3         0  1   \n",
       "23401  23402   39   255.0    5  334.802583         1         0  0   \n",
       "26223  26224   47    33.0    5         NaN         1         0  1   \n",
       "\n",
       "       job_blue-collar  job_entrepreneur  ...  month_oct  month_sep  \\\n",
       "13378                0                 0  ...          0          0   \n",
       "3800                 1                 0  ...          0          0   \n",
       "10398                0                 0  ...          0          0   \n",
       "23401                0                 0  ...          0          0   \n",
       "26223                0                 0  ...          0          0   \n",
       "\n",
       "               job  default   marital  education  housing  loan  \\\n",
       "13378   unemployed       no   married   tertiary      yes    no   \n",
       "3800   blue-collar       no  divorced  secondary      yes    no   \n",
       "10398   management       no    single   tertiary       no    no   \n",
       "23401   management       no    single   tertiary      yes    no   \n",
       "26223     services       no    single  secondary      yes    no   \n",
       "\n",
       "                 contact  month  \n",
       "13378           cellular    jul  \n",
       "3800            cellular    jan  \n",
       "10398           cellular    aug  \n",
       "23401  sending _document    may  \n",
       "26223           cellular    may  \n",
       "\n",
       "[5 rows x 48 columns]"
      ]
     },
     "execution_count": 27,
     "metadata": {},
     "output_type": "execute_result"
    }
   ],
   "source": [
    "# 訓練&検証データとテストデータに分割\n",
    "train_val, test = train_test_split(df2, test_size=0.1, random_state=9)\n",
    "train_val.head()"
   ]
  },
  {
   "cell_type": "code",
   "execution_count": 29,
   "metadata": {},
   "outputs": [
    {
     "data": {
      "text/html": [
       "<style>#sk-container-id-2 {color: black;background-color: white;}#sk-container-id-2 pre{padding: 0;}#sk-container-id-2 div.sk-toggleable {background-color: white;}#sk-container-id-2 label.sk-toggleable__label {cursor: pointer;display: block;width: 100%;margin-bottom: 0;padding: 0.3em;box-sizing: border-box;text-align: center;}#sk-container-id-2 label.sk-toggleable__label-arrow:before {content: \"▸\";float: left;margin-right: 0.25em;color: #696969;}#sk-container-id-2 label.sk-toggleable__label-arrow:hover:before {color: black;}#sk-container-id-2 div.sk-estimator:hover label.sk-toggleable__label-arrow:before {color: black;}#sk-container-id-2 div.sk-toggleable__content {max-height: 0;max-width: 0;overflow: hidden;text-align: left;background-color: #f0f8ff;}#sk-container-id-2 div.sk-toggleable__content pre {margin: 0.2em;color: black;border-radius: 0.25em;background-color: #f0f8ff;}#sk-container-id-2 input.sk-toggleable__control:checked~div.sk-toggleable__content {max-height: 200px;max-width: 100%;overflow: auto;}#sk-container-id-2 input.sk-toggleable__control:checked~label.sk-toggleable__label-arrow:before {content: \"▾\";}#sk-container-id-2 div.sk-estimator input.sk-toggleable__control:checked~label.sk-toggleable__label {background-color: #d4ebff;}#sk-container-id-2 div.sk-label input.sk-toggleable__control:checked~label.sk-toggleable__label {background-color: #d4ebff;}#sk-container-id-2 input.sk-hidden--visually {border: 0;clip: rect(1px 1px 1px 1px);clip: rect(1px, 1px, 1px, 1px);height: 1px;margin: -1px;overflow: hidden;padding: 0;position: absolute;width: 1px;}#sk-container-id-2 div.sk-estimator {font-family: monospace;background-color: #f0f8ff;border: 1px dotted black;border-radius: 0.25em;box-sizing: border-box;margin-bottom: 0.5em;}#sk-container-id-2 div.sk-estimator:hover {background-color: #d4ebff;}#sk-container-id-2 div.sk-parallel-item::after {content: \"\";width: 100%;border-bottom: 1px solid gray;flex-grow: 1;}#sk-container-id-2 div.sk-label:hover label.sk-toggleable__label {background-color: #d4ebff;}#sk-container-id-2 div.sk-serial::before {content: \"\";position: absolute;border-left: 1px solid gray;box-sizing: border-box;top: 0;bottom: 0;left: 50%;z-index: 0;}#sk-container-id-2 div.sk-serial {display: flex;flex-direction: column;align-items: center;background-color: white;padding-right: 0.2em;padding-left: 0.2em;position: relative;}#sk-container-id-2 div.sk-item {position: relative;z-index: 1;}#sk-container-id-2 div.sk-parallel {display: flex;align-items: stretch;justify-content: center;background-color: white;position: relative;}#sk-container-id-2 div.sk-item::before, #sk-container-id-2 div.sk-parallel-item::before {content: \"\";position: absolute;border-left: 1px solid gray;box-sizing: border-box;top: 0;bottom: 0;left: 50%;z-index: -1;}#sk-container-id-2 div.sk-parallel-item {display: flex;flex-direction: column;z-index: 1;position: relative;background-color: white;}#sk-container-id-2 div.sk-parallel-item:first-child::after {align-self: flex-end;width: 50%;}#sk-container-id-2 div.sk-parallel-item:last-child::after {align-self: flex-start;width: 50%;}#sk-container-id-2 div.sk-parallel-item:only-child::after {width: 0;}#sk-container-id-2 div.sk-dashed-wrapped {border: 1px dashed gray;margin: 0 0.4em 0.5em 0.4em;box-sizing: border-box;padding-bottom: 0.4em;background-color: white;}#sk-container-id-2 div.sk-label label {font-family: monospace;font-weight: bold;display: inline-block;line-height: 1.2em;}#sk-container-id-2 div.sk-label-container {text-align: center;}#sk-container-id-2 div.sk-container {/* jupyter's `normalize.less` sets `[hidden] { display: none; }` but bootstrap.min.css set `[hidden] { display: none !important; }` so we also need the `!important` here to be able to override the default hidden behavior on the sphinx rendered scikit-learn.org. See: https://github.com/scikit-learn/scikit-learn/issues/21755 */display: inline-block !important;position: relative;}#sk-container-id-2 div.sk-text-repr-fallback {display: none;}</style><div id=\"sk-container-id-2\" class=\"sk-top-container\"><div class=\"sk-text-repr-fallback\"><pre>MinCovDet(random_state=0, support_fraction=0.7)</pre><b>In a Jupyter environment, please rerun this cell to show the HTML representation or trust the notebook. <br />On GitHub, the HTML representation is unable to render, please try loading this page with nbviewer.org.</b></div><div class=\"sk-container\" hidden><div class=\"sk-item\"><div class=\"sk-estimator sk-toggleable\"><input class=\"sk-toggleable__control sk-hidden--visually\" id=\"sk-estimator-id-2\" type=\"checkbox\" checked><label for=\"sk-estimator-id-2\" class=\"sk-toggleable__label sk-toggleable__label-arrow\">MinCovDet</label><div class=\"sk-toggleable__content\"><pre>MinCovDet(random_state=0, support_fraction=0.7)</pre></div></div></div></div></div>"
      ],
      "text/plain": [
       "MinCovDet(random_state=0, support_fraction=0.7)"
      ]
     },
     "execution_count": 29,
     "metadata": {},
     "output_type": "execute_result"
    }
   ],
   "source": [
    "# 線形回帰は外れ値の影響を強く受けるので調べる。\n",
    "num_df = train_val.drop(str_col_name, axis=1)\n",
    "num_df = num_df.drop('id', axis=1)\n",
    "num_df2 = num_df.dropna()\n",
    "mcd2 = MinCovDet(random_state=0, support_fraction=0.7)\n",
    "mcd2.fit(num_df2)"
   ]
  },
  {
   "cell_type": "code",
   "execution_count": 30,
   "metadata": {},
   "outputs": [
    {
     "data": {
      "image/png": "[encoded data removed]",
      "text/plain": [
       "<Figure size 432x288 with 1 Axes>"
      ]
     },
     "metadata": {
      "needs_background": "light"
     },
     "output_type": "display_data"
    }
   ],
   "source": [
    "dis = mcd2.mahalanobis(num_df2)\n",
    "dis = pd.Series(dis)\n",
    "dis.plot(kind=\"box\")\n",
    "no = dis[dis > 300000].index\n",
    "# 先頭から2561番目が外れ値となる事が分かったので９章の付録で紹介したilocを利用する\n",
    "no = num_df2.iloc[no[0]:(no[0]+1), :].index\n",
    "train_val2 = train_val.drop(no)"
   ]
  },
  {
   "cell_type": "code",
   "execution_count": 31,
   "metadata": {},
   "outputs": [
    {
     "name": "stdout",
     "output_type": "stream",
     "text": [
      "0.15 0.7304944115519963\n"
     ]
    }
   ],
   "source": [
    "# 欠損行を削除\n",
    "not_nan_df = train_val2.dropna()\n",
    "temp_t =not_nan_df[['duration']]\n",
    "temp_x = not_nan_df.drop(str_col_name,axis=1)\n",
    "\n",
    "# durationとyに関係があるという仮定が成り立つならば、適切な推定をするためには,\n",
    "temp_x = temp_x.drop(['y', 'duration', 'id'], axis=1)\n",
    "\n",
    "a, b, c, d = train_test_split(\n",
    "    temp_x, temp_t, random_state=0, test_size=0.2\n",
    ")\n",
    "maxvalue = 0\n",
    "v = 0\n",
    "# 今回はLasso回帰を利用するので、特徴量選択はしない\n",
    "for i in range(1, 42):\n",
    "    val = i/20\n",
    "    model_liner = Lasso(random_state=0, alpha=val)\n",
    "    #今回は予測させたいだけなので、標準化はしない\n",
    "    model_liner.fit(a, c)\n",
    "    if maxvalue < model_liner.score(b, d):\n",
    "        v = val\n",
    "        maxvalue = model_liner.score(b, d)\n",
    "print(v, maxvalue)"
   ]
  },
  {
   "cell_type": "code",
   "execution_count": 33,
   "metadata": {},
   "outputs": [
    {
     "data": {
      "text/plain": [
       "0    Lasso(alpha=0.15, random_state=0)\n",
       "dtype: object"
      ]
     },
     "execution_count": 33,
     "metadata": {},
     "output_type": "execute_result"
    }
   ],
   "source": [
    "model_liner = Lasso(random_state=0, alpha=v)\n",
    "# 今回は予測させたいだけなので、標準化はしない\n",
    "model_liner.fit(a, c)\n",
    "pd.Series(model_liner)\n"
   ]
  },
  {
   "cell_type": "markdown",
   "metadata": {},
   "source": [
    "- 考え方をここで変える。\n",
    "- durationとyに関係が強いという仮定が正しいならば、durationを推定するのにyを利用するのは合理的ではなかろうか？\n",
    "- ただテストデータでは、yの値が本当に未知という状況で検証するのでテストデータでもdurationが欠損している場合は上記model_linerを利用する。"
   ]
  },
  {
   "cell_type": "code",
   "execution_count": 34,
   "metadata": {},
   "outputs": [
    {
     "name": "stdout",
     "output_type": "stream",
     "text": [
      "0.1 0.8192780104182655\n"
     ]
    }
   ],
   "source": [
    "# 欠損行を削除\n",
    "not_nan_df = train_val2.dropna()\n",
    "temp_t = not_nan_df[['duration']]\n",
    "temp_x = not_nan_df.drop(str_col_name, axis=1)\n",
    "# yを消さない\n",
    "temp_x = temp_x.drop(['duration', 'id'], axis=1)\n",
    "\n",
    "a, b, c, d = train_test_split(temp_x, temp_t, random_state=0, test_size=0.2)\n",
    "maxvalue = 0\n",
    "v = 0\n",
    "for i in range(1, 42):\n",
    "    val = i/20\n",
    "    model_liner2 = Lasso(random_state=0, alpha=val)\n",
    "    #今回は予測させたいだけなので、標準化はしない\n",
    "    model_liner2.fit(a, c)\n",
    "    if maxvalue < model_liner2.score(b, d):\n",
    "        v = val\n",
    "        maxvalue = model_liner2.score(b, d)\n",
    "print(v, maxvalue)"
   ]
  },
  {
   "cell_type": "code",
   "execution_count": 35,
   "metadata": {},
   "outputs": [
    {
     "data": {
      "text/plain": [
       "age                            3.685596\n",
       "amount                        -0.000010\n",
       "day                           -0.000000\n",
       "campaign                      -0.000000\n",
       "previous                       2.951859\n",
       "y                             41.674580\n",
       "job_blue-collar                0.000000\n",
       "job_entrepreneur              -0.000000\n",
       "job_housemaid                 -0.000000\n",
       "job_management                -0.000000\n",
       "job_retired                   -0.000000\n",
       "job_self-employed              0.000000\n",
       "job_services                   0.000000\n",
       "job_student                   -0.000000\n",
       "job_technician                 0.000000\n",
       "job_unemployed                -0.000000\n",
       "job_unknown                   -0.000000\n",
       "default_yes                    0.000000\n",
       "marital_married                0.000000\n",
       "marital_single                -0.000000\n",
       "education_secondary            0.000000\n",
       "education_tertiary            -0.000000\n",
       "education_unknown             -0.000000\n",
       "housing_yes                  127.082018\n",
       "loan_yes                      82.595567\n",
       "contact_sending _document      0.000000\n",
       "contact_telephone             -0.000000\n",
       "month_aug                     -0.000000\n",
       "month_dec                     -0.000000\n",
       "month_feb                     -0.000000\n",
       "month_jan                      0.000000\n",
       "month_jul                      0.000000\n",
       "month_jun                     -0.000000\n",
       "month_mar                     -0.000000\n",
       "month_may                      0.000000\n",
       "month_nov                     -0.000000\n",
       "month_oct                     -0.000000\n",
       "month_sep                     -0.000000\n",
       "dtype: float64"
      ]
     },
     "execution_count": 35,
     "metadata": {},
     "output_type": "execute_result"
    }
   ],
   "source": [
    "# 結果\n",
    "pd.Series(model_liner2.coef_, index=temp_x.columns)"
   ]
  },
  {
   "cell_type": "code",
   "execution_count": 36,
   "metadata": {},
   "outputs": [],
   "source": [
    "train_val3 = train_val.copy()\n",
    "is_null = train_val3['duration'].isnull()\n",
    "temp_x = train_val3.drop(str_col_name, axis=1)\n",
    "temp_x = temp_x.drop(['duration','id'], axis=1)\n",
    "temp_x = temp_x[is_null]\n",
    "#non_x=train_val2.loc[is_null,['housing_yes','loan_yes','age','marital_single','job_student']]\n",
    "pred_d = model_liner2.predict(temp_x)\n",
    "train_val3.loc[is_null, 'duration'] = pred_d"
   ]
  },
  {
   "cell_type": "code",
   "execution_count": 37,
   "metadata": {},
   "outputs": [
    {
     "data": {
      "text/plain": [
       "(24415, 48)"
      ]
     },
     "execution_count": 37,
     "metadata": {},
     "output_type": "execute_result"
    },
    {
     "data": {
      "image/png": "[encoded data removed]",
      "text/plain": [
       "<Figure size 432x288 with 1 Axes>"
      ]
     },
     "metadata": {
      "needs_background": "light"
     },
     "output_type": "display_data"
    }
   ],
   "source": [
    "# ヒストグラムの確認\n",
    "train_val3.loc[train_val3['y'] == 0, \"duration\"].plot(kind=\"hist\")\n",
    "train_val3.loc[train_val3['y'] == 1, \"duration\"].plot(kind=\"hist\", alpha=0.4)\n",
    "\n",
    "#y=1の方が、durationが大きい傾向がやっぱりありそう\n",
    "train_val3.shape\n"
   ]
  },
  {
   "cell_type": "code",
   "execution_count": 38,
   "metadata": {},
   "outputs": [
    {
     "data": {
      "text/plain": [
       "count    24415.000000\n",
       "mean       297.012163\n",
       "std         92.504680\n",
       "min         19.038719\n",
       "25%        227.001265\n",
       "50%        292.726974\n",
       "75%        362.290315\n",
       "max       1435.488040\n",
       "Name: duration, dtype: float64"
      ]
     },
     "execution_count": 38,
     "metadata": {},
     "output_type": "execute_result"
    }
   ],
   "source": [
    "train_val3[\"duration\"].describe()"
   ]
  },
  {
   "cell_type": "code",
   "execution_count": 39,
   "metadata": {},
   "outputs": [
    {
     "name": "stdout",
     "output_type": "stream",
     "text": [
      "1 0.754351832889617 0.7565021503174278\n",
      "2 0.754351832889617 0.7565021503174278\n",
      "3 0.7117038705713701 0.708171206225681\n",
      "4 0.7706328077001843 0.7765717796436616\n",
      "5 0.7595740323571575 0.7513823469178783\n",
      "6 0.7923919721482695 0.7855826336268688\n",
      "7 0.8189637517919311 0.8046283022731927\n",
      "8 0.8383166086422281 0.8220356338316609\n",
      "9 0.8561847225066558 0.8193733360638952\n",
      "10 0.8741040344050789 0.821421257423715\n",
      "11 0.8882346917878353 0.8179397911120213\n",
      "12 0.9068195781281999 0.8185541675199672\n",
      "13 0.9212062256809338 0.810976858488634\n",
      "14 0.9369752201515462 0.8130247798484538\n"
     ]
    }
   ],
   "source": [
    "# さくっと学習できるようなlearn関数を定義する。\n",
    "def learn(x, t, i):\n",
    "    x_train, x_val, y_train, y_val = train_test_split(\n",
    "        x, t, test_size=0.2, random_state=13\n",
    "    )\n",
    "\n",
    "    datum = [x_train, x_val, y_train, y_val]\n",
    "\n",
    "    # 不均衡データに対応できるように、class_weight引数も設定\n",
    "    model = tree.DecisionTreeClassifier(\n",
    "        max_depth=i, random_state=i, class_weight='balanced'\n",
    "    )\n",
    "    model.fit(x_train, y_train)\n",
    "    train_score = model.score(x_train, y_train)\n",
    "    val_score = model.score(x_val, y_val)\n",
    "\n",
    "    return train_score, val_score,model, datum\n",
    "\n",
    "t = train_val3['y']\n",
    "x = train_val3.drop(str_col_name, axis=1)\n",
    "x = x.drop(['id', 'y', 'day'], axis=1)\n",
    "\n",
    "# とりあえず、for文で様々な木の深さでの正解率を調べてみる\n",
    "for i in range(1, 15):\n",
    "    s1, s2, model, datum = learn(x, t, i)\n",
    "    print(i, s1, s2)"
   ]
  },
  {
   "cell_type": "markdown",
   "metadata": {},
   "source": [
    "- 深さ8 検証データの正解率が0.82 "
   ]
  },
  {
   "cell_type": "code",
   "execution_count": 41,
   "metadata": {},
   "outputs": [
    {
     "name": "stdout",
     "output_type": "stream",
     "text": [
      "pred     0     1\n",
      "true            \n",
      "0     2825   558\n",
      "1      311  1189 \n",
      "\n",
      "             id       age    amount       day  duration  campaign  previous  \\\n",
      "8008  -0.707324 -0.276656 -0.428811  0.742736 -0.004730 -0.238912 -0.227081   \n",
      "5734  -0.997343  1.138307 -0.502345 -0.814295  0.602096 -0.557919 -0.227081   \n",
      "1594  -1.525346 -0.653980  0.232995  1.581138 -1.348850 -0.238912 -0.227081   \n",
      "2167  -1.452267 -0.370987 -0.213200  1.820681 -0.364601 -0.238912 -0.227081   \n",
      "10468 -0.393584 -0.276656 -0.429810 -0.934067 -0.650517 -0.557919  0.162997   \n",
      "...         ...       ...       ...       ...       ...       ...       ...   \n",
      "1548  -1.531213 -0.182325 -0.406518  1.700910  0.451688 -0.557919 -0.227081   \n",
      "508   -1.663851 -0.748311 -0.533290 -0.934067 -1.388452 -0.557919 -0.227081   \n",
      "7200  -0.810374 -1.031304  0.011727  0.622965 -0.068806 -0.238912 -0.227081   \n",
      "9861  -0.470999 -0.370987 -0.412508  0.143878 -0.852102  0.399101 -0.227081   \n",
      "20515  0.887779  0.666653  0.128184 -0.694524  0.757940 -0.557919  0.162997   \n",
      "\n",
      "              y  job_blue-collar  job_entrepreneur  ...  month_dec  month_feb  \\\n",
      "8008  -0.686072         1.898648         -0.186069  ...  -0.069985   -0.25063   \n",
      "5734  -0.686072        -0.526690         -0.186069  ...  -0.069985   -0.25063   \n",
      "1594  -0.686072        -0.526690         -0.186069  ...  -0.069985   -0.25063   \n",
      "2167  -0.686072         1.898648         -0.186069  ...  -0.069985   -0.25063   \n",
      "10468 -0.686072        -0.526690         -0.186069  ...  -0.069985   -0.25063   \n",
      "...         ...              ...               ...  ...        ...        ...   \n",
      "1548  -0.686072        -0.526690         -0.186069  ...  -0.069985   -0.25063   \n",
      "508   -0.686072        -0.526690         -0.186069  ...  -0.069985   -0.25063   \n",
      "7200  -0.686072        -0.526690         -0.186069  ...  -0.069985   -0.25063   \n",
      "9861  -0.686072        -0.526690         -0.186069  ...  -0.069985   -0.25063   \n",
      "20515 -0.686072         1.898648         -0.186069  ...  -0.069985   -0.25063   \n",
      "\n",
      "       month_jan  month_jul  month_jun  month_mar  month_may  month_nov  \\\n",
      "8008   -0.180700   2.359760  -0.364402  -0.105945  -0.664277  -0.307328   \n",
      "5734   -0.180700   2.359760  -0.364402  -0.105945  -0.664277  -0.307328   \n",
      "1594    5.534044  -0.423772  -0.364402  -0.105945  -0.664277  -0.307328   \n",
      "2167   -0.180700   2.359760  -0.364402  -0.105945  -0.664277  -0.307328   \n",
      "10468  -0.180700  -0.423772  -0.364402  -0.105945  -0.664277  -0.307328   \n",
      "...          ...        ...        ...        ...        ...        ...   \n",
      "1548   -0.180700  -0.423772  -0.364402  -0.105945   1.505397  -0.307328   \n",
      "508    -0.180700   2.359760  -0.364402  -0.105945  -0.664277  -0.307328   \n",
      "7200   -0.180700  -0.423772  -0.364402  -0.105945   1.505397  -0.307328   \n",
      "9861   -0.180700  -0.423772   2.744221  -0.105945  -0.664277  -0.307328   \n",
      "20515  -0.180700  -0.423772  -0.364402  -0.105945  -0.664277  -0.307328   \n",
      "\n",
      "       month_oct  month_sep  \n",
      "8008   -0.127243  -0.116513  \n",
      "5734   -0.127243  -0.116513  \n",
      "1594   -0.127243  -0.116513  \n",
      "2167   -0.127243  -0.116513  \n",
      "10468   7.858976  -0.116513  \n",
      "...          ...        ...  \n",
      "1548   -0.127243  -0.116513  \n",
      "508    -0.127243  -0.116513  \n",
      "7200   -0.127243  -0.116513  \n",
      "9861   -0.127243  -0.116513  \n",
      "20515  -0.127243  -0.116513  \n",
      "\n",
      "[2825 rows x 40 columns]\n"
     ]
    },
    {
     "data": {
      "text/plain": [
       "<AxesSubplot:>"
      ]
     },
     "execution_count": 41,
     "metadata": {},
     "output_type": "execute_result"
    },
    {
     "data": {
      "image/png": "[encoded data removed]",
      "text/plain": [
       "<Figure size 432x288 with 1 Axes>"
      ]
     },
     "metadata": {
      "needs_background": "light"
     },
     "output_type": "display_data"
    }
   ],
   "source": [
    "# どのような間違い方をしているのか確認\n",
    "s1, s2, model, datum = learn(x, t, 8)\n",
    "\n",
    "# 訓練データでの予測結果と実際の値の2軸で個数集計flagがFalseならば、検証データで集計\n",
    "def syuukei(model, datum, flag=False):\n",
    "    if flag:\n",
    "        pre = model.predict(datum[0])\n",
    "        y_val = datum[2]\n",
    "    else:\n",
    "        pre = model.predict(datum[1])\n",
    "        y_val = datum[3]\n",
    "    data = {\n",
    "        \"pred\": pre,\n",
    "        \"true\": y_val\n",
    "    }\n",
    "    tmp = pd.DataFrame(data)\n",
    "    return (\n",
    "        tmp, \n",
    "        pd.pivot_table(\n",
    "            tmp, index=\"true\", columns=\"pred\", values=\"true\", aggfunc=len\n",
    "        )\n",
    "    )\n",
    "\n",
    "\n",
    "tmp, a = syuukei(model, datum, False)\n",
    "print(a, \"\\n\")\n",
    "\n",
    "false = tmp.loc[(tmp['pred'] == 1) & (tmp['true'] == 0)].index\n",
    "true = tmp.loc[(tmp['pred'] == 0) & (tmp['true'] == 0)].index\n",
    "\n",
    "true_df = train_val3.loc[true]\n",
    "false_df = train_val3.loc[false]\n",
    "\n",
    "sc = StandardScaler()\n",
    "tmp2 = train_val3.drop(str_col_name, axis=1)\n",
    "sc_data = sc.fit_transform(tmp2)\n",
    "sc_df = pd.DataFrame(sc_data, columns=tmp2.columns, index=tmp2.index)\n",
    "\n",
    "true_df = sc_df.loc[true]\n",
    "false_df = sc_df.loc[false]\n",
    "print(true_df)\n",
    "\n",
    "temp2 = pd.concat([false_df.mean()[\"age\":], true_df.mean()[\"age\":]], axis=1)\n",
    "temp2.plot(kind=\"bar\")\n"
   ]
  },
  {
   "cell_type": "code",
   "execution_count": 42,
   "metadata": {},
   "outputs": [
    {
     "data": {
      "text/plain": [
       "Index(['age', 'amount', 'duration', 'campaign', 'previous', 'job_blue-collar',\n",
       "       'job_entrepreneur', 'job_housemaid', 'job_management', 'job_retired',\n",
       "       'job_self-employed', 'job_services', 'job_student', 'job_technician',\n",
       "       'job_unemployed', 'job_unknown', 'default_yes', 'marital_married',\n",
       "       'marital_single', 'education_secondary', 'education_tertiary',\n",
       "       'education_unknown', 'housing_yes', 'loan_yes',\n",
       "       'contact_sending _document', 'contact_telephone', 'month_aug',\n",
       "       'month_dec', 'month_feb', 'month_jan', 'month_jul', 'month_jun',\n",
       "       'month_mar', 'month_may', 'month_nov', 'month_oct', 'month_sep',\n",
       "       'du*hou', 'du*loan', 'du*age'],\n",
       "      dtype='object')"
      ]
     },
     "execution_count": 42,
     "metadata": {},
     "output_type": "execute_result"
    }
   ],
   "source": [
    "# 交互作用項を付けてみる\n",
    "train_val4 = train_val3.copy()\n",
    "train_val4['du*hou'] = train_val3['duration'] * train_val3['housing_yes']\n",
    "train_val4['du*loan'] = train_val3['duration'] * train_val3['loan_yes']\n",
    "train_val4['du*age'] = train_val3['duration'] * train_val3['age']\n",
    "\n",
    "t = train_val4['y']\n",
    "\"\"\"\n",
    "monthcol=['month_aug',\n",
    "       'month_dec', 'month_feb', 'month_jan', 'month_jul', 'month_jun',\n",
    "       'month_mar', 'month_may', 'month_nov', 'month_oct', 'month_sep']\n",
    "#jobcol=['job_entrepreneur', 'job_housemaid', 'job_management', 'job_retired',\n",
    "       'job_self-employed', 'job_services', 'job_student', 'job_technician',\n",
    "       'job_unemployed', 'job_unknown']\n",
    "\"\"\"\n",
    "\n",
    "x = train_val4.drop(str_col_name, axis=1)\n",
    "\n",
    "#x = x.drop(jobcol,axis=1)\n",
    "\n",
    "#x = x.drop(monthcol,axis=1)\n",
    "x = x.drop(['id', 'y', 'day'], axis=1)\n",
    "x.columns"
   ]
  },
  {
   "cell_type": "code",
   "execution_count": 43,
   "metadata": {},
   "outputs": [
    {
     "name": "stdout",
     "output_type": "stream",
     "text": [
      "5 0.7591644480851936 0.7505631783739505\n",
      "6 0.7908560311284046 0.7823059594511571\n",
      "7 0.8201925046078231 0.8058570550890846\n",
      "8 0.8384190047102191 0.8191685439279132\n",
      "9 0.8520376817530206 0.8083145607208683\n",
      "10 0.8697010034814663 0.8103624820806881\n",
      "11 0.8894634446037272 0.8179397911120213\n",
      "12 0.9051300430063486 0.8087241449928323\n",
      "13 0.9208990374769609 0.8101576899447062\n",
      "14 0.9347737046897399 0.8117960270325619\n"
     ]
    }
   ],
   "source": [
    "# とりあえず、for文で様々な木の深さでの正解率を調べてみる\n",
    "for i in range(5, 15):\n",
    "    s1, s2, model, datum = learn(x, t, i)\n",
    "    print(i, s1, s2)"
   ]
  },
  {
   "cell_type": "code",
   "execution_count": 44,
   "metadata": {},
   "outputs": [
    {
     "data": {
      "text/html": [
       "<style>#sk-container-id-4 {color: black;background-color: white;}#sk-container-id-4 pre{padding: 0;}#sk-container-id-4 div.sk-toggleable {background-color: white;}#sk-container-id-4 label.sk-toggleable__label {cursor: pointer;display: block;width: 100%;margin-bottom: 0;padding: 0.3em;box-sizing: border-box;text-align: center;}#sk-container-id-4 label.sk-toggleable__label-arrow:before {content: \"▸\";float: left;margin-right: 0.25em;color: #696969;}#sk-container-id-4 label.sk-toggleable__label-arrow:hover:before {color: black;}#sk-container-id-4 div.sk-estimator:hover label.sk-toggleable__label-arrow:before {color: black;}#sk-container-id-4 div.sk-toggleable__content {max-height: 0;max-width: 0;overflow: hidden;text-align: left;background-color: #f0f8ff;}#sk-container-id-4 div.sk-toggleable__content pre {margin: 0.2em;color: black;border-radius: 0.25em;background-color: #f0f8ff;}#sk-container-id-4 input.sk-toggleable__control:checked~div.sk-toggleable__content {max-height: 200px;max-width: 100%;overflow: auto;}#sk-container-id-4 input.sk-toggleable__control:checked~label.sk-toggleable__label-arrow:before {content: \"▾\";}#sk-container-id-4 div.sk-estimator input.sk-toggleable__control:checked~label.sk-toggleable__label {background-color: #d4ebff;}#sk-container-id-4 div.sk-label input.sk-toggleable__control:checked~label.sk-toggleable__label {background-color: #d4ebff;}#sk-container-id-4 input.sk-hidden--visually {border: 0;clip: rect(1px 1px 1px 1px);clip: rect(1px, 1px, 1px, 1px);height: 1px;margin: -1px;overflow: hidden;padding: 0;position: absolute;width: 1px;}#sk-container-id-4 div.sk-estimator {font-family: monospace;background-color: #f0f8ff;border: 1px dotted black;border-radius: 0.25em;box-sizing: border-box;margin-bottom: 0.5em;}#sk-container-id-4 div.sk-estimator:hover {background-color: #d4ebff;}#sk-container-id-4 div.sk-parallel-item::after {content: \"\";width: 100%;border-bottom: 1px solid gray;flex-grow: 1;}#sk-container-id-4 div.sk-label:hover label.sk-toggleable__label {background-color: #d4ebff;}#sk-container-id-4 div.sk-serial::before {content: \"\";position: absolute;border-left: 1px solid gray;box-sizing: border-box;top: 0;bottom: 0;left: 50%;z-index: 0;}#sk-container-id-4 div.sk-serial {display: flex;flex-direction: column;align-items: center;background-color: white;padding-right: 0.2em;padding-left: 0.2em;position: relative;}#sk-container-id-4 div.sk-item {position: relative;z-index: 1;}#sk-container-id-4 div.sk-parallel {display: flex;align-items: stretch;justify-content: center;background-color: white;position: relative;}#sk-container-id-4 div.sk-item::before, #sk-container-id-4 div.sk-parallel-item::before {content: \"\";position: absolute;border-left: 1px solid gray;box-sizing: border-box;top: 0;bottom: 0;left: 50%;z-index: -1;}#sk-container-id-4 div.sk-parallel-item {display: flex;flex-direction: column;z-index: 1;position: relative;background-color: white;}#sk-container-id-4 div.sk-parallel-item:first-child::after {align-self: flex-end;width: 50%;}#sk-container-id-4 div.sk-parallel-item:last-child::after {align-self: flex-start;width: 50%;}#sk-container-id-4 div.sk-parallel-item:only-child::after {width: 0;}#sk-container-id-4 div.sk-dashed-wrapped {border: 1px dashed gray;margin: 0 0.4em 0.5em 0.4em;box-sizing: border-box;padding-bottom: 0.4em;background-color: white;}#sk-container-id-4 div.sk-label label {font-family: monospace;font-weight: bold;display: inline-block;line-height: 1.2em;}#sk-container-id-4 div.sk-label-container {text-align: center;}#sk-container-id-4 div.sk-container {/* jupyter's `normalize.less` sets `[hidden] { display: none; }` but bootstrap.min.css set `[hidden] { display: none !important; }` so we also need the `!important` here to be able to override the default hidden behavior on the sphinx rendered scikit-learn.org. See: https://github.com/scikit-learn/scikit-learn/issues/21755 */display: inline-block !important;position: relative;}#sk-container-id-4 div.sk-text-repr-fallback {display: none;}</style><div id=\"sk-container-id-4\" class=\"sk-top-container\"><div class=\"sk-text-repr-fallback\"><pre>DecisionTreeClassifier(class_weight=&#x27;balanced&#x27;, max_depth=8, random_state=8)</pre><b>In a Jupyter environment, please rerun this cell to show the HTML representation or trust the notebook. <br />On GitHub, the HTML representation is unable to render, please try loading this page with nbviewer.org.</b></div><div class=\"sk-container\" hidden><div class=\"sk-item\"><div class=\"sk-estimator sk-toggleable\"><input class=\"sk-toggleable__control sk-hidden--visually\" id=\"sk-estimator-id-4\" type=\"checkbox\" checked><label for=\"sk-estimator-id-4\" class=\"sk-toggleable__label sk-toggleable__label-arrow\">DecisionTreeClassifier</label><div class=\"sk-toggleable__content\"><pre>DecisionTreeClassifier(class_weight=&#x27;balanced&#x27;, max_depth=8, random_state=8)</pre></div></div></div></div></div>"
      ],
      "text/plain": [
       "DecisionTreeClassifier(class_weight='balanced', max_depth=8, random_state=8)"
      ]
     },
     "execution_count": 44,
     "metadata": {},
     "output_type": "execute_result"
    }
   ],
   "source": [
    "# 深さ８で正解率81% 先ほどより低下した。よって交互作用項は取る。\n",
    "train_val4 = train_val3.copy()\n",
    "t = train_val4['y']\n",
    "x = train_val4.drop(str_col_name, axis=1)\n",
    "x = x.drop(['id', 'y', 'day'], axis=1)\n",
    "i = 8\n",
    "model = tree.DecisionTreeClassifier(\n",
    "    max_depth=i, random_state=i, class_weight=\"balanced\"\n",
    ")\n",
    "model.fit(x, t)"
   ]
  },
  {
   "cell_type": "code",
   "execution_count": 45,
   "metadata": {},
   "outputs": [
    {
     "name": "stdout",
     "output_type": "stream",
     "text": [
      "(2713,)\n"
     ]
    },
    {
     "data": {
      "text/plain": [
       "0.7648359749354957"
      ]
     },
     "execution_count": 45,
     "metadata": {},
     "output_type": "execute_result"
    }
   ],
   "source": [
    "# テストデータでも調べる\n",
    "test2 = test.copy()    \n",
    "isnull = test2['duration'].isnull()\n",
    "print(isnull.shape)\n",
    "\n",
    "if isnull.sum() > 0:\n",
    "    temp_x = test2.drop(str_col_name, axis=1)\n",
    "    temp_x = temp_x.drop(['y', 'duration', 'id'], axis=1)\n",
    "    #print(temp_x.shape[0])\n",
    "    temp_x = temp_x[isnull]\n",
    "    #ここではmodel_linerで調べる\n",
    "    pred_d = model_liner.predict(temp_x)\n",
    "    test2.loc[isnull,'duration'] = pred_d\n",
    "    \n",
    "x_test = test2.drop(str_col_name, axis=1)\n",
    "x_test = x_test.drop(['id', 'y', 'day'], axis=1)\n",
    "y_test = test['y']\n",
    "x_test.columns\n",
    "model.score(x_test, y_test)"
   ]
  },
  {
   "cell_type": "markdown",
   "metadata": {},
   "source": [
    "- もしかしたら、テストデータにも結構durationの欠損値があるのかもしれない\n",
    "- （テストデータなので確認できない）\n",
    "- よってmodel_linerによる不適切なduration推定をしているかもしれない。。。"
   ]
  },
  {
   "cell_type": "markdown",
   "metadata": {},
   "source": [
    "- 10章で仮説を3つ挙げた\n",
    "- 精度が上がりづらい原因の仮説⇒ \n",
    "  - 1．現状の線形回帰だと訓練&検証に過学習してしまい、テストデータにフィットしない。\n",
    "  - （そもそもテストデータではdurationがあまり関係していない？？）\n",
    "  - 2. 純粋な決定木の限界？\n",
    "  - 3. 現在考慮していない特徴量ももっとしっかりした方が良いのか？？\n",
    "\n",
    "- 考察\n",
    "  - 今回、過学習しづらいlasso回帰を利用したので、10章よりは1の可能性が減るはずだが、性能はあまり変わらない。\n",
    "  - 現状の知識では、1の可能性は低い。\n",
    "  - よって2か3の可能性を次章以降で探る\n",
    "  - （ただし、2と1の組み合わせなどは可能性としてあることに注意）"
   ]
  }
 ],
 "metadata": {
  "kernelspec": {
   "display_name": "Python 3.9.13 ('ml_env': venv)",
   "language": "python",
   "name": "python3"
  },
  "language_info": {
   "codemirror_mode": {
    "name": "ipython",
    "version": 3
   },
   "file_extension": ".py",
   "mimetype": "text/x-python",
   "name": "python",
   "nbconvert_exporter": "python",
   "pygments_lexer": "ipython3",
   "version": "3.9.13"
  },
  "orig_nbformat": 4,
  "vscode": {
   "interpreter": {
    "hash": "59dafaf31f4c906cca062281d81c99e041861ac1b3181d0964a0a41f42326fb1"
   }
  }
 },
 "nbformat": 4,
 "nbformat_minor": 2
}
